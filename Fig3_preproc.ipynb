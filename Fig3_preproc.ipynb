{
 "cells": [
  {
   "cell_type": "code",
   "execution_count": 2,
   "id": "e1d82b47-835d-499f-8109-f7e0d8a2a2a5",
   "metadata": {
    "tags": []
   },
   "outputs": [],
   "source": [
    "library(Biobase) ; library(SingleCellExperiment)\n",
    "library(Seurat)  ; library(scater)  ; library(scran)"
   ]
  },
  {
   "cell_type": "markdown",
   "id": "1845eafb-d6ac-46ec-b780-8548d32052e3",
   "metadata": {},
   "source": [
    "### Functions "
   ]
  },
  {
   "cell_type": "code",
   "execution_count": 3,
   "id": "e21ebd05-2255-4961-aef6-25a0ee1ca085",
   "metadata": {
    "tags": []
   },
   "outputs": [],
   "source": [
    "# METRICS FUNCTIONS\n",
    "num <- function(x){ return(as.numeric(as.character(x)))}\n",
    "flatten <- function(x){return(as.vector(as.matrix(x)))}"
   ]
  },
  {
   "cell_type": "markdown",
   "id": "19365aa3-9a1d-4761-82a7-b7b97c8d4987",
   "metadata": {},
   "source": [
    "### Load data from a pair of scRNA-seq datasets, filter genes and cells, integrate datasets and transfer cell-type labels\n",
    "\n",
    "All steps here are posted for reproducibility and may take a long time to run. You can skip this step and go directly to the next chapter where we load already processed single-cell datasets with cell-type labels transfered between datasets. The raw single-cell datasets with all cells and all genes are provided as ExpressionSet objects and only for the two AML datasets, the other datasets are available on request. \n",
    "\n",
    "### Pre-processing pipeline:\n",
    "\n",
    "__Filtering genes and cells:__\n",
    "We load the data stored as `ExpressionSet` object, containing all the cells we consider and all the genes in a raw counts matrix, including the cell types labels fromt the original publications. Cell type labels are stored in `cellType_original` and sample name in `SubjectName`. We filter genes using the scran-implemented pipeline to keep genes with positive \"biological\" variance. As an additional step, we limit the number of cells to 30k in single-cell datasets by downsampling them with a set.seed(1). \n",
    "\n",
    "__Integrate datasets:__\n",
    "We then use Seurat to integrate the two single-cell dataset with `Seurat::FindTransferAnchors()` using default parameters, and using found anchors as input for `Seurat::TransferData()`, from which we can obtain transfered cell-type labels from one dataset to the other. The transfered cell-type labels are then used to construct pseudo-bulks and perform cross-dataset pseudo-bulk deconvolution.\n",
    "\n",
    "We then save the resulting tables which are used as input for the next steps."
   ]
  },
  {
   "cell_type": "code",
   "execution_count": 4,
   "id": "8bf60e90",
   "metadata": {},
   "outputs": [],
   "source": [
    "### LOAD ALL FUNCTIONS ###\n",
    "gene_intersection <- function(dataset1, dataset2){\n",
    "    message('Finding gene intersect between two datasets')\n",
    "    gene_intersect = intersect(rownames(dataset1), rownames(dataset2))\n",
    "    message(paste0(length(gene_intersect), ' genes in common between two datasets. Subsetting datasets.'))\n",
    "    return(gene_intersect)\n",
    "}\n",
    "downsample_cells <- function(sc, max.cells=30000){\n",
    "    if( dim(sc)[2] > max.cells ){\n",
    "        message(paste0('More than ',max.cells,' cells: downsampling to ',max.cells,' cells with seed(1)'))\n",
    "        set.seed(1)\n",
    "        sc <- sc[,sample(colnames(sc), max.cells)]\n",
    "        sc$cellType_original = factor(sc$cellType_original)\n",
    "        sc$SubjectName = factor(sc$SubjectName)\n",
    "    } \n",
    "    return(sc)\n",
    "}\n",
    "\n",
    "select_variable_genes <- function(sc, cut.varbio=0.0){\n",
    "    sce <- SingleCellExperiment(assays = list(counts = exprs(sc)))\n",
    "    clusters <- quickCluster(sce, subset.row=NULL, assay.type=\"counts\")\n",
    "    sce <- computeSumFactors(sce, clusters=clusters)\n",
    "    sce <- scater::logNormCounts(sce, size.factors = sizeFactors(sce))\n",
    "    fit.genevar = modelGeneVar(sce)\n",
    "    return(rownames(sc)[fit.genevar$bio > cut.varbio])\n",
    "}\n",
    "\n",
    "transfer_data <- function(dataset1, dataset2){\n",
    "    message('Convert to Seurat objects and normalize both datasets')\n",
    "    dataset1.srt <- CreateSeuratObject(counts = exprs(dataset1), project = \"sc1\", min.cells = 3, min.features = 200)\n",
    "    Idents(object = dataset1.srt) <- dataset1$cellType_original\n",
    "    dataset1.srt <- NormalizeData(dataset1.srt)\n",
    "    dataset1.srt <- FindVariableFeatures(dataset1.srt, selection.method = \"vst\", nfeatures = 2000)\n",
    "    dataset1.srt <- ScaleData(dataset1.srt)\n",
    "    dataset2.srt <- CreateSeuratObject(counts = exprs(dataset2), project = \"sc1\", min.cells = 3, min.features = 200)\n",
    "    dataset2.srt <- NormalizeData(dataset2.srt)\n",
    "    dataset2.srt <- FindVariableFeatures(dataset2.srt, selection.method = \"vst\", nfeatures = 2000)\n",
    "    dataset2.srt <- ScaleData(dataset2.srt)\n",
    "    rm(dataset1) ; rm(dataset2) ; gc()\n",
    "    message('Data integration: transfer cell-type labels from dataset1 to dataset2')\n",
    "    anchors_1_to_2 <- FindTransferAnchors(reference = dataset1.srt, query = dataset2.srt)\n",
    "    predictions_1_to_2 <- TransferData(anchorset = anchors_1_to_2, refdata = as.character(Idents(dataset1.srt)))\n",
    "    return(predictions_1_to_2)\n",
    "}\n",
    "\n",
    "generate_final_datasets <- function(ref_sc, target_sc, var.genes){\n",
    "    # Generate pseudo-bulk from single-cell ExpressionSet object\n",
    "    # Use 'SubjectName' field to create pseudo-bulk samples \n",
    "    # Use 'cellType' field to create ground truth proportions in pData\n",
    "    ref_sc = ref_sc[var.genes,]\n",
    "    gene_intersect <- gene_intersection(ref_sc, target_sc)\n",
    "    target_sc = target_sc[gene_intersect,]\n",
    "    \n",
    "    message('Setting cell-type factors as in reference')\n",
    "    ref_sc$cellType_original = factor(ref_sc$cellType_original)\n",
    "    target_sc$cellType_transfered = factor(target_sc$cellType_transfered,levels = levels(ref_sc$cellType_original))\n",
    "    \n",
    "    message('Build pseudo-bulks and iterate over samples to compute ground truth')\n",
    "    p.bulks = aggregate(t(exprs(target_sc)), list(target_sc$SubjectName), sum)\n",
    "    rownames(p.bulks) = p.bulks$`Group.1`\n",
    "    p.bulks = p.bulks[,-1]\n",
    "    list_ct_props= list() ; list_patients = rownames(p.bulks)\n",
    "    for(n in 1:length(list_patients)){\n",
    "        this_patient = list_patients[n]\n",
    "        sel.patient = target_sc$SubjectName == this_patient\n",
    "        sc.sub = target_sc[,sel.patient]\n",
    "        celltype.sub = sc.sub$cellType_transfered\n",
    "        list_ct_props[[n]] = table(celltype.sub) / sum(table(celltype.sub))\n",
    "    }\n",
    "    true.prop = do.call(rbind, list_ct_props)\n",
    "    true.prop = true.prop[,colnames(true.prop) %in% levels(ref_sc$cellType_original)]\n",
    "    true.prop = true.prop[,levels(ref_sc$cellType_original)]\n",
    "    stopifnot(colnames(true.prop) == levels(ref_sc$cellType_original))\n",
    "    rownames(true.prop) = list_patients\n",
    "    message('Generate ExpressionSet objects containing pseudo-bulks in target dataset')\n",
    "    p.bulks.es = ExpressionSet(t(p.bulks), phenoData = AnnotatedDataFrame(data.frame(true.prop)))\n",
    "    return( list( ref_sc, p.bulks.es ) )\n",
    "}\n",
    "\n",
    "preprocess_data <- function(sc.1, sc.2, max.cells=30000){\n",
    "    sc.1$cellType_original = factor(sc.1$cellType_original)\n",
    "    sc.2$cellType_original = factor(sc.2$cellType_original)\n",
    "    \n",
    "    message(paste0('## DOWN-SAMPLING CELLS IF >',max.cells ,'K CELLS ##'))\n",
    "    sc.1 = downsample_cells(sc.1, max.cells)\n",
    "    sc.2 = downsample_cells(sc.2, max.cells)\n",
    "    gc()\n",
    "\n",
    "    message('## GENE INTERESECT BETWEEN TWO DATASETS ##')\n",
    "    gene_intersect <- gene_intersection(sc.1, sc.2)\n",
    "    sc.1 = sc.1[gene_intersect,]\n",
    "    sc.2  = sc.2[gene_intersect,]\n",
    "    stopifnot(all(rownames(sc.1) == rownames(sc.2)))\n",
    "    gc()\n",
    "    \n",
    "    message('## FIND GENES WITH BIOLOGICAL VARIANCE > TECHNICAL VARIANCE ##')\n",
    "    # Warning: This step takes long time to compute with large scRNA-seq data\n",
    "    var.genes.1 = select_variable_genes(sc.1)\n",
    "    var.genes.2 = select_variable_genes(sc.2)\n",
    "    gc()\n",
    "    \n",
    "    message('## DATA INTEGRATION AND CELL-TYPE LABEL TRANSFER ##')\n",
    "    transfered_labels_1to2 = transfer_data(sc.1, sc.2)\n",
    "    intersect_labels_1to2 = intersect(colnames(sc.2), rownames(transfered_labels_1to2))\n",
    "    stopifnot(unique(transfered_labels_1to2$predicted.id) > 1)\n",
    "    sc.2 = sc.2[,intersect_labels_1to2]\n",
    "    gc()\n",
    "    transfered_labels_1to2 = transfered_labels_1to2[intersect_labels_1to2, ]\n",
    "    stopifnot(all(rownames(transfered_labels_1to2) == colnames(sc.2)))\n",
    "    #transfered_labels_2to1 = transfer_data(sc.2, sc.1)\n",
    "    #intersect_labels_2to1 = intersect(colnames(sc.1), rownames(transfered_labels_2to1))\n",
    "    #sc.1 = sc.1[,intersect_labels_2to1]\n",
    "    #gc()\n",
    "    #transfered_labels_2to1 = transfered_labels_2to1[intersect_labels_2to1, ]\n",
    "    #stopifnot(all(rownames(transfered_labels_2to1) == colnames(sc.1)))\n",
    "    sc.2$cellType_transfered = factor(transfered_labels_1to2$predicted.id, levels = levels(sc.1$cellType_original))\n",
    "    sc.1$cellType_transfered = sc.1$cellType_original#factor(transfered_labels_2to1$predicted.id, levels = levels(sc.2$cellType_original))\n",
    "    gc()\n",
    "    \n",
    "    message('## GENERATE FILTERED SC DATASET AND PSEUDO-BULKS ##')\n",
    "    data_1to2 = generate_final_datasets(target_sc = sc.2, ref_sc = sc.1, var.genes.1)\n",
    "    sc.1_ = data_1to2[[1]]\n",
    "    sc.1_$cellType = factor(sc.1_$cellType_original)\n",
    "    pbulks.2.es = data_1to2[[2]]\n",
    "    stopifnot(all(rownames(sc.1_) == rownames(pbulks.2.es)))\n",
    "    sc.2$cellType_original = sc.2$cellType_transfered ### to rm\n",
    "    data_2to1 = generate_final_datasets(target_sc = sc.1, ref_sc = sc.2, var.genes.2)\n",
    "    sc.2_ = data_2to1[[1]]\n",
    "    sc.2_$cellType = factor(sc.2_$cellType_original)\n",
    "    pbulks.1.es = data_2to1[[2]]\n",
    "    stopifnot(all(rownames(sc.2_) == rownames(pbulks.1.es)))\n",
    "    \n",
    "    message('## RETURNING LIST WITH [SC1, PBULK1, SC2, PBULK2], PBULK1 WITH CELL-TYPE FROM SC2 AND VICE-VERSA ##')\n",
    "    return( list(sc.1_, pbulks.1.es, sc.2_, pbulks.2.es) ) # \n",
    "}"
   ]
  },
  {
   "cell_type": "markdown",
   "id": "5d6bb3e6",
   "metadata": {},
   "source": [
    "We first load the two `ExpressionSet` objects from the full single-cell RNA-seq datasets containing raw counts, cell-type labels, and sample labels, for all cells and containing all unfiltered genes. "
   ]
  },
  {
   "cell_type": "code",
   "execution_count": 5,
   "id": "687e4a14",
   "metadata": {},
   "outputs": [],
   "source": [
    "### Load ExpressionSet objects from full raw single-cell RNA-seq datasets containing raw counts, cell-type\n",
    "sc.dataset.1 = readRDS('data/pseudobulks_climb/raw/CRC_lee_sc_es.RDS')\n",
    "sc.dataset.2  = readRDS('data/pseudobulks_climb/raw/CRC_khaliq_allGenes_sc_es.RDS')"
   ]
  },
  {
   "cell_type": "code",
   "execution_count": 7,
   "id": "9cbfa0d2",
   "metadata": {},
   "outputs": [],
   "source": [
    "sc.dataset.1$cellType_original = sc.dataset.1$cellType2"
   ]
  },
  {
   "cell_type": "markdown",
   "id": "08104a02",
   "metadata": {},
   "source": [
    "Here we launch our pipeline to filter cells/genes, integrate both datasets, and obtain reference single-cell dataset from dataset1 with pseudo-bulks made from dataset2, and similarly, reference single-cell from dataset2 with associated pseudo-bulk from dataset1. Thanks to data integration, cell-type labels match between reference and pseudo-bulks."
   ]
  },
  {
   "cell_type": "code",
   "execution_count": 8,
   "id": "f0e9f40b",
   "metadata": {},
   "outputs": [
    {
     "name": "stderr",
     "output_type": "stream",
     "text": [
      "## DOWN-SAMPLING CELLS IF >30000K CELLS ##\n",
      "\n",
      "More than 30000 cells: downsampling to 30000 cells with seed(1)\n",
      "\n",
      "More than 30000 cells: downsampling to 30000 cells with seed(1)\n",
      "\n",
      "## GENE INTERESECT BETWEEN TWO DATASETS ##\n",
      "\n",
      "Finding gene intersect between two datasets\n",
      "\n",
      "11578 genes in common between two datasets. Subsetting datasets.\n",
      "\n",
      "## FIND GENES WITH BIOLOGICAL VARIANCE > TECHNICAL VARIANCE ##\n",
      "\n",
      "Warning message in (function (x, sizes, min.mean = NULL, positive = FALSE, scaling = NULL) :\n",
      "“encountered non-positive size factor estimates”\n",
      "## DATA INTEGRATION AND CELL-TYPE LABEL TRANSFER ##\n",
      "\n",
      "Convert to Seurat objects and normalize both datasets\n",
      "\n",
      "Centering and scaling data matrix\n",
      "\n",
      "Centering and scaling data matrix\n",
      "\n",
      "Data integration: transfer cell-type labels from dataset1 to dataset2\n",
      "\n",
      "Performing PCA on the provided reference using 1999 features as input.\n",
      "\n",
      "Projecting cell embeddings\n",
      "\n",
      "Finding neighborhoods\n",
      "\n",
      "Finding anchors\n",
      "\n",
      "\tFound 30137 anchors\n",
      "\n",
      "Filtering anchors\n",
      "\n",
      "\tRetained 10129 anchors\n",
      "\n",
      "Finding integration vectors\n",
      "\n",
      "Finding integration vector weights\n",
      "\n",
      "Predicting cell labels\n",
      "\n",
      "## GENERATE FILTERED SC DATASET AND PSEUDO-BULKS ##\n",
      "\n",
      "Finding gene intersect between two datasets\n",
      "\n",
      "5638 genes in common between two datasets. Subsetting datasets.\n",
      "\n",
      "Setting cell-type factors as in reference\n",
      "\n",
      "Build pseudo-bulks and iterate over samples to compute ground truth\n",
      "\n",
      "Generate ExpressionSet objects containing pseudo-bulks in target dataset\n",
      "\n",
      "Finding gene intersect between two datasets\n",
      "\n",
      "7555 genes in common between two datasets. Subsetting datasets.\n",
      "\n",
      "Setting cell-type factors as in reference\n",
      "\n",
      "Build pseudo-bulks and iterate over samples to compute ground truth\n",
      "\n",
      "Generate ExpressionSet objects containing pseudo-bulks in target dataset\n",
      "\n",
      "## RETURNING LIST WITH [SC1, PBULK1, SC2, PBULK2], PBULK1 WITH CELL-TYPE FROM SC2 AND VICE-VERSA ##\n",
      "\n"
     ]
    }
   ],
   "source": [
    "preproc_dat = preprocess_data(sc.dataset.1, sc.dataset.2)"
   ]
  },
  {
   "cell_type": "code",
   "execution_count": 9,
   "id": "730a774c",
   "metadata": {},
   "outputs": [
    {
     "data": {
      "text/html": [
       "<table class=\"dataframe\">\n",
       "<caption>A matrix: 2 × 7 of type dbl</caption>\n",
       "<thead>\n",
       "\t<tr><th></th><th scope=col>used</th><th scope=col>(Mb)</th><th scope=col>gc trigger</th><th scope=col>(Mb)</th><th scope=col>limit (Mb)</th><th scope=col>max used</th><th scope=col>(Mb)</th></tr>\n",
       "</thead>\n",
       "<tbody>\n",
       "\t<tr><th scope=row>Ncells</th><td>  8299152</td><td> 443.3</td><td>  15047914</td><td>  803.7</td><td>    NA</td><td>  15047914</td><td>  803.7</td></tr>\n",
       "\t<tr><th scope=row>Vcells</th><td>326089497</td><td>2487.9</td><td>2688527323</td><td>20511.9</td><td>102400</td><td>3360656645</td><td>25639.8</td></tr>\n",
       "</tbody>\n",
       "</table>\n"
      ],
      "text/latex": [
       "A matrix: 2 × 7 of type dbl\n",
       "\\begin{tabular}{r|lllllll}\n",
       "  & used & (Mb) & gc trigger & (Mb) & limit (Mb) & max used & (Mb)\\\\\n",
       "\\hline\n",
       "\tNcells &   8299152 &  443.3 &   15047914 &   803.7 &     NA &   15047914 &   803.7\\\\\n",
       "\tVcells & 326089497 & 2487.9 & 2688527323 & 20511.9 & 102400 & 3360656645 & 25639.8\\\\\n",
       "\\end{tabular}\n"
      ],
      "text/markdown": [
       "\n",
       "A matrix: 2 × 7 of type dbl\n",
       "\n",
       "| <!--/--> | used | (Mb) | gc trigger | (Mb) | limit (Mb) | max used | (Mb) |\n",
       "|---|---|---|---|---|---|---|---|\n",
       "| Ncells |   8299152 |  443.3 |   15047914 |   803.7 |     NA |   15047914 |   803.7 |\n",
       "| Vcells | 326089497 | 2487.9 | 2688527323 | 20511.9 | 102400 | 3360656645 | 25639.8 |\n",
       "\n"
      ],
      "text/plain": [
       "       used      (Mb)   gc trigger (Mb)    limit (Mb) max used   (Mb)   \n",
       "Ncells   8299152  443.3   15047914   803.7     NA       15047914   803.7\n",
       "Vcells 326089497 2487.9 2688527323 20511.9 102400     3360656645 25639.8"
      ]
     },
     "metadata": {},
     "output_type": "display_data"
    }
   ],
   "source": [
    "# We extract the final dataset from the run above\n",
    "sc.dataset.1 = preproc_dat[[1]]\n",
    "pbulks.1.es = preproc_dat[[2]]\n",
    "sc.dataset.2 = preproc_dat[[3]]\n",
    "pbulks.2.es = preproc_dat[[4]]\n",
    "gc()"
   ]
  },
  {
   "cell_type": "markdown",
   "id": "10fb96d0",
   "metadata": {},
   "source": [
    "Save the processed pair of single-cell datasets and pseudo-bulks into `data/pseudobulks_climb` folder"
   ]
  },
  {
   "cell_type": "code",
   "execution_count": 16,
   "id": "e7d35db2",
   "metadata": {},
   "outputs": [],
   "source": [
    "saveRDS(sc.dataset.1, 'data/pseudobulks_climb/CRC_lee_sc_es.RDS')\n",
    "saveRDS(pbulks.2.es, 'data/pseudobulks_climb/CRC_khaliq_pbulks_lee_labs_es.RDS')"
   ]
  },
  {
   "cell_type": "code",
   "execution_count": 17,
   "id": "2a3e6f81",
   "metadata": {},
   "outputs": [],
   "source": [
    "saveRDS(sc.dataset.2, 'data/pseudobulks_climb/CRC_khaliq_sc_es.RDS')\n",
    "saveRDS(pbulks.1.es, 'data/pseudobulks_climb/CRC_lee_pbulks_khaliq_labs_es.RDS')"
   ]
  },
  {
   "cell_type": "markdown",
   "id": "8a32b972",
   "metadata": {},
   "source": [
    "We thus obtained pairs of single-cell reference and pseudo-bulk samples. Here is a description of these file for Van Galen and Naldini pairs of datasets:\n",
    "- `sc.dataset.1`: contains single-cell datasets from Van Galen datasets. Gene were filtered using scran::modelGeneVar and using only positive biological variance (namely, gene for which the estimated biological variance is higher than the estimated technical variance). No filters was applied on cells.\n",
    "- `pbulks.2.es`: contains the pseudo-bulk made from Naldini single-cell dataset. The cell-type were transfered from Van Galen to Naldini single-cells. Then, the Naldini dataset is assembled into pseudo-bulks using its original samples (corresponding to patient at day 0 pre-treatment), and ground truth proportions of cell-types using transfered labels from Van Galen were recorded in the phenoData compartment of the ExpressionSet object.\n",
    "- `sc.dataset.2`: contains single-cell datasets from Naldini datasets. Gene were filtered using scran::modelGeneVar and using only positive biological variance (namely, gene for which the estimated biological variance is higher than the estimated technical variance). Cells were sub-sampled to keep only 30'000 cells (using random sample function with set.seed(1) for reproducibility). Sub-sampling is done to obtain a single-cell matrix <1.0Gb to be able to use CiberSortX method. \n",
    "- `pbulks.2.es`: contains the pseudo-bulk made from Van Galen single-cell dataset. The cell-type were transfered from Naldini to Van Galen single-cells. Then, the Van Galen dataset is assembled into pseudo-bulks using its original samples (corresponding to patient at day 0 pre-treatment), and ground truth proportions of cell-types using transfered labels from Van Galen were recorded in the phenoData compartment of the ExpressionSet object.\n",
    "\n",
    "The deconvolution of the datasets pre-processed is done in the following notebook: `Fig3_deconvolution_panel.ipynb` "
   ]
  },
  {
   "cell_type": "markdown",
   "id": "33e2a4f7",
   "metadata": {},
   "source": [
    "### One peculiar case: pairs of datasets in Glioblastoma \n",
    "\n",
    "In the case of Glioblastoma, both single-cell comes from the same datasets (Neftel et al.) but one was sequenced with 10X and the other one with SmartSeq2. We thus performed 10x > SmartSeq2, and SmartSeq2 > 10X cross-dataset analysis. Another peculiarity of this dataset is that only the SmartSeq2 data had available cell-type labels. We thus use these labels in both 10x > SmartSeq2, and SmartSeq2 > 10X analysis. \n",
    "\n",
    "### CRC cross-dataset analysis\n",
    "\n",
    "In the colorectal cancer analysis, Khaliq et al. dataset did not have available cell type labels except from a CMS subtype probability per single cell. We thus used Lee et al. cell-type labels for both datasets."
   ]
  }
 ],
 "metadata": {
  "kernelspec": {
   "display_name": "R",
   "language": "R",
   "name": "ir"
  },
  "language_info": {
   "codemirror_mode": "r",
   "file_extension": ".r",
   "mimetype": "text/x-r-source",
   "name": "R",
   "pygments_lexer": "r",
   "version": "4.2.2"
  }
 },
 "nbformat": 4,
 "nbformat_minor": 5
}
