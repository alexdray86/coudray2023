{
 "cells": [
  {
   "cell_type": "code",
   "execution_count": 2,
   "id": "e1d82b47-835d-499f-8109-f7e0d8a2a2a5",
   "metadata": {
    "tags": []
   },
   "outputs": [],
   "source": [
    "library(ggplot2) ; library(glmnet) ; library(Biobase)\n",
    "library(reshape2) ; library(ggpubr); library(SingleCellExperiment)\n",
    "library(ComplexHeatmap) ; library(circlize) ; library(RColorBrewer)\n",
    "library(cocor) ; library(ggpmisc) ; library(Seurat)\n",
    "\n",
    "# load CLIMB and MUSIC\n",
    "#library(MuSiC) ; library(climb) ; library(BayesPrism)"
   ]
  },
  {
   "cell_type": "markdown",
   "id": "1845eafb-d6ac-46ec-b780-8548d32052e3",
   "metadata": {},
   "source": [
    "### Functions "
   ]
  },
  {
   "cell_type": "code",
   "execution_count": 3,
   "id": "e21ebd05-2255-4961-aef6-25a0ee1ca085",
   "metadata": {
    "tags": []
   },
   "outputs": [],
   "source": [
    "# METRICS FUNCTIONS\n",
    "num <- function(x){ return(as.numeric(as.character(x)))}\n",
    "flatten <- function(x){return(as.vector(as.matrix(x)))}\n",
    "reformat_strings <- function(vector_string){\n",
    "    # replace plus and minus (e.g. useful for CD34+, CD34- populations)\n",
    "    vector_string <- gsub('\\\\-$', 'minus', vector_string) \n",
    "    vector_string <- gsub('\\\\+', 'plus', vector_string) \n",
    "    vector_string <- gsub('\\\\ ', '\\\\.', vector_string) \n",
    "    # remove all special characters\n",
    "    vector_string <- gsub('[^[:alnum:] ]','',vector_string)\n",
    "    return(vector_string)\n",
    "}\n",
    "reformat_celltypes <- function(celltype_labels){\n",
    "    celltype_labels <- reformat_strings(as.vector(celltype_labels))\n",
    "    celltype_labels <- factor(celltype_labels)\n",
    "    return(celltype_labels)\n",
    "}"
   ]
  },
  {
   "cell_type": "markdown",
   "id": "cc9318bf",
   "metadata": {},
   "source": [
    "### Load raw data from Khaliq (CRC sc dataset) - filter out cancer cells only"
   ]
  },
  {
   "cell_type": "code",
   "execution_count": 3,
   "id": "43b71095",
   "metadata": {},
   "outputs": [],
   "source": [
    "khaliq.mat = read.csv('data/pseudobulks_climb/raw/crc_khaliq/GSE200997_GEO_processed_CRC_10X_raw_UMI_count_matrix.csv', sep = ',')"
   ]
  },
  {
   "cell_type": "code",
   "execution_count": 6,
   "id": "899757c6",
   "metadata": {},
   "outputs": [],
   "source": [
    "rownames(khaliq.mat) = khaliq.mat[,1]"
   ]
  },
  {
   "cell_type": "code",
   "execution_count": 7,
   "id": "2dca58cd",
   "metadata": {},
   "outputs": [],
   "source": [
    "colnames(khaliq.mat) = khaliq.mat[1,]"
   ]
  },
  {
   "cell_type": "code",
   "execution_count": 8,
   "id": "18738500",
   "metadata": {},
   "outputs": [],
   "source": [
    "khaliq.mat = khaliq.mat[,-1]\n",
    "khaliq.mat = khaliq.mat[-1,]"
   ]
  },
  {
   "cell_type": "code",
   "execution_count": 9,
   "id": "616f7a3f",
   "metadata": {},
   "outputs": [
    {
     "data": {
      "text/html": [
       "<table class=\"dataframe\">\n",
       "<caption>A data.frame: 6 × 49859</caption>\n",
       "<thead>\n",
       "\t<tr><th></th><th scope=col>B_cac10_AAACCTGAGTCAATAG</th><th scope=col>B_cac10_AAACCTGCACAGCCCA</th><th scope=col>B_cac10_AAACCTGCACTTCGAA</th><th scope=col>B_cac10_AAACCTGGTAATTGGA</th><th scope=col>B_cac10_AAACCTGGTACGAAAT</th><th scope=col>B_cac10_AAACCTGGTGAAAGAG</th><th scope=col>B_cac10_AAACCTGTCACGATGT</th><th scope=col>B_cac10_AAACCTGTCTGCGACG</th><th scope=col>B_cac10_AAACGGGAGTTGTCGT</th><th scope=col>B_cac10_AAACGGGCAGCGTTCG</th><th scope=col>⋯</th><th scope=col>T_cac9_TTTCCTCTCCGCATCT</th><th scope=col>T_cac9_TTTCCTCTCTATGTGG</th><th scope=col>T_cac9_TTTGCGCAGGCTAGCA</th><th scope=col>T_cac9_TTTGCGCTCGCTAGCG</th><th scope=col>T_cac9_TTTGGTTCAAATACAG</th><th scope=col>T_cac9_TTTGGTTCAACACGCC</th><th scope=col>T_cac9_TTTGGTTCATAGACTC</th><th scope=col>T_cac9_TTTGGTTCATCTATGG</th><th scope=col>T_cac9_TTTGGTTTCAATCTCT</th><th scope=col>T_cac9_TTTGTCAGTCCAACTA</th></tr>\n",
       "\t<tr><th></th><th scope=col>&lt;chr&gt;</th><th scope=col>&lt;chr&gt;</th><th scope=col>&lt;chr&gt;</th><th scope=col>&lt;chr&gt;</th><th scope=col>&lt;chr&gt;</th><th scope=col>&lt;chr&gt;</th><th scope=col>&lt;chr&gt;</th><th scope=col>&lt;chr&gt;</th><th scope=col>&lt;chr&gt;</th><th scope=col>&lt;chr&gt;</th><th scope=col>⋯</th><th scope=col>&lt;chr&gt;</th><th scope=col>&lt;chr&gt;</th><th scope=col>&lt;chr&gt;</th><th scope=col>&lt;chr&gt;</th><th scope=col>&lt;chr&gt;</th><th scope=col>&lt;chr&gt;</th><th scope=col>&lt;chr&gt;</th><th scope=col>&lt;chr&gt;</th><th scope=col>&lt;chr&gt;</th><th scope=col>&lt;chr&gt;</th></tr>\n",
       "</thead>\n",
       "<tbody>\n",
       "\t<tr><th scope=row>AL627309.1</th><td>0</td><td>0</td><td>0</td><td>0</td><td>0</td><td>0</td><td>0</td><td>0</td><td>0</td><td>0</td><td>⋯</td><td>0</td><td>0</td><td>0</td><td>0</td><td>0</td><td>0</td><td>0</td><td>0</td><td>0</td><td>0</td></tr>\n",
       "\t<tr><th scope=row>AL669831.5</th><td>0</td><td>0</td><td>0</td><td>0</td><td>0</td><td>0</td><td>0</td><td>0</td><td>0</td><td>0</td><td>⋯</td><td>0</td><td>0</td><td>0</td><td>0</td><td>0</td><td>0</td><td>0</td><td>0</td><td>0</td><td>0</td></tr>\n",
       "\t<tr><th scope=row>FAM87B</th><td>0</td><td>0</td><td>0</td><td>0</td><td>0</td><td>0</td><td>0</td><td>0</td><td>0</td><td>0</td><td>⋯</td><td>0</td><td>0</td><td>0</td><td>0</td><td>0</td><td>0</td><td>0</td><td>0</td><td>0</td><td>0</td></tr>\n",
       "\t<tr><th scope=row>LINC00115</th><td>0</td><td>0</td><td>0</td><td>0</td><td>0</td><td>0</td><td>0</td><td>0</td><td>0</td><td>0</td><td>⋯</td><td>0</td><td>0</td><td>0</td><td>0</td><td>0</td><td>0</td><td>0</td><td>0</td><td>0</td><td>0</td></tr>\n",
       "\t<tr><th scope=row>FAM41C</th><td>0</td><td>0</td><td>0</td><td>0</td><td>0</td><td>0</td><td>0</td><td>0</td><td>0</td><td>0</td><td>⋯</td><td>0</td><td>0</td><td>0</td><td>0</td><td>0</td><td>0</td><td>0</td><td>0</td><td>0</td><td>0</td></tr>\n",
       "\t<tr><th scope=row>AL645608.3</th><td>0</td><td>0</td><td>0</td><td>0</td><td>0</td><td>0</td><td>0</td><td>0</td><td>0</td><td>0</td><td>⋯</td><td>0</td><td>0</td><td>0</td><td>0</td><td>0</td><td>0</td><td>0</td><td>0</td><td>0</td><td>0</td></tr>\n",
       "</tbody>\n",
       "</table>\n"
      ],
      "text/latex": [
       "A data.frame: 6 × 49859\n",
       "\\begin{tabular}{r|lllllllllllllllllllll}\n",
       "  & B\\_cac10\\_AAACCTGAGTCAATAG & B\\_cac10\\_AAACCTGCACAGCCCA & B\\_cac10\\_AAACCTGCACTTCGAA & B\\_cac10\\_AAACCTGGTAATTGGA & B\\_cac10\\_AAACCTGGTACGAAAT & B\\_cac10\\_AAACCTGGTGAAAGAG & B\\_cac10\\_AAACCTGTCACGATGT & B\\_cac10\\_AAACCTGTCTGCGACG & B\\_cac10\\_AAACGGGAGTTGTCGT & B\\_cac10\\_AAACGGGCAGCGTTCG & ⋯ & T\\_cac9\\_TTTCCTCTCCGCATCT & T\\_cac9\\_TTTCCTCTCTATGTGG & T\\_cac9\\_TTTGCGCAGGCTAGCA & T\\_cac9\\_TTTGCGCTCGCTAGCG & T\\_cac9\\_TTTGGTTCAAATACAG & T\\_cac9\\_TTTGGTTCAACACGCC & T\\_cac9\\_TTTGGTTCATAGACTC & T\\_cac9\\_TTTGGTTCATCTATGG & T\\_cac9\\_TTTGGTTTCAATCTCT & T\\_cac9\\_TTTGTCAGTCCAACTA\\\\\n",
       "  & <chr> & <chr> & <chr> & <chr> & <chr> & <chr> & <chr> & <chr> & <chr> & <chr> & ⋯ & <chr> & <chr> & <chr> & <chr> & <chr> & <chr> & <chr> & <chr> & <chr> & <chr>\\\\\n",
       "\\hline\n",
       "\tAL627309.1 & 0 & 0 & 0 & 0 & 0 & 0 & 0 & 0 & 0 & 0 & ⋯ & 0 & 0 & 0 & 0 & 0 & 0 & 0 & 0 & 0 & 0\\\\\n",
       "\tAL669831.5 & 0 & 0 & 0 & 0 & 0 & 0 & 0 & 0 & 0 & 0 & ⋯ & 0 & 0 & 0 & 0 & 0 & 0 & 0 & 0 & 0 & 0\\\\\n",
       "\tFAM87B & 0 & 0 & 0 & 0 & 0 & 0 & 0 & 0 & 0 & 0 & ⋯ & 0 & 0 & 0 & 0 & 0 & 0 & 0 & 0 & 0 & 0\\\\\n",
       "\tLINC00115 & 0 & 0 & 0 & 0 & 0 & 0 & 0 & 0 & 0 & 0 & ⋯ & 0 & 0 & 0 & 0 & 0 & 0 & 0 & 0 & 0 & 0\\\\\n",
       "\tFAM41C & 0 & 0 & 0 & 0 & 0 & 0 & 0 & 0 & 0 & 0 & ⋯ & 0 & 0 & 0 & 0 & 0 & 0 & 0 & 0 & 0 & 0\\\\\n",
       "\tAL645608.3 & 0 & 0 & 0 & 0 & 0 & 0 & 0 & 0 & 0 & 0 & ⋯ & 0 & 0 & 0 & 0 & 0 & 0 & 0 & 0 & 0 & 0\\\\\n",
       "\\end{tabular}\n"
      ],
      "text/markdown": [
       "\n",
       "A data.frame: 6 × 49859\n",
       "\n",
       "| <!--/--> | B_cac10_AAACCTGAGTCAATAG &lt;chr&gt; | B_cac10_AAACCTGCACAGCCCA &lt;chr&gt; | B_cac10_AAACCTGCACTTCGAA &lt;chr&gt; | B_cac10_AAACCTGGTAATTGGA &lt;chr&gt; | B_cac10_AAACCTGGTACGAAAT &lt;chr&gt; | B_cac10_AAACCTGGTGAAAGAG &lt;chr&gt; | B_cac10_AAACCTGTCACGATGT &lt;chr&gt; | B_cac10_AAACCTGTCTGCGACG &lt;chr&gt; | B_cac10_AAACGGGAGTTGTCGT &lt;chr&gt; | B_cac10_AAACGGGCAGCGTTCG &lt;chr&gt; | ⋯ ⋯ | T_cac9_TTTCCTCTCCGCATCT &lt;chr&gt; | T_cac9_TTTCCTCTCTATGTGG &lt;chr&gt; | T_cac9_TTTGCGCAGGCTAGCA &lt;chr&gt; | T_cac9_TTTGCGCTCGCTAGCG &lt;chr&gt; | T_cac9_TTTGGTTCAAATACAG &lt;chr&gt; | T_cac9_TTTGGTTCAACACGCC &lt;chr&gt; | T_cac9_TTTGGTTCATAGACTC &lt;chr&gt; | T_cac9_TTTGGTTCATCTATGG &lt;chr&gt; | T_cac9_TTTGGTTTCAATCTCT &lt;chr&gt; | T_cac9_TTTGTCAGTCCAACTA &lt;chr&gt; |\n",
       "|---|---|---|---|---|---|---|---|---|---|---|---|---|---|---|---|---|---|---|---|---|---|\n",
       "| AL627309.1 | 0 | 0 | 0 | 0 | 0 | 0 | 0 | 0 | 0 | 0 | ⋯ | 0 | 0 | 0 | 0 | 0 | 0 | 0 | 0 | 0 | 0 |\n",
       "| AL669831.5 | 0 | 0 | 0 | 0 | 0 | 0 | 0 | 0 | 0 | 0 | ⋯ | 0 | 0 | 0 | 0 | 0 | 0 | 0 | 0 | 0 | 0 |\n",
       "| FAM87B | 0 | 0 | 0 | 0 | 0 | 0 | 0 | 0 | 0 | 0 | ⋯ | 0 | 0 | 0 | 0 | 0 | 0 | 0 | 0 | 0 | 0 |\n",
       "| LINC00115 | 0 | 0 | 0 | 0 | 0 | 0 | 0 | 0 | 0 | 0 | ⋯ | 0 | 0 | 0 | 0 | 0 | 0 | 0 | 0 | 0 | 0 |\n",
       "| FAM41C | 0 | 0 | 0 | 0 | 0 | 0 | 0 | 0 | 0 | 0 | ⋯ | 0 | 0 | 0 | 0 | 0 | 0 | 0 | 0 | 0 | 0 |\n",
       "| AL645608.3 | 0 | 0 | 0 | 0 | 0 | 0 | 0 | 0 | 0 | 0 | ⋯ | 0 | 0 | 0 | 0 | 0 | 0 | 0 | 0 | 0 | 0 |\n",
       "\n"
      ],
      "text/plain": [
       "           B_cac10_AAACCTGAGTCAATAG B_cac10_AAACCTGCACAGCCCA\n",
       "AL627309.1 0                        0                       \n",
       "AL669831.5 0                        0                       \n",
       "FAM87B     0                        0                       \n",
       "LINC00115  0                        0                       \n",
       "FAM41C     0                        0                       \n",
       "AL645608.3 0                        0                       \n",
       "           B_cac10_AAACCTGCACTTCGAA B_cac10_AAACCTGGTAATTGGA\n",
       "AL627309.1 0                        0                       \n",
       "AL669831.5 0                        0                       \n",
       "FAM87B     0                        0                       \n",
       "LINC00115  0                        0                       \n",
       "FAM41C     0                        0                       \n",
       "AL645608.3 0                        0                       \n",
       "           B_cac10_AAACCTGGTACGAAAT B_cac10_AAACCTGGTGAAAGAG\n",
       "AL627309.1 0                        0                       \n",
       "AL669831.5 0                        0                       \n",
       "FAM87B     0                        0                       \n",
       "LINC00115  0                        0                       \n",
       "FAM41C     0                        0                       \n",
       "AL645608.3 0                        0                       \n",
       "           B_cac10_AAACCTGTCACGATGT B_cac10_AAACCTGTCTGCGACG\n",
       "AL627309.1 0                        0                       \n",
       "AL669831.5 0                        0                       \n",
       "FAM87B     0                        0                       \n",
       "LINC00115  0                        0                       \n",
       "FAM41C     0                        0                       \n",
       "AL645608.3 0                        0                       \n",
       "           B_cac10_AAACGGGAGTTGTCGT B_cac10_AAACGGGCAGCGTTCG ⋯\n",
       "AL627309.1 0                        0                        ⋯\n",
       "AL669831.5 0                        0                        ⋯\n",
       "FAM87B     0                        0                        ⋯\n",
       "LINC00115  0                        0                        ⋯\n",
       "FAM41C     0                        0                        ⋯\n",
       "AL645608.3 0                        0                        ⋯\n",
       "           T_cac9_TTTCCTCTCCGCATCT T_cac9_TTTCCTCTCTATGTGG\n",
       "AL627309.1 0                       0                      \n",
       "AL669831.5 0                       0                      \n",
       "FAM87B     0                       0                      \n",
       "LINC00115  0                       0                      \n",
       "FAM41C     0                       0                      \n",
       "AL645608.3 0                       0                      \n",
       "           T_cac9_TTTGCGCAGGCTAGCA T_cac9_TTTGCGCTCGCTAGCG\n",
       "AL627309.1 0                       0                      \n",
       "AL669831.5 0                       0                      \n",
       "FAM87B     0                       0                      \n",
       "LINC00115  0                       0                      \n",
       "FAM41C     0                       0                      \n",
       "AL645608.3 0                       0                      \n",
       "           T_cac9_TTTGGTTCAAATACAG T_cac9_TTTGGTTCAACACGCC\n",
       "AL627309.1 0                       0                      \n",
       "AL669831.5 0                       0                      \n",
       "FAM87B     0                       0                      \n",
       "LINC00115  0                       0                      \n",
       "FAM41C     0                       0                      \n",
       "AL645608.3 0                       0                      \n",
       "           T_cac9_TTTGGTTCATAGACTC T_cac9_TTTGGTTCATCTATGG\n",
       "AL627309.1 0                       0                      \n",
       "AL669831.5 0                       0                      \n",
       "FAM87B     0                       0                      \n",
       "LINC00115  0                       0                      \n",
       "FAM41C     0                       0                      \n",
       "AL645608.3 0                       0                      \n",
       "           T_cac9_TTTGGTTTCAATCTCT T_cac9_TTTGTCAGTCCAACTA\n",
       "AL627309.1 0                       0                      \n",
       "AL669831.5 0                       0                      \n",
       "FAM87B     0                       0                      \n",
       "LINC00115  0                       0                      \n",
       "FAM41C     0                       0                      \n",
       "AL645608.3 0                       0                      "
      ]
     },
     "metadata": {},
     "output_type": "display_data"
    }
   ],
   "source": [
    "head(khaliq.mat)"
   ]
  },
  {
   "cell_type": "code",
   "execution_count": 14,
   "id": "b112721c",
   "metadata": {},
   "outputs": [],
   "source": [
    "khaliq.meta = read.csv('data/pseudobulks_climb/raw/crc_khaliq/GSE200997_GEO_processed_CRC_10X_cell_annotation.csv')"
   ]
  },
  {
   "cell_type": "code",
   "execution_count": 20,
   "id": "3de25b23",
   "metadata": {},
   "outputs": [
    {
     "data": {
      "text/html": [
       "TRUE"
      ],
      "text/latex": [
       "TRUE"
      ],
      "text/markdown": [
       "TRUE"
      ],
      "text/plain": [
       "[1] TRUE"
      ]
     },
     "metadata": {},
     "output_type": "display_data"
    }
   ],
   "source": [
    "all(khaliq.meta$X == colnames(khaliq.mat))"
   ]
  },
  {
   "cell_type": "code",
   "execution_count": 23,
   "id": "07b1e98f",
   "metadata": {},
   "outputs": [],
   "source": [
    "sel_cancer = khaliq.meta$Condition == 'Tumor'"
   ]
  },
  {
   "cell_type": "code",
   "execution_count": 23,
   "id": "fcbc14d7",
   "metadata": {},
   "outputs": [],
   "source": [
    "khaliq.mat = khaliq.mat[,sel_cancer]"
   ]
  },
  {
   "cell_type": "code",
   "execution_count": 24,
   "id": "27b4f0aa",
   "metadata": {},
   "outputs": [],
   "source": [
    "khaliq.meta = khaliq.meta[sel_cancer,]"
   ]
  },
  {
   "cell_type": "code",
   "execution_count": 32,
   "id": "52a2d66d",
   "metadata": {},
   "outputs": [],
   "source": [
    "khaliq.sc.es = ExpressionSet(as.matrix(khaliq.mat))"
   ]
  },
  {
   "cell_type": "code",
   "execution_count": 35,
   "id": "a3036ab9",
   "metadata": {},
   "outputs": [],
   "source": [
    "khaliq.sc.es$SubjectName = khaliq.meta$samples"
   ]
  },
  {
   "cell_type": "code",
   "execution_count": 26,
   "id": "50e94cff",
   "metadata": {},
   "outputs": [],
   "source": [
    "khaliq.sc.es$cellType_original = khaliq.meta$prediction\n",
    "khaliq.sc.es$cellType = khaliq.meta$prediction"
   ]
  },
  {
   "cell_type": "code",
   "execution_count": 1,
   "id": "b665f73e",
   "metadata": {},
   "outputs": [],
   "source": [
    "khaliq.sc.es = readRDS('data/pseudobulks_climb/raw/khaliq_sc_es.RDS')"
   ]
  },
  {
   "cell_type": "code",
   "execution_count": 5,
   "id": "b7b3d265",
   "metadata": {},
   "outputs": [],
   "source": [
    "mat_2_num <- matrix(as.numeric(exprs(khaliq.sc.es)),    # Convert to numeric matrix\n",
    "                  ncol = ncol(exprs(khaliq.sc.es)))"
   ]
  },
  {
   "cell_type": "code",
   "execution_count": 6,
   "id": "9bd2ab83",
   "metadata": {},
   "outputs": [],
   "source": [
    "exprs(khaliq.sc.es) = mat_2_num"
   ]
  },
  {
   "cell_type": "code",
   "execution_count": 8,
   "id": "e68808bd",
   "metadata": {},
   "outputs": [
    {
     "data": {
      "text/html": [
       "0"
      ],
      "text/latex": [
       "0"
      ],
      "text/markdown": [
       "0"
      ],
      "text/plain": [
       "[1] 0"
      ]
     },
     "metadata": {},
     "output_type": "display_data"
    }
   ],
   "source": [
    "# Check that we don't have cells with 0 counts\n",
    "sum(colSums(exprs(khaliq.sc.es)) <= 0)"
   ]
  },
  {
   "cell_type": "code",
   "execution_count": 12,
   "id": "d563aa0d",
   "metadata": {},
   "outputs": [
    {
     "data": {
      "text/html": [
       "0"
      ],
      "text/latex": [
       "0"
      ],
      "text/markdown": [
       "0"
      ],
      "text/plain": [
       "[1] 0"
      ]
     },
     "metadata": {},
     "output_type": "display_data"
    }
   ],
   "source": [
    "# Check if we have no genes with 0 counts\n",
    "sum(rowSums(exprs(khaliq.sc.es)) <= 0)"
   ]
  },
  {
   "cell_type": "code",
   "execution_count": 10,
   "id": "ecf798ec",
   "metadata": {},
   "outputs": [],
   "source": [
    "# remove gene with 0 expression in all cells \n",
    "khaliq.sc.es = khaliq.sc.es[!rowSums(exprs(khaliq.sc.es)) <= 0,]"
   ]
  },
  {
   "cell_type": "code",
   "execution_count": 11,
   "id": "e204bfb7",
   "metadata": {},
   "outputs": [],
   "source": [
    "saveRDS(khaliq.sc.es, 'data/pseudobulks_climb/raw/khaliq_sc_es.RDS')"
   ]
  },
  {
   "cell_type": "markdown",
   "id": "7e30bb2f",
   "metadata": {},
   "source": [
    "## Load GBM datasets"
   ]
  },
  {
   "cell_type": "code",
   "execution_count": 6,
   "id": "e2dc097c",
   "metadata": {},
   "outputs": [
    {
     "data": {
      "text/html": [
       "<style>\n",
       ".list-inline {list-style: none; margin:0; padding: 0}\n",
       ".list-inline>li {display: inline-block}\n",
       ".list-inline>li:not(:last-child)::after {content: \"\\00b7\"; padding: 0 .5ex}\n",
       "</style>\n",
       "<ol class=list-inline><li>'102.11'</li><li>'102.12'</li><li>'102.15'</li><li>'102.17'</li><li>'102.19'</li><li>'102.24'</li></ol>\n"
      ],
      "text/latex": [
       "\\begin{enumerate*}\n",
       "\\item '102.11'\n",
       "\\item '102.12'\n",
       "\\item '102.15'\n",
       "\\item '102.17'\n",
       "\\item '102.19'\n",
       "\\item '102.24'\n",
       "\\end{enumerate*}\n"
      ],
      "text/markdown": [
       "1. '102.11'\n",
       "2. '102.12'\n",
       "3. '102.15'\n",
       "4. '102.17'\n",
       "5. '102.19'\n",
       "6. '102.24'\n",
       "\n",
       "\n"
      ],
      "text/plain": [
       "[1] \"102.11\" \"102.12\" \"102.15\" \"102.17\" \"102.19\" \"102.24\""
      ]
     },
     "metadata": {},
     "output_type": "display_data"
    }
   ],
   "source": [
    "non_malignant_cells = readRDS('data/pseudobulks_climb/raw/gbm_10x_smartseq2/non_malignant_cells.rds')\n",
    "head(non_malignant_cells)"
   ]
  },
  {
   "cell_type": "code",
   "execution_count": 7,
   "id": "e081ccaa",
   "metadata": {},
   "outputs": [
    {
     "data": {
      "text/html": [
       "<style>\n",
       ".list-inline {list-style: none; margin:0; padding: 0}\n",
       ".list-inline>li {display: inline-block}\n",
       ".list-inline>li:not(:last-child)::after {content: \"\\00b7\"; padding: 0 .5ex}\n",
       "</style>\n",
       "<ol class=list-inline><li>'102.1'</li><li>'102.2'</li><li>'102.4'</li><li>'102.5'</li><li>'102.7'</li><li>'102.8'</li></ol>\n"
      ],
      "text/latex": [
       "\\begin{enumerate*}\n",
       "\\item '102.1'\n",
       "\\item '102.2'\n",
       "\\item '102.4'\n",
       "\\item '102.5'\n",
       "\\item '102.7'\n",
       "\\item '102.8'\n",
       "\\end{enumerate*}\n"
      ],
      "text/markdown": [
       "1. '102.1'\n",
       "2. '102.2'\n",
       "3. '102.4'\n",
       "4. '102.5'\n",
       "5. '102.7'\n",
       "6. '102.8'\n",
       "\n",
       "\n"
      ],
      "text/plain": [
       "[1] \"102.1\" \"102.2\" \"102.4\" \"102.5\" \"102.7\" \"102.8\""
      ]
     },
     "metadata": {},
     "output_type": "display_data"
    }
   ],
   "source": [
    "malignant_cells = readRDS('data/pseudobulks_climb/raw/gbm_10x_smartseq2/malignant_cells.rds')\n",
    "head(malignant_cells)"
   ]
  },
  {
   "cell_type": "code",
   "execution_count": 8,
   "id": "12f74932",
   "metadata": {},
   "outputs": [],
   "source": [
    "head(read.csv('data/pseudobulks_climb/raw/gbm_10x_smartseq2/GSE131928_RAW/GSM3828673_10X_GBM_IDHwt_processed_TPM.tsv', sep='\\t'))"
   ]
  },
  {
   "cell_type": "code",
   "execution_count": 13,
   "id": "15f89189",
   "metadata": {},
   "outputs": [
    {
     "data": {
      "text/html": [
       "21"
      ],
      "text/latex": [
       "21"
      ],
      "text/markdown": [
       "21"
      ],
      "text/plain": [
       "[1] 21"
      ]
     },
     "metadata": {},
     "output_type": "display_data"
    }
   ],
   "source": [
    "length(unique(gsub('\\\\..*','',cells_ids)))"
   ]
  },
  {
   "cell_type": "code",
   "execution_count": 14,
   "id": "e0593119",
   "metadata": {
    "scrolled": true
   },
   "outputs": [
    {
     "data": {
      "text/html": [
       "<style>\n",
       ".list-inline {list-style: none; margin:0; padding: 0}\n",
       ".list-inline>li {display: inline-block}\n",
       ".list-inline>li:not(:last-child)::after {content: \"\\00b7\"; padding: 0 .5ex}\n",
       "</style>\n",
       "<ol class=list-inline><li>'102'</li><li>'143_7d'</li><li>'105_B1'</li><li>'105_B2'</li><li>'105_C1'</li><li>'105_C2'</li><li>'105_D1'</li><li>'105_D2'</li><li>'105A'</li><li>'114_1'</li><li>'114_2'</li><li>'115_1'</li><li>'115_2'</li><li>'118_1'</li><li>'118_2'</li><li>'124_1'</li><li>'124_2'</li><li>'125_1'</li><li>'125_2'</li><li>'126_1'</li><li>'126_2'</li></ol>\n"
      ],
      "text/latex": [
       "\\begin{enumerate*}\n",
       "\\item '102'\n",
       "\\item '143\\_7d'\n",
       "\\item '105\\_B1'\n",
       "\\item '105\\_B2'\n",
       "\\item '105\\_C1'\n",
       "\\item '105\\_C2'\n",
       "\\item '105\\_D1'\n",
       "\\item '105\\_D2'\n",
       "\\item '105A'\n",
       "\\item '114\\_1'\n",
       "\\item '114\\_2'\n",
       "\\item '115\\_1'\n",
       "\\item '115\\_2'\n",
       "\\item '118\\_1'\n",
       "\\item '118\\_2'\n",
       "\\item '124\\_1'\n",
       "\\item '124\\_2'\n",
       "\\item '125\\_1'\n",
       "\\item '125\\_2'\n",
       "\\item '126\\_1'\n",
       "\\item '126\\_2'\n",
       "\\end{enumerate*}\n"
      ],
      "text/markdown": [
       "1. '102'\n",
       "2. '143_7d'\n",
       "3. '105_B1'\n",
       "4. '105_B2'\n",
       "5. '105_C1'\n",
       "6. '105_C2'\n",
       "7. '105_D1'\n",
       "8. '105_D2'\n",
       "9. '105A'\n",
       "10. '114_1'\n",
       "11. '114_2'\n",
       "12. '115_1'\n",
       "13. '115_2'\n",
       "14. '118_1'\n",
       "15. '118_2'\n",
       "16. '124_1'\n",
       "17. '124_2'\n",
       "18. '125_1'\n",
       "19. '125_2'\n",
       "20. '126_1'\n",
       "21. '126_2'\n",
       "\n",
       "\n"
      ],
      "text/plain": [
       " [1] \"102\"    \"143_7d\" \"105_B1\" \"105_B2\" \"105_C1\" \"105_C2\" \"105_D1\" \"105_D2\"\n",
       " [9] \"105A\"   \"114_1\"  \"114_2\"  \"115_1\"  \"115_2\"  \"118_1\"  \"118_2\"  \"124_1\" \n",
       "[17] \"124_2\"  \"125_1\"  \"125_2\"  \"126_1\"  \"126_2\" "
      ]
     },
     "metadata": {},
     "output_type": "display_data"
    }
   ],
   "source": [
    "unique(gsub('\\\\..*','',cells_ids))"
   ]
  },
  {
   "cell_type": "markdown",
   "id": "a4e712a7",
   "metadata": {},
   "source": [
    "## Load Melanoma datasets"
   ]
  },
  {
   "cell_type": "code",
   "execution_count": 2,
   "id": "bdbb2648",
   "metadata": {},
   "outputs": [],
   "source": [
    "rawcounts.mel = read.csv('data/pseudobulks_climb/raw/melanoma_jerby_tirosh/GSE115978_counts.csv',row.names='X')"
   ]
  },
  {
   "cell_type": "code",
   "execution_count": 3,
   "id": "c3d911c8",
   "metadata": {},
   "outputs": [
    {
     "data": {
      "text/html": [
       "<table class=\"dataframe\">\n",
       "<caption>A data.frame: 6 × 7</caption>\n",
       "<thead>\n",
       "\t<tr><th></th><th scope=col>cells</th><th scope=col>samples</th><th scope=col>cell.types</th><th scope=col>treatment.group</th><th scope=col>Cohort</th><th scope=col>no.of.genes</th><th scope=col>no.of.reads</th></tr>\n",
       "\t<tr><th></th><th scope=col>&lt;chr&gt;</th><th scope=col>&lt;chr&gt;</th><th scope=col>&lt;chr&gt;</th><th scope=col>&lt;chr&gt;</th><th scope=col>&lt;chr&gt;</th><th scope=col>&lt;int&gt;</th><th scope=col>&lt;int&gt;</th></tr>\n",
       "</thead>\n",
       "<tbody>\n",
       "\t<tr><th scope=row>1</th><td>cy78_CD45_neg_1_B04_S496_comb                  </td><td>Mel78</td><td>Mal</td><td>post.treatment </td><td>Tirosh</td><td>8258</td><td>357919</td></tr>\n",
       "\t<tr><th scope=row>2</th><td>cy79_p4_CD45_neg_PDL1_neg_E11_S1115_comb       </td><td>Mel79</td><td>Mal</td><td>treatment.naive</td><td>Tirosh</td><td>2047</td><td>  5727</td></tr>\n",
       "\t<tr><th scope=row>3</th><td>CY88_5_B10_S694_comb                           </td><td>Mel88</td><td>Mal</td><td>post.treatment </td><td>Tirosh</td><td>5375</td><td>139218</td></tr>\n",
       "\t<tr><th scope=row>4</th><td>cy79_p1_CD45_neg_PDL1_pos_AS_C1_R1_F07_S67_comb</td><td>Mel79</td><td>Mal</td><td>treatment.naive</td><td>Tirosh</td><td>5648</td><td> 73996</td></tr>\n",
       "\t<tr><th scope=row>5</th><td>cy78_CD45_neg_3_H06_S762_comb                  </td><td>Mel78</td><td>Mal</td><td>post.treatment </td><td>Tirosh</td><td>7409</td><td>380341</td></tr>\n",
       "\t<tr><th scope=row>6</th><td>cy79_p1_CD45_neg_PDL1_pos_AS_C1_R1_G01_S73_comb</td><td>Mel79</td><td>Mal</td><td>treatment.naive</td><td>Tirosh</td><td>6988</td><td> 92485</td></tr>\n",
       "</tbody>\n",
       "</table>\n"
      ],
      "text/latex": [
       "A data.frame: 6 × 7\n",
       "\\begin{tabular}{r|lllllll}\n",
       "  & cells & samples & cell.types & treatment.group & Cohort & no.of.genes & no.of.reads\\\\\n",
       "  & <chr> & <chr> & <chr> & <chr> & <chr> & <int> & <int>\\\\\n",
       "\\hline\n",
       "\t1 & cy78\\_CD45\\_neg\\_1\\_B04\\_S496\\_comb                   & Mel78 & Mal & post.treatment  & Tirosh & 8258 & 357919\\\\\n",
       "\t2 & cy79\\_p4\\_CD45\\_neg\\_PDL1\\_neg\\_E11\\_S1115\\_comb        & Mel79 & Mal & treatment.naive & Tirosh & 2047 &   5727\\\\\n",
       "\t3 & CY88\\_5\\_B10\\_S694\\_comb                            & Mel88 & Mal & post.treatment  & Tirosh & 5375 & 139218\\\\\n",
       "\t4 & cy79\\_p1\\_CD45\\_neg\\_PDL1\\_pos\\_AS\\_C1\\_R1\\_F07\\_S67\\_comb & Mel79 & Mal & treatment.naive & Tirosh & 5648 &  73996\\\\\n",
       "\t5 & cy78\\_CD45\\_neg\\_3\\_H06\\_S762\\_comb                   & Mel78 & Mal & post.treatment  & Tirosh & 7409 & 380341\\\\\n",
       "\t6 & cy79\\_p1\\_CD45\\_neg\\_PDL1\\_pos\\_AS\\_C1\\_R1\\_G01\\_S73\\_comb & Mel79 & Mal & treatment.naive & Tirosh & 6988 &  92485\\\\\n",
       "\\end{tabular}\n"
      ],
      "text/markdown": [
       "\n",
       "A data.frame: 6 × 7\n",
       "\n",
       "| <!--/--> | cells &lt;chr&gt; | samples &lt;chr&gt; | cell.types &lt;chr&gt; | treatment.group &lt;chr&gt; | Cohort &lt;chr&gt; | no.of.genes &lt;int&gt; | no.of.reads &lt;int&gt; |\n",
       "|---|---|---|---|---|---|---|---|\n",
       "| 1 | cy78_CD45_neg_1_B04_S496_comb                   | Mel78 | Mal | post.treatment  | Tirosh | 8258 | 357919 |\n",
       "| 2 | cy79_p4_CD45_neg_PDL1_neg_E11_S1115_comb        | Mel79 | Mal | treatment.naive | Tirosh | 2047 |   5727 |\n",
       "| 3 | CY88_5_B10_S694_comb                            | Mel88 | Mal | post.treatment  | Tirosh | 5375 | 139218 |\n",
       "| 4 | cy79_p1_CD45_neg_PDL1_pos_AS_C1_R1_F07_S67_comb | Mel79 | Mal | treatment.naive | Tirosh | 5648 |  73996 |\n",
       "| 5 | cy78_CD45_neg_3_H06_S762_comb                   | Mel78 | Mal | post.treatment  | Tirosh | 7409 | 380341 |\n",
       "| 6 | cy79_p1_CD45_neg_PDL1_pos_AS_C1_R1_G01_S73_comb | Mel79 | Mal | treatment.naive | Tirosh | 6988 |  92485 |\n",
       "\n"
      ],
      "text/plain": [
       "  cells                                           samples cell.types\n",
       "1 cy78_CD45_neg_1_B04_S496_comb                   Mel78   Mal       \n",
       "2 cy79_p4_CD45_neg_PDL1_neg_E11_S1115_comb        Mel79   Mal       \n",
       "3 CY88_5_B10_S694_comb                            Mel88   Mal       \n",
       "4 cy79_p1_CD45_neg_PDL1_pos_AS_C1_R1_F07_S67_comb Mel79   Mal       \n",
       "5 cy78_CD45_neg_3_H06_S762_comb                   Mel78   Mal       \n",
       "6 cy79_p1_CD45_neg_PDL1_pos_AS_C1_R1_G01_S73_comb Mel79   Mal       \n",
       "  treatment.group Cohort no.of.genes no.of.reads\n",
       "1 post.treatment  Tirosh 8258        357919     \n",
       "2 treatment.naive Tirosh 2047          5727     \n",
       "3 post.treatment  Tirosh 5375        139218     \n",
       "4 treatment.naive Tirosh 5648         73996     \n",
       "5 post.treatment  Tirosh 7409        380341     \n",
       "6 treatment.naive Tirosh 6988         92485     "
      ]
     },
     "metadata": {},
     "output_type": "display_data"
    }
   ],
   "source": [
    "metadata.mel = read.csv('data/pseudobulks_climb/raw/melanoma_jerby_tirosh/GSE115978_cell.annotations.csv')\n",
    "head(metadata.mel)"
   ]
  },
  {
   "cell_type": "code",
   "execution_count": 4,
   "id": "db7f211f",
   "metadata": {},
   "outputs": [
    {
     "data": {
      "text/html": [
       "TRUE"
      ],
      "text/latex": [
       "TRUE"
      ],
      "text/markdown": [
       "TRUE"
      ],
      "text/plain": [
       "[1] TRUE"
      ]
     },
     "metadata": {},
     "output_type": "display_data"
    }
   ],
   "source": [
    "all(colnames(rawcounts.mel) == metadata.mel$cells)"
   ]
  },
  {
   "cell_type": "code",
   "execution_count": 5,
   "id": "5206efb2",
   "metadata": {},
   "outputs": [
    {
     "data": {
      "text/html": [
       "<style>\n",
       ".list-inline {list-style: none; margin:0; padding: 0}\n",
       ".list-inline>li {display: inline-block}\n",
       ".list-inline>li:not(:last-child)::after {content: \"\\00b7\"; padding: 0 .5ex}\n",
       "</style>\n",
       "<ol class=list-inline><li>'Tirosh'</li><li>'New'</li></ol>\n"
      ],
      "text/latex": [
       "\\begin{enumerate*}\n",
       "\\item 'Tirosh'\n",
       "\\item 'New'\n",
       "\\end{enumerate*}\n"
      ],
      "text/markdown": [
       "1. 'Tirosh'\n",
       "2. 'New'\n",
       "\n",
       "\n"
      ],
      "text/plain": [
       "[1] \"Tirosh\" \"New\"   "
      ]
     },
     "metadata": {},
     "output_type": "display_data"
    }
   ],
   "source": [
    "unique(metadata.mel$Cohort)"
   ]
  },
  {
   "cell_type": "code",
   "execution_count": 6,
   "id": "2bc34c55",
   "metadata": {},
   "outputs": [
    {
     "data": {
      "text/html": [
       "<style>\n",
       ".list-inline {list-style: none; margin:0; padding: 0}\n",
       ".list-inline>li {display: inline-block}\n",
       ".list-inline>li:not(:last-child)::after {content: \"\\00b7\"; padding: 0 .5ex}\n",
       "</style>\n",
       "<ol class=list-inline><li>'Mal'</li><li>'Macrophage'</li><li>'?'</li><li>'Endo.'</li><li>'T.CD4'</li><li>'CAF'</li><li>'T.CD8'</li><li>'T.cell'</li><li>'NK'</li><li>'B.cell'</li></ol>\n"
      ],
      "text/latex": [
       "\\begin{enumerate*}\n",
       "\\item 'Mal'\n",
       "\\item 'Macrophage'\n",
       "\\item '?'\n",
       "\\item 'Endo.'\n",
       "\\item 'T.CD4'\n",
       "\\item 'CAF'\n",
       "\\item 'T.CD8'\n",
       "\\item 'T.cell'\n",
       "\\item 'NK'\n",
       "\\item 'B.cell'\n",
       "\\end{enumerate*}\n"
      ],
      "text/markdown": [
       "1. 'Mal'\n",
       "2. 'Macrophage'\n",
       "3. '?'\n",
       "4. 'Endo.'\n",
       "5. 'T.CD4'\n",
       "6. 'CAF'\n",
       "7. 'T.CD8'\n",
       "8. 'T.cell'\n",
       "9. 'NK'\n",
       "10. 'B.cell'\n",
       "\n",
       "\n"
      ],
      "text/plain": [
       " [1] \"Mal\"        \"Macrophage\" \"?\"          \"Endo.\"      \"T.CD4\"     \n",
       " [6] \"CAF\"        \"T.CD8\"      \"T.cell\"     \"NK\"         \"B.cell\"    "
      ]
     },
     "metadata": {},
     "output_type": "display_data"
    }
   ],
   "source": [
    "unique(metadata.mel$cell.types)"
   ]
  },
  {
   "cell_type": "code",
   "execution_count": 10,
   "id": "8d56de60",
   "metadata": {},
   "outputs": [],
   "source": [
    "sel_cells = metadata.mel$cell.types != '?'\n",
    "rawcounts.mel = rawcounts.mel[,sel_cells]\n",
    "metadata.mel = metadata.mel[sel_cells,]"
   ]
  },
  {
   "cell_type": "code",
   "execution_count": 11,
   "id": "76fe307d",
   "metadata": {},
   "outputs": [
    {
     "data": {
      "text/html": [
       "<style>\n",
       ".list-inline {list-style: none; margin:0; padding: 0}\n",
       ".list-inline>li {display: inline-block}\n",
       ".list-inline>li:not(:last-child)::after {content: \"\\00b7\"; padding: 0 .5ex}\n",
       "</style>\n",
       "<ol class=list-inline><li>23686</li><li>3998</li></ol>\n"
      ],
      "text/latex": [
       "\\begin{enumerate*}\n",
       "\\item 23686\n",
       "\\item 3998\n",
       "\\end{enumerate*}\n"
      ],
      "text/markdown": [
       "1. 23686\n",
       "2. 3998\n",
       "\n",
       "\n"
      ],
      "text/plain": [
       "[1] 23686  3998"
      ]
     },
     "metadata": {},
     "output_type": "display_data"
    }
   ],
   "source": [
    "rawcounts.tirosh = rawcounts.mel[,metadata.mel$Cohort == 'Tirosh']\n",
    "dim(rawcounts.tirosh)"
   ]
  },
  {
   "cell_type": "code",
   "execution_count": 12,
   "id": "bfe4affb",
   "metadata": {},
   "outputs": [],
   "source": [
    "metadata.tirosh = metadata.mel[metadata.mel$Cohort == 'Tirosh',]"
   ]
  },
  {
   "cell_type": "code",
   "execution_count": 15,
   "id": "6381be79",
   "metadata": {},
   "outputs": [
    {
     "data": {
      "text/html": [
       "TRUE"
      ],
      "text/latex": [
       "TRUE"
      ],
      "text/markdown": [
       "TRUE"
      ],
      "text/plain": [
       "[1] TRUE"
      ]
     },
     "metadata": {},
     "output_type": "display_data"
    }
   ],
   "source": [
    "all(colnames(rawcounts.tirosh) == metadata.tirosh$cells)"
   ]
  },
  {
   "cell_type": "code",
   "execution_count": 25,
   "id": "4976c425",
   "metadata": {},
   "outputs": [],
   "source": [
    "# remove genes with 0 counts\n",
    "rawcounts.tirosh = rawcounts.tirosh[rowSums(rawcounts.tirosh) != 0,]"
   ]
  },
  {
   "cell_type": "code",
   "execution_count": 35,
   "id": "06e73193",
   "metadata": {},
   "outputs": [
    {
     "data": {
      "text/plain": [
       "ExpressionSet (storageMode: lockedEnvironment)\n",
       "assayData: 22631 features, 3998 samples \n",
       "  element names: exprs \n",
       "protocolData: none\n",
       "phenoData\n",
       "  sampleNames: cy78_CD45_neg_1_B04_S496_comb\n",
       "    cy79_p4_CD45_neg_PDL1_neg_E11_S1115_comb ...\n",
       "    CY75_1_CD45_CD8_8__S351_comb_BCD8 (3998 total)\n",
       "  varLabels: cellType_original SubjectName\n",
       "  varMetadata: labelDescription\n",
       "featureData: none\n",
       "experimentData: use 'experimentData(object)'\n",
       "Annotation:  "
      ]
     },
     "metadata": {},
     "output_type": "display_data"
    }
   ],
   "source": [
    "tirosh.es = ExpressionSet(as.matrix(rawcounts.tirosh))\n",
    "tirosh.es$cellType_original = metadata.tirosh$cell.types\n",
    "tirosh.es$SubjectName = metadata.tirosh$samples\n",
    "tirosh.es"
   ]
  },
  {
   "cell_type": "code",
   "execution_count": 44,
   "id": "6401b432",
   "metadata": {},
   "outputs": [],
   "source": [
    "# we remove underscore as Seurat does not like it \n",
    "colnames(tirosh.es) = gsub('_','',colnames(tirosh.es))"
   ]
  },
  {
   "cell_type": "code",
   "execution_count": 50,
   "id": "c3e0a1b0",
   "metadata": {},
   "outputs": [
    {
     "data": {
      "text/html": [
       "<style>\n",
       ".list-inline {list-style: none; margin:0; padding: 0}\n",
       ".list-inline>li {display: inline-block}\n",
       ".list-inline>li:not(:last-child)::after {content: \"\\00b7\"; padding: 0 .5ex}\n",
       "</style>\n",
       "<ol class=list-inline><li>'Mal'</li><li>'Macrophage'</li><li>'Endo'</li><li>'TCD4'</li><li>'CAF'</li><li>'TCD8'</li><li>'Tcell'</li><li>'NK'</li><li>'Bcell'</li></ol>\n"
      ],
      "text/latex": [
       "\\begin{enumerate*}\n",
       "\\item 'Mal'\n",
       "\\item 'Macrophage'\n",
       "\\item 'Endo'\n",
       "\\item 'TCD4'\n",
       "\\item 'CAF'\n",
       "\\item 'TCD8'\n",
       "\\item 'Tcell'\n",
       "\\item 'NK'\n",
       "\\item 'Bcell'\n",
       "\\end{enumerate*}\n"
      ],
      "text/markdown": [
       "1. 'Mal'\n",
       "2. 'Macrophage'\n",
       "3. 'Endo'\n",
       "4. 'TCD4'\n",
       "5. 'CAF'\n",
       "6. 'TCD8'\n",
       "7. 'Tcell'\n",
       "8. 'NK'\n",
       "9. 'Bcell'\n",
       "\n",
       "\n"
      ],
      "text/plain": [
       "[1] \"Mal\"        \"Macrophage\" \"Endo\"       \"TCD4\"       \"CAF\"       \n",
       "[6] \"TCD8\"       \"Tcell\"      \"NK\"         \"Bcell\"     "
      ]
     },
     "metadata": {},
     "output_type": "display_data"
    }
   ],
   "source": [
    "tirosh.es$cellType_original = gsub('\\\\.','',tirosh.es$cellType_original)\n",
    "unique(tirosh.es$cellType_original)"
   ]
  },
  {
   "cell_type": "code",
   "execution_count": 73,
   "id": "9cbaf51f",
   "metadata": {},
   "outputs": [
    {
     "data": {
      "text/html": [
       "2"
      ],
      "text/latex": [
       "2"
      ],
      "text/markdown": [
       "2"
      ],
      "text/plain": [
       "[1] 2"
      ]
     },
     "metadata": {},
     "output_type": "display_data"
    }
   ],
   "source": [
    "reformat_gene_names = gsub(\"-\",\"\", gsub(\"_\", \"\", rownames(tirosh.es)))\n",
    "sel_no_dup_genes = !reformat_gene_names %in% reformat_gene_names[duplicated(reformat_gene_names)]\n",
    "sum(!sel_no_dup_genes)\n",
    "tirosh.es = tirosh.es[sel_no_dup_genes,]"
   ]
  },
  {
   "cell_type": "code",
   "execution_count": 74,
   "id": "6c61af79",
   "metadata": {},
   "outputs": [],
   "source": [
    "saveRDS(tirosh.es, 'data/pseudobulks_climb/raw/MEL_tirosh_allGenes_sc_es.RDS')"
   ]
  },
  {
   "cell_type": "code",
   "execution_count": 13,
   "id": "7c0a6623",
   "metadata": {},
   "outputs": [
    {
     "data": {
      "text/html": [
       "<style>\n",
       ".list-inline {list-style: none; margin:0; padding: 0}\n",
       ".list-inline>li {display: inline-block}\n",
       ".list-inline>li:not(:last-child)::after {content: \"\\00b7\"; padding: 0 .5ex}\n",
       "</style>\n",
       "<ol class=list-inline><li>23686</li><li>2881</li></ol>\n"
      ],
      "text/latex": [
       "\\begin{enumerate*}\n",
       "\\item 23686\n",
       "\\item 2881\n",
       "\\end{enumerate*}\n"
      ],
      "text/markdown": [
       "1. 23686\n",
       "2. 2881\n",
       "\n",
       "\n"
      ],
      "text/plain": [
       "[1] 23686  2881"
      ]
     },
     "metadata": {},
     "output_type": "display_data"
    }
   ],
   "source": [
    "rawcounts.jerby = rawcounts.mel[,metadata.mel$Cohort == 'New']\n",
    "dim(rawcounts.jerby)"
   ]
  },
  {
   "cell_type": "code",
   "execution_count": 31,
   "id": "ec45d3e9",
   "metadata": {},
   "outputs": [],
   "source": [
    "# remove genes with 0 counts\n",
    "rawcounts.jerby = rawcounts.jerby[rowSums(rawcounts.jerby) != 0,]"
   ]
  },
  {
   "cell_type": "code",
   "execution_count": 32,
   "id": "3b82d668",
   "metadata": {},
   "outputs": [],
   "source": [
    "metadata.jerby = metadata.mel[metadata.mel$Cohort == 'New',]"
   ]
  },
  {
   "cell_type": "code",
   "execution_count": 33,
   "id": "54fbd38c",
   "metadata": {},
   "outputs": [
    {
     "data": {
      "text/html": [
       "TRUE"
      ],
      "text/latex": [
       "TRUE"
      ],
      "text/markdown": [
       "TRUE"
      ],
      "text/plain": [
       "[1] TRUE"
      ]
     },
     "metadata": {},
     "output_type": "display_data"
    }
   ],
   "source": [
    "all(colnames(rawcounts.jerby) == metadata.jerby$cells)"
   ]
  },
  {
   "cell_type": "code",
   "execution_count": 37,
   "id": "b131a083",
   "metadata": {},
   "outputs": [
    {
     "data": {
      "text/plain": [
       "ExpressionSet (storageMode: lockedEnvironment)\n",
       "assayData: 22637 features, 2881 samples \n",
       "  element names: exprs \n",
       "protocolData: none\n",
       "phenoData\n",
       "  sampleNames: merck_cd45pos_PL3_S292 merck_cd45pos_PL3_S337 ...\n",
       "    cy121.1_CD45pos_S328 (2881 total)\n",
       "  varLabels: cellType_original SubjectName\n",
       "  varMetadata: labelDescription\n",
       "featureData: none\n",
       "experimentData: use 'experimentData(object)'\n",
       "Annotation:  "
      ]
     },
     "metadata": {},
     "output_type": "display_data"
    }
   ],
   "source": [
    "jerby.es = ExpressionSet(as.matrix(rawcounts.jerby))\n",
    "jerby.es$cellType_original = metadata.jerby$cell.types\n",
    "jerby.es$SubjectName = metadata.jerby$samples\n",
    "jerby.es"
   ]
  },
  {
   "cell_type": "code",
   "execution_count": 46,
   "id": "265f3127",
   "metadata": {},
   "outputs": [],
   "source": [
    "# we remove underscore as Seurat does not like it \n",
    "colnames(jerby.es) = gsub('_','',colnames(jerby.es))"
   ]
  },
  {
   "cell_type": "code",
   "execution_count": 52,
   "id": "00a66f31",
   "metadata": {},
   "outputs": [
    {
     "data": {
      "text/html": [
       "<style>\n",
       ".list-inline {list-style: none; margin:0; padding: 0}\n",
       ".list-inline>li {display: inline-block}\n",
       ".list-inline>li:not(:last-child)::after {content: \"\\00b7\"; padding: 0 .5ex}\n",
       "</style>\n",
       "<ol class=list-inline><li>'TCD4'</li><li>'TCD8'</li><li>'Mal'</li><li>'Tcell'</li><li>'Macrophage'</li><li>'Bcell'</li><li>'NK'</li><li>'CAF'</li><li>'Endo'</li></ol>\n"
      ],
      "text/latex": [
       "\\begin{enumerate*}\n",
       "\\item 'TCD4'\n",
       "\\item 'TCD8'\n",
       "\\item 'Mal'\n",
       "\\item 'Tcell'\n",
       "\\item 'Macrophage'\n",
       "\\item 'Bcell'\n",
       "\\item 'NK'\n",
       "\\item 'CAF'\n",
       "\\item 'Endo'\n",
       "\\end{enumerate*}\n"
      ],
      "text/markdown": [
       "1. 'TCD4'\n",
       "2. 'TCD8'\n",
       "3. 'Mal'\n",
       "4. 'Tcell'\n",
       "5. 'Macrophage'\n",
       "6. 'Bcell'\n",
       "7. 'NK'\n",
       "8. 'CAF'\n",
       "9. 'Endo'\n",
       "\n",
       "\n"
      ],
      "text/plain": [
       "[1] \"TCD4\"       \"TCD8\"       \"Mal\"        \"Tcell\"      \"Macrophage\"\n",
       "[6] \"Bcell\"      \"NK\"         \"CAF\"        \"Endo\"      "
      ]
     },
     "metadata": {},
     "output_type": "display_data"
    }
   ],
   "source": [
    "# remove special character from cell type labels \n",
    "jerby.es$cellType_original = gsub('\\\\.','',jerby.es$cellType_original)\n",
    "unique(jerby.es$cellType_original)"
   ]
  },
  {
   "cell_type": "code",
   "execution_count": 71,
   "id": "5120aada",
   "metadata": {},
   "outputs": [
    {
     "data": {
      "text/plain": [
       "ExpressionSet (storageMode: lockedEnvironment)\n",
       "assayData: 22633 features, 2881 samples \n",
       "  element names: exprs \n",
       "protocolData: none\n",
       "phenoData\n",
       "  sampleNames: merckcd45posPL3S292 merckcd45posPL3S337 ...\n",
       "    cy121.1CD45posS328 (2881 total)\n",
       "  varLabels: cellType_original SubjectName\n",
       "  varMetadata: labelDescription\n",
       "featureData: none\n",
       "experimentData: use 'experimentData(object)'\n",
       "Annotation:  "
      ]
     },
     "metadata": {},
     "output_type": "display_data"
    }
   ],
   "source": [
    "reformat_gene_names = gsub(\"-\",\"\", gsub(\"_\", \"\", rownames(jerby.es)))\n",
    "sel_no_dup_genes = !reformat_gene_names %in% reformat_gene_names[duplicated(reformat_gene_names)]\n",
    "jerby.es = jerby.es[sel_no_dup_genes,]"
   ]
  },
  {
   "cell_type": "code",
   "execution_count": 72,
   "id": "34b7aed5",
   "metadata": {},
   "outputs": [],
   "source": [
    "saveRDS(jerby.es, 'data/pseudobulks_climb/raw/MEL_jerby_allGenes_sc_es.RDS')"
   ]
  },
  {
   "cell_type": "markdown",
   "id": "70a06200",
   "metadata": {},
   "source": [
    "## Breast cancer datasets "
   ]
  },
  {
   "cell_type": "code",
   "execution_count": 1,
   "id": "15bd930f",
   "metadata": {},
   "outputs": [],
   "source": [
    "library(data.table)"
   ]
  },
  {
   "cell_type": "code",
   "execution_count": 20,
   "id": "fc677617",
   "metadata": {},
   "outputs": [],
   "source": [
    "gray_raw_counts = fread('data/pseudobulks_climb/raw/breast_gray/rawData.csv')"
   ]
  },
  {
   "cell_type": "code",
   "execution_count": 21,
   "id": "09ac5857",
   "metadata": {},
   "outputs": [
    {
     "data": {
      "text/html": [
       "<table class=\"dataframe\">\n",
       "<caption>A data.table: 6 × 52682</caption>\n",
       "<thead>\n",
       "\t<tr><th scope=col>V1</th><th scope=col>Human.BRCA1.B_AAACCTGAGAATCTCC</th><th scope=col>Human.BRCA1.B_AAACCTGAGACTAGGC</th><th scope=col>Human.BRCA1.B_AAACCTGAGCCAGTTT</th><th scope=col>Human.BRCA1.B_AAACCTGAGCGACGTA</th><th scope=col>Human.BRCA1.B_AAACCTGAGCGATTCT</th><th scope=col>Human.BRCA1.B_AAACCTGAGGGCACTA</th><th scope=col>Human.BRCA1.B_AAACCTGAGGTTACCT</th><th scope=col>Human.BRCA1.B_AAACCTGAGTACATGA</th><th scope=col>Human.BRCA1.B_AAACCTGAGTAGGCCA</th><th scope=col>⋯</th><th scope=col>Human.WT.D_TTTGGTTGTTAAGATG</th><th scope=col>Human.WT.D_TTTGGTTGTTGTGGAG</th><th scope=col>Human.WT.D_TTTGGTTTCGCAAACT</th><th scope=col>Human.WT.D_TTTGTCAAGAAGAAGC</th><th scope=col>Human.WT.D_TTTGTCAAGCTCCTCT</th><th scope=col>Human.WT.D_TTTGTCACAGTCACTA</th><th scope=col>Human.WT.D_TTTGTCAGTCTACCTC</th><th scope=col>Human.WT.D_TTTGTCAGTTACTGAC</th><th scope=col>Human.WT.D_TTTGTCATCACAGTAC</th><th scope=col>Human.WT.D_TTTGTCATCCAGATCA</th></tr>\n",
       "\t<tr><th scope=col>&lt;chr&gt;</th><th scope=col>&lt;int&gt;</th><th scope=col>&lt;int&gt;</th><th scope=col>&lt;int&gt;</th><th scope=col>&lt;int&gt;</th><th scope=col>&lt;int&gt;</th><th scope=col>&lt;int&gt;</th><th scope=col>&lt;int&gt;</th><th scope=col>&lt;int&gt;</th><th scope=col>&lt;int&gt;</th><th scope=col>⋯</th><th scope=col>&lt;int&gt;</th><th scope=col>&lt;int&gt;</th><th scope=col>&lt;int&gt;</th><th scope=col>&lt;int&gt;</th><th scope=col>&lt;int&gt;</th><th scope=col>&lt;int&gt;</th><th scope=col>&lt;int&gt;</th><th scope=col>&lt;int&gt;</th><th scope=col>&lt;int&gt;</th><th scope=col>&lt;int&gt;</th></tr>\n",
       "</thead>\n",
       "<tbody>\n",
       "\t<tr><td>AL627309.1</td><td>0</td><td>0</td><td>0</td><td>0</td><td>0</td><td>0</td><td>0</td><td>0</td><td>0</td><td>⋯</td><td>0</td><td>0</td><td>0</td><td>0</td><td>0</td><td>0</td><td>0</td><td>0</td><td>0</td><td>0</td></tr>\n",
       "\t<tr><td>AL669831.5</td><td>0</td><td>0</td><td>0</td><td>0</td><td>0</td><td>0</td><td>1</td><td>1</td><td>0</td><td>⋯</td><td>0</td><td>0</td><td>0</td><td>0</td><td>0</td><td>0</td><td>0</td><td>0</td><td>0</td><td>0</td></tr>\n",
       "\t<tr><td>FAM87B    </td><td>0</td><td>0</td><td>0</td><td>0</td><td>0</td><td>0</td><td>0</td><td>0</td><td>0</td><td>⋯</td><td>0</td><td>0</td><td>0</td><td>0</td><td>0</td><td>0</td><td>0</td><td>0</td><td>0</td><td>0</td></tr>\n",
       "\t<tr><td>LINC00115 </td><td>0</td><td>0</td><td>0</td><td>0</td><td>0</td><td>0</td><td>0</td><td>0</td><td>0</td><td>⋯</td><td>1</td><td>0</td><td>0</td><td>0</td><td>1</td><td>0</td><td>0</td><td>0</td><td>0</td><td>0</td></tr>\n",
       "\t<tr><td>FAM41C    </td><td>0</td><td>0</td><td>0</td><td>0</td><td>0</td><td>0</td><td>0</td><td>0</td><td>0</td><td>⋯</td><td>0</td><td>0</td><td>0</td><td>0</td><td>0</td><td>0</td><td>0</td><td>0</td><td>0</td><td>0</td></tr>\n",
       "\t<tr><td>AL645608.3</td><td>0</td><td>0</td><td>0</td><td>0</td><td>0</td><td>0</td><td>0</td><td>0</td><td>0</td><td>⋯</td><td>0</td><td>0</td><td>0</td><td>0</td><td>0</td><td>0</td><td>0</td><td>0</td><td>0</td><td>0</td></tr>\n",
       "</tbody>\n",
       "</table>\n"
      ],
      "text/latex": [
       "A data.table: 6 × 52682\n",
       "\\begin{tabular}{lllllllllllllllllllll}\n",
       " V1 & Human.BRCA1.B\\_AAACCTGAGAATCTCC & Human.BRCA1.B\\_AAACCTGAGACTAGGC & Human.BRCA1.B\\_AAACCTGAGCCAGTTT & Human.BRCA1.B\\_AAACCTGAGCGACGTA & Human.BRCA1.B\\_AAACCTGAGCGATTCT & Human.BRCA1.B\\_AAACCTGAGGGCACTA & Human.BRCA1.B\\_AAACCTGAGGTTACCT & Human.BRCA1.B\\_AAACCTGAGTACATGA & Human.BRCA1.B\\_AAACCTGAGTAGGCCA & ⋯ & Human.WT.D\\_TTTGGTTGTTAAGATG & Human.WT.D\\_TTTGGTTGTTGTGGAG & Human.WT.D\\_TTTGGTTTCGCAAACT & Human.WT.D\\_TTTGTCAAGAAGAAGC & Human.WT.D\\_TTTGTCAAGCTCCTCT & Human.WT.D\\_TTTGTCACAGTCACTA & Human.WT.D\\_TTTGTCAGTCTACCTC & Human.WT.D\\_TTTGTCAGTTACTGAC & Human.WT.D\\_TTTGTCATCACAGTAC & Human.WT.D\\_TTTGTCATCCAGATCA\\\\\n",
       " <chr> & <int> & <int> & <int> & <int> & <int> & <int> & <int> & <int> & <int> & ⋯ & <int> & <int> & <int> & <int> & <int> & <int> & <int> & <int> & <int> & <int>\\\\\n",
       "\\hline\n",
       "\t AL627309.1 & 0 & 0 & 0 & 0 & 0 & 0 & 0 & 0 & 0 & ⋯ & 0 & 0 & 0 & 0 & 0 & 0 & 0 & 0 & 0 & 0\\\\\n",
       "\t AL669831.5 & 0 & 0 & 0 & 0 & 0 & 0 & 1 & 1 & 0 & ⋯ & 0 & 0 & 0 & 0 & 0 & 0 & 0 & 0 & 0 & 0\\\\\n",
       "\t FAM87B     & 0 & 0 & 0 & 0 & 0 & 0 & 0 & 0 & 0 & ⋯ & 0 & 0 & 0 & 0 & 0 & 0 & 0 & 0 & 0 & 0\\\\\n",
       "\t LINC00115  & 0 & 0 & 0 & 0 & 0 & 0 & 0 & 0 & 0 & ⋯ & 1 & 0 & 0 & 0 & 1 & 0 & 0 & 0 & 0 & 0\\\\\n",
       "\t FAM41C     & 0 & 0 & 0 & 0 & 0 & 0 & 0 & 0 & 0 & ⋯ & 0 & 0 & 0 & 0 & 0 & 0 & 0 & 0 & 0 & 0\\\\\n",
       "\t AL645608.3 & 0 & 0 & 0 & 0 & 0 & 0 & 0 & 0 & 0 & ⋯ & 0 & 0 & 0 & 0 & 0 & 0 & 0 & 0 & 0 & 0\\\\\n",
       "\\end{tabular}\n"
      ],
      "text/markdown": [
       "\n",
       "A data.table: 6 × 52682\n",
       "\n",
       "| V1 &lt;chr&gt; | Human.BRCA1.B_AAACCTGAGAATCTCC &lt;int&gt; | Human.BRCA1.B_AAACCTGAGACTAGGC &lt;int&gt; | Human.BRCA1.B_AAACCTGAGCCAGTTT &lt;int&gt; | Human.BRCA1.B_AAACCTGAGCGACGTA &lt;int&gt; | Human.BRCA1.B_AAACCTGAGCGATTCT &lt;int&gt; | Human.BRCA1.B_AAACCTGAGGGCACTA &lt;int&gt; | Human.BRCA1.B_AAACCTGAGGTTACCT &lt;int&gt; | Human.BRCA1.B_AAACCTGAGTACATGA &lt;int&gt; | Human.BRCA1.B_AAACCTGAGTAGGCCA &lt;int&gt; | ⋯ ⋯ | Human.WT.D_TTTGGTTGTTAAGATG &lt;int&gt; | Human.WT.D_TTTGGTTGTTGTGGAG &lt;int&gt; | Human.WT.D_TTTGGTTTCGCAAACT &lt;int&gt; | Human.WT.D_TTTGTCAAGAAGAAGC &lt;int&gt; | Human.WT.D_TTTGTCAAGCTCCTCT &lt;int&gt; | Human.WT.D_TTTGTCACAGTCACTA &lt;int&gt; | Human.WT.D_TTTGTCAGTCTACCTC &lt;int&gt; | Human.WT.D_TTTGTCAGTTACTGAC &lt;int&gt; | Human.WT.D_TTTGTCATCACAGTAC &lt;int&gt; | Human.WT.D_TTTGTCATCCAGATCA &lt;int&gt; |\n",
       "|---|---|---|---|---|---|---|---|---|---|---|---|---|---|---|---|---|---|---|---|---|\n",
       "| AL627309.1 | 0 | 0 | 0 | 0 | 0 | 0 | 0 | 0 | 0 | ⋯ | 0 | 0 | 0 | 0 | 0 | 0 | 0 | 0 | 0 | 0 |\n",
       "| AL669831.5 | 0 | 0 | 0 | 0 | 0 | 0 | 1 | 1 | 0 | ⋯ | 0 | 0 | 0 | 0 | 0 | 0 | 0 | 0 | 0 | 0 |\n",
       "| FAM87B     | 0 | 0 | 0 | 0 | 0 | 0 | 0 | 0 | 0 | ⋯ | 0 | 0 | 0 | 0 | 0 | 0 | 0 | 0 | 0 | 0 |\n",
       "| LINC00115  | 0 | 0 | 0 | 0 | 0 | 0 | 0 | 0 | 0 | ⋯ | 1 | 0 | 0 | 0 | 1 | 0 | 0 | 0 | 0 | 0 |\n",
       "| FAM41C     | 0 | 0 | 0 | 0 | 0 | 0 | 0 | 0 | 0 | ⋯ | 0 | 0 | 0 | 0 | 0 | 0 | 0 | 0 | 0 | 0 |\n",
       "| AL645608.3 | 0 | 0 | 0 | 0 | 0 | 0 | 0 | 0 | 0 | ⋯ | 0 | 0 | 0 | 0 | 0 | 0 | 0 | 0 | 0 | 0 |\n",
       "\n"
      ],
      "text/plain": [
       "  V1         Human.BRCA1.B_AAACCTGAGAATCTCC Human.BRCA1.B_AAACCTGAGACTAGGC\n",
       "1 AL627309.1 0                              0                             \n",
       "2 AL669831.5 0                              0                             \n",
       "3 FAM87B     0                              0                             \n",
       "4 LINC00115  0                              0                             \n",
       "5 FAM41C     0                              0                             \n",
       "6 AL645608.3 0                              0                             \n",
       "  Human.BRCA1.B_AAACCTGAGCCAGTTT Human.BRCA1.B_AAACCTGAGCGACGTA\n",
       "1 0                              0                             \n",
       "2 0                              0                             \n",
       "3 0                              0                             \n",
       "4 0                              0                             \n",
       "5 0                              0                             \n",
       "6 0                              0                             \n",
       "  Human.BRCA1.B_AAACCTGAGCGATTCT Human.BRCA1.B_AAACCTGAGGGCACTA\n",
       "1 0                              0                             \n",
       "2 0                              0                             \n",
       "3 0                              0                             \n",
       "4 0                              0                             \n",
       "5 0                              0                             \n",
       "6 0                              0                             \n",
       "  Human.BRCA1.B_AAACCTGAGGTTACCT Human.BRCA1.B_AAACCTGAGTACATGA\n",
       "1 0                              0                             \n",
       "2 1                              1                             \n",
       "3 0                              0                             \n",
       "4 0                              0                             \n",
       "5 0                              0                             \n",
       "6 0                              0                             \n",
       "  Human.BRCA1.B_AAACCTGAGTAGGCCA ⋯ Human.WT.D_TTTGGTTGTTAAGATG\n",
       "1 0                              ⋯ 0                          \n",
       "2 0                              ⋯ 0                          \n",
       "3 0                              ⋯ 0                          \n",
       "4 0                              ⋯ 1                          \n",
       "5 0                              ⋯ 0                          \n",
       "6 0                              ⋯ 0                          \n",
       "  Human.WT.D_TTTGGTTGTTGTGGAG Human.WT.D_TTTGGTTTCGCAAACT\n",
       "1 0                           0                          \n",
       "2 0                           0                          \n",
       "3 0                           0                          \n",
       "4 0                           0                          \n",
       "5 0                           0                          \n",
       "6 0                           0                          \n",
       "  Human.WT.D_TTTGTCAAGAAGAAGC Human.WT.D_TTTGTCAAGCTCCTCT\n",
       "1 0                           0                          \n",
       "2 0                           0                          \n",
       "3 0                           0                          \n",
       "4 0                           1                          \n",
       "5 0                           0                          \n",
       "6 0                           0                          \n",
       "  Human.WT.D_TTTGTCACAGTCACTA Human.WT.D_TTTGTCAGTCTACCTC\n",
       "1 0                           0                          \n",
       "2 0                           0                          \n",
       "3 0                           0                          \n",
       "4 0                           0                          \n",
       "5 0                           0                          \n",
       "6 0                           0                          \n",
       "  Human.WT.D_TTTGTCAGTTACTGAC Human.WT.D_TTTGTCATCACAGTAC\n",
       "1 0                           0                          \n",
       "2 0                           0                          \n",
       "3 0                           0                          \n",
       "4 0                           0                          \n",
       "5 0                           0                          \n",
       "6 0                           0                          \n",
       "  Human.WT.D_TTTGTCATCCAGATCA\n",
       "1 0                          \n",
       "2 0                          \n",
       "3 0                          \n",
       "4 0                          \n",
       "5 0                          \n",
       "6 0                          "
      ]
     },
     "metadata": {},
     "output_type": "display_data"
    }
   ],
   "source": [
    "head(gray_raw_counts)"
   ]
  },
  {
   "cell_type": "code",
   "execution_count": 22,
   "id": "420fca85",
   "metadata": {},
   "outputs": [
    {
     "data": {
      "text/html": [
       "<style>\n",
       ".list-inline {list-style: none; margin:0; padding: 0}\n",
       ".list-inline>li {display: inline-block}\n",
       ".list-inline>li:not(:last-child)::after {content: \"\\00b7\"; padding: 0 .5ex}\n",
       "</style>\n",
       "<ol class=list-inline><li>'AL627309.1'</li><li>'AL669831.5'</li><li>'FAM87B'</li><li>'LINC00115'</li><li>'FAM41C'</li><li>'AL645608.3'</li></ol>\n"
      ],
      "text/latex": [
       "\\begin{enumerate*}\n",
       "\\item 'AL627309.1'\n",
       "\\item 'AL669831.5'\n",
       "\\item 'FAM87B'\n",
       "\\item 'LINC00115'\n",
       "\\item 'FAM41C'\n",
       "\\item 'AL645608.3'\n",
       "\\end{enumerate*}\n"
      ],
      "text/markdown": [
       "1. 'AL627309.1'\n",
       "2. 'AL669831.5'\n",
       "3. 'FAM87B'\n",
       "4. 'LINC00115'\n",
       "5. 'FAM41C'\n",
       "6. 'AL645608.3'\n",
       "\n",
       "\n"
      ],
      "text/plain": [
       "[1] \"AL627309.1\" \"AL669831.5\" \"FAM87B\"     \"LINC00115\"  \"FAM41C\"    \n",
       "[6] \"AL645608.3\""
      ]
     },
     "metadata": {},
     "output_type": "display_data"
    }
   ],
   "source": [
    "gene_names = as.character(gray_raw_counts$V1)\n",
    "head(gene_names)"
   ]
  },
  {
   "cell_type": "code",
   "execution_count": 23,
   "id": "40564b44",
   "metadata": {},
   "outputs": [],
   "source": [
    "gray_raw_counts = gray_raw_counts[,-1]"
   ]
  },
  {
   "cell_type": "code",
   "execution_count": 24,
   "id": "8eabfeb4",
   "metadata": {},
   "outputs": [],
   "source": [
    "metadata=read.csv('data/pseudobulks_climb/raw/breast_gray/metadataInfo.txt', sep='\\t')\n",
    "metadata = metadata[-1,]"
   ]
  },
  {
   "cell_type": "code",
   "execution_count": 25,
   "id": "1788d331",
   "metadata": {},
   "outputs": [
    {
     "data": {
      "text/html": [
       "<table class=\"dataframe\">\n",
       "<caption>A data.frame: 6 × 21</caption>\n",
       "<thead>\n",
       "\t<tr><th></th><th scope=col>NAME</th><th scope=col>biosample_id</th><th scope=col>cell_subtypes</th><th scope=col>donor_id</th><th scope=col>atlas_id</th><th scope=col>age</th><th scope=col>genotype</th><th scope=col>parity</th><th scope=col>menopause_stage</th><th scope=col>breast_cancer_history</th><th scope=col>⋯</th><th scope=col>race_ontology_label</th><th scope=col>disease</th><th scope=col>disease__ontology_label</th><th scope=col>library_preparation_protocol</th><th scope=col>library_preparation_protocol__ontology_label</th><th scope=col>sex</th><th scope=col>species</th><th scope=col>species__ontology_label</th><th scope=col>organ</th><th scope=col>organ__ontology_label</th></tr>\n",
       "\t<tr><th></th><th scope=col>&lt;chr&gt;</th><th scope=col>&lt;chr&gt;</th><th scope=col>&lt;chr&gt;</th><th scope=col>&lt;chr&gt;</th><th scope=col>&lt;chr&gt;</th><th scope=col>&lt;chr&gt;</th><th scope=col>&lt;chr&gt;</th><th scope=col>&lt;chr&gt;</th><th scope=col>&lt;chr&gt;</th><th scope=col>&lt;chr&gt;</th><th scope=col>⋯</th><th scope=col>&lt;chr&gt;</th><th scope=col>&lt;chr&gt;</th><th scope=col>&lt;chr&gt;</th><th scope=col>&lt;chr&gt;</th><th scope=col>&lt;chr&gt;</th><th scope=col>&lt;chr&gt;</th><th scope=col>&lt;chr&gt;</th><th scope=col>&lt;chr&gt;</th><th scope=col>&lt;chr&gt;</th><th scope=col>&lt;chr&gt;</th></tr>\n",
       "</thead>\n",
       "<tbody>\n",
       "\t<tr><th scope=row>2</th><td>Human-BRCA1-B_AAACCTGAGAATCTCC</td><td>5. Vascular and lymphatic</td><td>14. VL2 Vascular endothelial</td><td>Human-BRCA1-B</td><td>PM-D</td><td>53</td><td>BRCA1</td><td>G2P1</td><td>Surgical menopause</td><td>Yes</td><td>⋯</td><td>White</td><td>PATO_0000461</td><td>normal</td><td>EFO:0009900</td><td>10x 5' v2</td><td>female</td><td>NCBITaxon_9606</td><td>Homo sapiens</td><td>UBERON:0000310</td><td>breast</td></tr>\n",
       "\t<tr><th scope=row>3</th><td>Human-BRCA1-B_AAACCTGAGACTAGGC</td><td>5. Vascular and lymphatic</td><td>14. VL2 Vascular endothelial</td><td>Human-BRCA1-B</td><td>PM-D</td><td>53</td><td>BRCA1</td><td>G2P1</td><td>Surgical menopause</td><td>Yes</td><td>⋯</td><td>White</td><td>PATO_0000461</td><td>normal</td><td>EFO:0009900</td><td>10x 5' v2</td><td>female</td><td>NCBITaxon_9606</td><td>Homo sapiens</td><td>UBERON:0000310</td><td>breast</td></tr>\n",
       "\t<tr><th scope=row>4</th><td>Human-BRCA1-B_AAACCTGAGCCAGTTT</td><td>2. HS                    </td><td>3. HSa                      </td><td>Human-BRCA1-B</td><td>PM-D</td><td>53</td><td>BRCA1</td><td>G2P1</td><td>Surgical menopause</td><td>Yes</td><td>⋯</td><td>White</td><td>PATO_0000461</td><td>normal</td><td>EFO:0009900</td><td>10x 5' v2</td><td>female</td><td>NCBITaxon_9606</td><td>Homo sapiens</td><td>UBERON:0000310</td><td>breast</td></tr>\n",
       "\t<tr><th scope=row>5</th><td>Human-BRCA1-B_AAACCTGAGCGACGTA</td><td>3. BA                    </td><td>7. BAb                      </td><td>Human-BRCA1-B</td><td>PM-D</td><td>53</td><td>BRCA1</td><td>G2P1</td><td>Surgical menopause</td><td>Yes</td><td>⋯</td><td>White</td><td>PATO_0000461</td><td>normal</td><td>EFO:0009900</td><td>10x 5' v2</td><td>female</td><td>NCBITaxon_9606</td><td>Homo sapiens</td><td>UBERON:0000310</td><td>breast</td></tr>\n",
       "\t<tr><th scope=row>6</th><td>Human-BRCA1-B_AAACCTGAGCGATTCT</td><td>5. Vascular and lymphatic</td><td>15. VL3 Pericyte            </td><td>Human-BRCA1-B</td><td>PM-D</td><td>53</td><td>BRCA1</td><td>G2P1</td><td>Surgical menopause</td><td>Yes</td><td>⋯</td><td>White</td><td>PATO_0000461</td><td>normal</td><td>EFO:0009900</td><td>10x 5' v2</td><td>female</td><td>NCBITaxon_9606</td><td>Homo sapiens</td><td>UBERON:0000310</td><td>breast</td></tr>\n",
       "\t<tr><th scope=row>7</th><td>Human-BRCA1-B_AAACCTGAGGGCACTA</td><td>1. AV                    </td><td>1. BL                       </td><td>Human-BRCA1-B</td><td>PM-D</td><td>53</td><td>BRCA1</td><td>G2P1</td><td>Surgical menopause</td><td>Yes</td><td>⋯</td><td>White</td><td>PATO_0000461</td><td>normal</td><td>EFO:0009900</td><td>10x 5' v2</td><td>female</td><td>NCBITaxon_9606</td><td>Homo sapiens</td><td>UBERON:0000310</td><td>breast</td></tr>\n",
       "</tbody>\n",
       "</table>\n"
      ],
      "text/latex": [
       "A data.frame: 6 × 21\n",
       "\\begin{tabular}{r|lllllllllllllllllllll}\n",
       "  & NAME & biosample\\_id & cell\\_subtypes & donor\\_id & atlas\\_id & age & genotype & parity & menopause\\_stage & breast\\_cancer\\_history & ⋯ & race\\_ontology\\_label & disease & disease\\_\\_ontology\\_label & library\\_preparation\\_protocol & library\\_preparation\\_protocol\\_\\_ontology\\_label & sex & species & species\\_\\_ontology\\_label & organ & organ\\_\\_ontology\\_label\\\\\n",
       "  & <chr> & <chr> & <chr> & <chr> & <chr> & <chr> & <chr> & <chr> & <chr> & <chr> & ⋯ & <chr> & <chr> & <chr> & <chr> & <chr> & <chr> & <chr> & <chr> & <chr> & <chr>\\\\\n",
       "\\hline\n",
       "\t2 & Human-BRCA1-B\\_AAACCTGAGAATCTCC & 5. Vascular and lymphatic & 14. VL2 Vascular endothelial & Human-BRCA1-B & PM-D & 53 & BRCA1 & G2P1 & Surgical menopause & Yes & ⋯ & White & PATO\\_0000461 & normal & EFO:0009900 & 10x 5' v2 & female & NCBITaxon\\_9606 & Homo sapiens & UBERON:0000310 & breast\\\\\n",
       "\t3 & Human-BRCA1-B\\_AAACCTGAGACTAGGC & 5. Vascular and lymphatic & 14. VL2 Vascular endothelial & Human-BRCA1-B & PM-D & 53 & BRCA1 & G2P1 & Surgical menopause & Yes & ⋯ & White & PATO\\_0000461 & normal & EFO:0009900 & 10x 5' v2 & female & NCBITaxon\\_9606 & Homo sapiens & UBERON:0000310 & breast\\\\\n",
       "\t4 & Human-BRCA1-B\\_AAACCTGAGCCAGTTT & 2. HS                     & 3. HSa                       & Human-BRCA1-B & PM-D & 53 & BRCA1 & G2P1 & Surgical menopause & Yes & ⋯ & White & PATO\\_0000461 & normal & EFO:0009900 & 10x 5' v2 & female & NCBITaxon\\_9606 & Homo sapiens & UBERON:0000310 & breast\\\\\n",
       "\t5 & Human-BRCA1-B\\_AAACCTGAGCGACGTA & 3. BA                     & 7. BAb                       & Human-BRCA1-B & PM-D & 53 & BRCA1 & G2P1 & Surgical menopause & Yes & ⋯ & White & PATO\\_0000461 & normal & EFO:0009900 & 10x 5' v2 & female & NCBITaxon\\_9606 & Homo sapiens & UBERON:0000310 & breast\\\\\n",
       "\t6 & Human-BRCA1-B\\_AAACCTGAGCGATTCT & 5. Vascular and lymphatic & 15. VL3 Pericyte             & Human-BRCA1-B & PM-D & 53 & BRCA1 & G2P1 & Surgical menopause & Yes & ⋯ & White & PATO\\_0000461 & normal & EFO:0009900 & 10x 5' v2 & female & NCBITaxon\\_9606 & Homo sapiens & UBERON:0000310 & breast\\\\\n",
       "\t7 & Human-BRCA1-B\\_AAACCTGAGGGCACTA & 1. AV                     & 1. BL                        & Human-BRCA1-B & PM-D & 53 & BRCA1 & G2P1 & Surgical menopause & Yes & ⋯ & White & PATO\\_0000461 & normal & EFO:0009900 & 10x 5' v2 & female & NCBITaxon\\_9606 & Homo sapiens & UBERON:0000310 & breast\\\\\n",
       "\\end{tabular}\n"
      ],
      "text/markdown": [
       "\n",
       "A data.frame: 6 × 21\n",
       "\n",
       "| <!--/--> | NAME &lt;chr&gt; | biosample_id &lt;chr&gt; | cell_subtypes &lt;chr&gt; | donor_id &lt;chr&gt; | atlas_id &lt;chr&gt; | age &lt;chr&gt; | genotype &lt;chr&gt; | parity &lt;chr&gt; | menopause_stage &lt;chr&gt; | breast_cancer_history &lt;chr&gt; | ⋯ ⋯ | race_ontology_label &lt;chr&gt; | disease &lt;chr&gt; | disease__ontology_label &lt;chr&gt; | library_preparation_protocol &lt;chr&gt; | library_preparation_protocol__ontology_label &lt;chr&gt; | sex &lt;chr&gt; | species &lt;chr&gt; | species__ontology_label &lt;chr&gt; | organ &lt;chr&gt; | organ__ontology_label &lt;chr&gt; |\n",
       "|---|---|---|---|---|---|---|---|---|---|---|---|---|---|---|---|---|---|---|---|---|---|\n",
       "| 2 | Human-BRCA1-B_AAACCTGAGAATCTCC | 5. Vascular and lymphatic | 14. VL2 Vascular endothelial | Human-BRCA1-B | PM-D | 53 | BRCA1 | G2P1 | Surgical menopause | Yes | ⋯ | White | PATO_0000461 | normal | EFO:0009900 | 10x 5' v2 | female | NCBITaxon_9606 | Homo sapiens | UBERON:0000310 | breast |\n",
       "| 3 | Human-BRCA1-B_AAACCTGAGACTAGGC | 5. Vascular and lymphatic | 14. VL2 Vascular endothelial | Human-BRCA1-B | PM-D | 53 | BRCA1 | G2P1 | Surgical menopause | Yes | ⋯ | White | PATO_0000461 | normal | EFO:0009900 | 10x 5' v2 | female | NCBITaxon_9606 | Homo sapiens | UBERON:0000310 | breast |\n",
       "| 4 | Human-BRCA1-B_AAACCTGAGCCAGTTT | 2. HS                     | 3. HSa                       | Human-BRCA1-B | PM-D | 53 | BRCA1 | G2P1 | Surgical menopause | Yes | ⋯ | White | PATO_0000461 | normal | EFO:0009900 | 10x 5' v2 | female | NCBITaxon_9606 | Homo sapiens | UBERON:0000310 | breast |\n",
       "| 5 | Human-BRCA1-B_AAACCTGAGCGACGTA | 3. BA                     | 7. BAb                       | Human-BRCA1-B | PM-D | 53 | BRCA1 | G2P1 | Surgical menopause | Yes | ⋯ | White | PATO_0000461 | normal | EFO:0009900 | 10x 5' v2 | female | NCBITaxon_9606 | Homo sapiens | UBERON:0000310 | breast |\n",
       "| 6 | Human-BRCA1-B_AAACCTGAGCGATTCT | 5. Vascular and lymphatic | 15. VL3 Pericyte             | Human-BRCA1-B | PM-D | 53 | BRCA1 | G2P1 | Surgical menopause | Yes | ⋯ | White | PATO_0000461 | normal | EFO:0009900 | 10x 5' v2 | female | NCBITaxon_9606 | Homo sapiens | UBERON:0000310 | breast |\n",
       "| 7 | Human-BRCA1-B_AAACCTGAGGGCACTA | 1. AV                     | 1. BL                        | Human-BRCA1-B | PM-D | 53 | BRCA1 | G2P1 | Surgical menopause | Yes | ⋯ | White | PATO_0000461 | normal | EFO:0009900 | 10x 5' v2 | female | NCBITaxon_9606 | Homo sapiens | UBERON:0000310 | breast |\n",
       "\n"
      ],
      "text/plain": [
       "  NAME                           biosample_id             \n",
       "2 Human-BRCA1-B_AAACCTGAGAATCTCC 5. Vascular and lymphatic\n",
       "3 Human-BRCA1-B_AAACCTGAGACTAGGC 5. Vascular and lymphatic\n",
       "4 Human-BRCA1-B_AAACCTGAGCCAGTTT 2. HS                    \n",
       "5 Human-BRCA1-B_AAACCTGAGCGACGTA 3. BA                    \n",
       "6 Human-BRCA1-B_AAACCTGAGCGATTCT 5. Vascular and lymphatic\n",
       "7 Human-BRCA1-B_AAACCTGAGGGCACTA 1. AV                    \n",
       "  cell_subtypes                donor_id      atlas_id age genotype parity\n",
       "2 14. VL2 Vascular endothelial Human-BRCA1-B PM-D     53  BRCA1    G2P1  \n",
       "3 14. VL2 Vascular endothelial Human-BRCA1-B PM-D     53  BRCA1    G2P1  \n",
       "4 3. HSa                       Human-BRCA1-B PM-D     53  BRCA1    G2P1  \n",
       "5 7. BAb                       Human-BRCA1-B PM-D     53  BRCA1    G2P1  \n",
       "6 15. VL3 Pericyte             Human-BRCA1-B PM-D     53  BRCA1    G2P1  \n",
       "7 1. BL                        Human-BRCA1-B PM-D     53  BRCA1    G2P1  \n",
       "  menopause_stage    breast_cancer_history ⋯ race_ontology_label disease     \n",
       "2 Surgical menopause Yes                   ⋯ White               PATO_0000461\n",
       "3 Surgical menopause Yes                   ⋯ White               PATO_0000461\n",
       "4 Surgical menopause Yes                   ⋯ White               PATO_0000461\n",
       "5 Surgical menopause Yes                   ⋯ White               PATO_0000461\n",
       "6 Surgical menopause Yes                   ⋯ White               PATO_0000461\n",
       "7 Surgical menopause Yes                   ⋯ White               PATO_0000461\n",
       "  disease__ontology_label library_preparation_protocol\n",
       "2 normal                  EFO:0009900                 \n",
       "3 normal                  EFO:0009900                 \n",
       "4 normal                  EFO:0009900                 \n",
       "5 normal                  EFO:0009900                 \n",
       "6 normal                  EFO:0009900                 \n",
       "7 normal                  EFO:0009900                 \n",
       "  library_preparation_protocol__ontology_label sex    species       \n",
       "2 10x 5' v2                                    female NCBITaxon_9606\n",
       "3 10x 5' v2                                    female NCBITaxon_9606\n",
       "4 10x 5' v2                                    female NCBITaxon_9606\n",
       "5 10x 5' v2                                    female NCBITaxon_9606\n",
       "6 10x 5' v2                                    female NCBITaxon_9606\n",
       "7 10x 5' v2                                    female NCBITaxon_9606\n",
       "  species__ontology_label organ          organ__ontology_label\n",
       "2 Homo sapiens            UBERON:0000310 breast               \n",
       "3 Homo sapiens            UBERON:0000310 breast               \n",
       "4 Homo sapiens            UBERON:0000310 breast               \n",
       "5 Homo sapiens            UBERON:0000310 breast               \n",
       "6 Homo sapiens            UBERON:0000310 breast               \n",
       "7 Homo sapiens            UBERON:0000310 breast               "
      ]
     },
     "metadata": {},
     "output_type": "display_data"
    }
   ],
   "source": [
    "head(metadata)"
   ]
  },
  {
   "cell_type": "code",
   "execution_count": 26,
   "id": "e88cc9d7",
   "metadata": {},
   "outputs": [
    {
     "data": {
      "text/html": [
       "<style>\n",
       ".list-inline {list-style: none; margin:0; padding: 0}\n",
       ".list-inline>li {display: inline-block}\n",
       ".list-inline>li:not(:last-child)::after {content: \"\\00b7\"; padding: 0 .5ex}\n",
       "</style>\n",
       "<ol class=list-inline><li>'Human.BRCA1.B_AAACCTGAGAATCTCC'</li><li>'Human.BRCA1.B_AAACCTGAGACTAGGC'</li><li>'Human.BRCA1.B_AAACCTGAGCCAGTTT'</li><li>'Human.BRCA1.B_AAACCTGAGCGACGTA'</li><li>'Human.BRCA1.B_AAACCTGAGCGATTCT'</li><li>'Human.BRCA1.B_AAACCTGAGGGCACTA'</li></ol>\n"
      ],
      "text/latex": [
       "\\begin{enumerate*}\n",
       "\\item 'Human.BRCA1.B\\_AAACCTGAGAATCTCC'\n",
       "\\item 'Human.BRCA1.B\\_AAACCTGAGACTAGGC'\n",
       "\\item 'Human.BRCA1.B\\_AAACCTGAGCCAGTTT'\n",
       "\\item 'Human.BRCA1.B\\_AAACCTGAGCGACGTA'\n",
       "\\item 'Human.BRCA1.B\\_AAACCTGAGCGATTCT'\n",
       "\\item 'Human.BRCA1.B\\_AAACCTGAGGGCACTA'\n",
       "\\end{enumerate*}\n"
      ],
      "text/markdown": [
       "1. 'Human.BRCA1.B_AAACCTGAGAATCTCC'\n",
       "2. 'Human.BRCA1.B_AAACCTGAGACTAGGC'\n",
       "3. 'Human.BRCA1.B_AAACCTGAGCCAGTTT'\n",
       "4. 'Human.BRCA1.B_AAACCTGAGCGACGTA'\n",
       "5. 'Human.BRCA1.B_AAACCTGAGCGATTCT'\n",
       "6. 'Human.BRCA1.B_AAACCTGAGGGCACTA'\n",
       "\n",
       "\n"
      ],
      "text/plain": [
       "[1] \"Human.BRCA1.B_AAACCTGAGAATCTCC\" \"Human.BRCA1.B_AAACCTGAGACTAGGC\"\n",
       "[3] \"Human.BRCA1.B_AAACCTGAGCCAGTTT\" \"Human.BRCA1.B_AAACCTGAGCGACGTA\"\n",
       "[5] \"Human.BRCA1.B_AAACCTGAGCGATTCT\" \"Human.BRCA1.B_AAACCTGAGGGCACTA\""
      ]
     },
     "metadata": {},
     "output_type": "display_data"
    }
   ],
   "source": [
    "head(colnames(gray_raw_counts))"
   ]
  },
  {
   "cell_type": "code",
   "execution_count": 27,
   "id": "53ed15d0",
   "metadata": {},
   "outputs": [],
   "source": [
    "metadata$NAME = gsub('-','\\\\.',metadata$NAME)"
   ]
  },
  {
   "cell_type": "code",
   "execution_count": 28,
   "id": "ece64fe1",
   "metadata": {},
   "outputs": [
    {
     "data": {
      "text/html": [
       "TRUE"
      ],
      "text/latex": [
       "TRUE"
      ],
      "text/markdown": [
       "TRUE"
      ],
      "text/plain": [
       "[1] TRUE"
      ]
     },
     "metadata": {},
     "output_type": "display_data"
    }
   ],
   "source": [
    "all(metadata$NAME == colnames(gray_raw_counts))"
   ]
  },
  {
   "cell_type": "code",
   "execution_count": 29,
   "id": "e2fa7aa1",
   "metadata": {},
   "outputs": [
    {
     "data": {
      "text/html": [
       "<style>\n",
       ".list-inline {list-style: none; margin:0; padding: 0}\n",
       ".list-inline>li {display: inline-block}\n",
       ".list-inline>li:not(:last-child)::after {content: \"\\00b7\"; padding: 0 .5ex}\n",
       "</style>\n",
       "<ol class=list-inline><li>'VL2 Vascular endothelial'</li><li>'HSa'</li><li>'BAb'</li><li>'VL3 Pericyte'</li><li>'BL'</li><li>'HSb'</li><li>'F3 Fibroblast'</li><li>'BAa'</li><li>'AP'</li><li>'HSx'</li><li>'I1 Myeloid cell'</li><li>'I5 Plasma cell'</li><li>'I3 T cell'</li><li>'VL1 Lymphatic endothelial'</li><li>'F1 Fibroblast'</li><li>'BAx'</li><li>'Fx Fibroblast'</li><li>'I2 NK cell'</li><li>'I4 B cell'</li><li>'F2 Fibroblast'</li></ol>\n"
      ],
      "text/latex": [
       "\\begin{enumerate*}\n",
       "\\item 'VL2 Vascular endothelial'\n",
       "\\item 'HSa'\n",
       "\\item 'BAb'\n",
       "\\item 'VL3 Pericyte'\n",
       "\\item 'BL'\n",
       "\\item 'HSb'\n",
       "\\item 'F3 Fibroblast'\n",
       "\\item 'BAa'\n",
       "\\item 'AP'\n",
       "\\item 'HSx'\n",
       "\\item 'I1 Myeloid cell'\n",
       "\\item 'I5 Plasma cell'\n",
       "\\item 'I3 T cell'\n",
       "\\item 'VL1 Lymphatic endothelial'\n",
       "\\item 'F1 Fibroblast'\n",
       "\\item 'BAx'\n",
       "\\item 'Fx Fibroblast'\n",
       "\\item 'I2 NK cell'\n",
       "\\item 'I4 B cell'\n",
       "\\item 'F2 Fibroblast'\n",
       "\\end{enumerate*}\n"
      ],
      "text/markdown": [
       "1. 'VL2 Vascular endothelial'\n",
       "2. 'HSa'\n",
       "3. 'BAb'\n",
       "4. 'VL3 Pericyte'\n",
       "5. 'BL'\n",
       "6. 'HSb'\n",
       "7. 'F3 Fibroblast'\n",
       "8. 'BAa'\n",
       "9. 'AP'\n",
       "10. 'HSx'\n",
       "11. 'I1 Myeloid cell'\n",
       "12. 'I5 Plasma cell'\n",
       "13. 'I3 T cell'\n",
       "14. 'VL1 Lymphatic endothelial'\n",
       "15. 'F1 Fibroblast'\n",
       "16. 'BAx'\n",
       "17. 'Fx Fibroblast'\n",
       "18. 'I2 NK cell'\n",
       "19. 'I4 B cell'\n",
       "20. 'F2 Fibroblast'\n",
       "\n",
       "\n"
      ],
      "text/plain": [
       " [1] \"VL2 Vascular endothelial\"  \"HSa\"                      \n",
       " [3] \"BAb\"                       \"VL3 Pericyte\"             \n",
       " [5] \"BL\"                        \"HSb\"                      \n",
       " [7] \"F3 Fibroblast\"             \"BAa\"                      \n",
       " [9] \"AP\"                        \"HSx\"                      \n",
       "[11] \"I1 Myeloid cell\"           \"I5 Plasma cell\"           \n",
       "[13] \"I3 T cell\"                 \"VL1 Lymphatic endothelial\"\n",
       "[15] \"F1 Fibroblast\"             \"BAx\"                      \n",
       "[17] \"Fx Fibroblast\"             \"I2 NK cell\"               \n",
       "[19] \"I4 B cell\"                 \"F2 Fibroblast\"            "
      ]
     },
     "metadata": {},
     "output_type": "display_data"
    }
   ],
   "source": [
    "unique(gsub('.*\\\\. ', '', metadata$cell_subtypes))"
   ]
  },
  {
   "cell_type": "code",
   "execution_count": 30,
   "id": "b7f9b58b",
   "metadata": {},
   "outputs": [],
   "source": [
    "celltype_names = reformat_celltypes(gsub('.*\\\\. ', '', metadata$cell_subtypes))"
   ]
  },
  {
   "cell_type": "code",
   "execution_count": 31,
   "id": "510f61df",
   "metadata": {},
   "outputs": [],
   "source": [
    "sample_names = reformat_celltypes(metadata$donor_id)"
   ]
  },
  {
   "cell_type": "code",
   "execution_count": 32,
   "id": "1fe5feb1",
   "metadata": {},
   "outputs": [],
   "source": [
    "gray.sc.es = ExpressionSet(as.matrix(gray_raw_counts))"
   ]
  },
  {
   "cell_type": "code",
   "execution_count": 33,
   "id": "57103381",
   "metadata": {},
   "outputs": [
    {
     "data": {
      "text/html": [
       "<style>\n",
       ".list-inline {list-style: none; margin:0; padding: 0}\n",
       ".list-inline>li {display: inline-block}\n",
       ".list-inline>li:not(:last-child)::after {content: \"\\00b7\"; padding: 0 .5ex}\n",
       "</style>\n",
       "<ol class=list-inline><li>'AL627309.1'</li><li>'AL669831.5'</li><li>'FAM87B'</li><li>'LINC00115'</li><li>'FAM41C'</li><li>'AL645608.3'</li></ol>\n"
      ],
      "text/latex": [
       "\\begin{enumerate*}\n",
       "\\item 'AL627309.1'\n",
       "\\item 'AL669831.5'\n",
       "\\item 'FAM87B'\n",
       "\\item 'LINC00115'\n",
       "\\item 'FAM41C'\n",
       "\\item 'AL645608.3'\n",
       "\\end{enumerate*}\n"
      ],
      "text/markdown": [
       "1. 'AL627309.1'\n",
       "2. 'AL669831.5'\n",
       "3. 'FAM87B'\n",
       "4. 'LINC00115'\n",
       "5. 'FAM41C'\n",
       "6. 'AL645608.3'\n",
       "\n",
       "\n"
      ],
      "text/plain": [
       "[1] \"AL627309.1\" \"AL669831.5\" \"FAM87B\"     \"LINC00115\"  \"FAM41C\"    \n",
       "[6] \"AL645608.3\""
      ]
     },
     "metadata": {},
     "output_type": "display_data"
    }
   ],
   "source": [
    "rownames(gray.sc.es) = gene_names\n",
    "head(rownames(gray.sc.es))"
   ]
  },
  {
   "cell_type": "code",
   "execution_count": 34,
   "id": "e907cf0b",
   "metadata": {},
   "outputs": [],
   "source": [
    "gray.sc.es$cellType_original = factor(celltype_names)\n",
    "gray.sc.es$cellType = factor(celltype_names)\n",
    "gray.sc.es$SubjectName = factor(sample_names)"
   ]
  },
  {
   "cell_type": "code",
   "execution_count": 35,
   "id": "7ba053f1",
   "metadata": {},
   "outputs": [],
   "source": [
    "saveRDS(gray.sc.es, 'data/pseudobulks_climb/raw/BREAST_gray_sc_es.RDS')"
   ]
  },
  {
   "cell_type": "markdown",
   "id": "abcfd12c",
   "metadata": {},
   "source": [
    "## Breast Wu"
   ]
  },
  {
   "cell_type": "code",
   "execution_count": 5,
   "id": "ed82a184",
   "metadata": {},
   "outputs": [],
   "source": [
    "breast.wu.srt = Read10X('data/pseudobulks_climb/raw/breast_wu/BrCa_Atlas_Count_out')"
   ]
  },
  {
   "cell_type": "code",
   "execution_count": 9,
   "id": "1b2eade6",
   "metadata": {},
   "outputs": [
    {
     "data": {
      "text/html": [
       "<table class=\"dataframe\">\n",
       "<caption>A matrix: 2 × 7 of type dbl</caption>\n",
       "<thead>\n",
       "\t<tr><th></th><th scope=col>used</th><th scope=col>(Mb)</th><th scope=col>gc trigger</th><th scope=col>(Mb)</th><th scope=col>limit (Mb)</th><th scope=col>max used</th><th scope=col>(Mb)</th></tr>\n",
       "</thead>\n",
       "<tbody>\n",
       "\t<tr><th scope=row>Ncells</th><td>   7975572</td><td>  426</td><td>  12276455</td><td>  655.7</td><td>    NA</td><td>  11710372</td><td>  625.5</td></tr>\n",
       "\t<tr><th scope=row>Vcells</th><td>3256349215</td><td>24844</td><td>7479939617</td><td>57067.5</td><td>102400</td><td>6234621398</td><td>47566.4</td></tr>\n",
       "</tbody>\n",
       "</table>\n"
      ],
      "text/latex": [
       "A matrix: 2 × 7 of type dbl\n",
       "\\begin{tabular}{r|lllllll}\n",
       "  & used & (Mb) & gc trigger & (Mb) & limit (Mb) & max used & (Mb)\\\\\n",
       "\\hline\n",
       "\tNcells &    7975572 &   426 &   12276455 &   655.7 &     NA &   11710372 &   625.5\\\\\n",
       "\tVcells & 3256349215 & 24844 & 7479939617 & 57067.5 & 102400 & 6234621398 & 47566.4\\\\\n",
       "\\end{tabular}\n"
      ],
      "text/markdown": [
       "\n",
       "A matrix: 2 × 7 of type dbl\n",
       "\n",
       "| <!--/--> | used | (Mb) | gc trigger | (Mb) | limit (Mb) | max used | (Mb) |\n",
       "|---|---|---|---|---|---|---|---|\n",
       "| Ncells |    7975572 |   426 |   12276455 |   655.7 |     NA |   11710372 |   625.5 |\n",
       "| Vcells | 3256349215 | 24844 | 7479939617 | 57067.5 | 102400 | 6234621398 | 47566.4 |\n",
       "\n"
      ],
      "text/plain": [
       "       used       (Mb)  gc trigger (Mb)    limit (Mb) max used   (Mb)   \n",
       "Ncells    7975572   426   12276455   655.7     NA       11710372   625.5\n",
       "Vcells 3256349215 24844 7479939617 57067.5 102400     6234621398 47566.4"
      ]
     },
     "metadata": {},
     "output_type": "display_data"
    }
   ],
   "source": [
    "gc()"
   ]
  },
  {
   "cell_type": "code",
   "execution_count": 10,
   "id": "6868d02d",
   "metadata": {},
   "outputs": [
    {
     "name": "stderr",
     "output_type": "stream",
     "text": [
      "Warning message in asMethod(object):\n",
      "“sparse->dense coercion: allocating vector of size 22.2 GiB”\n"
     ]
    }
   ],
   "source": [
    "breast.wu.es = ExpressionSet(as.matrix(breast.wu.srt))"
   ]
  },
  {
   "cell_type": "code",
   "execution_count": 11,
   "id": "37c7b972",
   "metadata": {},
   "outputs": [
    {
     "data": {
      "text/plain": [
       "ExpressionSet (storageMode: lockedEnvironment)\n",
       "assayData: 29733 features, 100064 samples \n",
       "  element names: exprs \n",
       "protocolData: none\n",
       "phenoData: none\n",
       "featureData: none\n",
       "experimentData: use 'experimentData(object)'\n",
       "Annotation:  "
      ]
     },
     "metadata": {},
     "output_type": "display_data"
    }
   ],
   "source": [
    "breast.wu.es"
   ]
  },
  {
   "cell_type": "code",
   "execution_count": 14,
   "id": "427ad27b",
   "metadata": {},
   "outputs": [],
   "source": [
    "metadata = read.csv('data/pseudobulks_climb/raw/breast_wu/Whole_miniatlas_meta_format.csv')\n",
    "metadata = metadata[-1,]"
   ]
  },
  {
   "cell_type": "code",
   "execution_count": 15,
   "id": "7996dc4f",
   "metadata": {},
   "outputs": [
    {
     "data": {
      "text/html": [
       "TRUE"
      ],
      "text/latex": [
       "TRUE"
      ],
      "text/markdown": [
       "TRUE"
      ],
      "text/plain": [
       "[1] TRUE"
      ]
     },
     "metadata": {},
     "output_type": "display_data"
    }
   ],
   "source": [
    "all(metadata$NAME == colnames(breast.wu.es))"
   ]
  },
  {
   "cell_type": "code",
   "execution_count": 24,
   "id": "67b15ce7",
   "metadata": {},
   "outputs": [],
   "source": [
    "celltype_names = reformat_celltypes(metadata$celltype_minor)"
   ]
  },
  {
   "cell_type": "code",
   "execution_count": 27,
   "id": "b46c28bc",
   "metadata": {},
   "outputs": [],
   "source": [
    "subject_names = metadata$Patient"
   ]
  },
  {
   "cell_type": "code",
   "execution_count": 28,
   "id": "48768c3c",
   "metadata": {},
   "outputs": [],
   "source": [
    "breast.wu.es$cellType = factor(celltype_names)\n",
    "breast.wu.es$cellType_original = factor(celltype_names)\n",
    "breast.wu.es$SubjectName = factor(subject_names)"
   ]
  },
  {
   "cell_type": "code",
   "execution_count": 29,
   "id": "d88ae175",
   "metadata": {},
   "outputs": [],
   "source": [
    "saveRDS(breast.wu.es, 'data/pseudobulks_climb/raw/BREAST_wu_sc_es.RDS')"
   ]
  },
  {
   "cell_type": "markdown",
   "id": "5c3c5ae6",
   "metadata": {},
   "source": [
    "## GBM dataset Nefty et al.\n",
    "\n",
    "The dataset has smartseq2 and 10x data from the same context. Unfortunately only cell-type labels on SS2 data are provided. We will thus only do SS2->10X cross-dataset analysis."
   ]
  },
  {
   "cell_type": "code",
   "execution_count": 7,
   "id": "d321a52d",
   "metadata": {},
   "outputs": [],
   "source": [
    "ss2_mat = read.csv('data/pseudobulks_climb/raw/gbm_neftel_10x_SS2/GSE131928_RAW/GSM3828672_Smartseq2_GBM_IDHwt_processed_TPM.tsv',\n",
    "                  sep='\\t', row.names='GENE')"
   ]
  },
  {
   "cell_type": "code",
   "execution_count": 15,
   "id": "6f1472d7",
   "metadata": {},
   "outputs": [],
   "source": [
    "colnames(ss2_mat) = reformat_celltypes(colnames(ss2_mat))"
   ]
  },
  {
   "cell_type": "code",
   "execution_count": 13,
   "id": "8a4c1c64",
   "metadata": {},
   "outputs": [],
   "source": [
    "ss2_metadata = read.csv('data/pseudobulks_climb/raw/gbm_neftel_10x_SS2/IDHwt.GBM.Metadata.SS2.txt', sep='\\t')\n",
    "ss2_metadata = ss2_metadata[-1,]"
   ]
  },
  {
   "cell_type": "code",
   "execution_count": 16,
   "id": "ecc849ad",
   "metadata": {},
   "outputs": [],
   "source": [
    "ss2_metadata$NAME_ = reformat_celltypes(ss2_metadata$NAME)"
   ]
  },
  {
   "cell_type": "code",
   "execution_count": 20,
   "id": "cd213602",
   "metadata": {},
   "outputs": [],
   "source": [
    "rownames(ss2_metadata) = ss2_metadata$NAME_"
   ]
  },
  {
   "cell_type": "code",
   "execution_count": 22,
   "id": "b4242f4e",
   "metadata": {},
   "outputs": [],
   "source": [
    "ss2_metadata = ss2_metadata[colnames(ss2_mat),]"
   ]
  },
  {
   "cell_type": "code",
   "execution_count": 23,
   "id": "10dab64b",
   "metadata": {},
   "outputs": [
    {
     "data": {
      "text/html": [
       "TRUE"
      ],
      "text/latex": [
       "TRUE"
      ],
      "text/markdown": [
       "TRUE"
      ],
      "text/plain": [
       "[1] TRUE"
      ]
     },
     "metadata": {},
     "output_type": "display_data"
    }
   ],
   "source": [
    "all(colnames(ss2_mat) == ss2_metadata$NAME_)"
   ]
  },
  {
   "cell_type": "code",
   "execution_count": 58,
   "id": "549004f5",
   "metadata": {},
   "outputs": [],
   "source": [
    "mat_cancer_assignment = as.matrix(ss2_metadata[,8:13])"
   ]
  },
  {
   "cell_type": "code",
   "execution_count": 60,
   "id": "4ee2e767",
   "metadata": {},
   "outputs": [],
   "source": [
    "cancer_cell_types = colnames(mat_cancer_assignment)"
   ]
  },
  {
   "cell_type": "code",
   "execution_count": 61,
   "id": "b9363e45",
   "metadata": {},
   "outputs": [],
   "source": [
    "res = apply(as.matrix(ss2_metadata[,8:13]), 1, x <- function(x){ cancer_cell_types[grep(max(num(x)), num(x))[1]] } )# function(x) grep(num(x) == max(num(x))))"
   ]
  },
  {
   "cell_type": "code",
   "execution_count": 63,
   "id": "041bf988",
   "metadata": {},
   "outputs": [],
   "source": [
    "ss2_metadata$cancer_type = res"
   ]
  },
  {
   "cell_type": "code",
   "execution_count": 65,
   "id": "5a480aab",
   "metadata": {},
   "outputs": [],
   "source": [
    "ss2_metadata$celltype = ss2_metadata$CellAssignment"
   ]
  },
  {
   "cell_type": "code",
   "execution_count": 67,
   "id": "974f7821",
   "metadata": {},
   "outputs": [],
   "source": [
    "ss2_metadata$celltype[ss2_metadata$celltype == 'Malignant'] <- ss2_metadata$cancer_type[ss2_metadata$celltype == 'Malignant']"
   ]
  },
  {
   "cell_type": "code",
   "execution_count": 71,
   "id": "689d9daa",
   "metadata": {},
   "outputs": [],
   "source": [
    "ss2_metadata$celltype[is.na(ss2_metadata$celltype)] <- 'Unknown'"
   ]
  },
  {
   "cell_type": "code",
   "execution_count": 72,
   "id": "292ebfbb",
   "metadata": {},
   "outputs": [
    {
     "data": {
      "text/html": [
       "<style>\n",
       ".list-inline {list-style: none; margin:0; padding: 0}\n",
       ".list-inline>li {display: inline-block}\n",
       ".list-inline>li:not(:last-child)::after {content: \"\\00b7\"; padding: 0 .5ex}\n",
       "</style>\n",
       "<ol class=list-inline><li>'Macrophage'</li><li>'AClike'</li><li>'OPClike'</li><li>'MESlike2'</li><li>'NPClike1'</li><li>'MESlike1'</li><li>'NPClike2'</li><li>'Unknown'</li><li>'Oligodendrocyte'</li><li>'T-cell'</li></ol>\n"
      ],
      "text/latex": [
       "\\begin{enumerate*}\n",
       "\\item 'Macrophage'\n",
       "\\item 'AClike'\n",
       "\\item 'OPClike'\n",
       "\\item 'MESlike2'\n",
       "\\item 'NPClike1'\n",
       "\\item 'MESlike1'\n",
       "\\item 'NPClike2'\n",
       "\\item 'Unknown'\n",
       "\\item 'Oligodendrocyte'\n",
       "\\item 'T-cell'\n",
       "\\end{enumerate*}\n"
      ],
      "text/markdown": [
       "1. 'Macrophage'\n",
       "2. 'AClike'\n",
       "3. 'OPClike'\n",
       "4. 'MESlike2'\n",
       "5. 'NPClike1'\n",
       "6. 'MESlike1'\n",
       "7. 'NPClike2'\n",
       "8. 'Unknown'\n",
       "9. 'Oligodendrocyte'\n",
       "10. 'T-cell'\n",
       "\n",
       "\n"
      ],
      "text/plain": [
       " [1] \"Macrophage\"      \"AClike\"          \"OPClike\"         \"MESlike2\"       \n",
       " [5] \"NPClike1\"        \"MESlike1\"        \"NPClike2\"        \"Unknown\"        \n",
       " [9] \"Oligodendrocyte\" \"T-cell\"         "
      ]
     },
     "metadata": {},
     "output_type": "display_data"
    }
   ],
   "source": [
    "unique(ss2_metadata$celltype)"
   ]
  },
  {
   "cell_type": "code",
   "execution_count": 74,
   "id": "62b2a7e0",
   "metadata": {},
   "outputs": [
    {
     "data": {
      "text/html": [
       "<style>\n",
       ".list-inline {list-style: none; margin:0; padding: 0}\n",
       ".list-inline>li {display: inline-block}\n",
       ".list-inline>li:not(:last-child)::after {content: \"\\00b7\"; padding: 0 .5ex}\n",
       "</style>\n",
       "<ol class=list-inline><li>'MGH101'</li><li>'MGH100'</li><li>'MGH102'</li><li>'MGH104'</li><li>'MGH105'</li><li>'MGH106'</li><li>'MGH110'</li><li>'MGH113'</li><li>'MGH115'</li><li>'MGH121'</li><li>'MGH122'</li><li>'MGH124'</li><li>'MGH125'</li><li>'BT749'</li><li>'BT771'</li><li>'BT830'</li><li>'BT85'</li><li>'BT1160'</li><li>'BT1187'</li><li>'BT786'</li><li>'BT920'</li><li>'MGH128'</li><li>'MGH129'</li><li>'MGH136'</li><li>'MGH143'</li><li>'MGH151'</li><li>'MGH152'</li><li>'MGH66'</li></ol>\n"
      ],
      "text/latex": [
       "\\begin{enumerate*}\n",
       "\\item 'MGH101'\n",
       "\\item 'MGH100'\n",
       "\\item 'MGH102'\n",
       "\\item 'MGH104'\n",
       "\\item 'MGH105'\n",
       "\\item 'MGH106'\n",
       "\\item 'MGH110'\n",
       "\\item 'MGH113'\n",
       "\\item 'MGH115'\n",
       "\\item 'MGH121'\n",
       "\\item 'MGH122'\n",
       "\\item 'MGH124'\n",
       "\\item 'MGH125'\n",
       "\\item 'BT749'\n",
       "\\item 'BT771'\n",
       "\\item 'BT830'\n",
       "\\item 'BT85'\n",
       "\\item 'BT1160'\n",
       "\\item 'BT1187'\n",
       "\\item 'BT786'\n",
       "\\item 'BT920'\n",
       "\\item 'MGH128'\n",
       "\\item 'MGH129'\n",
       "\\item 'MGH136'\n",
       "\\item 'MGH143'\n",
       "\\item 'MGH151'\n",
       "\\item 'MGH152'\n",
       "\\item 'MGH66'\n",
       "\\end{enumerate*}\n"
      ],
      "text/markdown": [
       "1. 'MGH101'\n",
       "2. 'MGH100'\n",
       "3. 'MGH102'\n",
       "4. 'MGH104'\n",
       "5. 'MGH105'\n",
       "6. 'MGH106'\n",
       "7. 'MGH110'\n",
       "8. 'MGH113'\n",
       "9. 'MGH115'\n",
       "10. 'MGH121'\n",
       "11. 'MGH122'\n",
       "12. 'MGH124'\n",
       "13. 'MGH125'\n",
       "14. 'BT749'\n",
       "15. 'BT771'\n",
       "16. 'BT830'\n",
       "17. 'BT85'\n",
       "18. 'BT1160'\n",
       "19. 'BT1187'\n",
       "20. 'BT786'\n",
       "21. 'BT920'\n",
       "22. 'MGH128'\n",
       "23. 'MGH129'\n",
       "24. 'MGH136'\n",
       "25. 'MGH143'\n",
       "26. 'MGH151'\n",
       "27. 'MGH152'\n",
       "28. 'MGH66'\n",
       "\n",
       "\n"
      ],
      "text/plain": [
       " [1] \"MGH101\" \"MGH100\" \"MGH102\" \"MGH104\" \"MGH105\" \"MGH106\" \"MGH110\" \"MGH113\"\n",
       " [9] \"MGH115\" \"MGH121\" \"MGH122\" \"MGH124\" \"MGH125\" \"BT749\"  \"BT771\"  \"BT830\" \n",
       "[17] \"BT85\"   \"BT1160\" \"BT1187\" \"BT786\"  \"BT920\"  \"MGH128\" \"MGH129\" \"MGH136\"\n",
       "[25] \"MGH143\" \"MGH151\" \"MGH152\" \"MGH66\" "
      ]
     },
     "metadata": {},
     "output_type": "display_data"
    }
   ],
   "source": [
    "unique(ss2_metadata$Sample)"
   ]
  },
  {
   "cell_type": "code",
   "execution_count": 75,
   "id": "40684c3a",
   "metadata": {},
   "outputs": [],
   "source": [
    "neftel.ss2.es = ExpressionSet(as.matrix(ss2_mat))"
   ]
  },
  {
   "cell_type": "code",
   "execution_count": 76,
   "id": "d3b3c451",
   "metadata": {},
   "outputs": [],
   "source": [
    "neftel.ss2.es$cellType = factor(ss2_metadata$celltype)\n",
    "neftel.ss2.es$cellType_original = factor(ss2_metadata$celltype)"
   ]
  },
  {
   "cell_type": "code",
   "execution_count": 77,
   "id": "820f47ad",
   "metadata": {},
   "outputs": [],
   "source": [
    "neftel.ss2.es$SubjectName = factor(ss2_metadata$Sample)"
   ]
  },
  {
   "cell_type": "code",
   "execution_count": 83,
   "id": "e36a4910",
   "metadata": {},
   "outputs": [],
   "source": [
    "saveRDS(neftel.ss2.es, 'data/pseudobulks_climb/raw/GBM_neftelSS2_sc_es.RDS')"
   ]
  },
  {
   "cell_type": "markdown",
   "id": "3593bcf1",
   "metadata": {},
   "source": [
    "#### Load 10 X data\n",
    "\n",
    "For this dataset we unfortenately not have cell-type labels, the corresponding authors could not find them. We will thus only generate an ExpressionSEt object with SampleName. It will thus be use for SS2->10X analysis"
   ]
  },
  {
   "cell_type": "code",
   "execution_count": 84,
   "id": "4308d909",
   "metadata": {},
   "outputs": [],
   "source": [
    "TENx_mat = read.csv('data/pseudobulks_climb/raw/gbm_neftel_10x_SS2/GSE131928_RAW/GSM3828673_10X_GBM_IDHwt_processed_TPM.tsv',\n",
    "                  sep='\\t', row.names='GENE')"
   ]
  },
  {
   "cell_type": "code",
   "execution_count": 85,
   "id": "4329ddda",
   "metadata": {},
   "outputs": [
    {
     "data": {
      "text/html": [
       "<style>\n",
       ".list-inline {list-style: none; margin:0; padding: 0}\n",
       ".list-inline>li {display: inline-block}\n",
       ".list-inline>li:not(:last-child)::after {content: \"\\00b7\"; padding: 0 .5ex}\n",
       "</style>\n",
       "<ol class=list-inline><li>'X102_1'</li><li>'X102_2'</li><li>'X102_4'</li><li>'X102_5'</li><li>'X102_7'</li><li>'X102_8'</li></ol>\n"
      ],
      "text/latex": [
       "\\begin{enumerate*}\n",
       "\\item 'X102\\_1'\n",
       "\\item 'X102\\_2'\n",
       "\\item 'X102\\_4'\n",
       "\\item 'X102\\_5'\n",
       "\\item 'X102\\_7'\n",
       "\\item 'X102\\_8'\n",
       "\\end{enumerate*}\n"
      ],
      "text/markdown": [
       "1. 'X102_1'\n",
       "2. 'X102_2'\n",
       "3. 'X102_4'\n",
       "4. 'X102_5'\n",
       "5. 'X102_7'\n",
       "6. 'X102_8'\n",
       "\n",
       "\n"
      ],
      "text/plain": [
       "[1] \"X102_1\" \"X102_2\" \"X102_4\" \"X102_5\" \"X102_7\" \"X102_8\""
      ]
     },
     "metadata": {},
     "output_type": "display_data"
    }
   ],
   "source": [
    "head(colnames(TENx_mat))"
   ]
  },
  {
   "cell_type": "code",
   "execution_count": 89,
   "id": "6cffd8e0",
   "metadata": {},
   "outputs": [],
   "source": [
    "sample_names = gsub('_.*','',colnames(TENx_mat))"
   ]
  },
  {
   "cell_type": "code",
   "execution_count": 91,
   "id": "df59f02a",
   "metadata": {},
   "outputs": [],
   "source": [
    "neftel.10x.es = ExpressionSet(as.matrix(TENx_mat))"
   ]
  },
  {
   "cell_type": "code",
   "execution_count": 92,
   "id": "cb055573",
   "metadata": {},
   "outputs": [],
   "source": [
    "neftel.10x.es$SubjectName = sample_names"
   ]
  },
  {
   "cell_type": "code",
   "execution_count": 94,
   "id": "c5201794",
   "metadata": {},
   "outputs": [
    {
     "data": {
      "text/plain": [
       "ExpressionSet (storageMode: lockedEnvironment)\n",
       "assayData: 30314 features, 16201 samples \n",
       "  element names: exprs \n",
       "protocolData: none\n",
       "phenoData\n",
       "  sampleNames: X102_1 X102_2 ... X126_2_245 (16201 total)\n",
       "  varLabels: SubjectName\n",
       "  varMetadata: labelDescription\n",
       "featureData: none\n",
       "experimentData: use 'experimentData(object)'\n",
       "Annotation:  "
      ]
     },
     "metadata": {},
     "output_type": "display_data"
    }
   ],
   "source": [
    "neftel.10x.es"
   ]
  },
  {
   "cell_type": "code",
   "execution_count": 93,
   "id": "0468f381",
   "metadata": {},
   "outputs": [],
   "source": [
    "saveRDS(neftel.10x.es, 'data/pseudobulks_climb/raw/GBM_neftel10X_sc_es.RDS')"
   ]
  }
 ],
 "metadata": {
  "kernelspec": {
   "display_name": "R",
   "language": "R",
   "name": "ir"
  },
  "language_info": {
   "codemirror_mode": "r",
   "file_extension": ".r",
   "mimetype": "text/x-r-source",
   "name": "R",
   "pygments_lexer": "r",
   "version": "4.2.2"
  }
 },
 "nbformat": 4,
 "nbformat_minor": 5
}
