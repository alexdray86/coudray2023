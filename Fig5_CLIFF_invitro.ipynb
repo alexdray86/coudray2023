{
 "cells": [
  {
   "cell_type": "markdown",
   "metadata": {},
   "source": [
    "## Analysis of Drug sensitivity deconvolution results \n",
    "\n",
    "Here we explore the results obtained with `CLIFF` method in the notebook `01_cliff_invitro_run.ipynb`."
   ]
  },
  {
   "cell_type": "code",
   "execution_count": 2,
   "metadata": {},
   "outputs": [],
   "source": [
    "library(glmnet) ; library(ggplot2) ; library(reshape2)\n",
    "library(CoreGx) ; library(PharmacoGx) ; library(climb)\n",
    "library(sigmoid); library(ComplexHeatmap) ; library(circlize)\n",
    "library(abind)  ; library(ggpmisc)"
   ]
  },
  {
   "cell_type": "code",
   "execution_count": 4,
   "metadata": {},
   "outputs": [],
   "source": [
    "# We load CLIMB and CLIFF library\n",
    "library(climb) ; library(cliff)"
   ]
  },
  {
   "cell_type": "code",
   "execution_count": 5,
   "metadata": {},
   "outputs": [
    {
     "name": "stderr",
     "output_type": "stream",
     "text": [
      "Downloading GitHub repo alexdray86/cliff-R@HEAD\n",
      "\n"
     ]
    },
    {
     "name": "stdout",
     "output_type": "stream",
     "text": [
      "\u001b[36m──\u001b[39m \u001b[36mR CMD build\u001b[39m \u001b[36m──────────────────────────────────────────────────────────────────────────────────────────────────────────────────────────────────────────────────────────────\u001b[39m\n",
      "\u001b[32m✔\u001b[39m  \u001b[90mchecking for file ‘/private/var/folders/z6/0fzn0d4s1v74_s44tjrc9mg00000gp/T/RtmpQXSzcV/remotes27d224015b57/alexdray86-cliff-R-40483c6/DESCRIPTION’\u001b[39m\u001b[36m\u001b[39m\n",
      "\u001b[90m─\u001b[39m\u001b[90m  \u001b[39m\u001b[90mpreparing ‘cliff’:\u001b[39m\u001b[36m\u001b[39m\n",
      "\u001b[32m✔\u001b[39m  \u001b[90mchecking DESCRIPTION meta-information\u001b[39m\u001b[36m\u001b[39m\n",
      "\u001b[90m─\u001b[39m\u001b[90m  \u001b[39m\u001b[90mchecking for LF line-endings in source and make files and shell scripts\u001b[39m\u001b[36m\u001b[39m\n",
      "\u001b[90m─\u001b[39m\u001b[90m  \u001b[39m\u001b[90mchecking for empty or unneeded directories\u001b[39m\u001b[36m\u001b[39m\n",
      "\u001b[90m─\u001b[39m\u001b[90m  \u001b[39m\u001b[90mbuilding ‘cliff_0.0.1.2.tar.gz’\u001b[39m\u001b[36m\u001b[39m\n",
      "   \n",
      "\r"
     ]
    }
   ],
   "source": [
    "# update CLIFF\n",
    "detach(\"package:cliff\", unload=TRUE)\n",
    "devtools::install_github('alexdray86/cliff-R', force=T)\n",
    "library(cliff)"
   ]
  },
  {
   "cell_type": "code",
   "execution_count": 120,
   "metadata": {},
   "outputs": [
    {
     "name": "stdout",
     "output_type": "stream",
     "text": [
      "R version 4.2.2 (2022-10-31)\n",
      "Platform: x86_64-apple-darwin17.0 (64-bit)\n",
      "Running under: macOS Big Sur ... 10.16\n",
      "\n",
      "Matrix products: default\n",
      "BLAS:   /Library/Frameworks/R.framework/Versions/4.2/Resources/lib/libRblas.0.dylib\n",
      "LAPACK: /Library/Frameworks/R.framework/Versions/4.2/Resources/lib/libRlapack.dylib\n",
      "\n",
      "locale:\n",
      "[1] C/UTF-8/C/C/C/C\n",
      "\n",
      "attached base packages:\n",
      "[1] grid      stats4    stats     graphics  grDevices utils     datasets \n",
      "[8] methods   base     \n",
      "\n",
      "other attached packages:\n",
      " [1] SeuratObject_4.1.3          Seurat_4.3.0               \n",
      " [3] cliff_0.0.1.2               ggpmisc_0.5.2              \n",
      " [5] ggpp_0.5.2                  abind_1.4-5                \n",
      " [7] circlize_0.4.15             ComplexHeatmap_2.14.0      \n",
      " [9] sigmoid_1.4.0               climb_0.0.5                \n",
      "[11] PharmacoGx_3.2.0            CoreGx_2.2.0               \n",
      "[13] SummarizedExperiment_1.28.0 Biobase_2.58.0             \n",
      "[15] GenomicRanges_1.50.2        GenomeInfoDb_1.34.9        \n",
      "[17] IRanges_2.32.0              S4Vectors_0.36.2           \n",
      "[19] MatrixGenerics_1.10.0       matrixStats_0.63.0         \n",
      "[21] BiocGenerics_0.44.0         reshape2_1.4.4             \n",
      "[23] ggplot2_3.4.2               glmnet_4.1-7               \n",
      "[25] Matrix_1.5-3               \n",
      "\n",
      "loaded via a namespace (and not attached):\n",
      "  [1] utf8_1.2.3                  shinydashboard_0.7.2       \n",
      "  [3] spatstat.explore_3.0-5      reticulate_1.28            \n",
      "  [5] tidyselect_1.2.0            htmlwidgets_1.6.0          \n",
      "  [7] BiocParallel_1.32.6         Rtsne_0.16                 \n",
      "  [9] devtools_2.4.5              munsell_0.5.0              \n",
      " [11] ica_1.0-3                   codetools_0.2-18           \n",
      " [13] DT_0.27                     pbdZMQ_0.3-8               \n",
      " [15] future_1.30.0               miniUI_0.1.1.1             \n",
      " [17] withr_2.5.0                 spatstat.random_3.0-1      \n",
      " [19] colorspace_2.1-0            progressr_0.13.0           \n",
      " [21] uuid_1.1-0                  ROCR_1.0-11                \n",
      " [23] tensor_1.5                  listenv_0.9.0              \n",
      " [25] labeling_0.4.2              slam_0.1-50                \n",
      " [27] repr_1.1.4                  GenomeInfoDbData_1.2.9     \n",
      " [29] polyclip_1.10-4             farver_2.1.1               \n",
      " [31] rprojroot_2.0.3             downloader_0.4             \n",
      " [33] parallelly_1.34.0           vctrs_0.6.1                \n",
      " [35] generics_0.1.3              sets_1.0-21                \n",
      " [37] lsa_0.73.3                  R6_2.5.1                   \n",
      " [39] doParallel_1.0.17           clue_0.3-62                \n",
      " [41] celestial_1.4.6             spatstat.utils_3.0-1       \n",
      " [43] bitops_1.0-7                cachem_1.0.7               \n",
      " [45] fgsea_1.24.0                DelayedArray_0.24.0        \n",
      " [47] BumpyMatrix_1.6.0           promises_1.2.0.1           \n",
      " [49] scales_1.2.1                gtable_0.3.3               \n",
      " [51] Cairo_1.6-0                 globals_0.16.2             \n",
      " [53] goftest_1.2-3               processx_3.8.0             \n",
      " [55] rlang_1.1.0                 MatrixModels_0.5-1         \n",
      " [57] coop_0.6-3                  GlobalOptions_0.1.2        \n",
      " [59] splines_4.2.2               lazyeval_0.2.2             \n",
      " [61] spatstat.geom_3.0-5         checkmate_2.1.0            \n",
      " [63] backports_1.4.1             httpuv_1.6.8               \n",
      " [65] tools_4.2.2                 relations_0.6-12           \n",
      " [67] usethis_2.1.6               ellipsis_0.3.2             \n",
      " [69] gplots_3.1.3                RColorBrewer_1.1-3         \n",
      " [71] sessioninfo_1.2.2           ggridges_0.5.4             \n",
      " [73] polynom_1.4-1               MultiAssayExperiment_1.24.0\n",
      " [75] Rcpp_1.0.11                 plyr_1.8.8                 \n",
      " [77] base64enc_0.1-3             visNetwork_2.1.2           \n",
      " [79] zlibbioc_1.44.0             purrr_1.0.1                \n",
      " [81] RCurl_1.98-1.12             ps_1.7.2                   \n",
      " [83] prettyunits_1.1.1           deldir_1.0-6               \n",
      " [85] pbapply_1.7-0               GetoptLong_1.0.5           \n",
      " [87] cowplot_1.1.1               urlchecker_1.0.1           \n",
      " [89] zoo_1.8-11                  ggrepel_0.9.2              \n",
      " [91] cluster_2.1.4               fs_1.5.2                   \n",
      " [93] magrittr_2.0.3              scattermore_0.8            \n",
      " [95] data.table_1.14.6           SparseM_1.81               \n",
      " [97] lmtest_0.9-40               RANN_2.6.1                 \n",
      " [99] SnowballC_0.7.0             fitdistrplus_1.1-8         \n",
      "[101] pkgload_1.3.2               patchwork_1.1.2.9000       \n",
      "[103] shinyjs_2.1.0               mime_0.12                  \n",
      "[105] evaluate_0.18               xtable_1.8-4               \n",
      "[107] gridExtra_2.3               shape_1.4.6                \n",
      "[109] compiler_4.2.2              tibble_3.2.1               \n",
      "[111] maps_3.4.1                  KernSmooth_2.23-20         \n",
      "[113] crayon_1.5.2                htmltools_0.5.4            \n",
      "[115] later_1.3.0                 tidyr_1.3.0                \n",
      "[117] DBI_1.1.3                   MASS_7.3-58.1              \n",
      "[119] boot_1.3-28                 cli_3.6.1                  \n",
      "[121] marray_1.76.0               parallel_4.2.2             \n",
      "[123] igraph_1.3.5                pkgconfig_2.0.3            \n",
      "[125] sm_2.2-5.7.1                sp_1.6-0                   \n",
      "[127] spatstat.sparse_3.0-0       plotly_4.10.1              \n",
      "[129] magicaxis_2.2.14            IRdisplay_1.1              \n",
      "[131] piano_2.14.0                foreach_1.5.2              \n",
      "[133] XVector_0.38.0              stringr_1.5.0              \n",
      "[135] callr_3.7.3                 digest_0.6.31              \n",
      "[137] sctransform_0.3.5           RcppAnnoy_0.0.20           \n",
      "[139] pracma_2.4.2                spatstat.data_3.0-0        \n",
      "[141] leiden_0.4.3                fastmatch_1.1-3            \n",
      "[143] uwot_0.1.14                 curl_5.0.0                 \n",
      "[145] shiny_1.7.4                 gtools_3.9.4               \n",
      "[147] quantreg_5.94               rjson_0.2.21               \n",
      "[149] bench_1.1.2                 nlme_3.1-160               \n",
      "[151] lifecycle_1.0.3             jsonlite_1.8.4             \n",
      "[153] mapproj_1.2.11              viridisLite_0.4.1          \n",
      "[155] desc_1.4.2                  limma_3.54.0               \n",
      "[157] fansi_1.0.4                 pillar_1.9.0               \n",
      "[159] lattice_0.20-45             httr_1.4.5                 \n",
      "[161] fastmap_1.1.1               plotrix_3.8-2              \n",
      "[163] pkgbuild_1.4.0              survival_3.4-0             \n",
      "[165] glue_1.6.2                  remotes_2.4.2              \n",
      "[167] png_0.1-8                   iterators_1.0.14           \n",
      "[169] stringi_1.7.12              profvis_0.3.7              \n",
      "[171] NISTunits_1.0.1             caTools_1.18.2             \n",
      "[173] memoise_2.0.1               IRkernel_1.3.1             \n",
      "[175] dplyr_1.1.0                 irlba_2.3.5.1              \n",
      "[177] future.apply_1.10.0        \n"
     ]
    }
   ],
   "source": [
    "print(sessionInfo())"
   ]
  },
  {
   "cell_type": "code",
   "execution_count": 6,
   "metadata": {},
   "outputs": [],
   "source": [
    "# Define constant variables\n",
    "# log_dose to compute AUC \n",
    "log_dose = c(-9.205031395,-8.699881554,-8.13012790,-7.70415926,-7.209309101,-6.70415926,-6.125806332,-5.699837685,-5.204987526,-4.699837685)\n",
    "doses = 10^log_dose * 1e6\n",
    "\n",
    "# METRICS FUNCTIONS\n",
    "num <- function(x){ return(as.numeric(as.character(x))) }\n",
    "flatten <- function(x){return(as.vector(as.matrix(x)))}\n",
    "mse <- function(tr, pr){ return( sum((tr - pr)^2) / length(tr) ) }\n",
    "rmse <- function(tr, pr){ return( sqrt( sum((tr - pr)^2) / length(tr) ) ) }\n",
    "scor <- function(tr, pr){ return( cor(tr, pr, method = 'spearman') ) }\n",
    "pcor <- function(tr, pr){ return( cor(tr, pr, method = 'pearson') ) }\n",
    "\n",
    "# Function to load all deconvoluted proportions\n",
    "load_all_props <- function(odir, include_cibersortx=FALSE){\n",
    "    tdir = paste0(odir,'/tmp_tabs')\n",
    "    true_p = read.csv(paste0(odir, '/true_prop.csv'), row.names='X')\n",
    "    sample_names = row.names(true_p)\n",
    "    celltype_names = read.csv(paste0(odir, '/celltype_names.csv'))$x\n",
    "    climb_p = read.csv(paste0(odir, '/climb_prop.csv'), row.names='X')[,as.character(celltype_names)]\n",
    "    #climb_dw_p = read.csv(paste0(odir, '/climb_dw_prop.csv'), row.names='X')[,as.character(celltype_names)]\n",
    "    bayesprism_p = read.csv(paste0(odir, '/bayesprism_prop.csv'), row.names='X')[,as.character(celltype_names)]\n",
    "    music_p = read.csv(paste0(odir, '/music_prop.csv'), row.names='X')[,as.character(celltype_names)]\n",
    "    nnls_p = read.csv(paste0(odir, '/nnls_prop.csv'), row.names='X')[,as.character(celltype_names)]\n",
    "    rand_p = read.csv(paste0(odir, '/rand_prop.csv'), row.names='X')[,as.character(celltype_names)]\n",
    "    bisque_p = read.csv(paste0(odir, '/bisque_prop.csv'), row.names='X')[,as.character(celltype_names)]\n",
    "    tape_p = load_tape_prop(tdir, odir, celltype_names)[,as.character(celltype_names)]\n",
    "    scaden_p = load_scaden_prop(tdir, odir, celltype_names)[,as.character(celltype_names)]\n",
    "    if(include_cibersortx){\n",
    "        csx_p = read.csv(paste0(odir, '/cibersortx_prop.csv'), row.names='X')[,as.character(celltype_names)]\n",
    "        all_p = list(as.matrix(climb_p), as.matrix(scaden_p), \n",
    "                     as.matrix(tape_p), as.matrix(csx_p), as.matrix(bayesprism_p), as.matrix(music_p), \n",
    "                     as.matrix(nnls_p), as.matrix(bisque_p), as.matrix(rand_p))\n",
    "        names(all_p) = c('CLIMB', 'Scaden', 'TAPE', 'CiberSortX', 'BayesPrism', 'MuSiC', 'NNLS', 'BisqueRNA', 'Random')\n",
    "    } else {\n",
    "        all_p = list(as.matrix(climb_dw_p), as.matrix(climb_p), as.matrix(scaden_p), \n",
    "                     as.matrix(tape_p), as.matrix(bayesprism_p), as.matrix(music_p), \n",
    "                     as.matrix(nnls_p), as.matrix(bisque_p), as.matrix(rand_p))\n",
    "        names(all_p) = c('CLIMB-DW', 'CLIMB', 'Scaden', 'TAPE', 'BayesPrism', 'MuSiC', 'NNLS', 'BisqueRNA', 'Random')\n",
    "    }\n",
    "    true_prop_cols = colnames(true_prop) ; true_prop_rows = rownames(true_prop)\n",
    "    message(paste0('Checking that all tables have the same cell-type labels: ',suppressWarnings(all(lapply(all_p, function(x) all(colnames(x) == true_prop_cols))))))\n",
    "    message(paste0('Checking that all tables has the same sample names: ',suppressWarnings(all(lapply(all_p, function(x) all(rownames(x) == true_prop_rows))))))\n",
    "    return(all_p)\n",
    "}      \n",
    "\n",
    "                                                                                                      reformat_strings <- function(vector_string){\n",
    "    # replace plus and minus (e.g. useful for CD34+, CD34- populations)\n",
    "    vector_string <- gsub('\\\\-$', 'minus', vector_string) \n",
    "    vector_string <- gsub('\\\\+', 'plus', vector_string) \n",
    "    vector_string <- gsub('\\\\ ', '\\\\.', vector_string) \n",
    "    # remove all special characters\n",
    "    vector_string <- gsub('[^[:alnum:] ]','',vector_string)\n",
    "    return(vector_string)\n",
    "}\n",
    "reformat_celltypes <- function(celltype_labels){\n",
    "    celltype_labels <- reformat_strings(as.vector(celltype_labels))\n",
    "    celltype_labels <- factor(celltype_labels)\n",
    "    return(celltype_labels)\n",
    "}\n",
    "add_missing_celltypes <- function(tab, celltype_names){\n",
    "    missing_ct = celltype_names[!celltype_names %in% colnames(tab)]\n",
    "    if(length(missing_ct)>0){\n",
    "        for(ct in missing_ct){\n",
    "            tab_ = cbind(tab, rep(0, dim(tab)[1]))\n",
    "            colnames(tab_) = c(colnames(tab), ct)\n",
    "            tab = tab_\n",
    "        }\n",
    "    }\n",
    "    return(tab)\n",
    "}\n",
    "load_tape_prop <- function(tmp_dir, out_dir, celltype_names){\n",
    "    celltype_names = reformat_celltypes(celltype_names)\n",
    "    tape_prop = read.csv(paste0(tmp_dir,'/tape_a_prop.csv'), row.names = 'X')\n",
    "    colnames(tape_prop) = reformat_celltypes(colnames(tape_prop))\n",
    "    tape_prop = add_missing_celltypes(tape_prop, celltype_names)\n",
    "    tape_prop = tape_prop[,as.character(celltype_names)]\n",
    "    write.csv(tape_prop, paste0(out_dir,'/tape_prop.csv'), quote=F)\n",
    "    return(tape_prop)\n",
    "}\n",
    "load_scaden_prop <- function(tmp_dir, out_dir, celltype_names){\n",
    "    celltype_names = reformat_celltypes(celltype_names)\n",
    "    scaden_prop = read.csv(paste0(tmp_dir,'/scaden_prop.csv'), row.names = 'X')\n",
    "    colnames(scaden_prop) = reformat_celltypes(colnames(scaden_prop))\n",
    "    scaden_prop = add_missing_celltypes(scaden_prop, celltype_names)\n",
    "    scaden_prop = scaden_prop[,as.character(celltype_names)]\n",
    "    write.csv(scaden_prop, paste0(out_dir,'/scaden_prop.csv'), quote=F)\n",
    "    return(scaden_prop)\n",
    "}\n",
    "load_all_props <- function(odir, include_cibersortx=FALSE){\n",
    "    tdir = paste0(odir,'/tmp_tabs')\n",
    "    true_p = read.csv(paste0(odir, '/true_prop.csv'), row.names='X')\n",
    "    sample_names = row.names(true_p)\n",
    "    celltype_names = read.csv(paste0(odir, '/celltype_names.csv'))$x\n",
    "    climb_p = read.csv(paste0(odir, '/climb_prop.csv'), row.names='X')[,as.character(celltype_names)]\n",
    "    #climb_dw_p = read.csv(paste0(odir, '/climb_dw_prop.csv'), row.names='X')[,as.character(celltype_names)]\n",
    "    bayesprism_p = read.csv(paste0(odir, '/bayesprism_prop.csv'), row.names='X')[,as.character(celltype_names)]\n",
    "    music_p = read.csv(paste0(odir, '/music_prop.csv'), row.names='X')[,as.character(celltype_names)]\n",
    "    nnls_p = read.csv(paste0(odir, '/nnls_prop.csv'), row.names='X')[,as.character(celltype_names)]\n",
    "    rand_p = read.csv(paste0(odir, '/rand_prop.csv'), row.names='X')[,as.character(celltype_names)]\n",
    "    bisque_p = read.csv(paste0(odir, '/bisque_prop.csv'), row.names='X')[,as.character(celltype_names)]\n",
    "    tape_p = load_tape_prop(tdir, odir, celltype_names)[,as.character(celltype_names)]\n",
    "    scaden_p = load_scaden_prop(tdir, odir, celltype_names)[,as.character(celltype_names)]\n",
    "    if(include_cibersortx){\n",
    "        csx_p = read.csv(paste0(odir, '/cibersortx_prop.csv'), row.names='Mixture')[,as.character(celltype_names)]\n",
    "        all_p = list(as.matrix(climb_p), as.matrix(scaden_p), \n",
    "                     as.matrix(tape_p), as.matrix(csx_p), as.matrix(bayesprism_p), as.matrix(music_p), \n",
    "                     as.matrix(nnls_p), as.matrix(bisque_p), as.matrix(rand_p))\n",
    "        names(all_p) = c('CLIMB', 'Scaden', 'TAPE', 'CiberSortX', 'BayesPrism', 'MuSiC', 'NNLS', 'BisqueRNA', 'Random')\n",
    "    } else {\n",
    "        all_p = list(as.matrix(climb_p), as.matrix(scaden_p), \n",
    "                     as.matrix(tape_p), as.matrix(bayesprism_p), as.matrix(music_p), \n",
    "                     as.matrix(nnls_p), as.matrix(bisque_p), as.matrix(rand_p))\n",
    "        names(all_p) = c('CLIMB', 'Scaden', 'TAPE', 'BayesPrism', 'MuSiC', 'NNLS', 'BisqueRNA', 'Random')\n",
    "    }\n",
    "    true_prop_cols = colnames(true_p) ; true_prop_rows = rownames(true_p)\n",
    "    message(paste0('Checking that all tables have the same cell-type labels: ',suppressWarnings(all(lapply(all_p, function(x) all(colnames(x) == true_prop_cols))))))\n",
    "    message(paste0('Checking that all tables has the same sample names: ',suppressWarnings(all(lapply(all_p, function(x) all(rownames(x) == true_prop_rows))))))\n",
    "    return(all_p)\n",
    "}   "
   ]
  },
  {
   "cell_type": "markdown",
   "metadata": {},
   "source": [
    "Here we generate a function to compute the area under the curve based on multiple drug doses using a function from `PharmacoGx` package. The idea is to summarize drug sensitivity integrating all data points from each drug dose, to get a single dot for each combination of drug, and timepoints."
   ]
  },
  {
   "cell_type": "code",
   "execution_count": 7,
   "metadata": {},
   "outputs": [],
   "source": [
    "computeAUC_ = function(viability){\n",
    "    # ComputeAUC returns (1-Viability), it is thus a score of drug sensitivity\n",
    "    computeAUC(doses, viability, viability_as_pct=FALSE, area.type = 'Fitted', trunc = FALSE, verbose = FALSE)\n",
    "}"
   ]
  },
  {
   "cell_type": "markdown",
   "metadata": {},
   "source": [
    "## Load Data"
   ]
  },
  {
   "cell_type": "code",
   "execution_count": 8,
   "metadata": {},
   "outputs": [
    {
     "name": "stderr",
     "output_type": "stream",
     "text": [
      "Checking that all tables have the same cell-type labels: TRUE\n",
      "\n",
      "Checking that all tables has the same sample names: TRUE\n",
      "\n"
     ]
    }
   ],
   "source": [
    "# load proportions from diverse deconvolution methods\n",
    "all_props = load_all_props('data/invitro_climb/tables/', include_cibersortx=T)"
   ]
  },
  {
   "cell_type": "code",
   "execution_count": 10,
   "metadata": {},
   "outputs": [
    {
     "data": {
      "text/html": [
       "<table class=\"dataframe\">\n",
       "<caption>A data.frame: 6 × 5</caption>\n",
       "<thead>\n",
       "\t<tr><th></th><th scope=col>sample_name</th><th scope=col>dose</th><th scope=col>timepoint</th><th scope=col>drug</th><th scope=col>viability</th></tr>\n",
       "\t<tr><th></th><th scope=col>&lt;chr&gt;</th><th scope=col>&lt;chr&gt;</th><th scope=col>&lt;chr&gt;</th><th scope=col>&lt;chr&gt;</th><th scope=col>&lt;dbl&gt;</th></tr>\n",
       "</thead>\n",
       "<tbody>\n",
       "\t<tr><th scope=row>1</th><td>SUDHL4_n1</td><td>d1</td><td>48h</td><td>5Aza2d</td><td>1.641807</td></tr>\n",
       "\t<tr><th scope=row>2</th><td>SUDHL4_n1</td><td>d2</td><td>48h</td><td>5Aza2d</td><td>1.621849</td></tr>\n",
       "\t<tr><th scope=row>3</th><td>SUDHL4_n1</td><td>d3</td><td>48h</td><td>5Aza2d</td><td>1.583508</td></tr>\n",
       "\t<tr><th scope=row>4</th><td>SUDHL4_n1</td><td>d4</td><td>48h</td><td>5Aza2d</td><td>1.528887</td></tr>\n",
       "\t<tr><th scope=row>5</th><td>SUDHL4_n1</td><td>d5</td><td>48h</td><td>5Aza2d</td><td>1.381828</td></tr>\n",
       "\t<tr><th scope=row>6</th><td>SUDHL4_n1</td><td>d6</td><td>48h</td><td>5Aza2d</td><td>1.344538</td></tr>\n",
       "</tbody>\n",
       "</table>\n"
      ],
      "text/latex": [
       "A data.frame: 6 × 5\n",
       "\\begin{tabular}{r|lllll}\n",
       "  & sample\\_name & dose & timepoint & drug & viability\\\\\n",
       "  & <chr> & <chr> & <chr> & <chr> & <dbl>\\\\\n",
       "\\hline\n",
       "\t1 & SUDHL4\\_n1 & d1 & 48h & 5Aza2d & 1.641807\\\\\n",
       "\t2 & SUDHL4\\_n1 & d2 & 48h & 5Aza2d & 1.621849\\\\\n",
       "\t3 & SUDHL4\\_n1 & d3 & 48h & 5Aza2d & 1.583508\\\\\n",
       "\t4 & SUDHL4\\_n1 & d4 & 48h & 5Aza2d & 1.528887\\\\\n",
       "\t5 & SUDHL4\\_n1 & d5 & 48h & 5Aza2d & 1.381828\\\\\n",
       "\t6 & SUDHL4\\_n1 & d6 & 48h & 5Aza2d & 1.344538\\\\\n",
       "\\end{tabular}\n"
      ],
      "text/markdown": [
       "\n",
       "A data.frame: 6 × 5\n",
       "\n",
       "| <!--/--> | sample_name &lt;chr&gt; | dose &lt;chr&gt; | timepoint &lt;chr&gt; | drug &lt;chr&gt; | viability &lt;dbl&gt; |\n",
       "|---|---|---|---|---|---|\n",
       "| 1 | SUDHL4_n1 | d1 | 48h | 5Aza2d | 1.641807 |\n",
       "| 2 | SUDHL4_n1 | d2 | 48h | 5Aza2d | 1.621849 |\n",
       "| 3 | SUDHL4_n1 | d3 | 48h | 5Aza2d | 1.583508 |\n",
       "| 4 | SUDHL4_n1 | d4 | 48h | 5Aza2d | 1.528887 |\n",
       "| 5 | SUDHL4_n1 | d5 | 48h | 5Aza2d | 1.381828 |\n",
       "| 6 | SUDHL4_n1 | d6 | 48h | 5Aza2d | 1.344538 |\n",
       "\n"
      ],
      "text/plain": [
       "  sample_name dose timepoint drug   viability\n",
       "1 SUDHL4_n1   d1   48h       5Aza2d 1.641807 \n",
       "2 SUDHL4_n1   d2   48h       5Aza2d 1.621849 \n",
       "3 SUDHL4_n1   d3   48h       5Aza2d 1.583508 \n",
       "4 SUDHL4_n1   d4   48h       5Aza2d 1.528887 \n",
       "5 SUDHL4_n1   d5   48h       5Aza2d 1.381828 \n",
       "6 SUDHL4_n1   d6   48h       5Aza2d 1.344538 "
      ]
     },
     "metadata": {},
     "output_type": "display_data"
    }
   ],
   "source": [
    "df_raw_drug_data = read.csv(\"data/invitro_climb/invitro_drug_resp.csv\", row.names = 'X')\n",
    "head(df_raw_drug_data)"
   ]
  },
  {
   "cell_type": "code",
   "execution_count": 11,
   "metadata": {},
   "outputs": [],
   "source": [
    "df_raw_drug_data = df_raw_drug_data[df_raw_drug_data$drug != 'Oxaliplatin',]"
   ]
  },
  {
   "cell_type": "code",
   "execution_count": 12,
   "metadata": {},
   "outputs": [],
   "source": [
    "df_raw_drug_data$sample = gsub('_.*','',df_raw_drug_data$sample_name)"
   ]
  },
  {
   "cell_type": "code",
   "execution_count": 13,
   "metadata": {},
   "outputs": [],
   "source": [
    "# we average over duplicates\n",
    "df_raw_drug_data_av = aggregate(num(df_raw_drug_data$viability), list(df_raw_drug_data$sample, df_raw_drug_data$timepoint, df_raw_drug_data$drug, df_raw_drug_data$dose), mean)\n",
    "colnames(df_raw_drug_data_av) = c('sample', 'timepoint', 'drug', 'dose', 'viability')"
   ]
  },
  {
   "cell_type": "code",
   "execution_count": 14,
   "metadata": {},
   "outputs": [
    {
     "data": {
      "text/html": [
       "<table class=\"dataframe\">\n",
       "<caption>A data.frame: 6 × 6</caption>\n",
       "<thead>\n",
       "\t<tr><th></th><th scope=col>sample</th><th scope=col>timepoint</th><th scope=col>drug</th><th scope=col>dose</th><th scope=col>viability</th><th scope=col>uniq_id</th></tr>\n",
       "\t<tr><th></th><th scope=col>&lt;chr&gt;</th><th scope=col>&lt;chr&gt;</th><th scope=col>&lt;chr&gt;</th><th scope=col>&lt;chr&gt;</th><th scope=col>&lt;dbl&gt;</th><th scope=col>&lt;chr&gt;</th></tr>\n",
       "</thead>\n",
       "<tbody>\n",
       "\t<tr><th scope=row>1</th><td>BULK1</td><td>48h</td><td>5Aza2d</td><td>d1</td><td>1.128118</td><td>5Aza2d_48h-d1</td></tr>\n",
       "\t<tr><th scope=row>2</th><td>BULK2</td><td>48h</td><td>5Aza2d</td><td>d1</td><td>1.068903</td><td>5Aza2d_48h-d1</td></tr>\n",
       "\t<tr><th scope=row>3</th><td>BULK3</td><td>48h</td><td>5Aza2d</td><td>d1</td><td>1.070443</td><td>5Aza2d_48h-d1</td></tr>\n",
       "\t<tr><th scope=row>4</th><td>BULK4</td><td>48h</td><td>5Aza2d</td><td>d1</td><td>1.003933</td><td>5Aza2d_48h-d1</td></tr>\n",
       "\t<tr><th scope=row>5</th><td>BULK5</td><td>48h</td><td>5Aza2d</td><td>d1</td><td>1.069722</td><td>5Aza2d_48h-d1</td></tr>\n",
       "\t<tr><th scope=row>6</th><td>BULK6</td><td>48h</td><td>5Aza2d</td><td>d1</td><td>1.105953</td><td>5Aza2d_48h-d1</td></tr>\n",
       "</tbody>\n",
       "</table>\n"
      ],
      "text/latex": [
       "A data.frame: 6 × 6\n",
       "\\begin{tabular}{r|llllll}\n",
       "  & sample & timepoint & drug & dose & viability & uniq\\_id\\\\\n",
       "  & <chr> & <chr> & <chr> & <chr> & <dbl> & <chr>\\\\\n",
       "\\hline\n",
       "\t1 & BULK1 & 48h & 5Aza2d & d1 & 1.128118 & 5Aza2d\\_48h-d1\\\\\n",
       "\t2 & BULK2 & 48h & 5Aza2d & d1 & 1.068903 & 5Aza2d\\_48h-d1\\\\\n",
       "\t3 & BULK3 & 48h & 5Aza2d & d1 & 1.070443 & 5Aza2d\\_48h-d1\\\\\n",
       "\t4 & BULK4 & 48h & 5Aza2d & d1 & 1.003933 & 5Aza2d\\_48h-d1\\\\\n",
       "\t5 & BULK5 & 48h & 5Aza2d & d1 & 1.069722 & 5Aza2d\\_48h-d1\\\\\n",
       "\t6 & BULK6 & 48h & 5Aza2d & d1 & 1.105953 & 5Aza2d\\_48h-d1\\\\\n",
       "\\end{tabular}\n"
      ],
      "text/markdown": [
       "\n",
       "A data.frame: 6 × 6\n",
       "\n",
       "| <!--/--> | sample &lt;chr&gt; | timepoint &lt;chr&gt; | drug &lt;chr&gt; | dose &lt;chr&gt; | viability &lt;dbl&gt; | uniq_id &lt;chr&gt; |\n",
       "|---|---|---|---|---|---|---|\n",
       "| 1 | BULK1 | 48h | 5Aza2d | d1 | 1.128118 | 5Aza2d_48h-d1 |\n",
       "| 2 | BULK2 | 48h | 5Aza2d | d1 | 1.068903 | 5Aza2d_48h-d1 |\n",
       "| 3 | BULK3 | 48h | 5Aza2d | d1 | 1.070443 | 5Aza2d_48h-d1 |\n",
       "| 4 | BULK4 | 48h | 5Aza2d | d1 | 1.003933 | 5Aza2d_48h-d1 |\n",
       "| 5 | BULK5 | 48h | 5Aza2d | d1 | 1.069722 | 5Aza2d_48h-d1 |\n",
       "| 6 | BULK6 | 48h | 5Aza2d | d1 | 1.105953 | 5Aza2d_48h-d1 |\n",
       "\n"
      ],
      "text/plain": [
       "  sample timepoint drug   dose viability uniq_id      \n",
       "1 BULK1  48h       5Aza2d d1   1.128118  5Aza2d_48h-d1\n",
       "2 BULK2  48h       5Aza2d d1   1.068903  5Aza2d_48h-d1\n",
       "3 BULK3  48h       5Aza2d d1   1.070443  5Aza2d_48h-d1\n",
       "4 BULK4  48h       5Aza2d d1   1.003933  5Aza2d_48h-d1\n",
       "5 BULK5  48h       5Aza2d d1   1.069722  5Aza2d_48h-d1\n",
       "6 BULK6  48h       5Aza2d d1   1.105953  5Aza2d_48h-d1"
      ]
     },
     "metadata": {},
     "output_type": "display_data"
    }
   ],
   "source": [
    "df_raw_drug_data_av$uniq_id = paste0(df_raw_drug_data_av$drug, '_', df_raw_drug_data_av$timepoint, '-', df_raw_drug_data_av$dose)\n",
    "head(df_raw_drug_data_av)"
   ]
  },
  {
   "cell_type": "code",
   "execution_count": 15,
   "metadata": {},
   "outputs": [],
   "source": [
    "bulk_raw_data = df_raw_drug_data_av[grepl('BULK',df_raw_drug_data_av$sample),]"
   ]
  },
  {
   "cell_type": "code",
   "execution_count": 16,
   "metadata": {},
   "outputs": [
    {
     "data": {
      "text/html": [
       "<table class=\"dataframe\">\n",
       "<caption>A data.frame: 6 × 3</caption>\n",
       "<thead>\n",
       "\t<tr><th></th><th scope=col>sample</th><th scope=col>drug</th><th scope=col>viability</th></tr>\n",
       "\t<tr><th></th><th scope=col>&lt;chr&gt;</th><th scope=col>&lt;chr&gt;</th><th scope=col>&lt;dbl&gt;</th></tr>\n",
       "</thead>\n",
       "<tbody>\n",
       "\t<tr><th scope=row>1</th><td>BULK1</td><td>5Aza2d_48h-d1</td><td>1.128118</td></tr>\n",
       "\t<tr><th scope=row>2</th><td>BULK2</td><td>5Aza2d_48h-d1</td><td>1.068903</td></tr>\n",
       "\t<tr><th scope=row>3</th><td>BULK3</td><td>5Aza2d_48h-d1</td><td>1.070443</td></tr>\n",
       "\t<tr><th scope=row>4</th><td>BULK4</td><td>5Aza2d_48h-d1</td><td>1.003933</td></tr>\n",
       "\t<tr><th scope=row>5</th><td>BULK5</td><td>5Aza2d_48h-d1</td><td>1.069722</td></tr>\n",
       "\t<tr><th scope=row>6</th><td>BULK6</td><td>5Aza2d_48h-d1</td><td>1.105953</td></tr>\n",
       "</tbody>\n",
       "</table>\n"
      ],
      "text/latex": [
       "A data.frame: 6 × 3\n",
       "\\begin{tabular}{r|lll}\n",
       "  & sample & drug & viability\\\\\n",
       "  & <chr> & <chr> & <dbl>\\\\\n",
       "\\hline\n",
       "\t1 & BULK1 & 5Aza2d\\_48h-d1 & 1.128118\\\\\n",
       "\t2 & BULK2 & 5Aza2d\\_48h-d1 & 1.068903\\\\\n",
       "\t3 & BULK3 & 5Aza2d\\_48h-d1 & 1.070443\\\\\n",
       "\t4 & BULK4 & 5Aza2d\\_48h-d1 & 1.003933\\\\\n",
       "\t5 & BULK5 & 5Aza2d\\_48h-d1 & 1.069722\\\\\n",
       "\t6 & BULK6 & 5Aza2d\\_48h-d1 & 1.105953\\\\\n",
       "\\end{tabular}\n"
      ],
      "text/markdown": [
       "\n",
       "A data.frame: 6 × 3\n",
       "\n",
       "| <!--/--> | sample &lt;chr&gt; | drug &lt;chr&gt; | viability &lt;dbl&gt; |\n",
       "|---|---|---|---|\n",
       "| 1 | BULK1 | 5Aza2d_48h-d1 | 1.128118 |\n",
       "| 2 | BULK2 | 5Aza2d_48h-d1 | 1.068903 |\n",
       "| 3 | BULK3 | 5Aza2d_48h-d1 | 1.070443 |\n",
       "| 4 | BULK4 | 5Aza2d_48h-d1 | 1.003933 |\n",
       "| 5 | BULK5 | 5Aza2d_48h-d1 | 1.069722 |\n",
       "| 6 | BULK6 | 5Aza2d_48h-d1 | 1.105953 |\n",
       "\n"
      ],
      "text/plain": [
       "  sample drug          viability\n",
       "1 BULK1  5Aza2d_48h-d1 1.128118 \n",
       "2 BULK2  5Aza2d_48h-d1 1.068903 \n",
       "3 BULK3  5Aza2d_48h-d1 1.070443 \n",
       "4 BULK4  5Aza2d_48h-d1 1.003933 \n",
       "5 BULK5  5Aza2d_48h-d1 1.069722 \n",
       "6 BULK6  5Aza2d_48h-d1 1.105953 "
      ]
     },
     "metadata": {},
     "output_type": "display_data"
    }
   ],
   "source": [
    "bulk_raw_data = bulk_raw_data[,c('sample','uniq_id','viability')]\n",
    "colnames(bulk_raw_data) = c('sample', 'drug', 'viability')\n",
    "head(bulk_raw_data)"
   ]
  },
  {
   "cell_type": "code",
   "execution_count": 17,
   "metadata": {},
   "outputs": [
    {
     "data": {
      "text/html": [
       "<table class=\"dataframe\">\n",
       "<caption>A data.frame: 6 × 5</caption>\n",
       "<thead>\n",
       "\t<tr><th></th><th scope=col>sample</th><th scope=col>timepoint</th><th scope=col>drug</th><th scope=col>auc</th><th scope=col>uniq_id</th></tr>\n",
       "\t<tr><th></th><th scope=col>&lt;chr&gt;</th><th scope=col>&lt;chr&gt;</th><th scope=col>&lt;chr&gt;</th><th scope=col>&lt;dbl&gt;</th><th scope=col>&lt;chr&gt;</th></tr>\n",
       "</thead>\n",
       "<tbody>\n",
       "\t<tr><th scope=row>1</th><td>BULK1</td><td>48h</td><td>5Aza2d</td><td>0.09961642</td><td>5Aza2d_48h</td></tr>\n",
       "\t<tr><th scope=row>2</th><td>BULK2</td><td>48h</td><td>5Aza2d</td><td>0.12332685</td><td>5Aza2d_48h</td></tr>\n",
       "\t<tr><th scope=row>3</th><td>BULK3</td><td>48h</td><td>5Aza2d</td><td>0.12984720</td><td>5Aza2d_48h</td></tr>\n",
       "\t<tr><th scope=row>4</th><td>BULK4</td><td>48h</td><td>5Aza2d</td><td>0.13563668</td><td>5Aza2d_48h</td></tr>\n",
       "\t<tr><th scope=row>5</th><td>BULK5</td><td>48h</td><td>5Aza2d</td><td>0.12739408</td><td>5Aza2d_48h</td></tr>\n",
       "\t<tr><th scope=row>6</th><td>BULK6</td><td>48h</td><td>5Aza2d</td><td>0.11713985</td><td>5Aza2d_48h</td></tr>\n",
       "</tbody>\n",
       "</table>\n"
      ],
      "text/latex": [
       "A data.frame: 6 × 5\n",
       "\\begin{tabular}{r|lllll}\n",
       "  & sample & timepoint & drug & auc & uniq\\_id\\\\\n",
       "  & <chr> & <chr> & <chr> & <dbl> & <chr>\\\\\n",
       "\\hline\n",
       "\t1 & BULK1 & 48h & 5Aza2d & 0.09961642 & 5Aza2d\\_48h\\\\\n",
       "\t2 & BULK2 & 48h & 5Aza2d & 0.12332685 & 5Aza2d\\_48h\\\\\n",
       "\t3 & BULK3 & 48h & 5Aza2d & 0.12984720 & 5Aza2d\\_48h\\\\\n",
       "\t4 & BULK4 & 48h & 5Aza2d & 0.13563668 & 5Aza2d\\_48h\\\\\n",
       "\t5 & BULK5 & 48h & 5Aza2d & 0.12739408 & 5Aza2d\\_48h\\\\\n",
       "\t6 & BULK6 & 48h & 5Aza2d & 0.11713985 & 5Aza2d\\_48h\\\\\n",
       "\\end{tabular}\n"
      ],
      "text/markdown": [
       "\n",
       "A data.frame: 6 × 5\n",
       "\n",
       "| <!--/--> | sample &lt;chr&gt; | timepoint &lt;chr&gt; | drug &lt;chr&gt; | auc &lt;dbl&gt; | uniq_id &lt;chr&gt; |\n",
       "|---|---|---|---|---|---|\n",
       "| 1 | BULK1 | 48h | 5Aza2d | 0.09961642 | 5Aza2d_48h |\n",
       "| 2 | BULK2 | 48h | 5Aza2d | 0.12332685 | 5Aza2d_48h |\n",
       "| 3 | BULK3 | 48h | 5Aza2d | 0.12984720 | 5Aza2d_48h |\n",
       "| 4 | BULK4 | 48h | 5Aza2d | 0.13563668 | 5Aza2d_48h |\n",
       "| 5 | BULK5 | 48h | 5Aza2d | 0.12739408 | 5Aza2d_48h |\n",
       "| 6 | BULK6 | 48h | 5Aza2d | 0.11713985 | 5Aza2d_48h |\n",
       "\n"
      ],
      "text/plain": [
       "  sample timepoint drug   auc        uniq_id   \n",
       "1 BULK1  48h       5Aza2d 0.09961642 5Aza2d_48h\n",
       "2 BULK2  48h       5Aza2d 0.12332685 5Aza2d_48h\n",
       "3 BULK3  48h       5Aza2d 0.12984720 5Aza2d_48h\n",
       "4 BULK4  48h       5Aza2d 0.13563668 5Aza2d_48h\n",
       "5 BULK5  48h       5Aza2d 0.12739408 5Aza2d_48h\n",
       "6 BULK6  48h       5Aza2d 0.11713985 5Aza2d_48h"
      ]
     },
     "metadata": {},
     "output_type": "display_data"
    }
   ],
   "source": [
    "agg_cell_line = aggregate(df_raw_drug_data$viability, list(df_raw_drug_data$sample_name, df_raw_drug_data$timepoint, df_raw_drug_data$drug), computeAUC_)\n",
    "# renaming column and generate sample name from replicate names\n",
    "colnames(agg_cell_line) <- c('replicate', 'timepoint', 'drug', 'auc')\n",
    "agg_cell_line$sample = gsub('_.*','',agg_cell_line$replicate)\n",
    "# we average over duplicates\n",
    "auc_cell_line = aggregate(num(agg_cell_line$auc), list(agg_cell_line$sample, agg_cell_line$timepoint, agg_cell_line$drug), mean)\n",
    "# renaming\n",
    "colnames(auc_cell_line) <- c('sample', 'timepoint', 'drug', 'auc')\n",
    "auc_cell_line$uniq_id = paste0(auc_cell_line$drug, '_', auc_cell_line$timepoint)\n",
    "head(auc_cell_line)"
   ]
  },
  {
   "cell_type": "code",
   "execution_count": 18,
   "metadata": {},
   "outputs": [],
   "source": [
    "bulk_auc_data = auc_cell_line[grepl('BULK',auc_cell_line$sample),]\n",
    "true_auc_cell_line = auc_cell_line[!grepl('BULK',auc_cell_line$sample),]"
   ]
  },
  {
   "cell_type": "code",
   "execution_count": 19,
   "metadata": {},
   "outputs": [
    {
     "data": {
      "text/html": [
       "<table class=\"dataframe\">\n",
       "<caption>A data.frame: 6 × 3</caption>\n",
       "<thead>\n",
       "\t<tr><th></th><th scope=col>sample</th><th scope=col>drug</th><th scope=col>auc</th></tr>\n",
       "\t<tr><th></th><th scope=col>&lt;chr&gt;</th><th scope=col>&lt;chr&gt;</th><th scope=col>&lt;dbl&gt;</th></tr>\n",
       "</thead>\n",
       "<tbody>\n",
       "\t<tr><th scope=row>1</th><td>BULK1</td><td>5Aza2d_48h</td><td>0.09961642</td></tr>\n",
       "\t<tr><th scope=row>2</th><td>BULK2</td><td>5Aza2d_48h</td><td>0.12332685</td></tr>\n",
       "\t<tr><th scope=row>3</th><td>BULK3</td><td>5Aza2d_48h</td><td>0.12984720</td></tr>\n",
       "\t<tr><th scope=row>4</th><td>BULK4</td><td>5Aza2d_48h</td><td>0.13563668</td></tr>\n",
       "\t<tr><th scope=row>5</th><td>BULK5</td><td>5Aza2d_48h</td><td>0.12739408</td></tr>\n",
       "\t<tr><th scope=row>6</th><td>BULK6</td><td>5Aza2d_48h</td><td>0.11713985</td></tr>\n",
       "</tbody>\n",
       "</table>\n"
      ],
      "text/latex": [
       "A data.frame: 6 × 3\n",
       "\\begin{tabular}{r|lll}\n",
       "  & sample & drug & auc\\\\\n",
       "  & <chr> & <chr> & <dbl>\\\\\n",
       "\\hline\n",
       "\t1 & BULK1 & 5Aza2d\\_48h & 0.09961642\\\\\n",
       "\t2 & BULK2 & 5Aza2d\\_48h & 0.12332685\\\\\n",
       "\t3 & BULK3 & 5Aza2d\\_48h & 0.12984720\\\\\n",
       "\t4 & BULK4 & 5Aza2d\\_48h & 0.13563668\\\\\n",
       "\t5 & BULK5 & 5Aza2d\\_48h & 0.12739408\\\\\n",
       "\t6 & BULK6 & 5Aza2d\\_48h & 0.11713985\\\\\n",
       "\\end{tabular}\n"
      ],
      "text/markdown": [
       "\n",
       "A data.frame: 6 × 3\n",
       "\n",
       "| <!--/--> | sample &lt;chr&gt; | drug &lt;chr&gt; | auc &lt;dbl&gt; |\n",
       "|---|---|---|---|\n",
       "| 1 | BULK1 | 5Aza2d_48h | 0.09961642 |\n",
       "| 2 | BULK2 | 5Aza2d_48h | 0.12332685 |\n",
       "| 3 | BULK3 | 5Aza2d_48h | 0.12984720 |\n",
       "| 4 | BULK4 | 5Aza2d_48h | 0.13563668 |\n",
       "| 5 | BULK5 | 5Aza2d_48h | 0.12739408 |\n",
       "| 6 | BULK6 | 5Aza2d_48h | 0.11713985 |\n",
       "\n"
      ],
      "text/plain": [
       "  sample drug       auc       \n",
       "1 BULK1  5Aza2d_48h 0.09961642\n",
       "2 BULK2  5Aza2d_48h 0.12332685\n",
       "3 BULK3  5Aza2d_48h 0.12984720\n",
       "4 BULK4  5Aza2d_48h 0.13563668\n",
       "5 BULK5  5Aza2d_48h 0.12739408\n",
       "6 BULK6  5Aza2d_48h 0.11713985"
      ]
     },
     "metadata": {},
     "output_type": "display_data"
    }
   ],
   "source": [
    "bulk_auc_data = bulk_auc_data[,c('sample','uniq_id','auc')]\n",
    "colnames(bulk_auc_data) = c('sample', 'drug', 'auc')\n",
    "head(bulk_auc_data)"
   ]
  },
  {
   "cell_type": "markdown",
   "metadata": {},
   "source": [
    "## Load scRNA-seq and bulk RNA-seq and perform CLIMB deconvolution in expression mode"
   ]
  },
  {
   "cell_type": "code",
   "execution_count": 20,
   "metadata": {},
   "outputs": [],
   "source": [
    "# Load ExpressionSet object containing scRNA-seq data from in-vitro cell mixes\n",
    "sc.es = readRDS(\"data/invitro_climb/invitro_sc_es.RDS\")\n",
    "bulk.es = readRDS(\"data/invitro_climb/invitro_bulk_es.RDS\")\n",
    "true_prop = as.matrix(pData(bulk.es))\n",
    "sc.es$cellType = factor(sc.es$cellType, level=unique(sc.es$cellType))"
   ]
  },
  {
   "cell_type": "code",
   "execution_count": 233,
   "metadata": {
    "scrolled": true
   },
   "outputs": [
    {
     "name": "stderr",
     "output_type": "stream",
     "text": [
      "EXPRESSION mode: predicting cell-type expression in bulks - requires single-cell coefficients fitted by CLIMB\n",
      "\n",
      "6169 common genes found between scRNA-seq refererence and bulk datasets\n",
      "\n",
      "Bulk to single-cell mapping for prediction of cell-type abundance / expression\n",
      "\n",
      "Cell-type abundance prediction done. \n",
      "\n",
      "Starting high-resolution expression deconvolution\n",
      "\n",
      "High-Resolution expression prediction: 1000 genes processed...\n",
      "\n",
      "High-Resolution expression prediction: 2000 genes processed...\n",
      "\n",
      "High-Resolution expression prediction: 3000 genes processed...\n",
      "\n",
      "High-Resolution expression prediction: 4000 genes processed...\n",
      "\n",
      "High-Resolution expression prediction: 5000 genes processed...\n",
      "\n",
      "High-Resolution expression prediction: 6000 genes processed...\n",
      "\n"
     ]
    }
   ],
   "source": [
    "# Launch CLIMB in expression mode - takes around 15 minutes\n",
    "climb_res = climb(sc.es, bulk.es, norm_coefs = T, dwls_weights = T,  mode='expression', cancer_pattern = '*')"
   ]
  },
  {
   "cell_type": "code",
   "execution_count": 228,
   "metadata": {},
   "outputs": [],
   "source": [
    "saveRDS(climb_res, 'data/invitro_climb/climb_out_expression.RDS')"
   ]
  },
  {
   "cell_type": "code",
   "execution_count": 21,
   "metadata": {},
   "outputs": [],
   "source": [
    "climb_res = readRDS('data/invitro_climb/climb_out_expression.RDS')"
   ]
  },
  {
   "cell_type": "markdown",
   "metadata": {},
   "source": [
    "## Run CLIFF on all drugs / timepoints \n",
    "\n",
    "We run CLIFF in default mode for all drugs / timepoints, with >10 genes in the selection (c.f. optimization of gene selection below)."
   ]
  },
  {
   "cell_type": "code",
   "execution_count": 22,
   "metadata": {},
   "outputs": [
    {
     "name": "stderr",
     "output_type": "stream",
     "text": [
      "5Aza2d_48h\n",
      "\n",
      "Prepare CLIFF input from CLIMB output, mutation data, and drug sensitivity data\n",
      "\n",
      "No mutation data provided\n",
      "\n",
      "Prepare CLIFF input from CLIMB output, mutation data, and drug sensitivity data\n",
      "\n",
      "Launch CLIFF algorithm and iterate the EM algorithm\n",
      "\n",
      "early stopping of EM algorithm at step 5\n",
      "\n",
      "PCC = 0.277393802995777\n",
      "\n",
      "Prepare CLIFF input from CLIMB output, mutation data, and drug sensitivity data\n",
      "\n",
      "No mutation data provided\n",
      "\n",
      "Prepare CLIFF input from CLIMB output, mutation data, and drug sensitivity data\n",
      "\n",
      "Launch CLIFF algorithm and iterate the EM algorithm\n",
      "\n",
      "early stopping of EM algorithm at step 5\n",
      "\n",
      "PCC = 0.0173442973919105\n",
      "\n",
      "5Aza2d_72h\n",
      "\n",
      "Prepare CLIFF input from CLIMB output, mutation data, and drug sensitivity data\n",
      "\n",
      "No mutation data provided\n",
      "\n",
      "Prepare CLIFF input from CLIMB output, mutation data, and drug sensitivity data\n",
      "\n",
      "Launch CLIFF algorithm and iterate the EM algorithm\n",
      "\n",
      "early stopping of EM algorithm at step 14\n",
      "\n",
      "PCC = -0.50867364620101\n",
      "\n",
      "Prepare CLIFF input from CLIMB output, mutation data, and drug sensitivity data\n",
      "\n",
      "No mutation data provided\n",
      "\n",
      "Prepare CLIFF input from CLIMB output, mutation data, and drug sensitivity data\n",
      "\n",
      "Launch CLIFF algorithm and iterate the EM algorithm\n",
      "\n",
      "early stopping of EM algorithm at step 5\n",
      "\n",
      "PCC = -0.414234530709909\n",
      "\n",
      "5Aza2d_96h\n",
      "\n",
      "Prepare CLIFF input from CLIMB output, mutation data, and drug sensitivity data\n",
      "\n",
      "No mutation data provided\n",
      "\n",
      "Prepare CLIFF input from CLIMB output, mutation data, and drug sensitivity data\n",
      "\n",
      "Launch CLIFF algorithm and iterate the EM algorithm\n",
      "\n",
      "early stopping of EM algorithm at step 5\n",
      "\n",
      "PCC = 0.97563465125643\n",
      "\n",
      "Prepare CLIFF input from CLIMB output, mutation data, and drug sensitivity data\n",
      "\n",
      "No mutation data provided\n",
      "\n",
      "Prepare CLIFF input from CLIMB output, mutation data, and drug sensitivity data\n",
      "\n",
      "Launch CLIFF algorithm and iterate the EM algorithm\n",
      "\n",
      "early stopping of EM algorithm at step 5\n",
      "\n",
      "PCC = 0.888835128389855\n",
      "\n",
      "Cytarabine_48h\n",
      "\n",
      "Prepare CLIFF input from CLIMB output, mutation data, and drug sensitivity data\n",
      "\n",
      "No mutation data provided\n",
      "\n",
      "Prepare CLIFF input from CLIMB output, mutation data, and drug sensitivity data\n",
      "\n",
      "Launch CLIFF algorithm and iterate the EM algorithm\n",
      "\n",
      "early stopping of EM algorithm at step 5\n",
      "\n",
      "PCC = 0.993623612780245\n",
      "\n",
      "Prepare CLIFF input from CLIMB output, mutation data, and drug sensitivity data\n",
      "\n",
      "No mutation data provided\n",
      "\n",
      "Prepare CLIFF input from CLIMB output, mutation data, and drug sensitivity data\n",
      "\n",
      "Launch CLIFF algorithm and iterate the EM algorithm\n",
      "\n",
      "early stopping of EM algorithm at step 5\n",
      "\n",
      "PCC = 0.324769776611806\n",
      "\n",
      "Cytarabine_72h\n",
      "\n",
      "Prepare CLIFF input from CLIMB output, mutation data, and drug sensitivity data\n",
      "\n",
      "No mutation data provided\n",
      "\n",
      "Prepare CLIFF input from CLIMB output, mutation data, and drug sensitivity data\n",
      "\n",
      "Launch CLIFF algorithm and iterate the EM algorithm\n",
      "\n",
      "early stopping of EM algorithm at step 12\n",
      "\n",
      "PCC = 0.215102827728656\n",
      "\n",
      "Prepare CLIFF input from CLIMB output, mutation data, and drug sensitivity data\n",
      "\n",
      "No mutation data provided\n",
      "\n",
      "Prepare CLIFF input from CLIMB output, mutation data, and drug sensitivity data\n",
      "\n",
      "Launch CLIFF algorithm and iterate the EM algorithm\n",
      "\n",
      "early stopping of EM algorithm at step 5\n",
      "\n",
      "PCC = 0.00593088699274833\n",
      "\n",
      "Cytarabine_96h\n",
      "\n",
      "Prepare CLIFF input from CLIMB output, mutation data, and drug sensitivity data\n",
      "\n",
      "No mutation data provided\n",
      "\n",
      "Prepare CLIFF input from CLIMB output, mutation data, and drug sensitivity data\n",
      "\n",
      "Launch CLIFF algorithm and iterate the EM algorithm\n",
      "\n",
      "early stopping of EM algorithm at step 5\n",
      "\n",
      "PCC = 0.544354476171562\n",
      "\n",
      "Prepare CLIFF input from CLIMB output, mutation data, and drug sensitivity data\n",
      "\n",
      "No mutation data provided\n",
      "\n",
      "Prepare CLIFF input from CLIMB output, mutation data, and drug sensitivity data\n",
      "\n",
      "Launch CLIFF algorithm and iterate the EM algorithm\n",
      "\n",
      "early stopping of EM algorithm at step 5\n",
      "\n",
      "PCC = 0.431509771037703\n",
      "\n",
      "Doxorubicin_48h\n",
      "\n",
      "Prepare CLIFF input from CLIMB output, mutation data, and drug sensitivity data\n",
      "\n",
      "No mutation data provided\n",
      "\n",
      "Prepare CLIFF input from CLIMB output, mutation data, and drug sensitivity data\n",
      "\n",
      "Launch CLIFF algorithm and iterate the EM algorithm\n",
      "\n",
      "early stopping of EM algorithm at step 7\n",
      "\n",
      "PCC = 0.755063582365166\n",
      "\n",
      "Prepare CLIFF input from CLIMB output, mutation data, and drug sensitivity data\n",
      "\n",
      "No mutation data provided\n",
      "\n",
      "Prepare CLIFF input from CLIMB output, mutation data, and drug sensitivity data\n",
      "\n",
      "Launch CLIFF algorithm and iterate the EM algorithm\n",
      "\n",
      "early stopping of EM algorithm at step 5\n",
      "\n",
      "PCC = 0.19494724444284\n",
      "\n",
      "Doxorubicin_72h\n",
      "\n",
      "Prepare CLIFF input from CLIMB output, mutation data, and drug sensitivity data\n",
      "\n",
      "No mutation data provided\n",
      "\n",
      "Prepare CLIFF input from CLIMB output, mutation data, and drug sensitivity data\n",
      "\n",
      "Launch CLIFF algorithm and iterate the EM algorithm\n",
      "\n",
      "early stopping of EM algorithm at step 5\n",
      "\n",
      "PCC = 0.0931332619227262\n",
      "\n",
      "Prepare CLIFF input from CLIMB output, mutation data, and drug sensitivity data\n",
      "\n",
      "No mutation data provided\n",
      "\n",
      "Prepare CLIFF input from CLIMB output, mutation data, and drug sensitivity data\n",
      "\n",
      "Launch CLIFF algorithm and iterate the EM algorithm\n",
      "\n",
      "early stopping of EM algorithm at step 5\n",
      "\n",
      "PCC = -0.274150122777927\n",
      "\n",
      "Doxorubicin_96h\n",
      "\n",
      "Prepare CLIFF input from CLIMB output, mutation data, and drug sensitivity data\n",
      "\n",
      "No mutation data provided\n",
      "\n",
      "Prepare CLIFF input from CLIMB output, mutation data, and drug sensitivity data\n",
      "\n",
      "Launch CLIFF algorithm and iterate the EM algorithm\n",
      "\n",
      "early stopping of EM algorithm at step 10\n",
      "\n",
      "PCC = 0.874325845558189\n",
      "\n",
      "Prepare CLIFF input from CLIMB output, mutation data, and drug sensitivity data\n",
      "\n",
      "No mutation data provided\n",
      "\n",
      "Prepare CLIFF input from CLIMB output, mutation data, and drug sensitivity data\n",
      "\n",
      "Launch CLIFF algorithm and iterate the EM algorithm\n",
      "\n",
      "early stopping of EM algorithm at step 5\n",
      "\n",
      "PCC = 0.680670718041523\n",
      "\n",
      "Imatinib_48h\n",
      "\n",
      "Prepare CLIFF input from CLIMB output, mutation data, and drug sensitivity data\n",
      "\n",
      "No mutation data provided\n",
      "\n",
      "Prepare CLIFF input from CLIMB output, mutation data, and drug sensitivity data\n",
      "\n",
      "Launch CLIFF algorithm and iterate the EM algorithm\n",
      "\n",
      "early stopping of EM algorithm at step 16\n",
      "\n",
      "PCC = 0.973350884042837\n",
      "\n",
      "Prepare CLIFF input from CLIMB output, mutation data, and drug sensitivity data\n",
      "\n",
      "No mutation data provided\n",
      "\n",
      "Prepare CLIFF input from CLIMB output, mutation data, and drug sensitivity data\n",
      "\n",
      "Launch CLIFF algorithm and iterate the EM algorithm\n",
      "\n",
      "early stopping of EM algorithm at step 5\n",
      "\n",
      "PCC = 0.989218878864204\n",
      "\n",
      "Imatinib_72h\n",
      "\n",
      "Prepare CLIFF input from CLIMB output, mutation data, and drug sensitivity data\n",
      "\n",
      "No mutation data provided\n",
      "\n",
      "Prepare CLIFF input from CLIMB output, mutation data, and drug sensitivity data\n",
      "\n",
      "Launch CLIFF algorithm and iterate the EM algorithm\n",
      "\n",
      "early stopping of EM algorithm at step 22\n",
      "\n",
      "PCC = 0.966784611947383\n",
      "\n",
      "Prepare CLIFF input from CLIMB output, mutation data, and drug sensitivity data\n",
      "\n",
      "No mutation data provided\n",
      "\n",
      "Prepare CLIFF input from CLIMB output, mutation data, and drug sensitivity data\n",
      "\n",
      "Launch CLIFF algorithm and iterate the EM algorithm\n",
      "\n",
      "early stopping of EM algorithm at step 5\n",
      "\n",
      "PCC = 0.999298359310896\n",
      "\n",
      "Imatinib_96h\n",
      "\n",
      "Prepare CLIFF input from CLIMB output, mutation data, and drug sensitivity data\n",
      "\n",
      "No mutation data provided\n",
      "\n",
      "Prepare CLIFF input from CLIMB output, mutation data, and drug sensitivity data\n",
      "\n",
      "Launch CLIFF algorithm and iterate the EM algorithm\n",
      "\n",
      "early stopping of EM algorithm at step 16\n",
      "\n",
      "PCC = 0.86572035611671\n",
      "\n",
      "Prepare CLIFF input from CLIMB output, mutation data, and drug sensitivity data\n",
      "\n",
      "No mutation data provided\n",
      "\n",
      "Prepare CLIFF input from CLIMB output, mutation data, and drug sensitivity data\n",
      "\n",
      "Launch CLIFF algorithm and iterate the EM algorithm\n",
      "\n",
      "early stopping of EM algorithm at step 5\n",
      "\n",
      "PCC = 0.997859880369576\n",
      "\n",
      "Mitomycin_48h\n",
      "\n",
      "Prepare CLIFF input from CLIMB output, mutation data, and drug sensitivity data\n",
      "\n",
      "No mutation data provided\n",
      "\n",
      "Prepare CLIFF input from CLIMB output, mutation data, and drug sensitivity data\n",
      "\n",
      "Launch CLIFF algorithm and iterate the EM algorithm\n",
      "\n",
      "early stopping of EM algorithm at step 5\n",
      "\n",
      "PCC = 0.594250711088276\n",
      "\n",
      "Prepare CLIFF input from CLIMB output, mutation data, and drug sensitivity data\n",
      "\n",
      "No mutation data provided\n",
      "\n",
      "Prepare CLIFF input from CLIMB output, mutation data, and drug sensitivity data\n",
      "\n",
      "Launch CLIFF algorithm and iterate the EM algorithm\n",
      "\n",
      "early stopping of EM algorithm at step 5\n",
      "\n"
     ]
    },
    {
     "name": "stderr",
     "output_type": "stream",
     "text": [
      "PCC = 0.773735577174866\n",
      "\n",
      "Mitomycin_72h\n",
      "\n",
      "Prepare CLIFF input from CLIMB output, mutation data, and drug sensitivity data\n",
      "\n",
      "No mutation data provided\n",
      "\n",
      "Prepare CLIFF input from CLIMB output, mutation data, and drug sensitivity data\n",
      "\n",
      "Launch CLIFF algorithm and iterate the EM algorithm\n",
      "\n",
      "early stopping of EM algorithm at step 5\n",
      "\n",
      "PCC = 0.870927406835322\n",
      "\n",
      "Prepare CLIFF input from CLIMB output, mutation data, and drug sensitivity data\n",
      "\n",
      "No mutation data provided\n",
      "\n",
      "Prepare CLIFF input from CLIMB output, mutation data, and drug sensitivity data\n",
      "\n",
      "Launch CLIFF algorithm and iterate the EM algorithm\n",
      "\n",
      "early stopping of EM algorithm at step 5\n",
      "\n",
      "PCC = 0.127119027368029\n",
      "\n",
      "Mitomycin_96h\n",
      "\n",
      "Prepare CLIFF input from CLIMB output, mutation data, and drug sensitivity data\n",
      "\n",
      "No mutation data provided\n",
      "\n",
      "Prepare CLIFF input from CLIMB output, mutation data, and drug sensitivity data\n",
      "\n",
      "Launch CLIFF algorithm and iterate the EM algorithm\n",
      "\n",
      "early stopping of EM algorithm at step 5\n",
      "\n",
      "PCC = -0.0469773918422627\n",
      "\n",
      "Prepare CLIFF input from CLIMB output, mutation data, and drug sensitivity data\n",
      "\n",
      "No mutation data provided\n",
      "\n",
      "Prepare CLIFF input from CLIMB output, mutation data, and drug sensitivity data\n",
      "\n",
      "Launch CLIFF algorithm and iterate the EM algorithm\n",
      "\n",
      "early stopping of EM algorithm at step 5\n",
      "\n",
      "PCC = -0.657584819777736\n",
      "\n",
      "Nilotinib_48h\n",
      "\n",
      "Prepare CLIFF input from CLIMB output, mutation data, and drug sensitivity data\n",
      "\n",
      "No mutation data provided\n",
      "\n",
      "Prepare CLIFF input from CLIMB output, mutation data, and drug sensitivity data\n",
      "\n",
      "Launch CLIFF algorithm and iterate the EM algorithm\n",
      "\n",
      "early stopping of EM algorithm at step 29\n",
      "\n",
      "PCC = 0.983280986449835\n",
      "\n",
      "Prepare CLIFF input from CLIMB output, mutation data, and drug sensitivity data\n",
      "\n",
      "No mutation data provided\n",
      "\n",
      "Prepare CLIFF input from CLIMB output, mutation data, and drug sensitivity data\n",
      "\n",
      "Launch CLIFF algorithm and iterate the EM algorithm\n",
      "\n",
      "early stopping of EM algorithm at step 5\n",
      "\n",
      "PCC = 0.953992728328433\n",
      "\n",
      "Nilotinib_72h\n",
      "\n",
      "Prepare CLIFF input from CLIMB output, mutation data, and drug sensitivity data\n",
      "\n",
      "No mutation data provided\n",
      "\n",
      "Prepare CLIFF input from CLIMB output, mutation data, and drug sensitivity data\n",
      "\n",
      "Launch CLIFF algorithm and iterate the EM algorithm\n",
      "\n",
      "early stopping of EM algorithm at step 13\n",
      "\n",
      "PCC = 0.941424644824144\n",
      "\n",
      "Prepare CLIFF input from CLIMB output, mutation data, and drug sensitivity data\n",
      "\n",
      "No mutation data provided\n",
      "\n",
      "Prepare CLIFF input from CLIMB output, mutation data, and drug sensitivity data\n",
      "\n",
      "Launch CLIFF algorithm and iterate the EM algorithm\n",
      "\n",
      "early stopping of EM algorithm at step 5\n",
      "\n",
      "PCC = 0.907288370743648\n",
      "\n",
      "Nilotinib_96h\n",
      "\n",
      "Prepare CLIFF input from CLIMB output, mutation data, and drug sensitivity data\n",
      "\n",
      "No mutation data provided\n",
      "\n",
      "Prepare CLIFF input from CLIMB output, mutation data, and drug sensitivity data\n",
      "\n",
      "Launch CLIFF algorithm and iterate the EM algorithm\n",
      "\n",
      "early stopping of EM algorithm at step 21\n",
      "\n",
      "PCC = 0.815932693980011\n",
      "\n",
      "Prepare CLIFF input from CLIMB output, mutation data, and drug sensitivity data\n",
      "\n",
      "No mutation data provided\n",
      "\n",
      "Prepare CLIFF input from CLIMB output, mutation data, and drug sensitivity data\n",
      "\n",
      "Launch CLIFF algorithm and iterate the EM algorithm\n",
      "\n",
      "early stopping of EM algorithm at step 5\n",
      "\n",
      "PCC = 0.915949518609984\n",
      "\n",
      "Rapamycin_48h\n",
      "\n",
      "Prepare CLIFF input from CLIMB output, mutation data, and drug sensitivity data\n",
      "\n",
      "No mutation data provided\n",
      "\n",
      "Prepare CLIFF input from CLIMB output, mutation data, and drug sensitivity data\n",
      "\n",
      "Launch CLIFF algorithm and iterate the EM algorithm\n",
      "\n",
      "early stopping of EM algorithm at step 15\n",
      "\n",
      "PCC = 0.985262634195994\n",
      "\n",
      "Prepare CLIFF input from CLIMB output, mutation data, and drug sensitivity data\n",
      "\n",
      "No mutation data provided\n",
      "\n",
      "Prepare CLIFF input from CLIMB output, mutation data, and drug sensitivity data\n",
      "\n",
      "Launch CLIFF algorithm and iterate the EM algorithm\n",
      "\n",
      "early stopping of EM algorithm at step 5\n",
      "\n",
      "PCC = 0.902547159341452\n",
      "\n",
      "Rapamycin_72h\n",
      "\n",
      "Prepare CLIFF input from CLIMB output, mutation data, and drug sensitivity data\n",
      "\n",
      "No mutation data provided\n",
      "\n",
      "Prepare CLIFF input from CLIMB output, mutation data, and drug sensitivity data\n",
      "\n",
      "Launch CLIFF algorithm and iterate the EM algorithm\n",
      "\n",
      "early stopping of EM algorithm at step 6\n",
      "\n",
      "PCC = -0.109700867445804\n",
      "\n",
      "Prepare CLIFF input from CLIMB output, mutation data, and drug sensitivity data\n",
      "\n",
      "No mutation data provided\n",
      "\n",
      "Prepare CLIFF input from CLIMB output, mutation data, and drug sensitivity data\n",
      "\n",
      "Launch CLIFF algorithm and iterate the EM algorithm\n",
      "\n",
      "early stopping of EM algorithm at step 5\n",
      "\n",
      "PCC = 0.259811027095903\n",
      "\n",
      "Rapamycin_96h\n",
      "\n",
      "Prepare CLIFF input from CLIMB output, mutation data, and drug sensitivity data\n",
      "\n",
      "No mutation data provided\n",
      "\n",
      "Prepare CLIFF input from CLIMB output, mutation data, and drug sensitivity data\n",
      "\n",
      "Launch CLIFF algorithm and iterate the EM algorithm\n",
      "\n",
      "early stopping of EM algorithm at step 17\n",
      "\n",
      "PCC = 0.804417931973723\n",
      "\n",
      "Prepare CLIFF input from CLIMB output, mutation data, and drug sensitivity data\n",
      "\n",
      "No mutation data provided\n",
      "\n",
      "Prepare CLIFF input from CLIMB output, mutation data, and drug sensitivity data\n",
      "\n",
      "Launch CLIFF algorithm and iterate the EM algorithm\n",
      "\n",
      "early stopping of EM algorithm at step 5\n",
      "\n",
      "PCC = 0.972437906717309\n",
      "\n"
     ]
    }
   ],
   "source": [
    "uniq_conditions = unique(bulk_auc_data$drug)\n",
    "average_pidk = matrix(nrow=length(uniq_conditions), ncol=4)\n",
    "true_pidk = matrix(nrow=length(uniq_conditions), ncol=4)\n",
    "average_pidk_highres = matrix(nrow=length(uniq_conditions), ncol=4)\n",
    "all_cors_overall = list() ; all_cors_highres = list() ; \n",
    "all_rmse_overall = list() ; all_rmse_highres = list() ; \n",
    "for(i in 1:length(uniq_conditions)){\n",
    "    this_condition = uniq_conditions[i]\n",
    "    message(this_condition)\n",
    "    bulk_auc_data.sub = bulk_auc_data[bulk_auc_data$drug == this_condition,]\n",
    "    \n",
    "    # Feature Selection - cliff_gene_selection function imported with CLIFF package\n",
    "    bulk_mat = t(exprs(bulk.es))\n",
    "    drug_data = bulk_auc_data.sub$auc\n",
    "    sel.genes = cliff_gene_selection(bulk_mat, drug_data, min.genes=10)\n",
    "    \n",
    "    # Subset CLIMB output with selected genes\n",
    "    climb_res.filt = climb_res\n",
    "    climb_res.filt$expr.highres = climb_res.filt$expr.highres[,sel.genes,]\n",
    "    climb_res.filt$expr.overall = climb_res.filt$expr.overall[sel.genes,]\n",
    "    \n",
    "    # Launch CLIFF - overall mode\n",
    "    cliff_highres = cliff(climb_res.filt, bulk_auc_data.sub, max.em.steps = 100, mode='overall')[[1]]  \n",
    "\n",
    "    average_pidk[i,] = num(colMeans(cliff_highres))\n",
    "    true_pidk[i,] = num(true_auc_cell_line[grepl(this_condition, true_auc_cell_line$uniq_id),]$auc)\n",
    "    all_cors_overall[[i]] = cor(average_pidk[i,], true_pidk[i,])\n",
    "    all_rmse_overall[[i]] = rmse(average_pidk[i,], true_pidk[i,])\n",
    "    message(paste0('PCC = ', cor(average_pidk[i,], true_pidk[i,])))\n",
    "\n",
    "    # Feature Selection - cliff_gene_selection function imported with CLIFF package\n",
    "    bulk_mat = t(exprs(bulk.es))\n",
    "    drug_data = bulk_auc_data.sub$auc\n",
    "    sel.genes = cliff_gene_selection(bulk_mat, drug_data, min.genes=200)\n",
    "    # Subset CLIMB output with selected genes\n",
    "    climb_res.filt = climb_res\n",
    "    climb_res.filt$expr.highres = climb_res.filt$expr.highres[,sel.genes,]\n",
    "    climb_res.filt$expr.overall = climb_res.filt$expr.overall[sel.genes,]\n",
    "    \n",
    "    # Launch CLIFF - high-resolution mode\n",
    "    cliff_highres = cliff(climb_res.filt, bulk_auc_data.sub, max.em.steps = 100, mode='highres')[[1]]  \n",
    "\n",
    "    average_pidk_highres[i,] = num(colMeans(cliff_highres))\n",
    "    all_cors_highres[[i]] = cor(average_pidk_highres[i,], true_pidk[i,])\n",
    "    all_rmse_highres[[i]] = rmse(average_pidk_highres[i,], true_pidk[i,])\n",
    "    message(paste0('PCC = ', cor(average_pidk_highres[i,], true_pidk[i,])))\n",
    "}"
   ]
  },
  {
   "cell_type": "code",
   "execution_count": 23,
   "metadata": {},
   "outputs": [
    {
     "data": {
      "text/html": [
       "0.796414619686454"
      ],
      "text/latex": [
       "0.796414619686454"
      ],
      "text/markdown": [
       "0.796414619686454"
      ],
      "text/plain": [
       "[1] 0.7964146"
      ]
     },
     "metadata": {},
     "output_type": "display_data"
    },
    {
     "data": {
      "text/html": [
       "0.589448339349674"
      ],
      "text/latex": [
       "0.589448339349674"
      ],
      "text/markdown": [
       "0.589448339349674"
      ],
      "text/plain": [
       "[1] 0.5894483"
      ]
     },
     "metadata": {},
     "output_type": "display_data"
    }
   ],
   "source": [
    "# Correlation \"overall\" for all data points\n",
    "cor(flatten(average_pidk), flatten(true_pidk))\n",
    "cor(flatten(average_pidk_highres), flatten(true_pidk))"
   ]
  },
  {
   "cell_type": "code",
   "execution_count": 24,
   "metadata": {},
   "outputs": [
    {
     "data": {
      "text/html": [
       "0.815932693980011"
      ],
      "text/latex": [
       "0.815932693980011"
      ],
      "text/markdown": [
       "0.815932693980011"
      ],
      "text/plain": [
       "[1] 0.8159327"
      ]
     },
     "metadata": {},
     "output_type": "display_data"
    },
    {
     "data": {
      "text/html": [
       "0.680670718041523"
      ],
      "text/latex": [
       "0.680670718041523"
      ],
      "text/markdown": [
       "0.680670718041523"
      ],
      "text/plain": [
       "[1] 0.6806707"
      ]
     },
     "metadata": {},
     "output_type": "display_data"
    }
   ],
   "source": [
    "# Correlation per condition (4 predicted cell line sensitivity versus 4 true, for all drugs x timepoint)\n",
    "cliff_cors_overall = num(all_cors_overall)\n",
    "cliff_cors_highres = num(all_cors_highres)\n",
    "median(cliff_cors_overall)\n",
    "median(cliff_cors_highres)"
   ]
  },
  {
   "cell_type": "code",
   "execution_count": 25,
   "metadata": {},
   "outputs": [
    {
     "data": {
      "text/html": [
       "0.122392027271152"
      ],
      "text/latex": [
       "0.122392027271152"
      ],
      "text/markdown": [
       "0.122392027271152"
      ],
      "text/plain": [
       "[1] 0.122392"
      ]
     },
     "metadata": {},
     "output_type": "display_data"
    },
    {
     "data": {
      "text/html": [
       "0.133600981638632"
      ],
      "text/latex": [
       "0.133600981638632"
      ],
      "text/markdown": [
       "0.133600981638632"
      ],
      "text/plain": [
       "[1] 0.133601"
      ]
     },
     "metadata": {},
     "output_type": "display_data"
    }
   ],
   "source": [
    "# RMSE per condition (4 predicted cell line sensitivity versus 4 true, for all drugs x timepoint)\n",
    "cliff_rmse_overall = num(all_rmse_overall)\n",
    "cliff_rmse_highres = num(all_rmse_highres)\n",
    "median(cliff_rmse_overall)\n",
    "median(cliff_rmse_highres)"
   ]
  },
  {
   "cell_type": "code",
   "execution_count": 26,
   "metadata": {},
   "outputs": [
    {
     "name": "stderr",
     "output_type": "stream",
     "text": [
      "Warning message:\n",
      "“The input is a data frame-like object, convert it to a matrix.”\n"
     ]
    },
    {
     "data": {
      "image/png": "[encoded data removed]",
      "text/plain": [
       "plot without title"
      ]
     },
     "metadata": {
      "image/png": {
       "height": 150,
       "width": 240
      }
     },
     "output_type": "display_data"
    }
   ],
   "source": [
    "## CLIFF-overall\n",
    "rownames(average_pidk) = uniq_conditions ; colnames(average_pidk) = colnames(climb_res$props)\n",
    "rownames(true_pidk) = uniq_conditions ; colnames(true_pidk) = colnames(climb_res$props)\n",
    "drug_sens_m = cbind(melt(average_pidk), melt(true_pidk))[,c(1,2,3,6)]\n",
    "colnames(drug_sens_m) = c('id', 'celltype', 'pred', 'true')\n",
    "drug_sens_m$timepoint = gsub('.*_','',drug_sens_m$id)\n",
    "drug_sens_m$drug = gsub('_.*','',drug_sens_m$id)\n",
    "\n",
    "df_cors = data.frame(pcc=num(all_cors_overall), condition=uniq_conditions)\n",
    "df_cors$timepoint = gsub('.*_','',df_cors$condition)\n",
    "df_cors$drug = gsub('_.*','',df_cors$condition)\n",
    "mat_cors = dcast(df_cors, timepoint ~ drug, value.var = 'pcc')\n",
    "rownames(mat_cors) = mat_cors[,1]\n",
    "mat_cors = mat_cors[,-1]\n",
    "\n",
    "col_panel = c('#74add1', \"#abd9e9\", '#ffffbf','#fdae61', '#d7191c')\n",
    "col_fun = colorRamp2(c(-1,-0.5,0,0.5,1), col_panel)\n",
    "h <- Heatmap(mat_cors, col=col_fun, show_row_dend = F, show_column_dend = F, name='PCC')\n",
    "options(repr.plot.width = 4, repr.plot.height = 2.5)\n",
    "#pdf('results/fig5/invitro_cliff_overall_drug_vs_timpoint_PCC.pdf', width=4, height=2.5) ; h ; dev.off()\n",
    "h"
   ]
  },
  {
   "cell_type": "code",
   "execution_count": 27,
   "metadata": {},
   "outputs": [
    {
     "data": {
      "image/png": "[encoded data removed]",
      "text/plain": [
       "plot without title"
      ]
     },
     "metadata": {
      "image/png": {
       "height": 240,
       "width": 300
      }
     },
     "output_type": "display_data"
    }
   ],
   "source": [
    "options(repr.plot.width = 5, repr.plot.height = 4)\n",
    "# We then plot the result :\n",
    "g <- ggplot(data = drug_sens_m, aes(x=pred, y=true)) +\n",
    "    stat_correlation(data = drug_sens_m, aes(x=num(pred), y=num(true)))+\n",
    "    geom_abline(intercept =0 , slope = 1, color='darkred', linetype='dashed') +\n",
    "    geom_point(aes(color=drug, shape=celltype), size=2)+ theme_classic() + theme(legend.position=\"left\") +\n",
    "    scale_color_manual(values=c('darkred', 'red', 'salmon', 'grey38', 'grey58', 'cornflowerblue', 'darkblue')) +\n",
    "    xlab('Predicted Drug Sensitivity') + ylab('Measured Drug Sensitivity') \n",
    "#pdf('results/fig5/invitro_cliff_overall_pred_vs_true_drugsensitivity.pdf', width=5, height=4) ; g ; dev.off()\n",
    "g"
   ]
  },
  {
   "cell_type": "code",
   "execution_count": 28,
   "metadata": {},
   "outputs": [
    {
     "name": "stderr",
     "output_type": "stream",
     "text": [
      "No id variables; using all as measure variables\n",
      "\n"
     ]
    },
    {
     "data": {
      "image/png": "[encoded data removed]",
      "text/plain": [
       "plot without title"
      ]
     },
     "metadata": {
      "image/png": {
       "height": 240,
       "width": 144
      }
     },
     "output_type": "display_data"
    }
   ],
   "source": [
    "mat_cors_drugs = melt(mat_cors)\n",
    "colnames(mat_cors_drugs) = c('drug', 'PCC')\n",
    "agg_ = aggregate(mat_cors_drugs$PCC, list(mat_cors_drugs$drug), median)\n",
    "levels_ = as.character(agg_$`Group.1`[order(-1*agg_$x)])\n",
    "mat_cors_drugs$drug = factor(mat_cors_drugs$drug, levels = levels_)\n",
    "options(repr.plot.width = 2.4, repr.plot.height = 4)\n",
    "g <- ggplot(mat_cors_drugs, aes(x=drug, y=num(PCC))) + geom_boxplot(size=1, color='grey48') +\n",
    "    geom_jitter(size=2, color='black',width=0.25, height=0) +theme_classic() +\n",
    "    theme(legend.position=\"none\", axis.text.x = element_text(angle = 45, vjust = 1, hjust=1)) + xlab('') + ylab('PCC')\n",
    "#pdf('results/fig5/boxplot_drug_comparison.pdf', width=2.4, height=4) ; g ; dev.off()\n",
    "g"
   ]
  },
  {
   "cell_type": "code",
   "execution_count": 29,
   "metadata": {},
   "outputs": [],
   "source": [
    "all_celltype = unique(drug_sens_m$celltype)\n",
    "pcc_per_celltype = list()\n",
    "for(d in 1:length(all_celltype)){\n",
    "    drug_sens_m.d = drug_sens_m[drug_sens_m$celltype == all_celltype[d],]\n",
    "    all_timepoints = unique(drug_sens_m.d$timepoint) ; pcc_per_timepoint = list()\n",
    "    for(t in 1:length(all_timepoints)){\n",
    "        drug_sens_m.d.t = drug_sens_m.d[drug_sens_m.d$timepoint == all_timepoints[t],]\n",
    "        pcc_per_timepoint[[t]] = cor(num(drug_sens_m.d.t$pred), num(drug_sens_m.d.t$true))\n",
    "    }\n",
    "    pcc_per_celltype[[d]] = num(pcc_per_timepoint)\n",
    "}"
   ]
  },
  {
   "cell_type": "code",
   "execution_count": 30,
   "metadata": {},
   "outputs": [
    {
     "data": {
      "image/png": "[encoded data removed]",
      "text/plain": [
       "plot without title"
      ]
     },
     "metadata": {
      "image/png": {
       "height": 240,
       "width": 144
      }
     },
     "output_type": "display_data"
    }
   ],
   "source": [
    "df_per_celltype = do.call(rbind, pcc_per_celltype)\n",
    "rownames(df_per_celltype) = all_celltype ; colnames(df_per_celltype) = all_timepoints\n",
    "df_per_celltype_melt = melt(df_per_celltype)\n",
    "colnames(df_per_celltype_melt) = c('celltype', 'timepoint', 'PCC')\n",
    "options(repr.plot.width = 2.4, repr.plot.height = 4)\n",
    "g <- ggplot(df_per_celltype_melt, aes(x=celltype, y=num(PCC))) + geom_boxplot(size=1, color='grey48') +\n",
    "    geom_jitter(size=2, color='black',width=0.25, height=0) +theme_classic() +ylim(c(0,1))+ \n",
    "    theme(legend.position=\"none\", axis.text.x = element_text(angle = 45, vjust = 1, hjust=1)) + xlab('') + ylab('PCC')\n",
    "#pdf('results/fig5/boxplot_celltype_comparison.pdf', width=2.4, height=4) ; g ; dev.off()\n",
    "g"
   ]
  },
  {
   "cell_type": "code",
   "execution_count": 97,
   "metadata": {},
   "outputs": [
    {
     "name": "stderr",
     "output_type": "stream",
     "text": [
      "Warning message:\n",
      "“The input is a data frame-like object, convert it to a matrix.”\n"
     ]
    },
    {
     "data": {
      "text/html": [
       "<strong>pdf:</strong> 2"
      ],
      "text/latex": [
       "\\textbf{pdf:} 2"
      ],
      "text/markdown": [
       "**pdf:** 2"
      ],
      "text/plain": [
       "pdf \n",
       "  2 "
      ]
     },
     "metadata": {},
     "output_type": "display_data"
    },
    {
     "data": {
      "image/png": "[encoded data removed]",
      "text/plain": [
       "plot without title"
      ]
     },
     "metadata": {
      "image/png": {
       "height": 150,
       "width": 240
      }
     },
     "output_type": "display_data"
    }
   ],
   "source": [
    "## CLIFF-highres\n",
    "rownames(average_pidk_highres) = uniq_conditions ; colnames(average_pidk_highres) = colnames(climb_res$props)\n",
    "rownames(true_pidk) = uniq_conditions ; colnames(true_pidk) = colnames(climb_res$props)\n",
    "drug_sens_m = cbind(melt(average_pidk_highres), melt(true_pidk))[,c(1,2,3,6)]\n",
    "colnames(drug_sens_m) = c('id', 'celltype', 'pred', 'true')\n",
    "drug_sens_m$timepoint = gsub('.*_','',drug_sens_m$id)\n",
    "drug_sens_m$drug = gsub('_.*','',drug_sens_m$id)\n",
    "\n",
    "df_cors = data.frame(pcc=num(all_cors_highres), condition=uniq_conditions)\n",
    "df_cors$timepoint = gsub('.*_','',df_cors$condition)\n",
    "df_cors$drug = gsub('_.*','',df_cors$condition)\n",
    "mat_cors = dcast(df_cors, timepoint ~ drug, value.var = 'pcc')\n",
    "rownames(mat_cors) = mat_cors[,1]\n",
    "mat_cors = mat_cors[,-1]\n",
    "\n",
    "col_panel = c('#74add1', \"#abd9e9\", '#ffffbf','#fdae61', '#d7191c')\n",
    "col_fun = colorRamp2(c(-1,-0.5,0,0.5,1), col_panel)\n",
    "h <- Heatmap(mat_cors, col=col_fun, show_row_dend = F, show_column_dend = F, name='PCC')\n",
    "options(repr.plot.width = 4, repr.plot.height = 2.5)\n",
    "pdf('results/fig5/invitro_cliff_highres_drug_vs_timpoint_PCC.pdf', width=4, height=2.5) ; h ; dev.off()\n",
    "h"
   ]
  },
  {
   "cell_type": "code",
   "execution_count": 32,
   "metadata": {},
   "outputs": [
    {
     "data": {
      "text/html": [
       "0.476061751598434"
      ],
      "text/latex": [
       "0.476061751598434"
      ],
      "text/markdown": [
       "0.476061751598434"
      ],
      "text/plain": [
       "[1] 0.4760618"
      ]
     },
     "metadata": {},
     "output_type": "display_data"
    }
   ],
   "source": [
    "mean(num(all_cors_highres))"
   ]
  },
  {
   "cell_type": "code",
   "execution_count": 98,
   "metadata": {},
   "outputs": [
    {
     "data": {
      "text/html": [
       "<strong>pdf:</strong> 2"
      ],
      "text/latex": [
       "\\textbf{pdf:} 2"
      ],
      "text/markdown": [
       "**pdf:** 2"
      ],
      "text/plain": [
       "pdf \n",
       "  2 "
      ]
     },
     "metadata": {},
     "output_type": "display_data"
    },
    {
     "data": {
      "image/png": "[encoded data removed]",
      "text/plain": [
       "plot without title"
      ]
     },
     "metadata": {
      "image/png": {
       "height": 240,
       "width": 300
      }
     },
     "output_type": "display_data"
    }
   ],
   "source": [
    "options(repr.plot.width = 5, repr.plot.height = 4)\n",
    "# We then plot the result :\n",
    "g <- ggplot(data = drug_sens_m, aes(x=pred, y=true)) +\n",
    "    stat_correlation(data = drug_sens_m, aes(x=num(pred), y=num(true)))+\n",
    "    geom_abline(intercept =0 , slope = 1, color='darkred', linetype='dashed') +\n",
    "    geom_point(aes(color=drug, shape=celltype), size=2)+ theme_classic() + theme(legend.position=\"left\") +\n",
    "    scale_color_manual(values=c('darkred', 'red', 'salmon', 'grey38', 'grey58', 'cornflowerblue', 'darkblue')) +\n",
    "    xlab('Predicted Drug Sensitivity') + ylab('Measured Drug Sensitivity') \n",
    "pdf('results/fig5/invitro_cliff_highres_pred_vs_true_drugsensitivity.pdf', width=5, height=4) ; g ; dev.off()\n",
    "g"
   ]
  },
  {
   "cell_type": "markdown",
   "metadata": {},
   "source": [
    "### LinReg approach: Linear Regression with CLIMB proportions\n",
    "\n",
    "here we perform a control using a linear regression with CLIMB proportions as input"
   ]
  },
  {
   "cell_type": "code",
   "execution_count": 99,
   "metadata": {},
   "outputs": [],
   "source": [
    "uniq_conditions = unique(bulk_auc_data$drug)\n",
    "average_pidk_linreg = matrix(nrow=length(uniq_conditions), ncol=4)\n",
    "true_pidk_linreg = matrix(nrow=length(uniq_conditions), ncol=4)\n",
    "all_cors_linreg = list() ; all_rmse_linreg = list()\n",
    "for(i in 1:length(uniq_conditions)){\n",
    "    this_condition = uniq_conditions[i]\n",
    "    #message(this_condition)\n",
    "    bulk_auc_data.sub = bulk_auc_data[bulk_auc_data$drug == this_condition,]\n",
    "    \n",
    "    # Launch LinReg\n",
    "    set.seed(1)\n",
    "    all_coefs_linreg = coef(glmnet(all_props$CLIMB, bulk_auc_data.sub$auc))\n",
    "    coef_linreg = all_coefs_linreg[-1,dim(all_coefs_linreg)[2]]\n",
    "    \n",
    "    average_pidk_linreg[i,] = num(coef_linreg)\n",
    "    true_pidk_linreg[i,] = num(true_auc_cell_line[grepl(this_condition, true_auc_cell_line$uniq_id),]$auc)\n",
    "    all_cors_linreg[[i]] = cor(average_pidk_linreg[i,], true_pidk_linreg[i,])\n",
    "    all_rmse_linreg[[i]] = rmse(average_pidk_linreg[i,], true_pidk_linreg[i,])\n",
    "    #message(cor(average_pidk_linreg[i,], true_pidk_linreg[i,]))\n",
    "}"
   ]
  },
  {
   "cell_type": "code",
   "execution_count": 100,
   "metadata": {},
   "outputs": [
    {
     "data": {
      "text/html": [
       "0.305149958758946"
      ],
      "text/latex": [
       "0.305149958758946"
      ],
      "text/markdown": [
       "0.305149958758946"
      ],
      "text/plain": [
       "[1] 0.30515"
      ]
     },
     "metadata": {},
     "output_type": "display_data"
    }
   ],
   "source": [
    "cor(flatten(average_pidk_linreg), flatten(true_pidk_linreg))"
   ]
  },
  {
   "cell_type": "code",
   "execution_count": 101,
   "metadata": {},
   "outputs": [
    {
     "data": {
      "text/html": [
       "0.512815127396421"
      ],
      "text/latex": [
       "0.512815127396421"
      ],
      "text/markdown": [
       "0.512815127396421"
      ],
      "text/plain": [
       "[1] 0.5128151"
      ]
     },
     "metadata": {},
     "output_type": "display_data"
    }
   ],
   "source": [
    "linreg_cors = num(all_cors_linreg)\n",
    "median(linreg_cors)"
   ]
  },
  {
   "cell_type": "code",
   "execution_count": 102,
   "metadata": {},
   "outputs": [
    {
     "data": {
      "text/html": [
       "0.530883552679591"
      ],
      "text/latex": [
       "0.530883552679591"
      ],
      "text/markdown": [
       "0.530883552679591"
      ],
      "text/plain": [
       "[1] 0.5308836"
      ]
     },
     "metadata": {},
     "output_type": "display_data"
    }
   ],
   "source": [
    "linreg_rmse = num(all_rmse_linreg)\n",
    "median(linreg_rmse)"
   ]
  },
  {
   "cell_type": "code",
   "execution_count": 103,
   "metadata": {},
   "outputs": [
    {
     "data": {
      "text/html": [
       "<table class=\"dataframe\">\n",
       "<caption>A data.frame: 6 × 6</caption>\n",
       "<thead>\n",
       "\t<tr><th></th><th scope=col>id</th><th scope=col>celltype</th><th scope=col>pred</th><th scope=col>true</th><th scope=col>timepoint</th><th scope=col>drug</th></tr>\n",
       "\t<tr><th></th><th scope=col>&lt;fct&gt;</th><th scope=col>&lt;fct&gt;</th><th scope=col>&lt;dbl&gt;</th><th scope=col>&lt;dbl&gt;</th><th scope=col>&lt;chr&gt;</th><th scope=col>&lt;chr&gt;</th></tr>\n",
       "</thead>\n",
       "<tbody>\n",
       "\t<tr><th scope=row>1</th><td>5Aza2d_48h    </td><td>K562</td><td>-0.0004993529</td><td>0.1130235</td><td>48h</td><td>5Aza2d    </td></tr>\n",
       "\t<tr><th scope=row>2</th><td>5Aza2d_72h    </td><td>K562</td><td> 0.0000000000</td><td>0.3118145</td><td>72h</td><td>5Aza2d    </td></tr>\n",
       "\t<tr><th scope=row>3</th><td>5Aza2d_96h    </td><td>K562</td><td> 0.0000000000</td><td>0.3553844</td><td>96h</td><td>5Aza2d    </td></tr>\n",
       "\t<tr><th scope=row>4</th><td>Cytarabine_48h</td><td>K562</td><td> 0.0857412460</td><td>0.3334478</td><td>48h</td><td>Cytarabine</td></tr>\n",
       "\t<tr><th scope=row>5</th><td>Cytarabine_72h</td><td>K562</td><td> 0.0000000000</td><td>0.4534790</td><td>72h</td><td>Cytarabine</td></tr>\n",
       "\t<tr><th scope=row>6</th><td>Cytarabine_96h</td><td>K562</td><td> 0.0104964680</td><td>0.4400075</td><td>96h</td><td>Cytarabine</td></tr>\n",
       "</tbody>\n",
       "</table>\n"
      ],
      "text/latex": [
       "A data.frame: 6 × 6\n",
       "\\begin{tabular}{r|llllll}\n",
       "  & id & celltype & pred & true & timepoint & drug\\\\\n",
       "  & <fct> & <fct> & <dbl> & <dbl> & <chr> & <chr>\\\\\n",
       "\\hline\n",
       "\t1 & 5Aza2d\\_48h     & K562 & -0.0004993529 & 0.1130235 & 48h & 5Aza2d    \\\\\n",
       "\t2 & 5Aza2d\\_72h     & K562 &  0.0000000000 & 0.3118145 & 72h & 5Aza2d    \\\\\n",
       "\t3 & 5Aza2d\\_96h     & K562 &  0.0000000000 & 0.3553844 & 96h & 5Aza2d    \\\\\n",
       "\t4 & Cytarabine\\_48h & K562 &  0.0857412460 & 0.3334478 & 48h & Cytarabine\\\\\n",
       "\t5 & Cytarabine\\_72h & K562 &  0.0000000000 & 0.4534790 & 72h & Cytarabine\\\\\n",
       "\t6 & Cytarabine\\_96h & K562 &  0.0104964680 & 0.4400075 & 96h & Cytarabine\\\\\n",
       "\\end{tabular}\n"
      ],
      "text/markdown": [
       "\n",
       "A data.frame: 6 × 6\n",
       "\n",
       "| <!--/--> | id &lt;fct&gt; | celltype &lt;fct&gt; | pred &lt;dbl&gt; | true &lt;dbl&gt; | timepoint &lt;chr&gt; | drug &lt;chr&gt; |\n",
       "|---|---|---|---|---|---|---|\n",
       "| 1 | 5Aza2d_48h     | K562 | -0.0004993529 | 0.1130235 | 48h | 5Aza2d     |\n",
       "| 2 | 5Aza2d_72h     | K562 |  0.0000000000 | 0.3118145 | 72h | 5Aza2d     |\n",
       "| 3 | 5Aza2d_96h     | K562 |  0.0000000000 | 0.3553844 | 96h | 5Aza2d     |\n",
       "| 4 | Cytarabine_48h | K562 |  0.0857412460 | 0.3334478 | 48h | Cytarabine |\n",
       "| 5 | Cytarabine_72h | K562 |  0.0000000000 | 0.4534790 | 72h | Cytarabine |\n",
       "| 6 | Cytarabine_96h | K562 |  0.0104964680 | 0.4400075 | 96h | Cytarabine |\n",
       "\n"
      ],
      "text/plain": [
       "  id             celltype pred          true      timepoint drug      \n",
       "1 5Aza2d_48h     K562     -0.0004993529 0.1130235 48h       5Aza2d    \n",
       "2 5Aza2d_72h     K562      0.0000000000 0.3118145 72h       5Aza2d    \n",
       "3 5Aza2d_96h     K562      0.0000000000 0.3553844 96h       5Aza2d    \n",
       "4 Cytarabine_48h K562      0.0857412460 0.3334478 48h       Cytarabine\n",
       "5 Cytarabine_72h K562      0.0000000000 0.4534790 72h       Cytarabine\n",
       "6 Cytarabine_96h K562      0.0104964680 0.4400075 96h       Cytarabine"
      ]
     },
     "metadata": {},
     "output_type": "display_data"
    }
   ],
   "source": [
    "rownames(average_pidk_linreg) = uniq_conditions ; colnames(average_pidk_linreg) = colnames(climb_res$props)\n",
    "rownames(true_pidk_linreg) = uniq_conditions ; colnames(true_pidk_linreg) = colnames(climb_res$props)\n",
    "drug_sens_m = cbind(melt(average_pidk_linreg), melt(true_pidk_linreg))[,c(1,2,3,6)]\n",
    "colnames(drug_sens_m) = c('id', 'celltype', 'pred', 'true')\n",
    "drug_sens_m$timepoint = gsub('.*_','',drug_sens_m$id)\n",
    "drug_sens_m$drug = gsub('_.*','',drug_sens_m$id)\n",
    "head(drug_sens_m)"
   ]
  },
  {
   "cell_type": "code",
   "execution_count": 104,
   "metadata": {},
   "outputs": [
    {
     "data": {
      "image/png": "[encoded data removed]",
      "text/plain": [
       "plot without title"
      ]
     },
     "metadata": {
      "image/png": {
       "height": 180,
       "width": 180
      }
     },
     "output_type": "display_data"
    }
   ],
   "source": [
    "options(repr.plot.width = 3, repr.plot.height = 3)\n",
    "# We then plot the result :\n",
    "g <- ggplot(data = drug_sens_m, aes(x=pred, y=true)) +\n",
    "    geom_abline(intercept =0 , slope = 1, color='darkred', linetype='dashed') +\n",
    "    geom_point(color='grey28')+ theme_classic() + coord_cartesian() + theme(legend.position=\"left\") + \n",
    "    xlab('Predicted Cell Line viability') + ylab('Measured Cell Line viability')\n",
    "g"
   ]
  },
  {
   "cell_type": "markdown",
   "metadata": {},
   "source": [
    "## Bottomly approach : PC1 with marker genes \n",
    "\n",
    "The idea of Bottomly is to get a proxy for cell-type content by using the first PC to assemble the expression of cell-type signature genes. Then, this \"cell-type score\" can be correlated with drug sensitivity to obtain an estimation of drug sensitivity: the more positively correlated, the highest the drug sensitivity. "
   ]
  },
  {
   "cell_type": "code",
   "execution_count": 43,
   "metadata": {},
   "outputs": [
    {
     "name": "stderr",
     "output_type": "stream",
     "text": [
      "Attaching SeuratObject\n",
      "\n",
      "\n",
      "Attaching package: ‘Seurat’\n",
      "\n",
      "\n",
      "The following object is masked from ‘package:SummarizedExperiment’:\n",
      "\n",
      "    Assays\n",
      "\n",
      "\n",
      "Centering and scaling data matrix\n",
      "\n"
     ]
    }
   ],
   "source": [
    "library(Seurat)\n",
    "sc.srt <- CreateSeuratObject(counts = exprs(sc.es), project = \"vg\", min.cells = 3, min.features = 200)\n",
    "Idents(object = sc.srt) <- sc.es$cellType\n",
    "sc.srt <- NormalizeData(sc.srt)\n",
    "sc.srt <- FindVariableFeatures(sc.srt, selection.method = \"vst\", nfeatures = 2000)\n",
    "sc.srt <- ScaleData(sc.srt)"
   ]
  },
  {
   "cell_type": "code",
   "execution_count": 44,
   "metadata": {},
   "outputs": [
    {
     "name": "stderr",
     "output_type": "stream",
     "text": [
      "K562\n",
      "\n",
      "THP1\n",
      "\n",
      "SUDHL4\n",
      "\n",
      "HL60\n",
      "\n"
     ]
    }
   ],
   "source": [
    "celltype_names = as.character(unique(sc.es$cellType))\n",
    "markers_l = list() ; markers_top50_l = list()\n",
    "for(k in 1:length(celltype_names)){\n",
    "    this_celltype = celltype_names[k]\n",
    "    message(this_celltype)\n",
    "    markers_l[[k]] = FindMarkers(sc.srt, ident.1=this_celltype)\n",
    "    markers_top50_l[[k]] = rownames(head(markers_l[[k]], 50))\n",
    "}\n",
    "celltype_markers = unique(do.call(cbind,markers_top50_l))\n",
    "colnames(celltype_markers) = celltype_names"
   ]
  },
  {
   "cell_type": "code",
   "execution_count": 45,
   "metadata": {},
   "outputs": [],
   "source": [
    "all_celltypes = colnames(celltype_markers)\n",
    "pc1_per_celltype = list()\n",
    "for(k in 1:length(all_celltypes)){\n",
    "    this_celltype = all_celltypes[k]\n",
    "    bulk_expr_ct = exprs(bulk.es)[rownames(bulk.es) %in% celltype_markers[,k],]\n",
    "    bulk_logcpm_ct = log2(1e6*t(t(bulk_expr_ct) / colSums(bulk_expr_ct))+1)\n",
    "    colsums = colSums(bulk_logcpm_ct)\n",
    "    prcomp.out = prcomp(t(bulk_logcpm_ct))\n",
    "    pc1_ct = prcomp.out$x[,1]\n",
    "    # if it positively correlated, we keep it as it is. Otherwise, we inverse the sign\n",
    "    if( cor(pc1_ct, colsums) < 0 ){\n",
    "        pc1_ct = pc1_ct*-1\n",
    "    }\n",
    "    pc1_per_celltype[[k]] = pc1_ct\n",
    "}"
   ]
  },
  {
   "cell_type": "code",
   "execution_count": 46,
   "metadata": {},
   "outputs": [
    {
     "data": {
      "text/html": [
       "<table class=\"dataframe\">\n",
       "<caption>A data.frame: 6 × 4</caption>\n",
       "<thead>\n",
       "\t<tr><th></th><th scope=col>K562</th><th scope=col>THP1</th><th scope=col>SUDHL4</th><th scope=col>HL60</th></tr>\n",
       "\t<tr><th></th><th scope=col>&lt;dbl&gt;</th><th scope=col>&lt;dbl&gt;</th><th scope=col>&lt;dbl&gt;</th><th scope=col>&lt;dbl&gt;</th></tr>\n",
       "</thead>\n",
       "<tbody>\n",
       "\t<tr><th scope=row>BULK1</th><td>  6.04026</td><td>-0.06363997</td><td>  9.208071</td><td>  4.700603</td></tr>\n",
       "\t<tr><th scope=row>BULK2</th><td>  3.52114</td><td> 1.93454238</td><td>  1.108894</td><td>  5.321078</td></tr>\n",
       "\t<tr><th scope=row>BULK3</th><td> 10.94556</td><td>-1.57327750</td><td>-36.668319</td><td>  4.621042</td></tr>\n",
       "\t<tr><th scope=row>BULK4</th><td>-44.31735</td><td>-1.63645752</td><td> 12.943736</td><td>  1.648114</td></tr>\n",
       "\t<tr><th scope=row>BULK5</th><td> 12.07377</td><td> 1.07551613</td><td>  6.805160</td><td>-17.348413</td></tr>\n",
       "\t<tr><th scope=row>BULK6</th><td> 11.73661</td><td> 0.26331649</td><td>  6.602459</td><td>  1.057576</td></tr>\n",
       "</tbody>\n",
       "</table>\n"
      ],
      "text/latex": [
       "A data.frame: 6 × 4\n",
       "\\begin{tabular}{r|llll}\n",
       "  & K562 & THP1 & SUDHL4 & HL60\\\\\n",
       "  & <dbl> & <dbl> & <dbl> & <dbl>\\\\\n",
       "\\hline\n",
       "\tBULK1 &   6.04026 & -0.06363997 &   9.208071 &   4.700603\\\\\n",
       "\tBULK2 &   3.52114 &  1.93454238 &   1.108894 &   5.321078\\\\\n",
       "\tBULK3 &  10.94556 & -1.57327750 & -36.668319 &   4.621042\\\\\n",
       "\tBULK4 & -44.31735 & -1.63645752 &  12.943736 &   1.648114\\\\\n",
       "\tBULK5 &  12.07377 &  1.07551613 &   6.805160 & -17.348413\\\\\n",
       "\tBULK6 &  11.73661 &  0.26331649 &   6.602459 &   1.057576\\\\\n",
       "\\end{tabular}\n"
      ],
      "text/markdown": [
       "\n",
       "A data.frame: 6 × 4\n",
       "\n",
       "| <!--/--> | K562 &lt;dbl&gt; | THP1 &lt;dbl&gt; | SUDHL4 &lt;dbl&gt; | HL60 &lt;dbl&gt; |\n",
       "|---|---|---|---|---|\n",
       "| BULK1 |   6.04026 | -0.06363997 |   9.208071 |   4.700603 |\n",
       "| BULK2 |   3.52114 |  1.93454238 |   1.108894 |   5.321078 |\n",
       "| BULK3 |  10.94556 | -1.57327750 | -36.668319 |   4.621042 |\n",
       "| BULK4 | -44.31735 | -1.63645752 |  12.943736 |   1.648114 |\n",
       "| BULK5 |  12.07377 |  1.07551613 |   6.805160 | -17.348413 |\n",
       "| BULK6 |  11.73661 |  0.26331649 |   6.602459 |   1.057576 |\n",
       "\n"
      ],
      "text/plain": [
       "      K562      THP1        SUDHL4     HL60      \n",
       "BULK1   6.04026 -0.06363997   9.208071   4.700603\n",
       "BULK2   3.52114  1.93454238   1.108894   5.321078\n",
       "BULK3  10.94556 -1.57327750 -36.668319   4.621042\n",
       "BULK4 -44.31735 -1.63645752  12.943736   1.648114\n",
       "BULK5  12.07377  1.07551613   6.805160 -17.348413\n",
       "BULK6  11.73661  0.26331649   6.602459   1.057576"
      ]
     },
     "metadata": {},
     "output_type": "display_data"
    }
   ],
   "source": [
    "pc1_celltypes = data.frame(do.call(cbind,pc1_per_celltype))\n",
    "colnames(pc1_celltypes) = all_celltypes\n",
    "pc1_celltypes"
   ]
  },
  {
   "cell_type": "code",
   "execution_count": 47,
   "metadata": {},
   "outputs": [],
   "source": [
    "### Bottomly approach\n",
    "uniq_conditions = unique(bulk_auc_data$drug)\n",
    "average_pidk_bottomly = matrix(nrow=length(uniq_conditions), ncol=4)\n",
    "true_pidk_bottomly = matrix(nrow=length(uniq_conditions), ncol=4)\n",
    "all_cors_bottomly = list() ; all_rmse_bottomly = list()\n",
    "for(i in 1:length(uniq_conditions)){\n",
    "    this_condition = uniq_conditions[i]\n",
    "    #message(this_condition)\n",
    "    bulk_auc_data.sub = bulk_auc_data[bulk_auc_data$drug == this_condition,]\n",
    "    average_pidk_bottomly[i,] = num(cor(pc1_celltypes, bulk_auc_data.sub$auc))\n",
    "    true_auc_cell_line_sub = true_auc_cell_line[grepl(this_condition, true_auc_cell_line$uniq_id),]\n",
    "    true_auc_cell_line_sub = true_auc_cell_line_sub[match(all_celltypes, true_auc_cell_line_sub$sample),]\n",
    "    true_pidk_bottomly[i,] = num(true_auc_cell_line_sub$auc)\n",
    "    all_cors_bottomly[[i]] = cor(average_pidk_bottomly[i,], true_pidk_bottomly[i,])\n",
    "    all_rmse_bottomly[[i]] = rmse(average_pidk_bottomly[i,], true_pidk_bottomly[i,])\n",
    "    #message(cor(average_pidk_bottomly[i,], true_pidk_bottomly[i,]))\n",
    "}"
   ]
  },
  {
   "cell_type": "code",
   "execution_count": 48,
   "metadata": {},
   "outputs": [
    {
     "data": {
      "text/html": [
       "0.801289207769065"
      ],
      "text/latex": [
       "0.801289207769065"
      ],
      "text/markdown": [
       "0.801289207769065"
      ],
      "text/plain": [
       "[1] 0.8012892"
      ]
     },
     "metadata": {},
     "output_type": "display_data"
    }
   ],
   "source": [
    "bottomly_cors = num(all_cors_bottomly)\n",
    "median(bottomly_cors)"
   ]
  },
  {
   "cell_type": "code",
   "execution_count": 49,
   "metadata": {},
   "outputs": [
    {
     "data": {
      "text/html": [
       "0.432043530546534"
      ],
      "text/latex": [
       "0.432043530546534"
      ],
      "text/markdown": [
       "0.432043530546534"
      ],
      "text/plain": [
       "[1] 0.4320435"
      ]
     },
     "metadata": {},
     "output_type": "display_data"
    }
   ],
   "source": [
    "bottomly_rmse = num(all_rmse_bottomly)\n",
    "median(bottomly_rmse)"
   ]
  },
  {
   "cell_type": "code",
   "execution_count": 50,
   "metadata": {},
   "outputs": [
    {
     "data": {
      "text/html": [
       "0.478132894500893"
      ],
      "text/latex": [
       "0.478132894500893"
      ],
      "text/markdown": [
       "0.478132894500893"
      ],
      "text/plain": [
       "[1] 0.4781329"
      ]
     },
     "metadata": {},
     "output_type": "display_data"
    }
   ],
   "source": [
    "cor(flatten(average_pidk_bottomly), flatten(true_pidk_bottomly))"
   ]
  },
  {
   "cell_type": "markdown",
   "metadata": {},
   "source": [
    "## Implement Zeng approach: CiberSortX proportions correlated with drug sensitivity"
   ]
  },
  {
   "cell_type": "code",
   "execution_count": 66,
   "metadata": {},
   "outputs": [],
   "source": [
    "uniq_conditions = unique(bulk_auc_data$drug)\n",
    "average_pidk_zeng = matrix(nrow=length(uniq_conditions), ncol=4)\n",
    "true_pidk_zeng = matrix(nrow=length(uniq_conditions), ncol=4)\n",
    "all_cors_zeng = list() ; all_rmse_zeng = list()\n",
    "for(i in 1:length(uniq_conditions)){\n",
    "    this_condition = uniq_conditions[i]\n",
    "    bulk_auc_data.sub = bulk_auc_data[bulk_auc_data$drug == this_condition,]\n",
    "    \n",
    "    # Launch zeng\n",
    "    set.seed(1)    \n",
    "    all_cors = cor(all_props$CiberSortX, bulk_auc_data.sub$auc)\n",
    "    all_cors_zeng[[i]] = num(cor(all_cors, true_auc_cell_line[grepl(this_condition, true_auc_cell_line$uniq_id),]$auc))\n",
    "    all_rmse_zeng[[i]] = rmse(all_cors,true_auc_cell_line[grepl(this_condition, true_auc_cell_line$uniq_id),]$auc)\n",
    "}"
   ]
  },
  {
   "cell_type": "code",
   "execution_count": 68,
   "metadata": {},
   "outputs": [
    {
     "data": {
      "text/html": [
       "0.429003774938843"
      ],
      "text/latex": [
       "0.429003774938843"
      ],
      "text/markdown": [
       "0.429003774938843"
      ],
      "text/plain": [
       "[1] 0.4290038"
      ]
     },
     "metadata": {},
     "output_type": "display_data"
    }
   ],
   "source": [
    "mean(num(all_cors_zeng))"
   ]
  },
  {
   "cell_type": "code",
   "execution_count": 69,
   "metadata": {},
   "outputs": [],
   "source": [
    "zeng_cors = num(all_cors_zeng)\n",
    "zeng_rmse = num(all_rmse_zeng)"
   ]
  },
  {
   "cell_type": "markdown",
   "metadata": {},
   "source": [
    "## Compare CLIFF, Karakhelsar and Bottomly approach"
   ]
  },
  {
   "cell_type": "code",
   "execution_count": 114,
   "metadata": {},
   "outputs": [],
   "source": [
    "df_cors = data.frame(rbind(cbind(cliff_cors_overall, 'CLIFF-overall'), cbind(cliff_cors_highres, 'CLIFF-highres'),\n",
    "                           cbind(linreg_cors, 'LinReg'),cbind(bottomly_cors, 'Bottomly'), cbind(zeng_cors, 'Zeng')))\n",
    "colnames(df_cors) = c('PCC', 'method')\n",
    "df_cors$method = factor(df_cors$method, levels=c('CLIFF-overall', 'Bottomly', 'CLIFF-highres', 'Zeng', 'LinReg'))"
   ]
  },
  {
   "cell_type": "code",
   "execution_count": 115,
   "metadata": {},
   "outputs": [
    {
     "data": {
      "text/html": [
       "<strong>pdf:</strong> 2"
      ],
      "text/latex": [
       "\\textbf{pdf:} 2"
      ],
      "text/markdown": [
       "**pdf:** 2"
      ],
      "text/plain": [
       "pdf \n",
       "  2 "
      ]
     },
     "metadata": {},
     "output_type": "display_data"
    },
    {
     "data": {
      "image/png": "[encoded data removed]",
      "text/plain": [
       "plot without title"
      ]
     },
     "metadata": {
      "image/png": {
       "height": 240,
       "width": 120
      }
     },
     "output_type": "display_data"
    }
   ],
   "source": [
    "options(repr.plot.width = 2, repr.plot.height = 4)\n",
    "g <- ggplot(df_cors, aes(x=method, y=num(PCC), fill=method)) + geom_boxplot(size=1, outlier.shape = NA) + \n",
    "    geom_jitter(size=1, color='grey38',width=0.25, height=0) +theme_classic() +\n",
    "    scale_fill_manual(values = ifelse(grepl('CLIFF', levels(df_cors$method)), 'red', 'grey78'))+\n",
    "    theme(legend.position=\"none\", axis.text.x = element_text(angle = 45, vjust = 1, hjust=1)) + xlab('') + ylab('PCC')\n",
    "pdf('results/fig5/boxplot_comparison_invitro_PCC.pdf', width=2, height=4) ; g ; dev.off()\n",
    "g"
   ]
  },
  {
   "cell_type": "code",
   "execution_count": 119,
   "metadata": {},
   "outputs": [
    {
     "data": {
      "text/html": [
       "<table class=\"dataframe\">\n",
       "<caption>A data.frame: 5 × 2</caption>\n",
       "<thead>\n",
       "\t<tr><th scope=col>Group.1</th><th scope=col>x</th></tr>\n",
       "\t<tr><th scope=col>&lt;fct&gt;</th><th scope=col>&lt;chr&gt;</th></tr>\n",
       "</thead>\n",
       "<tbody>\n",
       "\t<tr><td>CLIFF-overall</td><td>0.815932693980011</td></tr>\n",
       "\t<tr><td>Bottomly     </td><td>0.801289207769065</td></tr>\n",
       "\t<tr><td>CLIFF-highres</td><td>0.680670718041523</td></tr>\n",
       "\t<tr><td>Zeng         </td><td>0.681689578424575</td></tr>\n",
       "\t<tr><td>LinReg       </td><td>0.512815127396421</td></tr>\n",
       "</tbody>\n",
       "</table>\n"
      ],
      "text/latex": [
       "A data.frame: 5 × 2\n",
       "\\begin{tabular}{ll}\n",
       " Group.1 & x\\\\\n",
       " <fct> & <chr>\\\\\n",
       "\\hline\n",
       "\t CLIFF-overall & 0.815932693980011\\\\\n",
       "\t Bottomly      & 0.801289207769065\\\\\n",
       "\t CLIFF-highres & 0.680670718041523\\\\\n",
       "\t Zeng          & 0.681689578424575\\\\\n",
       "\t LinReg        & 0.512815127396421\\\\\n",
       "\\end{tabular}\n"
      ],
      "text/markdown": [
       "\n",
       "A data.frame: 5 × 2\n",
       "\n",
       "| Group.1 &lt;fct&gt; | x &lt;chr&gt; |\n",
       "|---|---|\n",
       "| CLIFF-overall | 0.815932693980011 |\n",
       "| Bottomly      | 0.801289207769065 |\n",
       "| CLIFF-highres | 0.680670718041523 |\n",
       "| Zeng          | 0.681689578424575 |\n",
       "| LinReg        | 0.512815127396421 |\n",
       "\n"
      ],
      "text/plain": [
       "  Group.1       x                \n",
       "1 CLIFF-overall 0.815932693980011\n",
       "2 Bottomly      0.801289207769065\n",
       "3 CLIFF-highres 0.680670718041523\n",
       "4 Zeng          0.681689578424575\n",
       "5 LinReg        0.512815127396421"
      ]
     },
     "metadata": {},
     "output_type": "display_data"
    }
   ],
   "source": [
    "aggregate(df_cors$PCC , list(df_cors$method), median)"
   ]
  },
  {
   "cell_type": "code",
   "execution_count": 116,
   "metadata": {},
   "outputs": [],
   "source": [
    "df_rmse = data.frame(rbind(cbind(cliff_rmse_overall, 'CLIFF-overall'), cbind(cliff_rmse_highres, 'CLIFF-highres'),\n",
    "                           cbind(linreg_rmse, 'LinReg'),cbind(bottomly_rmse, 'Bottomly'), cbind(zeng_rmse, 'Zeng')))\n",
    "colnames(df_rmse) = c('RMSE', 'method')\n",
    "df_rmse$method = factor(df_rmse$method, levels=c('CLIFF-overall','CLIFF-highres', 'Bottomly', 'LinReg', 'Zeng'))"
   ]
  },
  {
   "cell_type": "code",
   "execution_count": 117,
   "metadata": {},
   "outputs": [
    {
     "data": {
      "text/html": [
       "<strong>pdf:</strong> 2"
      ],
      "text/latex": [
       "\\textbf{pdf:} 2"
      ],
      "text/markdown": [
       "**pdf:** 2"
      ],
      "text/plain": [
       "pdf \n",
       "  2 "
      ]
     },
     "metadata": {},
     "output_type": "display_data"
    },
    {
     "data": {
      "image/png": "[encoded data removed]",
      "text/plain": [
       "plot without title"
      ]
     },
     "metadata": {
      "image/png": {
       "height": 240,
       "width": 120
      }
     },
     "output_type": "display_data"
    }
   ],
   "source": [
    "options(repr.plot.width = 2, repr.plot.height = 4)\n",
    "g <- ggplot(df_rmse, aes(x=method, y=num(RMSE), fill=method)) + geom_boxplot(size=1, outlier.shape = NA) + \n",
    "    geom_jitter(size=1, color='grey38',width=0.25, height=0) +theme_classic() +\n",
    "    scale_fill_manual(values = ifelse(grepl('CLIFF', levels(df_rmse$method)), 'red', 'grey78'))+\n",
    "    theme(legend.position=\"none\", axis.text.x = element_text(angle = 45, vjust = 1, hjust=1)) + xlab('') + ylab('RMSE')\n",
    "pdf('results/fig5/boxplot_comparison_invitro_RMSE.pdf', width=2, height=4) ; g ; dev.off()\n",
    "g"
   ]
  },
  {
   "cell_type": "markdown",
   "metadata": {},
   "source": [
    "## Optimize feature selection - how many genes to include ?"
   ]
  },
  {
   "cell_type": "code",
   "execution_count": 268,
   "metadata": {},
   "outputs": [],
   "source": [
    "run_all_drug_and_timepoints <- function(n.genes, mode='overall'){    \n",
    "    uniq_conditions = unique(bulk_auc_data$drug)\n",
    "    average_pidk = matrix(nrow=length(uniq_conditions), ncol=4)\n",
    "    true_pidk = matrix(nrow=length(uniq_conditions), ncol=4)\n",
    "    n.selected.genes = list()\n",
    "    all_cors = list() ; all_rmse = list()\n",
    "    for(i in 1:length(uniq_conditions)){\n",
    "        this_condition = uniq_conditions[i]\n",
    "        message(this_condition)\n",
    "        bulk_auc_data.sub = bulk_auc_data[bulk_auc_data$drug == this_condition,]\n",
    "\n",
    "        # Feature Selection \n",
    "        bulk_mat = t(exprs(bulk.es))\n",
    "        drug_data = bulk_auc_data.sub$auc\n",
    "        sel.genes = cliff_gene_selection(bulk_mat, drug_data, min.genes=n.genes)\n",
    "        \n",
    "        # Subset CLIMB output\n",
    "        climb_res.filt = climb_res\n",
    "        climb_res.filt$expr.highres = climb_res.filt$expr.highres[,sel.genes,]\n",
    "        climb_res.filt$expr.overall = climb_res.filt$expr.overall[sel.genes,]\n",
    "        \n",
    "        # Launch CLIFF\n",
    "        cliff_highres = cliff(climb_res.filt, bulk_auc_data.sub, min.mutation=0, \n",
    "                              max.em.steps = 100, mode=mode, regularization='L2')[[1]]  \n",
    "\n",
    "        average_pidk[i,] = num(colMeans(cliff_highres))\n",
    "        true_pidk[i,] = num(true_auc_cell_line[grepl(this_condition, true_auc_cell_line$uniq_id),]$auc)\n",
    "        all_cors[[i]] = cor(average_pidk[i,], true_pidk[i,])\n",
    "        all_rmse[[i]] = rmse(average_pidk[i,], true_pidk[i,])\n",
    "        n.selected.genes[[i]] = length(sel.genes)\n",
    "        message(cor(average_pidk[i,], true_pidk[i,]))   \n",
    "    }\n",
    "    overall_pcc = cor(flatten(average_pidk), flatten(true_pidk))\n",
    "    return(list(all_cors, all_rmse, n.selected.genes))\n",
    "}"
   ]
  },
  {
   "cell_type": "code",
   "execution_count": 269,
   "metadata": {},
   "outputs": [
    {
     "name": "stderr",
     "output_type": "stream",
     "text": [
      "n_genes: 1\n",
      "\n",
      "n_genes: 10\n",
      "\n",
      "n_genes: 25\n",
      "\n",
      "n_genes: 50\n",
      "\n",
      "n_genes: 100\n",
      "\n",
      "n_genes: 200\n",
      "\n",
      "n_genes: 500\n",
      "\n",
      "n_genes: 1000\n",
      "\n",
      "n_genes: 2000\n",
      "\n"
     ]
    }
   ],
   "source": [
    "min.n.genes_vec = c(1,10,25,50,100,200,500,1000,2000)\n",
    "pcc_overall = list() ; rmse_overall = list() ; n_genes_overall = list()\n",
    "pcc_highres = list() ; rmse_highres = list() ; n_genes_highres = list()\n",
    "for(i in 1:length(min.n.genes_vec)){\n",
    "    n.genes = min.n.genes_vec[i]\n",
    "    message(paste0('n_genes: ', n.genes))\n",
    "    # CLIFF-overall\n",
    "    results_ = suppressMessages(run_all_drug_and_timepoints(n.genes, mode='overall'))\n",
    "    pcc_overall[[i]] = num(results_[[1]])\n",
    "    rmse_overall[[i]] = num(results_[[2]])\n",
    "    n_genes_overall[[i]] = num(results_[[3]])\n",
    "    # CLIFF-highres\n",
    "    results_ = suppressMessages(run_all_drug_and_timepoints(n.genes, mode='highres'))\n",
    "    pcc_highres[[i]] = num(results_[[1]])\n",
    "    rmse_highres[[i]] = num(results_[[2]])\n",
    "    n_genes_highres[[i]] = num(results_[[3]])\n",
    "}"
   ]
  },
  {
   "cell_type": "code",
   "execution_count": 270,
   "metadata": {
    "scrolled": true
   },
   "outputs": [
    {
     "name": "stderr",
     "output_type": "stream",
     "text": [
      "Using n_genes as id variables\n",
      "\n",
      "Using n_genes as id variables\n",
      "\n",
      "Using n_genes as id variables\n",
      "\n"
     ]
    }
   ],
   "source": [
    "pcc_overall_m = data.frame(do.call(rbind, pcc_overall))\n",
    "rownames(pcc_overall_m) = min.n.genes_vec ; colnames(pcc_overall_m) = uniq_conditions\n",
    "pcc_overall_m$n_genes = rownames(pcc_overall_m)\n",
    "pcc_overall_melt = melt(pcc_overall_m)\n",
    "colnames(pcc_overall_melt) = c('N genes', 'condition', 'PCC')\n",
    "order_ = order(unique(num(pcc_overall_melt$`N genes`)))\n",
    "pcc_overall_melt$`N genes` = paste0('>', pcc_overall_melt$`N genes`)\n",
    "pcc_overall_melt$`N genes` = gsub('>1000', '>1k', gsub('>2000', '>2k', pcc_overall_melt$`N genes`))\n",
    "pcc_overall_melt$`N genes` = factor(pcc_overall_melt$`N genes`, levels=unique(pcc_overall_melt$`N genes`[order_]))\n",
    "\n",
    "g1 <- ggplot(pcc_overall_melt, aes(x=`N genes`, y=num(PCC))) + geom_boxplot() + ylab('PCC')\n",
    "\n",
    "rmse_overall_m = data.frame(do.call(rbind, rmse_overall))\n",
    "rownames(rmse_overall_m) = min.n.genes_vec ; colnames(rmse_overall_m) = uniq_conditions\n",
    "rmse_overall_m$n_genes = rownames(rmse_overall_m)\n",
    "rmse_overall_melt = melt(rmse_overall_m)\n",
    "colnames(rmse_overall_melt) = c('N genes', 'condition', 'rmse')\n",
    "order_ = order(unique(num(rmse_overall_melt$`N genes`)))\n",
    "rmse_overall_melt$`N genes` = paste0('>', rmse_overall_melt$`N genes`)\n",
    "rmse_overall_melt$`N genes` = gsub('>1000', '>1k', gsub('>2000', '>2k', rmse_overall_melt$`N genes`))\n",
    "rmse_overall_melt$`N genes` = factor(rmse_overall_melt$`N genes`, levels=unique(rmse_overall_melt$`N genes`[order_]))\n",
    "\n",
    "g2 <- ggplot(rmse_overall_melt, aes(x=`N genes`, y=num(rmse))) + geom_boxplot() + ylab('RMSE')\n",
    "\n",
    "n_genes_overall_m = data.frame(do.call(rbind, n_genes_overall))\n",
    "rownames(n_genes_overall_m) = min.n.genes_vec ; colnames(n_genes_overall_m) = uniq_conditions\n",
    "n_genes_overall_m$n_genes = rownames(n_genes_overall_m)\n",
    "n_genes_overall_melt = melt(n_genes_overall_m)\n",
    "colnames(n_genes_overall_melt) = c('N genes', 'condition', 'n_genes')\n",
    "order_ = order(unique(num(n_genes_overall_melt$`N genes`)))\n",
    "n_genes_overall_melt$`N genes` = paste0('>', n_genes_overall_melt$`N genes`)\n",
    "n_genes_overall_melt$`N genes` = gsub('>1000', '>1k', gsub('>2000', '>2k', n_genes_overall_melt$`N genes`))\n",
    "n_genes_overall_melt$`N genes` = factor(n_genes_overall_melt$`N genes`, levels=unique(n_genes_overall_melt$`N genes`[order_]))\n",
    "\n",
    "library(scales) # to access break formatting functions\n",
    "g3 <- ggplot(n_genes_overall_melt, aes(x=`N genes`, y=num(n_genes))) + geom_boxplot() + \n",
    "    ylab('N selected genes') + xlab('N genes') + \n",
    "    scale_y_log10(breaks = trans_breaks(\"log10\", function(x) 10^x),labels = trans_format(\"log10\", math_format(10^.x)))"
   ]
  },
  {
   "cell_type": "code",
   "execution_count": 271,
   "metadata": {},
   "outputs": [
    {
     "data": {
      "image/png": "[encoded data removed]",
      "text/plain": [
       "plot without title"
      ]
     },
     "metadata": {
      "image/png": {
       "height": 210,
       "width": 600
      }
     },
     "output_type": "display_data"
    }
   ],
   "source": [
    "library(ggpubr)\n",
    "options(repr.plot.width = 10, repr.plot.height = 3.5)\n",
    "g <- ggarrange(g1,g2,g3, ncol=3, nrow=1)\n",
    "#pdf('results/fig5/gene_selection_optimization_overall.pdf', width=10, height=3.5) ; g ; dev.off()\n",
    "g"
   ]
  },
  {
   "cell_type": "code",
   "execution_count": 272,
   "metadata": {},
   "outputs": [
    {
     "name": "stderr",
     "output_type": "stream",
     "text": [
      "Using n_genes as id variables\n",
      "\n",
      "Using n_genes as id variables\n",
      "\n",
      "Using n_genes as id variables\n",
      "\n"
     ]
    }
   ],
   "source": [
    "pcc_highres_m = data.frame(do.call(rbind, pcc_highres))\n",
    "rownames(pcc_highres_m) = min.n.genes_vec ; colnames(pcc_highres_m) = uniq_conditions\n",
    "pcc_highres_m$n_genes = rownames(pcc_highres_m)\n",
    "pcc_highres_melt = melt(pcc_highres_m)\n",
    "colnames(pcc_highres_melt) = c('N genes', 'condition', 'PCC')\n",
    "order_ = order(unique(num(pcc_highres_melt$`N genes`)))\n",
    "pcc_highres_melt$`N genes` = paste0('>', pcc_highres_melt$`N genes`)\n",
    "pcc_highres_melt$`N genes` = gsub('>1000', '>1k', gsub('>2000', '>2k', pcc_highres_melt$`N genes`))\n",
    "pcc_highres_melt$`N genes` = factor(pcc_highres_melt$`N genes`, levels=unique(pcc_highres_melt$`N genes`[order_]))\n",
    "\n",
    "g1 <- ggplot(pcc_highres_melt, aes(x=`N genes`, y=num(PCC))) + geom_boxplot() + ylab('PCC')\n",
    "\n",
    "rmse_highres_m = data.frame(do.call(rbind, rmse_highres))\n",
    "rownames(rmse_highres_m) = min.n.genes_vec ; colnames(rmse_highres_m) = uniq_conditions\n",
    "rmse_highres_m$n_genes = rownames(rmse_highres_m)\n",
    "rmse_highres_melt = melt(rmse_highres_m)\n",
    "colnames(rmse_highres_melt) = c('N genes', 'condition', 'rmse')\n",
    "order_ = order(unique(num(rmse_highres_melt$`N genes`)))\n",
    "rmse_highres_melt$`N genes` = paste0('>', rmse_highres_melt$`N genes`)\n",
    "rmse_highres_melt$`N genes` = gsub('>1000', '>1k', gsub('>2000', '>2k', rmse_highres_melt$`N genes`))\n",
    "rmse_highres_melt$`N genes` = factor(rmse_highres_melt$`N genes`, levels=unique(rmse_highres_melt$`N genes`[order_]))\n",
    "\n",
    "g2 <- ggplot(rmse_highres_melt, aes(x=`N genes`, y=num(rmse))) + geom_boxplot() + ylab('RMSE')\n",
    "\n",
    "n_genes_highres_m = data.frame(do.call(rbind, n_genes_highres))\n",
    "rownames(n_genes_highres_m) = min.n.genes_vec ; colnames(n_genes_highres_m) = uniq_conditions\n",
    "n_genes_highres_m$n_genes = rownames(n_genes_highres_m)\n",
    "n_genes_highres_melt = melt(n_genes_highres_m)\n",
    "colnames(n_genes_highres_melt) = c('N genes', 'condition', 'n_genes')\n",
    "order_ = order(unique(num(n_genes_highres_melt$`N genes`)))\n",
    "n_genes_highres_melt$`N genes` = paste0('>', n_genes_highres_melt$`N genes`)\n",
    "n_genes_highres_melt$`N genes` = gsub('>1000', '>1k', gsub('>2000', '>2k', n_genes_highres_melt$`N genes`))\n",
    "n_genes_highres_melt$`N genes` = factor(n_genes_highres_melt$`N genes`, levels=unique(n_genes_highres_melt$`N genes`[order_]))\n",
    "\n",
    "library(scales) # to access break formatting functions\n",
    "g3 <- ggplot(n_genes_highres_melt, aes(x=`N genes`, y=num(n_genes))) + geom_boxplot() + \n",
    "    ylab('N selected genes') + xlab('N genes') + \n",
    "    scale_y_log10(breaks = trans_breaks(\"log10\", function(x) 10^x),labels = trans_format(\"log10\", math_format(10^.x)))"
   ]
  },
  {
   "cell_type": "code",
   "execution_count": 273,
   "metadata": {},
   "outputs": [
    {
     "data": {
      "image/png": "[encoded data removed]",
      "text/plain": [
       "plot without title"
      ]
     },
     "metadata": {
      "image/png": {
       "height": 210,
       "width": 600
      }
     },
     "output_type": "display_data"
    }
   ],
   "source": [
    "library(ggpubr)\n",
    "options(repr.plot.width = 10, repr.plot.height = 3.5)\n",
    "g <- ggarrange(g1,g2,g3, ncol=3, nrow=1)\n",
    "#pdf('results/fig5/gene_selection_optimization_highres.pdf', width=10, height=3.5) ; g ; dev.off()\n",
    "g"
   ]
  }
 ],
 "metadata": {
  "jupytext": {
   "cell_metadata_filter": "-all",
   "formats": "ipynb,md",
   "main_language": "python"
  },
  "kernelspec": {
   "display_name": "R",
   "language": "R",
   "name": "ir"
  },
  "language_info": {
   "codemirror_mode": "r",
   "file_extension": ".r",
   "mimetype": "text/x-r-source",
   "name": "R",
   "pygments_lexer": "r",
   "version": "4.2.2"
  }
 },
 "nbformat": 4,
 "nbformat_minor": 4
}
