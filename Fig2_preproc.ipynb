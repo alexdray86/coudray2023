{
 "cells": [
  {
   "cell_type": "code",
   "execution_count": 90,
   "id": "e1d82b47-835d-499f-8109-f7e0d8a2a2a5",
   "metadata": {
    "tags": []
   },
   "outputs": [],
   "source": [
    "library(Biobase) ; library(reshape2) ; library(Seurat) \n",
    "library(SingleCellExperiment) ;  library(scran) ; library(scater)"
   ]
  },
  {
   "cell_type": "markdown",
   "id": "1845eafb-d6ac-46ec-b780-8548d32052e3",
   "metadata": {},
   "source": [
    "### Functions "
   ]
  },
  {
   "cell_type": "code",
   "execution_count": 91,
   "id": "e21ebd05-2255-4961-aef6-25a0ee1ca085",
   "metadata": {
    "tags": []
   },
   "outputs": [],
   "source": [
    "# METRICS FUNCTIONS\n",
    "num <- function(x){ return(as.numeric(as.character(x)))}\n",
    "flatten <- function(x){return(as.vector(as.matrix(x)))}"
   ]
  },
  {
   "cell_type": "markdown",
   "id": "19365aa3-9a1d-4761-82a7-b7b97c8d4987",
   "metadata": {},
   "source": [
    "### Load data from a pair of scRNA-seq datasets, filter genes and cells, integrate datasets and transfer cell-type labels\n",
    "\n",
    "Here we show how the gene were filtered in the in-vitro datasets. Steps \n",
    "\n",
    "__Explanations of the steps:__\n",
    "\n",
    "We load the data stored as `ExpressionSet` object, containing all the cells we consider and all the genes in a raw counts matrix, including the cell types labels fromt the original publications. Cell type labels are stored in `cellType`. We filter genes using a simple threshold on the raw counts : we keep only those with at least 3 counts in 3 cells. "
   ]
  },
  {
   "cell_type": "code",
   "execution_count": 92,
   "id": "e655a643",
   "metadata": {},
   "outputs": [],
   "source": [
    "gene_intersection <- function(dataset1, dataset2){\n",
    "    message('Finding gene intersect between two datasets')\n",
    "    gene_intersect = intersect(rownames(dataset1), rownames(dataset2))\n",
    "    message(paste0(length(gene_intersect), ' genes in common between two datasets. Subsetting datasets.'))\n",
    "    return(gene_intersect)\n",
    "}\n",
    "select_variable_genes <- function(sc, cut.varbio=0.0){\n",
    "    sce <- SingleCellExperiment(assays = list(counts = as.matrix(sc@assays$RNA@counts)))\n",
    "    clusters <- quickCluster(sce, subset.row=NULL, assay.type=\"counts\")\n",
    "    sce <- computeSumFactors(sce, clusters=clusters)\n",
    "    sce <- scater::logNormCounts(sce, size.factors = sizeFactors(sce))\n",
    "    fit.genevar = modelGeneVar(sce)\n",
    "    return(rownames(sc)[fit.genevar$bio > cut.varbio])\n",
    "}"
   ]
  },
  {
   "cell_type": "code",
   "execution_count": 113,
   "id": "a789f048",
   "metadata": {},
   "outputs": [],
   "source": [
    "sc.srt = readRDS('data/invitro_climb/invitro_seurat_allGenes.RDS')\n",
    "bulk.es = readRDS('data/invitro_climb/invitro_bulk_es_allGens.RDS')"
   ]
  },
  {
   "cell_type": "code",
   "execution_count": 114,
   "id": "7e659fc7",
   "metadata": {},
   "outputs": [],
   "source": [
    "bulk.es = bulk.es[,1:6]"
   ]
  },
  {
   "cell_type": "code",
   "execution_count": 115,
   "id": "2c98fcab",
   "metadata": {},
   "outputs": [
    {
     "data": {
      "text/html": [
       "<style>\n",
       ".list-inline {list-style: none; margin:0; padding: 0}\n",
       ".list-inline>li {display: inline-block}\n",
       ".list-inline>li:not(:last-child)::after {content: \"\\00b7\"; padding: 0 .5ex}\n",
       "</style>\n",
       "<ol class=list-inline><li>6836</li><li>2342</li></ol>\n"
      ],
      "text/latex": [
       "\\begin{enumerate*}\n",
       "\\item 6836\n",
       "\\item 2342\n",
       "\\end{enumerate*}\n"
      ],
      "text/markdown": [
       "1. 6836\n",
       "2. 2342\n",
       "\n",
       "\n"
      ],
      "text/plain": [
       "[1] 6836 2342"
      ]
     },
     "metadata": {},
     "output_type": "display_data"
    }
   ],
   "source": [
    "# Filters genes with low expression - threshold of 3 counts in at least 3 cells\n",
    "sc_mat = as.matrix(sc.srt@assays$RNA@counts)\n",
    "sel.genes = apply(sc_mat,1,function(x) sum(x > 3)) > 3\n",
    "sc_mat = sc_mat[sel.genes,]\n",
    "dim(sc_mat)"
   ]
  },
  {
   "cell_type": "code",
   "execution_count": 116,
   "id": "2d30b34a",
   "metadata": {},
   "outputs": [],
   "source": [
    "gene_select = intersect(rownames(sc.srt), rownames(bulk.es))\n",
    "sc.srt = sc.srt[gene_select,]\n",
    "bulk.es = bulk.es[gene_select,]"
   ]
  },
  {
   "cell_type": "code",
   "execution_count": 117,
   "id": "bda20d29",
   "metadata": {},
   "outputs": [],
   "source": [
    "# transform Seurat object into ExpressionSet\n",
    "sc.es = ExpressionSet(as.matrix(sc.srt@assays$RNA@counts))\n",
    "sc.es$cellType = Idents(sc.srt)"
   ]
  },
  {
   "cell_type": "code",
   "execution_count": 118,
   "id": "bb41b70b",
   "metadata": {},
   "outputs": [],
   "source": [
    "# all cells form same sequencing, simulate two random sample for MuSiC method to work\n",
    "sc.es$SubjectName = sample(c(1,2,3,4), dim(sc.es)[2], replace = T)"
   ]
  },
  {
   "cell_type": "code",
   "execution_count": 119,
   "id": "e269b21e",
   "metadata": {},
   "outputs": [],
   "source": [
    "true_prop = read.csv('data/invitro_climb/true_prop.csv', row.names='X')"
   ]
  },
  {
   "cell_type": "code",
   "execution_count": 120,
   "id": "358fab31",
   "metadata": {},
   "outputs": [],
   "source": [
    "bulk.es = ExpressionSet(exprs(bulk.es), phenoData = AnnotatedDataFrame(data.frame(true_prop)))"
   ]
  },
  {
   "cell_type": "code",
   "execution_count": 112,
   "id": "c230f2f3",
   "metadata": {},
   "outputs": [],
   "source": [
    "# Save filtered objects\n",
    "saveRDS(sc.es, 'data/invitro_climb/invitro_sc_es.RDS')\n",
    "saveRDS(bulk.es, 'data/invitro_climb/invitro_bulk_es.RDS')"
   ]
  }
 ],
 "metadata": {
  "kernelspec": {
   "display_name": "R",
   "language": "R",
   "name": "ir"
  },
  "language_info": {
   "codemirror_mode": "r",
   "file_extension": ".r",
   "mimetype": "text/x-r-source",
   "name": "R",
   "pygments_lexer": "r",
   "version": "4.2.2"
  }
 },
 "nbformat": 4,
 "nbformat_minor": 5
}
