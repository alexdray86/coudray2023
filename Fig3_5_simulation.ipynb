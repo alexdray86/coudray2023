{
 "cells": [
  {
   "cell_type": "markdown",
   "metadata": {},
   "source": [
    "### Bulk to single-cell decomposition\n",
    "\n",
    "Here we explore how we can assemble single-cells to form pseudo-bulk as close as possible to our reference bulk samples."
   ]
  },
  {
   "cell_type": "code",
   "execution_count": 2,
   "metadata": {},
   "outputs": [],
   "source": [
    "# Load general Libraries\n",
    "library(Matrix) ; library(ggplot2) ; library(glmnet)\n",
    "library(RColorBrewer) ; library(dplyr) ; library(Biobase)\n",
    "library(IRdisplay) ; library(reshape2) ; library(ggpubr)\n",
    "library(xbioc) ; library(ComplexHeatmap)\n",
    "library(SingleCellExperiment) ;  library(ggpmisc)\n",
    "library(circlize) ; library(MASS)\n",
    "library(dampack) ; library(rBeta2009) # dampack-rBeta2009 package need to use Dirichlet distribution modelling\n",
    "library(abind) ; library(DESeq2) ; library(Metrics)# DESeq2 needed for CLIMB deconvolution of expression\n",
    "# deconvolution methods \n",
    "library(MuSiC) ; library(BayesPrism); library(BisqueRNA)\n",
    "library(climb)"
   ]
  },
  {
   "cell_type": "code",
   "execution_count": 3,
   "metadata": {},
   "outputs": [],
   "source": [
    "### UPDATE CLIMB ###\n",
    "#detach(\"package:climb\", unload=TRUE)\n",
    "#devtools::install_github('alexdray86/climb', force=T)\n",
    "#library(climb)"
   ]
  },
  {
   "cell_type": "markdown",
   "metadata": {},
   "source": [
    "### Important functions"
   ]
  },
  {
   "cell_type": "code",
   "execution_count": 3,
   "metadata": {},
   "outputs": [],
   "source": [
    "# METRICS FUNCTIONS\n",
    "num <- function(x){ return(as.numeric(as.character(x)))}\n",
    "flatten <- function(x){return(as.vector(as.matrix(x)))}\n",
    "mse <- function(tr, pr){ return( sum((tr - pr)^2) / length(tr) ) }\n",
    "rmse <- function(tr, pr){ return( sqrt( sum((tr - pr)^2) / length(tr) ) ) }\n",
    "scor <- function(tr, pr){ return( cor(tr, pr, method = 'spearman') ) }\n",
    "pcor <- function(tr, pr){ return( cor(tr, pr, method = 'pearson') ) }\n",
    "r_square <- function(pr, tr){ return( sign(cor(pr,tr)) * cor(pr,tr)^2 ) }\n",
    "### Function to retrieve all metrics from Deconvolution vs True cell-type proportion comparison\n",
    "comp_rows_and_cols <- function(pred_prop, true_prop){\n",
    "    pc_l = list() ; sc_l = list()\n",
    "    rsq_l = list(); rmse_l = list()\n",
    "    # per row metrics:\n",
    "    for(i in 1:dim(pred_prop)[1]){\n",
    "        pc_l[[i]] = cor(pred_prop[i,], true_prop[i,], method = 'pearson')\n",
    "        sc_l[[i]] = cor(pred_prop[i,], true_prop[i,], method = 'spearman')\n",
    "        rsq_l[[i]] = max(r_square(pred_prop[i,], true_prop[i,]), -1.0)\n",
    "        rmse_l[[i]] = rmse(pred_prop[i,], true_prop[i,])\n",
    "    }\n",
    "    pc_c = list() ; sc_c = list()\n",
    "    rsq_c = list(); rmse_c = list()\n",
    "    # per-column metrics:\n",
    "    for(i in 1:dim(pred_prop)[2]){\n",
    "        pc_c[[i]] = cor(pred_prop[,i], true_prop[,i], method = 'pearson')\n",
    "        sc_c[[i]] = cor(pred_prop[,i], true_prop[,i], method = 'spearman')\n",
    "        rsq_c[[i]] = max(r_square(pred_prop[,i], true_prop[,i]), -1.0)\n",
    "        rmse_c[[i]] = rmse(pred_prop[,i], true_prop[,i])\n",
    "    }\n",
    "    res = list() ; \n",
    "    res[[1]] = num(pc_l) ; res[[2]] = num(sc_l)\n",
    "    res[[3]] = num(rsq_l); res[[4]] = num(rmse_l)\n",
    "    res[[5]] = num(pc_c) ; res[[6]] = num(sc_c)\n",
    "    res[[7]] = num(rsq_c); res[[8]] = num(rmse_c)\n",
    "    # overall metrics:\n",
    "    res[[9]] = pcor(as.vector(num(pred_prop)), as.vector(num(true_prop)))\n",
    "    res[[10]] = scor(as.vector(num(pred_prop)), as.vector(num(true_prop)))\n",
    "    res[[11]] = max(r_square(as.vector(num(pred_prop)), as.vector(num(true_prop))), -1.0)\n",
    "    res[[12]] = rmse(as.vector(num(pred_prop)), as.vector(num(true_prop)))\n",
    "    return(res)\n",
    "}\n",
    "# METRICS FUNCTIONS\n",
    "num <- function(x){ return(as.numeric(as.character(x)))}\n",
    "flatten <- function(x){return(as.vector(as.matrix(x)))}\n",
    "mse <- function(tr, pr){ return( sum((tr - pr)^2) / length(tr) ) }\n",
    "rmse <- function(tr, pr){ return( sqrt( sum((tr - pr)^2) / length(tr) ) ) }\n",
    "scor <- function(tr, pr){ return( cor(tr, pr, method = 'spearman') ) }\n",
    "pcor <- function(tr, pr){ return( cor(tr, pr, method = 'pearson') ) }\n",
    "r_square <- function(pr, tr){\n",
    "    SStot = sum((tr - mean(tr))^2)\n",
    "    SSres = sum((pr - tr)^2)\n",
    "    return(1 - SSres / SStot)\n",
    "}\n",
    "r_square <- function(pr, tr){\n",
    "    return( sign(cor(pr,tr))*cor(pr,tr)^2 )\n",
    "}\n",
    "### Function to retrieve all metrics from Deconvolution vs True cell-type proportion comparison\n",
    "comp_rows_and_cols <- function(pred_prop, true_prop){\n",
    "    pc_l = list() ; sc_l = list()\n",
    "    rsq_l = list(); rmse_l = list()\n",
    "    for(i in 1:dim(pred_prop)[1]){\n",
    "        pc_l[[i]] = cor(pred_prop[i,], true_prop[i,], method = 'pearson')\n",
    "        sc_l[[i]] = cor(pred_prop[i,], true_prop[i,], method = 'spearman')\n",
    "        rsq_l[[i]] = max(r_square(pred_prop[i,], true_prop[i,]), -1.0)\n",
    "        rmse_l[[i]] = rmse(pred_prop[i,], true_prop[i,])\n",
    "    }\n",
    "    pc_c = list() ; sc_c = list()\n",
    "    rsq_c = list(); rmse_c = list()\n",
    "    for(i in 1:dim(pred_prop)[2]){\n",
    "        pc_c[[i]] = cor(pred_prop[,i], true_prop[,i], method = 'pearson')\n",
    "        sc_c[[i]] = cor(pred_prop[,i], true_prop[,i], method = 'spearman')\n",
    "        rsq_c[[i]] = max(r_square(pred_prop[,i], true_prop[,i]), -1.0)\n",
    "        rmse_c[[i]] = rmse(pred_prop[,i], true_prop[,i])\n",
    "    }\n",
    "    res = list() ; \n",
    "    res[[1]] = num(pc_l) ; res[[2]] = num(sc_l)\n",
    "    res[[3]] = num(rsq_l); res[[4]] = num(rmse_l)\n",
    "    res[[5]] = num(pc_c) ; res[[6]] = num(sc_c)\n",
    "    res[[7]] = num(rsq_c); res[[8]] = num(rmse_c)\n",
    "    res[[9]] = pcor(as.vector(num(pred_prop)), as.vector(num(true_prop)))\n",
    "    res[[10]] = scor(as.vector(num(pred_prop)), as.vector(num(true_prop)))\n",
    "    res[[11]] = max(r_square(as.vector(num(pred_prop)), as.vector(num(true_prop))), -1.0)\n",
    "    res[[12]] = rmse(as.vector(num(pred_prop)), as.vector(num(true_prop)))\n",
    "    return(res)\n",
    "}\n",
    "reformat_strings <- function(vector_string){\n",
    "    # replace plus and minus (e.g. useful for CD34+, CD34- populations)\n",
    "    vector_string <- gsub('\\\\-$', 'minus', vector_string) \n",
    "    vector_string <- gsub('\\\\+', 'plus', vector_string) \n",
    "    vector_string <- gsub('\\\\ ', '\\\\.', vector_string) \n",
    "    # remove all special characters\n",
    "    vector_string <- gsub('[^[:alnum:] ]','',vector_string)\n",
    "    return(vector_string)\n",
    "}\n",
    "reformat_celltypes <- function(celltype_labels){\n",
    "    celltype_labels <- reformat_strings(as.vector(celltype_labels))\n",
    "    celltype_labels <- factor(celltype_labels)\n",
    "    return(celltype_labels)\n",
    "}\n",
    "add_missing_celltypes <- function(tab, celltype_names){\n",
    "    missing_ct = celltype_names[!celltype_names %in% colnames(tab)]\n",
    "    if(length(missing_ct)>0){\n",
    "        for(ct in missing_ct){\n",
    "            tab_ = cbind(tab, rep(0, dim(tab)[1]))\n",
    "            colnames(tab_) = c(colnames(tab), ct)\n",
    "            tab = tab_\n",
    "        }\n",
    "    }\n",
    "    return(tab)\n",
    "} \n",
    "### Function for each deconvolution methods ### \n",
    "deconvolution_climb_noWeights <- function(sc, bulks, true_prop, celltype_names){\n",
    "    climb_res = climb(sc, bulks, dwls_weights = F, mode='abundance')\n",
    "    climb_prop = climb_res$props\n",
    "    rownames(climb_prop) = colnames(bulks)\n",
    "    climb_prop = add_missing_celltypes(climb_prop, celltype_names)\n",
    "    return(as.matrix(climb_prop[,celltype_names]))\n",
    "}\n",
    "deconvolution_climb <- function(sc, bulks, true_prop, celltype_names){\n",
    "    climb_res = climb(sc, bulks, dwls_weights = T, mode='abundance')\n",
    "    climb_prop = climb_res$props\n",
    "    rownames(climb_prop) = colnames(bulks)\n",
    "    climb_prop = add_missing_celltypes(climb_prop, celltype_names)\n",
    "    return(as.matrix(climb_prop[,celltype_names]))\n",
    "}\n",
    "deconvolution_bayesprism <- function(sc, bulks, true_prop, celltype_names){\n",
    "    myPrism <- new.prism(reference= t(exprs(sc)), \n",
    "                         mixture=t(exprs(bulks)), input.type=\"count.matrix\", \n",
    "                         cell.type.labels = as.character(sc$cellType), \n",
    "                         cell.state.labels = as.character(sc$cellType), \n",
    "                         key = NULL,outlier.cut=0.01,outlier.fraction=0.1)\n",
    "    bp.res <- run.prism(prism = myPrism, n.cores=6)\n",
    "    bayesprism_prop <- get.fraction (bp=bp.res, which.theta=\"final\",\n",
    "             state.or.type=\"type\")\n",
    "    bayesprism_prop = add_missing_celltypes(bayesprism_prop, celltype_names)\n",
    "    return(as.matrix(bayesprism_prop[,celltype_names]))\n",
    "}\n",
    "deconvolution_music <- function(sc, bulks, true_prop, celltype_names){\n",
    "    sce <- SingleCellExperiment(list(counts=exprs(sc)),\n",
    "                                colData=DataFrame(label=colnames(sc),\n",
    "                                                  cellType=sc$cellType,\n",
    "                                                  SubjectName=sc$SubjectName),\n",
    "                                rowData=DataFrame(gene_name=rownames(sc)))\n",
    "    music.output = music_prop(bulk.mtx = exprs(bulks), sc.sce = sce, \n",
    "                                 clusters = 'cellType',samples = 'SubjectName',verbose = F)\n",
    "    music_prop = music.output$Est.prop.weighted\n",
    "    music_prop = add_missing_celltypes(music_prop, celltype_names)\n",
    "    return(music_prop[,celltype_names])\n",
    "}\n",
    "deconvolution_nnls <- function(sc, bulks, true_prop, celltype_names){\n",
    "    sce <- SingleCellExperiment(list(counts=exprs(sc)),\n",
    "                                colData=DataFrame(label=colnames(sc),\n",
    "                                                  cellType=sc$cellType,\n",
    "                                                  SubjectName=sc$SubjectName),\n",
    "                                rowData=DataFrame(gene_name=rownames(sc)))\n",
    "    music.output = music_prop(bulk.mtx = exprs(bulks), sc.sce = sce, \n",
    "                                 clusters = 'cellType',samples = 'SubjectName',verbose = F)\n",
    "    nnls_prop = music.output$Est.prop.allgene\n",
    "    nnls_prop = add_missing_celltypes(nnls_prop, celltype_names)\n",
    "    return(nnls_prop[,celltype_names])\n",
    "}\n",
    "deconvolution_bisque <- function(sc, bulks, true_prop, celltype_names){\n",
    "    bisque.out = BisqueRNA::ReferenceBasedDecomposition(bulks, sc, use.overlap=F)\n",
    "    bisque_prop = t(bisque.out$bulk.props)\n",
    "    bisque_prop = add_missing_celltypes(bisque_prop, celltype_names)\n",
    "    return(bisque_prop[,celltype_names])\n",
    "}\n",
    "deconvolution_random <- function(nnls_prop){\n",
    "    nnls_prop = read.csv(paste0(out_dir, '/nnls_prop.csv'), row.names='X')\n",
    "    set.seed(1)\n",
    "    rand_prop = nnls_prop[sample(rownames(nnls_prop)), sample(colnames(nnls_prop))]\n",
    "    rownames(rand_prop) = rownames(nnls_prop) ; colnames(rand_prop) = colnames(nnls_prop)\n",
    "    return(rand_prop)\n",
    "}\n",
    "write_tables_cibersortx <- function(sc, bulks, true_prop, celltype_names, tab_dir){\n",
    "    # WARNING : the following script only writes tables to be used on CiberSortX website\n",
    "    sc_mat = exprs(sc)\n",
    "    colnames(sc_mat) = as.character(sc$cellType) # cell-type labels provided as column names\n",
    "    write.table(sc_mat , paste0(tab_dir,\"/TMP_cibersortx_sc_mat.txt\"), sep = '\\t', quote=F)\n",
    "    write.table(exprs(bulks), paste0(tab_dir,\"/TMP_cibersortx_pbulks.txt\"), sep = '\\t', quote=F)\n",
    "    # Reformulate to add 'Gene' at the start of the file\n",
    "    #system(paste0('cat <(echo -ne \"Gene\\t\") ',tab_dir,'/TMP_cibersortx_pbulks.txt > ', \n",
    "    #              tab_dir, '/cibersortx_pbulks.txt'))\n",
    "    #system(paste0('cat <(echo -ne \"Gene\\t\") ',tab_dir,'/TMP_cibersortx_sc_mat.txt > ', \n",
    "    #              tab_dir, '/cibersortx_sc_mat.txt'))\n",
    "    # remove temp files\n",
    "    #system(paste0('rm ',tab_dir, '/TMP_*'))\n",
    "}\n",
    "write_tables_tape_scaden <- function(sc, bulks, true_prop, celltype_names, tab_dir){\n",
    "    # Write all input tables formatted for TAPE / Scaden\n",
    "    write.csv(t(exprs(bulks)), paste0(tab_dir, \"/tape_scaden_bulks_expr.csv\"), quote=F)\n",
    "    sc_mat_TAPE = exprs(sc)\n",
    "    sc_mat_TAPE = t(sc_mat_TAPE)\n",
    "    rownames(sc_mat_TAPE) = sc$cellType\n",
    "    write.csv(sc_mat_TAPE, paste0(tab_dir, \"/tape_scaden_scmat_expr.csv\"), quote=F)\n",
    "}\n",
    "deconvolution_scaden <- function(sc, bulks, true_prop, celltype_names, tab_dir){\n",
    "    # WARNING: launching TAPE / Scaden from the command line induces figures popping up\n",
    "    # which blocks the process (figures have to be closed manually). \n",
    "    # To prevent these figures to be made, one can comment lines 103-109,115-119,128-131, \n",
    "    # and 172-176 in the file 'tape_scaden_env/lib/python3.7/site-packages/TAPE/utils.py'\n",
    "    message('Launch Scaden / TAPE deconvolution')\n",
    "    # Launch bash script that will launch environment and python script\n",
    "    system(paste0('bash launch_TAPE_and_Scaden.sh ', tab_dir, '/tape_scaden_scmat_expr.csv ',\n",
    "                  tab_dir, '/tape_scaden_bulks_expr.csv ',\n",
    "                  '../REVISION_1/data/celltype_expression/TAPE/input/GeneLength.txt ',\n",
    "                  tab_dir, '/'), wait=TRUE)\n",
    "}\n",
    "load_tape_prop <- function(tmp_dir, out_dir, celltype_names){\n",
    "    celltype_names = reformat_celltypes(celltype_names)\n",
    "    tape_prop = read.csv(paste0(tmp_dir,'/tape_a_prop.csv'), row.names = 'X')\n",
    "    colnames(tape_prop) = reformat_celltypes(colnames(tape_prop))\n",
    "    tape_prop = add_missing_celltypes(tape_prop, celltype_names)\n",
    "    tape_prop = tape_prop[,as.character(celltype_names)]\n",
    "    write.csv(tape_prop, paste0(out_dir,'/tape_prop.csv'), quote=F)\n",
    "    return(tape_prop)\n",
    "}\n",
    "load_scaden_prop <- function(tmp_dir, out_dir, celltype_names){\n",
    "    celltype_names = reformat_celltypes(celltype_names)\n",
    "    scaden_prop = read.csv(paste0(tmp_dir,'/scaden_prop.csv'), row.names = 'X')\n",
    "    colnames(scaden_prop) = reformat_celltypes(colnames(scaden_prop))\n",
    "    scaden_prop = add_missing_celltypes(scaden_prop, celltype_names)\n",
    "    scaden_prop = scaden_prop[,as.character(celltype_names)]\n",
    "    write.csv(scaden_prop, paste0(out_dir,'/scaden_prop.csv'), quote=F)\n",
    "    return(scaden_prop)\n",
    "}\n",
    "load_all_props <- function(odir, include_cibersortx=FALSE){\n",
    "    tdir = paste0(odir,'/tmp_tabs')\n",
    "    true_p = read.csv(paste0(odir, '/true_prop.csv'), row.names='X')\n",
    "    sample_names = row.names(true_p)\n",
    "    celltype_names = read.csv(paste0(odir, '/celltype_names.csv'))$x\n",
    "    climb_p = read.csv(paste0(odir, '/climb_prop.csv'), row.names='X')[,colnames(true_p)]\n",
    "    #climb_dw_p = read.csv(paste0(odir, '/climb_dw_prop.csv'), row.names='X')[,colnames(true_p)]\n",
    "    bayesprism_p = read.csv(paste0(odir, '/bayesprism_prop.csv'), row.names='X')[,colnames(true_p)]\n",
    "    music_p = read.csv(paste0(odir, '/music_prop.csv'), row.names='X')[,colnames(true_p)]\n",
    "    nnls_p = read.csv(paste0(odir, '/nnls_prop.csv'), row.names='X')[,colnames(true_p)]\n",
    "    rand_p = read.csv(paste0(odir, '/rand_prop.csv'), row.names='X')[,colnames(true_p)]\n",
    "    bisque_p = read.csv(paste0(odir, '/bisque_prop.csv'), row.names='X')[,colnames(true_p)]\n",
    "    tape_p = load_tape_prop(tdir, odir, celltype_names)\n",
    "    scaden_p = load_scaden_prop(tdir, odir, celltype_names)\n",
    "    if(include_cibersortx){\n",
    "        csx_p = read.csv(paste0(odir, '/cibersortx_prop.csv'), row.names='Mixture')[,colnames(true_p)]\n",
    "        all_p = list(as.matrix(climb_p), as.matrix(scaden_p), \n",
    "                     as.matrix(tape_p), as.matrix(csx_p), as.matrix(bayesprism_p), as.matrix(music_p), \n",
    "                     as.matrix(nnls_p), as.matrix(bisque_p), as.matrix(rand_p))\n",
    "        names(all_p) = c('CLIMB', 'Scaden', 'TAPE', 'CiberSortX', 'BayesPrism', 'MuSiC', 'NNLS', 'BisqueRNA', 'Random')\n",
    "    } else {\n",
    "        all_p = list(as.matrix(climb_p), as.matrix(scaden_p), \n",
    "                     as.matrix(tape_p), as.matrix(bayesprism_p), as.matrix(music_p), \n",
    "                     as.matrix(nnls_p), as.matrix(bisque_p), as.matrix(rand_p))\n",
    "        names(all_p) = c('CLIMB', 'Scaden', 'TAPE', 'BayesPrism', 'MuSiC', 'NNLS', 'BisqueRNA', 'Random')\n",
    "    }\n",
    "    true_prop_cols = colnames(true_prop) ; true_prop_rows = rownames(true_prop)\n",
    "    message(paste0('Checking that all tables have the same cell-type labels: ',suppressWarnings(all(lapply(all_p, function(x) all(colnames(x) == true_prop_cols))))))\n",
    "    message(paste0('Checking that all tables has the same sample names: ',suppressWarnings(all(lapply(all_p, function(x) all(rownames(x) == true_prop_rows))))))\n",
    "    return(all_p)\n",
    "}                                                                                           \n",
    "make_all_metrics <- function(all_ps, t_prop){\n",
    "    all_rs = list()\n",
    "    for(p in 1:length(all_ps)){\n",
    "        name_p = names(all_ps)[p]\n",
    "        all_rs[[name_p]] = suppressWarnings(comp_rows_and_cols(all_ps[[p]], t_prop))\n",
    "    }\n",
    "    names(all_rs) = names(all_ps)\n",
    "    return(all_rs)\n",
    "}\n",
    "launch_all_deconvolution_methods <- function(sc, bulks, true_prop, celltype_names, out_dir){ \n",
    "    # Create folders\n",
    "    message('Creating folders')\n",
    "    tmp_dir = paste0(out_dir, '/tmp_tabs')\n",
    "    dir.create(tmp_dir, showWarnings = FALSE, recursive = TRUE)\n",
    "    write.csv(true_prop, paste0(out_dir, '/true_prop.csv'), quote=F)\n",
    "    write.csv(celltype_names, paste0(out_dir, '/celltype_names.csv'), quote=F)\n",
    "\n",
    "    ### CLIMB deconvolution ###\n",
    "    message('CLIMB deconvolution')\n",
    "    climb_prop = deconvolution_climb(sc, bulks, true_prop, celltype_names)\n",
    "    write.csv(climb_prop, paste0(out_dir, '/climb_prop.csv'), quote=F)\n",
    "    message(paste0('CLIMB Accruacy as PCC: ', cor(flatten(true_prop), flatten(climb_prop))))\n",
    "    \n",
    "    ### BayesPrism deconvolution ###\n",
    "    message('BayesPrism deconvolution')\n",
    "    bayesprism_prop = deconvolution_bayesprism(sc, bulks, true_prop, celltype_names)\n",
    "    write.csv(bayesprism_prop, paste0(out_dir, '/bayesprism_prop.csv'), quote=F)\n",
    "    message(paste0('BayesPrism Accruacy as PCC: ', cor(flatten(true_prop), flatten(bayesprism_prop))))\n",
    "    \n",
    "    ### MUSIC deconvolution ###\n",
    "    message('MUSIC deconvolution')\n",
    "    music_ps = deconvolution_music(sc, bulks, true_prop, celltype_names)\n",
    "    write.csv(music_ps, paste0(out_dir, '/music_prop.csv'), quote=F)\n",
    "    message(paste0('MuSiC Accruacy as PCC: ', suppressWarnings(cor(flatten(true_prop), flatten(music_ps)))))\n",
    "    \n",
    "    ### NNLS deconvolution ### \n",
    "    message('NNLS deconvolution')\n",
    "    nnls_prop = deconvolution_nnls(sc, bulks, true_prop, celltype_names)\n",
    "    write.csv(nnls_prop, paste0(out_dir, '/nnls_prop.csv'), quote=F)\n",
    "    message(paste0('NNLS Accruacy as PCC: ', suppressWarnings(cor(flatten(true_prop), flatten(nnls_prop)))))\n",
    "    \n",
    "    ### BisqueRNA deconvolution ### \n",
    "    message('BisqueRNA deconvolution')\n",
    "    bisque_prop = deconvolution_bisque(sc, bulks, true_prop, celltype_names)\n",
    "    write.csv(bisque_prop, paste0(out_dir, '/bisque_prop.csv'), quote=F)\n",
    "    message(paste0('BisqueRNA Accruacy as PCC: ', suppressWarnings(cor(flatten(true_prop), flatten(bisque_prop)))))\n",
    "\n",
    "    ### Deconvolution Scaden / TAPE \n",
    "    message('TAPE / Scaden deconvolution')\n",
    "    write_tables_tape_scaden(sc, bulks, true_prop, celltype_names, tmp_dir)\n",
    "    deconvolution_scaden(sc, bulks, true_prop, celltype_names, tmp_dir)\n",
    "    tape_prop = load_tape_prop(tmp_dir, out_dir, celltype_names)\n",
    "    scaden_prop = load_scaden_prop(tmp_dir, out_dir, celltype_names)\n",
    "    message(paste0('TAPE prop Accruacy as PCC: ', suppressWarnings(cor(flatten(true_prop), flatten(tape_prop)))))\n",
    "    message(paste0('Scaden prop Accruacy as PCC: ', suppressWarnings(cor(flatten(true_prop), flatten(scaden_prop)))))\n",
    "\n",
    "    ### Random proportions deconvolution ### \n",
    "    message('Random deconvolution')\n",
    "    rand_prop = deconvolution_random(nnls_prop)\n",
    "    write.csv(rand_prop, paste0(out_dir, '/rand_prop.csv'), quote=F)\n",
    "    message(paste0('Random prop Accruacy as PCC: ', suppressWarnings(cor(flatten(true_prop), flatten(rand_prop)))))\n",
    "    \n",
    "    ### CiberSortX deconvolution ### \n",
    "    message('Writing tables for CiberSortX')\n",
    "    write_tables_cibersortx(sc, bulks, true_prop, celltype_names, tmp_dir)\n",
    "}                                                                                          "
   ]
  },
  {
   "cell_type": "markdown",
   "metadata": {},
   "source": [
    "## Comparison using pseudo-bulk AML samples "
   ]
  },
  {
   "cell_type": "code",
   "execution_count": 141,
   "metadata": {},
   "outputs": [
    {
     "data": {
      "text/plain": [
       "ExpressionSet (storageMode: lockedEnvironment)\n",
       "assayData: 7955 features, 15255 samples \n",
       "  element names: exprs \n",
       "protocolData: none\n",
       "phenoData\n",
       "  sampleNames: AML1012-D0_AAAAAGTTACGT AML1012-D0_AAAACACCAATC ...\n",
       "    AML997-D0_TAGACCCGCTAT (15255 total)\n",
       "  varLabels: cellType_original SubjectName cellType_transfered cellType\n",
       "  varMetadata: labelDescription\n",
       "featureData: none\n",
       "experimentData: use 'experimentData(object)'\n",
       "Annotation:  "
      ]
     },
     "metadata": {},
     "output_type": "display_data"
    }
   ],
   "source": [
    "sc.es =  readRDS(\"data/pseudobulks_climb/AML_vangalen_sc_es.RDS\")\n",
    "sc.es$cellType = factor(reformat_celltypes(sc.es$cellType_original))\n",
    "sc.es"
   ]
  },
  {
   "cell_type": "code",
   "execution_count": 142,
   "metadata": {},
   "outputs": [
    {
     "data": {
      "text/plain": [
       "ExpressionSet (storageMode: lockedEnvironment)\n",
       "assayData: 7955 features, 16 samples \n",
       "  element names: exprs \n",
       "protocolData: none\n",
       "phenoData\n",
       "  sampleNames: AML1012-D0 AML210A-D0 ... AML997-D0 (16 total)\n",
       "  varLabels: CTL GMP ... lateEry (19 total)\n",
       "  varMetadata: labelDescription\n",
       "featureData: none\n",
       "experimentData: use 'experimentData(object)'\n",
       "Annotation:  "
      ]
     },
     "metadata": {},
     "output_type": "display_data"
    }
   ],
   "source": [
    "pbulk.es = readRDS('data/pseudobulks_climb/AML_vangalen_pbulks_vg_labs_es.RDS')\n",
    "pbulk.es"
   ]
  },
  {
   "cell_type": "code",
   "execution_count": 143,
   "metadata": {},
   "outputs": [],
   "source": [
    "true_prop = pData(pbulk.es)\n",
    "colnames(true_prop) = reformat_celltypes(colnames(true_prop))"
   ]
  },
  {
   "cell_type": "markdown",
   "metadata": {},
   "source": [
    "## Simulate random proportion with dirichlet distribution"
   ]
  },
  {
   "cell_type": "markdown",
   "metadata": {},
   "source": [
    "We consider that cell-type proportions follow a Dirichlet distribution. To simulate new proportions, we first need to estimate $\\alpha$ parameters associated with each cell-types, using mean and standard deviation of cell-type proportions, using ground truth proportions from scRNA-seq as reference."
   ]
  },
  {
   "cell_type": "code",
   "execution_count": 200,
   "metadata": {},
   "outputs": [],
   "source": [
    "# Compute mean and standard deviation for each cell-type\n",
    "p.mean = apply(true_prop, 2, mean)\n",
    "p.sd = apply(true_prop, 2, sd)\n",
    "# Estimate alpha parameters using feralaes/dampack library\n",
    "set.seed(1)\n",
    "alphas = dirichlet_params(p.mean, p.sd)\n",
    "alphas = alphas + 1e-4 # add epsilon value tu avoid zero alpha"
   ]
  },
  {
   "cell_type": "markdown",
   "metadata": {},
   "source": [
    "We can then generate N random proportions using these $\\alpha$ parameters estimated from a scRNA-seq. These proportions will then be use to draw randomly C cells and generate N pseudo-bulks."
   ]
  },
  {
   "cell_type": "code",
   "execution_count": 204,
   "metadata": {},
   "outputs": [],
   "source": [
    "set.seed(1)\n",
    "rand_prop = rBeta2009::rdirichlet(n = 200, alphas/2)"
   ]
  },
  {
   "cell_type": "markdown",
   "metadata": {},
   "source": [
    "Dividing alpha by a constant increase differences between cell-types and increasing it decreases it"
   ]
  },
  {
   "cell_type": "code",
   "execution_count": 205,
   "metadata": {},
   "outputs": [],
   "source": [
    "colnames(rand_prop) = colnames(true_prop)\n",
    "rownames(rand_prop) = 1:200"
   ]
  },
  {
   "cell_type": "code",
   "execution_count": 206,
   "metadata": {},
   "outputs": [
    {
     "data": {
      "text/html": [
       "<table class=\"dataframe\">\n",
       "<caption>A matrix: 6 × 19 of type dbl</caption>\n",
       "<thead>\n",
       "\t<tr><th></th><th scope=col>CTL</th><th scope=col>GMP</th><th scope=col>GMPlike</th><th scope=col>HSC</th><th scope=col>HSClike</th><th scope=col>Mono</th><th scope=col>Monolike</th><th scope=col>NK</th><th scope=col>Plasma</th><th scope=col>ProB</th><th scope=col>ProMono</th><th scope=col>ProMonolike</th><th scope=col>Prog</th><th scope=col>Proglike</th><th scope=col>T</th><th scope=col>cDC</th><th scope=col>cDClike</th><th scope=col>earlyEry</th><th scope=col>lateEry</th></tr>\n",
       "</thead>\n",
       "<tbody>\n",
       "\t<tr><th scope=row>1</th><td>0.0195161904</td><td>0.020863855</td><td>0.09196142</td><td>0.05811869</td><td>0.08203892</td><td>0.01541876</td><td>0.21381720</td><td>0.018387750</td><td>0.0003733203</td><td>2.159172e-03</td><td>0.0225131716</td><td>0.04385063</td><td>0.13407567</td><td>0.06720494</td><td>0.092535934</td><td>0.004522222</td><td>0.05898331</td><td>0.0352163490</td><td>0.01844249</td></tr>\n",
       "\t<tr><th scope=row>2</th><td>0.0036141669</td><td>0.058071002</td><td>0.02508689</td><td>0.11020247</td><td>0.09665203</td><td>0.01023461</td><td>0.12204968</td><td>0.049043830</td><td>0.0261836051</td><td>1.964079e-05</td><td>0.0087558442</td><td>0.01218269</td><td>0.10232459</td><td>0.16636300</td><td>0.084532503</td><td>0.040190804</td><td>0.07383782</td><td>0.0002055021</td><td>0.01044933</td></tr>\n",
       "\t<tr><th scope=row>3</th><td>0.0737722684</td><td>0.040582739</td><td>0.05611556</td><td>0.09364544</td><td>0.05906096</td><td>0.11203281</td><td>0.07124122</td><td>0.004878188</td><td>0.0001926853</td><td>1.779040e-06</td><td>0.0088559789</td><td>0.02153046</td><td>0.04721006</td><td>0.17517946</td><td>0.171111461</td><td>0.002875066</td><td>0.05767626</td><td>0.0015090001</td><td>0.00252861</td></tr>\n",
       "\t<tr><th scope=row>4</th><td>0.0255242839</td><td>0.010153687</td><td>0.07194717</td><td>0.07705837</td><td>0.07632718</td><td>0.03564605</td><td>0.21282494</td><td>0.009731051</td><td>0.0185276732</td><td>4.057074e-03</td><td>0.0003410625</td><td>0.05877976</td><td>0.05985526</td><td>0.13248809</td><td>0.124366534</td><td>0.019249986</td><td>0.04578884</td><td>0.0054843613</td><td>0.01184863</td></tr>\n",
       "\t<tr><th scope=row>5</th><td>0.0009320376</td><td>0.012776150</td><td>0.10910502</td><td>0.05254743</td><td>0.07864181</td><td>0.02906386</td><td>0.17184181</td><td>0.007298457</td><td>0.0792035911</td><td>9.128333e-06</td><td>0.0420047271</td><td>0.04350095</td><td>0.01826453</td><td>0.18610339</td><td>0.053481260</td><td>0.012906419</td><td>0.04404710</td><td>0.0124464361</td><td>0.04582588</td></tr>\n",
       "\t<tr><th scope=row>6</th><td>0.0611156450</td><td>0.001323654</td><td>0.12357406</td><td>0.05339023</td><td>0.06474834</td><td>0.06486147</td><td>0.13719690</td><td>0.001885060</td><td>0.0094824137</td><td>7.436407e-09</td><td>0.0177826827</td><td>0.09601311</td><td>0.08002665</td><td>0.17899152</td><td>0.007089704</td><td>0.014209559</td><td>0.06220883</td><td>0.0093073667</td><td>0.01679280</td></tr>\n",
       "</tbody>\n",
       "</table>\n"
      ],
      "text/latex": [
       "A matrix: 6 × 19 of type dbl\n",
       "\\begin{tabular}{r|lllllllllllllllllll}\n",
       "  & CTL & GMP & GMPlike & HSC & HSClike & Mono & Monolike & NK & Plasma & ProB & ProMono & ProMonolike & Prog & Proglike & T & cDC & cDClike & earlyEry & lateEry\\\\\n",
       "\\hline\n",
       "\t1 & 0.0195161904 & 0.020863855 & 0.09196142 & 0.05811869 & 0.08203892 & 0.01541876 & 0.21381720 & 0.018387750 & 0.0003733203 & 2.159172e-03 & 0.0225131716 & 0.04385063 & 0.13407567 & 0.06720494 & 0.092535934 & 0.004522222 & 0.05898331 & 0.0352163490 & 0.01844249\\\\\n",
       "\t2 & 0.0036141669 & 0.058071002 & 0.02508689 & 0.11020247 & 0.09665203 & 0.01023461 & 0.12204968 & 0.049043830 & 0.0261836051 & 1.964079e-05 & 0.0087558442 & 0.01218269 & 0.10232459 & 0.16636300 & 0.084532503 & 0.040190804 & 0.07383782 & 0.0002055021 & 0.01044933\\\\\n",
       "\t3 & 0.0737722684 & 0.040582739 & 0.05611556 & 0.09364544 & 0.05906096 & 0.11203281 & 0.07124122 & 0.004878188 & 0.0001926853 & 1.779040e-06 & 0.0088559789 & 0.02153046 & 0.04721006 & 0.17517946 & 0.171111461 & 0.002875066 & 0.05767626 & 0.0015090001 & 0.00252861\\\\\n",
       "\t4 & 0.0255242839 & 0.010153687 & 0.07194717 & 0.07705837 & 0.07632718 & 0.03564605 & 0.21282494 & 0.009731051 & 0.0185276732 & 4.057074e-03 & 0.0003410625 & 0.05877976 & 0.05985526 & 0.13248809 & 0.124366534 & 0.019249986 & 0.04578884 & 0.0054843613 & 0.01184863\\\\\n",
       "\t5 & 0.0009320376 & 0.012776150 & 0.10910502 & 0.05254743 & 0.07864181 & 0.02906386 & 0.17184181 & 0.007298457 & 0.0792035911 & 9.128333e-06 & 0.0420047271 & 0.04350095 & 0.01826453 & 0.18610339 & 0.053481260 & 0.012906419 & 0.04404710 & 0.0124464361 & 0.04582588\\\\\n",
       "\t6 & 0.0611156450 & 0.001323654 & 0.12357406 & 0.05339023 & 0.06474834 & 0.06486147 & 0.13719690 & 0.001885060 & 0.0094824137 & 7.436407e-09 & 0.0177826827 & 0.09601311 & 0.08002665 & 0.17899152 & 0.007089704 & 0.014209559 & 0.06220883 & 0.0093073667 & 0.01679280\\\\\n",
       "\\end{tabular}\n"
      ],
      "text/markdown": [
       "\n",
       "A matrix: 6 × 19 of type dbl\n",
       "\n",
       "| <!--/--> | CTL | GMP | GMPlike | HSC | HSClike | Mono | Monolike | NK | Plasma | ProB | ProMono | ProMonolike | Prog | Proglike | T | cDC | cDClike | earlyEry | lateEry |\n",
       "|---|---|---|---|---|---|---|---|---|---|---|---|---|---|---|---|---|---|---|---|\n",
       "| 1 | 0.0195161904 | 0.020863855 | 0.09196142 | 0.05811869 | 0.08203892 | 0.01541876 | 0.21381720 | 0.018387750 | 0.0003733203 | 2.159172e-03 | 0.0225131716 | 0.04385063 | 0.13407567 | 0.06720494 | 0.092535934 | 0.004522222 | 0.05898331 | 0.0352163490 | 0.01844249 |\n",
       "| 2 | 0.0036141669 | 0.058071002 | 0.02508689 | 0.11020247 | 0.09665203 | 0.01023461 | 0.12204968 | 0.049043830 | 0.0261836051 | 1.964079e-05 | 0.0087558442 | 0.01218269 | 0.10232459 | 0.16636300 | 0.084532503 | 0.040190804 | 0.07383782 | 0.0002055021 | 0.01044933 |\n",
       "| 3 | 0.0737722684 | 0.040582739 | 0.05611556 | 0.09364544 | 0.05906096 | 0.11203281 | 0.07124122 | 0.004878188 | 0.0001926853 | 1.779040e-06 | 0.0088559789 | 0.02153046 | 0.04721006 | 0.17517946 | 0.171111461 | 0.002875066 | 0.05767626 | 0.0015090001 | 0.00252861 |\n",
       "| 4 | 0.0255242839 | 0.010153687 | 0.07194717 | 0.07705837 | 0.07632718 | 0.03564605 | 0.21282494 | 0.009731051 | 0.0185276732 | 4.057074e-03 | 0.0003410625 | 0.05877976 | 0.05985526 | 0.13248809 | 0.124366534 | 0.019249986 | 0.04578884 | 0.0054843613 | 0.01184863 |\n",
       "| 5 | 0.0009320376 | 0.012776150 | 0.10910502 | 0.05254743 | 0.07864181 | 0.02906386 | 0.17184181 | 0.007298457 | 0.0792035911 | 9.128333e-06 | 0.0420047271 | 0.04350095 | 0.01826453 | 0.18610339 | 0.053481260 | 0.012906419 | 0.04404710 | 0.0124464361 | 0.04582588 |\n",
       "| 6 | 0.0611156450 | 0.001323654 | 0.12357406 | 0.05339023 | 0.06474834 | 0.06486147 | 0.13719690 | 0.001885060 | 0.0094824137 | 7.436407e-09 | 0.0177826827 | 0.09601311 | 0.08002665 | 0.17899152 | 0.007089704 | 0.014209559 | 0.06220883 | 0.0093073667 | 0.01679280 |\n",
       "\n"
      ],
      "text/plain": [
       "  CTL          GMP         GMPlike    HSC        HSClike    Mono      \n",
       "1 0.0195161904 0.020863855 0.09196142 0.05811869 0.08203892 0.01541876\n",
       "2 0.0036141669 0.058071002 0.02508689 0.11020247 0.09665203 0.01023461\n",
       "3 0.0737722684 0.040582739 0.05611556 0.09364544 0.05906096 0.11203281\n",
       "4 0.0255242839 0.010153687 0.07194717 0.07705837 0.07632718 0.03564605\n",
       "5 0.0009320376 0.012776150 0.10910502 0.05254743 0.07864181 0.02906386\n",
       "6 0.0611156450 0.001323654 0.12357406 0.05339023 0.06474834 0.06486147\n",
       "  Monolike   NK          Plasma       ProB         ProMono      ProMonolike\n",
       "1 0.21381720 0.018387750 0.0003733203 2.159172e-03 0.0225131716 0.04385063 \n",
       "2 0.12204968 0.049043830 0.0261836051 1.964079e-05 0.0087558442 0.01218269 \n",
       "3 0.07124122 0.004878188 0.0001926853 1.779040e-06 0.0088559789 0.02153046 \n",
       "4 0.21282494 0.009731051 0.0185276732 4.057074e-03 0.0003410625 0.05877976 \n",
       "5 0.17184181 0.007298457 0.0792035911 9.128333e-06 0.0420047271 0.04350095 \n",
       "6 0.13719690 0.001885060 0.0094824137 7.436407e-09 0.0177826827 0.09601311 \n",
       "  Prog       Proglike   T           cDC         cDClike    earlyEry    \n",
       "1 0.13407567 0.06720494 0.092535934 0.004522222 0.05898331 0.0352163490\n",
       "2 0.10232459 0.16636300 0.084532503 0.040190804 0.07383782 0.0002055021\n",
       "3 0.04721006 0.17517946 0.171111461 0.002875066 0.05767626 0.0015090001\n",
       "4 0.05985526 0.13248809 0.124366534 0.019249986 0.04578884 0.0054843613\n",
       "5 0.01826453 0.18610339 0.053481260 0.012906419 0.04404710 0.0124464361\n",
       "6 0.08002665 0.17899152 0.007089704 0.014209559 0.06220883 0.0093073667\n",
       "  lateEry   \n",
       "1 0.01844249\n",
       "2 0.01044933\n",
       "3 0.00252861\n",
       "4 0.01184863\n",
       "5 0.04582588\n",
       "6 0.01679280"
      ]
     },
     "metadata": {},
     "output_type": "display_data"
    }
   ],
   "source": [
    "head(rand_prop)"
   ]
  },
  {
   "cell_type": "code",
   "execution_count": 207,
   "metadata": {},
   "outputs": [],
   "source": [
    "write.csv(rand_prop, \"data/simulation_aml/simulated_prop.csv\", quote=F)"
   ]
  },
  {
   "cell_type": "code",
   "execution_count": 247,
   "metadata": {},
   "outputs": [],
   "source": [
    "rand_prop <- read.csv(\"data/simulation_aml/simulated_prop.csv\", row.names='X')"
   ]
  },
  {
   "cell_type": "code",
   "execution_count": 208,
   "metadata": {
    "scrolled": true
   },
   "outputs": [
    {
     "data": {
      "text/html": [
       "<strong>pdf:</strong> 2"
      ],
      "text/latex": [
       "\\textbf{pdf:} 2"
      ],
      "text/markdown": [
       "**pdf:** 2"
      ],
      "text/plain": [
       "pdf \n",
       "  2 "
      ]
     },
     "metadata": {},
     "output_type": "display_data"
    },
    {
     "data": {
      "image/png": "[encoded data removed]",
      "text/plain": [
       "plot without title"
      ]
     },
     "metadata": {
      "image/png": {
       "height": 180,
       "width": 540
      }
     },
     "output_type": "display_data"
    }
   ],
   "source": [
    "options(repr.plot.width=9, repr.plot.height=3)\n",
    "col_fun = colorRamp2(c(0, 0.05, 0.1, 0.2), c(\"white\", \"grey28\", \"red\", \"gold\"))\n",
    "h = Heatmap(t(rand_prop), col=col_fun, cluster_columns=T, show_row_names = T, show_column_names = F, \n",
    "            show_row_dend = F, show_column_dend = F)\n",
    "pdf('results/pseudobulk_analysis/figs/simulation_simulated_props_alphaDiv2.csv', width=9, height=3) ; h ;dev.off()\n",
    "h"
   ]
  },
  {
   "cell_type": "markdown",
   "metadata": {},
   "source": [
    "### Simulate drug sensitivity in pseudo-bulk samples "
   ]
  },
  {
   "cell_type": "markdown",
   "metadata": {},
   "source": [
    "First, we will strictly use the 16 pseudo-bulk samples that we have, considering from 2 to 21 randomly chosen cell types. The cell-type drug sensitivity will be assume to be the same accross all 16 samples et attributed randomly beforehand. We will then save all these data with metadata and try to predict cell-type drug sensitivity"
   ]
  },
  {
   "cell_type": "code",
   "execution_count": 248,
   "metadata": {},
   "outputs": [],
   "source": [
    "celltypes = colnames(rand_prop)"
   ]
  },
  {
   "cell_type": "markdown",
   "metadata": {},
   "source": [
    "Now we will randomly generate \"decay factor\", that will help us to simulate cell-type drug sensitvity. We will set low decay for most cell types () and high decay for a few ones."
   ]
  },
  {
   "cell_type": "code",
   "execution_count": 249,
   "metadata": {},
   "outputs": [],
   "source": [
    "low_decay = c('Monolike', 'Mono', 'ProMonolike')\n",
    "high_decay = c('HSC', 'HSClike', 'Prog', 'Proglike')\n",
    "celltype_sensitivity = matrix(0,length(celltypes),7)\n",
    "decays = list()\n",
    "set.seed(1)\n",
    "for(k in 1:length(celltypes)){\n",
    "    ct = celltypes[k]\n",
    "    if(ct %in% low_decay){\n",
    "        decays[[k]] = runif(1,0.7,1.0)\n",
    "    } else if(ct %in% high_decay) {\n",
    "        decays[[k]] = runif(1,6.0,8.0)\n",
    "    } else  {\n",
    "        decays[[k]] = runif(1,1.2,2.2)\n",
    "    }\n",
    "        \n",
    "    for(d in 1:7){\n",
    "        celltype_sensitivity[k,d] = 1/(1 + exp(decays[[k]]*d - 8))\n",
    "    }\n",
    "}\n",
    "decays = num(decays)"
   ]
  },
  {
   "cell_type": "code",
   "execution_count": 250,
   "metadata": {},
   "outputs": [],
   "source": [
    "rownames(celltype_sensitivity) = celltypes\n",
    "colnames(celltype_sensitivity) = c(1:7)"
   ]
  },
  {
   "cell_type": "code",
   "execution_count": 251,
   "metadata": {},
   "outputs": [
    {
     "data": {
      "text/html": [
       "<table class=\"dataframe\">\n",
       "<caption>A matrix: 19 × 7 of type dbl</caption>\n",
       "<thead>\n",
       "\t<tr><th></th><th scope=col>1</th><th scope=col>2</th><th scope=col>3</th><th scope=col>4</th><th scope=col>5</th><th scope=col>6</th><th scope=col>7</th></tr>\n",
       "</thead>\n",
       "<tbody>\n",
       "\t<tr><th scope=row>CTL</th><td>0.9985496</td><td>0.9937504874</td><td>9.734928e-01</td><td>8.945388e-01</td><td>6.620530e-01</td><td>3.115137e-01</td><td>9.461360e-02</td></tr>\n",
       "\t<tr><th scope=row>GMP</th><td>0.9983867</td><td>0.9922766382</td><td>9.638629e-01</td><td>8.470313e-01</td><td>5.347888e-01</td><td>1.926716e-01</td><td>4.720647e-02</td></tr>\n",
       "\t<tr><th scope=row>GMPlike</th><td>0.9980288</td><td>0.9885051333</td><td>9.359225e-01</td><td>7.127108e-01</td><td>2.964487e-01</td><td>6.678730e-02</td><td>1.200952e-02</td></tr>\n",
       "\t<tr><th scope=row>HSC</th><td>0.5457676</td><td>0.0004840534</td><td>1.951989e-07</td><td>7.867762e-11</td><td>3.171211e-14</td><td>1.278200e-17</td><td>5.151963e-21</td></tr>\n",
       "\t<tr><th scope=row>HSClike</th><td>0.8315477</td><td>0.0081082837</td><td>1.353671e-05</td><td>2.241679e-08</td><td>3.712170e-11</td><td>6.147270e-14</td><td>1.017974e-16</td></tr>\n",
       "\t<tr><th scope=row>Mono</th><td>0.9991163</td><td>0.9976732797</td><td>9.938885e-01</td><td>9.840455e-01</td><td>9.590038e-01</td><td>8.987033e-01</td><td>7.708967e-01</td></tr>\n",
       "\t<tr><th scope=row>Monolike</th><td>0.9991039</td><td>0.9976079147</td><td>9.936302e-01</td><td>9.831496e-01</td><td>9.561855e-01</td><td>8.908628e-01</td><td>7.532798e-01</td></tr>\n",
       "\t<tr><th scope=row>NK</th><td>0.9978480</td><td>0.9863248361</td><td>9.181601e-01</td><td>6.357138e-01</td><td>2.134944e-01</td><td>4.051258e-02</td><td>6.524892e-03</td></tr>\n",
       "\t<tr><th scope=row>Plasma</th><td>0.9979150</td><td>0.9871537253</td><td>9.250244e-01</td><td>6.645292e-01</td><td>2.412991e-01</td><td>4.858275e-02</td><td>8.131878e-03</td></tr>\n",
       "\t<tr><th scope=row>ProB</th><td>0.9988166</td><td>0.9958331836</td><td>9.854376e-01</td><td>9.503982e-01</td><td>8.443646e-01</td><td>6.057023e-01</td><td>3.031159e-01</td></tr>\n",
       "\t<tr><th scope=row>ProMono</th><td>0.9986334</td><td>0.9944481174</td><td>9.777318e-01</td><td>9.149867e-01</td><td>7.251448e-01</td><td>3.927309e-01</td><td>1.368359e-01</td></tr>\n",
       "\t<tr><th scope=row>ProMonolike</th><td>0.9992882</td><td>0.9984898967</td><td>9.967990e-01</td><td>9.932278e-01</td><td>9.857292e-01</td><td>9.701770e-01</td><td>9.387296e-01</td></tr>\n",
       "\t<tr><th scope=row>Prog</th><td>0.6515715</td><td>0.0011717419</td><td>7.359249e-07</td><td>4.616645e-10</td><td>2.896137e-13</td><td>1.816819e-16</td><td>1.139736e-19</td></tr>\n",
       "\t<tr><th scope=row>Proglike</th><td>0.7741322</td><td>0.0039251616</td><td>4.530733e-06</td><td>5.209251e-09</td><td>5.989356e-12</td><td>6.886285e-15</td><td>7.917533e-18</td></tr>\n",
       "\t<tr><th scope=row>T</th><td>0.9976007</td><td>0.9830487504</td><td>8.899740e-01</td><td>5.301221e-01</td><td>1.359660e-01</td><td>2.147728e-02</td><td>3.052035e-03</td></tr>\n",
       "\t<tr><th scope=row>cDC</th><td>0.9981713</td><td>0.9900934337</td><td>9.481866e-01</td><td>7.701579e-01</td><td>3.802479e-01</td><td>1.009970e-01</td><td>2.015593e-02</td></tr>\n",
       "\t<tr><th scope=row>cDClike</th><td>0.9977225</td><td>0.9847041996</td><td>9.044039e-01</td><td>5.816440e-01</td><td>1.696524e-01</td><td>2.915017e-02</td><td>4.393047e-03</td></tr>\n",
       "\t<tr><th scope=row>earlyEry</th><td>0.9970058</td><td>0.9738189060</td><td>8.060088e-01</td><td>3.169932e-01</td><td>4.928800e-02</td><td>5.757736e-03</td><td>6.464664e-04</td></tr>\n",
       "\t<tr><th scope=row>lateEry</th><td>0.9983739</td><td>0.9921544293</td><td>9.630270e-01</td><td>8.428859e-01</td><td>5.249353e-01</td><td>1.853955e-01</td><td>4.477717e-02</td></tr>\n",
       "</tbody>\n",
       "</table>\n"
      ],
      "text/latex": [
       "A matrix: 19 × 7 of type dbl\n",
       "\\begin{tabular}{r|lllllll}\n",
       "  & 1 & 2 & 3 & 4 & 5 & 6 & 7\\\\\n",
       "\\hline\n",
       "\tCTL & 0.9985496 & 0.9937504874 & 9.734928e-01 & 8.945388e-01 & 6.620530e-01 & 3.115137e-01 & 9.461360e-02\\\\\n",
       "\tGMP & 0.9983867 & 0.9922766382 & 9.638629e-01 & 8.470313e-01 & 5.347888e-01 & 1.926716e-01 & 4.720647e-02\\\\\n",
       "\tGMPlike & 0.9980288 & 0.9885051333 & 9.359225e-01 & 7.127108e-01 & 2.964487e-01 & 6.678730e-02 & 1.200952e-02\\\\\n",
       "\tHSC & 0.5457676 & 0.0004840534 & 1.951989e-07 & 7.867762e-11 & 3.171211e-14 & 1.278200e-17 & 5.151963e-21\\\\\n",
       "\tHSClike & 0.8315477 & 0.0081082837 & 1.353671e-05 & 2.241679e-08 & 3.712170e-11 & 6.147270e-14 & 1.017974e-16\\\\\n",
       "\tMono & 0.9991163 & 0.9976732797 & 9.938885e-01 & 9.840455e-01 & 9.590038e-01 & 8.987033e-01 & 7.708967e-01\\\\\n",
       "\tMonolike & 0.9991039 & 0.9976079147 & 9.936302e-01 & 9.831496e-01 & 9.561855e-01 & 8.908628e-01 & 7.532798e-01\\\\\n",
       "\tNK & 0.9978480 & 0.9863248361 & 9.181601e-01 & 6.357138e-01 & 2.134944e-01 & 4.051258e-02 & 6.524892e-03\\\\\n",
       "\tPlasma & 0.9979150 & 0.9871537253 & 9.250244e-01 & 6.645292e-01 & 2.412991e-01 & 4.858275e-02 & 8.131878e-03\\\\\n",
       "\tProB & 0.9988166 & 0.9958331836 & 9.854376e-01 & 9.503982e-01 & 8.443646e-01 & 6.057023e-01 & 3.031159e-01\\\\\n",
       "\tProMono & 0.9986334 & 0.9944481174 & 9.777318e-01 & 9.149867e-01 & 7.251448e-01 & 3.927309e-01 & 1.368359e-01\\\\\n",
       "\tProMonolike & 0.9992882 & 0.9984898967 & 9.967990e-01 & 9.932278e-01 & 9.857292e-01 & 9.701770e-01 & 9.387296e-01\\\\\n",
       "\tProg & 0.6515715 & 0.0011717419 & 7.359249e-07 & 4.616645e-10 & 2.896137e-13 & 1.816819e-16 & 1.139736e-19\\\\\n",
       "\tProglike & 0.7741322 & 0.0039251616 & 4.530733e-06 & 5.209251e-09 & 5.989356e-12 & 6.886285e-15 & 7.917533e-18\\\\\n",
       "\tT & 0.9976007 & 0.9830487504 & 8.899740e-01 & 5.301221e-01 & 1.359660e-01 & 2.147728e-02 & 3.052035e-03\\\\\n",
       "\tcDC & 0.9981713 & 0.9900934337 & 9.481866e-01 & 7.701579e-01 & 3.802479e-01 & 1.009970e-01 & 2.015593e-02\\\\\n",
       "\tcDClike & 0.9977225 & 0.9847041996 & 9.044039e-01 & 5.816440e-01 & 1.696524e-01 & 2.915017e-02 & 4.393047e-03\\\\\n",
       "\tearlyEry & 0.9970058 & 0.9738189060 & 8.060088e-01 & 3.169932e-01 & 4.928800e-02 & 5.757736e-03 & 6.464664e-04\\\\\n",
       "\tlateEry & 0.9983739 & 0.9921544293 & 9.630270e-01 & 8.428859e-01 & 5.249353e-01 & 1.853955e-01 & 4.477717e-02\\\\\n",
       "\\end{tabular}\n"
      ],
      "text/markdown": [
       "\n",
       "A matrix: 19 × 7 of type dbl\n",
       "\n",
       "| <!--/--> | 1 | 2 | 3 | 4 | 5 | 6 | 7 |\n",
       "|---|---|---|---|---|---|---|---|\n",
       "| CTL | 0.9985496 | 0.9937504874 | 9.734928e-01 | 8.945388e-01 | 6.620530e-01 | 3.115137e-01 | 9.461360e-02 |\n",
       "| GMP | 0.9983867 | 0.9922766382 | 9.638629e-01 | 8.470313e-01 | 5.347888e-01 | 1.926716e-01 | 4.720647e-02 |\n",
       "| GMPlike | 0.9980288 | 0.9885051333 | 9.359225e-01 | 7.127108e-01 | 2.964487e-01 | 6.678730e-02 | 1.200952e-02 |\n",
       "| HSC | 0.5457676 | 0.0004840534 | 1.951989e-07 | 7.867762e-11 | 3.171211e-14 | 1.278200e-17 | 5.151963e-21 |\n",
       "| HSClike | 0.8315477 | 0.0081082837 | 1.353671e-05 | 2.241679e-08 | 3.712170e-11 | 6.147270e-14 | 1.017974e-16 |\n",
       "| Mono | 0.9991163 | 0.9976732797 | 9.938885e-01 | 9.840455e-01 | 9.590038e-01 | 8.987033e-01 | 7.708967e-01 |\n",
       "| Monolike | 0.9991039 | 0.9976079147 | 9.936302e-01 | 9.831496e-01 | 9.561855e-01 | 8.908628e-01 | 7.532798e-01 |\n",
       "| NK | 0.9978480 | 0.9863248361 | 9.181601e-01 | 6.357138e-01 | 2.134944e-01 | 4.051258e-02 | 6.524892e-03 |\n",
       "| Plasma | 0.9979150 | 0.9871537253 | 9.250244e-01 | 6.645292e-01 | 2.412991e-01 | 4.858275e-02 | 8.131878e-03 |\n",
       "| ProB | 0.9988166 | 0.9958331836 | 9.854376e-01 | 9.503982e-01 | 8.443646e-01 | 6.057023e-01 | 3.031159e-01 |\n",
       "| ProMono | 0.9986334 | 0.9944481174 | 9.777318e-01 | 9.149867e-01 | 7.251448e-01 | 3.927309e-01 | 1.368359e-01 |\n",
       "| ProMonolike | 0.9992882 | 0.9984898967 | 9.967990e-01 | 9.932278e-01 | 9.857292e-01 | 9.701770e-01 | 9.387296e-01 |\n",
       "| Prog | 0.6515715 | 0.0011717419 | 7.359249e-07 | 4.616645e-10 | 2.896137e-13 | 1.816819e-16 | 1.139736e-19 |\n",
       "| Proglike | 0.7741322 | 0.0039251616 | 4.530733e-06 | 5.209251e-09 | 5.989356e-12 | 6.886285e-15 | 7.917533e-18 |\n",
       "| T | 0.9976007 | 0.9830487504 | 8.899740e-01 | 5.301221e-01 | 1.359660e-01 | 2.147728e-02 | 3.052035e-03 |\n",
       "| cDC | 0.9981713 | 0.9900934337 | 9.481866e-01 | 7.701579e-01 | 3.802479e-01 | 1.009970e-01 | 2.015593e-02 |\n",
       "| cDClike | 0.9977225 | 0.9847041996 | 9.044039e-01 | 5.816440e-01 | 1.696524e-01 | 2.915017e-02 | 4.393047e-03 |\n",
       "| earlyEry | 0.9970058 | 0.9738189060 | 8.060088e-01 | 3.169932e-01 | 4.928800e-02 | 5.757736e-03 | 6.464664e-04 |\n",
       "| lateEry | 0.9983739 | 0.9921544293 | 9.630270e-01 | 8.428859e-01 | 5.249353e-01 | 1.853955e-01 | 4.477717e-02 |\n",
       "\n"
      ],
      "text/plain": [
       "            1         2            3            4            5           \n",
       "CTL         0.9985496 0.9937504874 9.734928e-01 8.945388e-01 6.620530e-01\n",
       "GMP         0.9983867 0.9922766382 9.638629e-01 8.470313e-01 5.347888e-01\n",
       "GMPlike     0.9980288 0.9885051333 9.359225e-01 7.127108e-01 2.964487e-01\n",
       "HSC         0.5457676 0.0004840534 1.951989e-07 7.867762e-11 3.171211e-14\n",
       "HSClike     0.8315477 0.0081082837 1.353671e-05 2.241679e-08 3.712170e-11\n",
       "Mono        0.9991163 0.9976732797 9.938885e-01 9.840455e-01 9.590038e-01\n",
       "Monolike    0.9991039 0.9976079147 9.936302e-01 9.831496e-01 9.561855e-01\n",
       "NK          0.9978480 0.9863248361 9.181601e-01 6.357138e-01 2.134944e-01\n",
       "Plasma      0.9979150 0.9871537253 9.250244e-01 6.645292e-01 2.412991e-01\n",
       "ProB        0.9988166 0.9958331836 9.854376e-01 9.503982e-01 8.443646e-01\n",
       "ProMono     0.9986334 0.9944481174 9.777318e-01 9.149867e-01 7.251448e-01\n",
       "ProMonolike 0.9992882 0.9984898967 9.967990e-01 9.932278e-01 9.857292e-01\n",
       "Prog        0.6515715 0.0011717419 7.359249e-07 4.616645e-10 2.896137e-13\n",
       "Proglike    0.7741322 0.0039251616 4.530733e-06 5.209251e-09 5.989356e-12\n",
       "T           0.9976007 0.9830487504 8.899740e-01 5.301221e-01 1.359660e-01\n",
       "cDC         0.9981713 0.9900934337 9.481866e-01 7.701579e-01 3.802479e-01\n",
       "cDClike     0.9977225 0.9847041996 9.044039e-01 5.816440e-01 1.696524e-01\n",
       "earlyEry    0.9970058 0.9738189060 8.060088e-01 3.169932e-01 4.928800e-02\n",
       "lateEry     0.9983739 0.9921544293 9.630270e-01 8.428859e-01 5.249353e-01\n",
       "            6            7           \n",
       "CTL         3.115137e-01 9.461360e-02\n",
       "GMP         1.926716e-01 4.720647e-02\n",
       "GMPlike     6.678730e-02 1.200952e-02\n",
       "HSC         1.278200e-17 5.151963e-21\n",
       "HSClike     6.147270e-14 1.017974e-16\n",
       "Mono        8.987033e-01 7.708967e-01\n",
       "Monolike    8.908628e-01 7.532798e-01\n",
       "NK          4.051258e-02 6.524892e-03\n",
       "Plasma      4.858275e-02 8.131878e-03\n",
       "ProB        6.057023e-01 3.031159e-01\n",
       "ProMono     3.927309e-01 1.368359e-01\n",
       "ProMonolike 9.701770e-01 9.387296e-01\n",
       "Prog        1.816819e-16 1.139736e-19\n",
       "Proglike    6.886285e-15 7.917533e-18\n",
       "T           2.147728e-02 3.052035e-03\n",
       "cDC         1.009970e-01 2.015593e-02\n",
       "cDClike     2.915017e-02 4.393047e-03\n",
       "earlyEry    5.757736e-03 6.464664e-04\n",
       "lateEry     1.853955e-01 4.477717e-02"
      ]
     },
     "metadata": {},
     "output_type": "display_data"
    }
   ],
   "source": [
    "celltype_sensitivity"
   ]
  },
  {
   "cell_type": "code",
   "execution_count": 212,
   "metadata": {},
   "outputs": [
    {
     "data": {
      "text/html": [
       "<strong>pdf:</strong> 2"
      ],
      "text/latex": [
       "\\textbf{pdf:} 2"
      ],
      "text/markdown": [
       "**pdf:** 2"
      ],
      "text/plain": [
       "pdf \n",
       "  2 "
      ]
     },
     "metadata": {},
     "output_type": "display_data"
    },
    {
     "data": {
      "image/png": "[encoded data removed]",
      "text/plain": [
       "plot without title"
      ]
     },
     "metadata": {
      "image/png": {
       "height": 180,
       "width": 240
      }
     },
     "output_type": "display_data"
    }
   ],
   "source": [
    "options(repr.plot.width=4, repr.plot.height=3)\n",
    "col_fun = colorRamp2(c(0, 0.5, 0.95, 1.0), c(\"white\", \"grey28\", \"red\", \"gold\"))\n",
    "h = Heatmap(celltype_sensitivity, col=col_fun, cluster_columns=F,  show_column_names = F)\n",
    "pdf(\"results/pseudobulk_analysis/figs/celltype_sensitivity_alphaDiv2.pdf\", width=4, height=3) ; h ;dev.off()\n",
    "h"
   ]
  },
  {
   "cell_type": "markdown",
   "metadata": {},
   "source": [
    "We thus simulate a context where HSC-like is resistant to a drug"
   ]
  },
  {
   "cell_type": "markdown",
   "metadata": {},
   "source": [
    "## Generate bulk drug sensitivity from cell subtype drug sensitivity"
   ]
  },
  {
   "cell_type": "code",
   "execution_count": 213,
   "metadata": {},
   "outputs": [],
   "source": [
    "all_patients = rownames(rand_prop)\n",
    "bulk_survivals = list()\n",
    "tab_ct = rand_prop*5000\n",
    "set.seed(1)\n",
    "for(n in 1:length(all_patients)){\n",
    "    this_patient = rownames(rand_prop)[n]\n",
    "    celltype_sensitivity_1p = matrix(0,length(celltypes),7)\n",
    "    tab_ct_1p = tab_ct[n,]\n",
    "    counts  = tab_ct[n,]\n",
    "    for(k in 1:length(celltypes)){\n",
    "        counts_k  = counts[k]\n",
    "        for(d in 1:7){\n",
    "            celltype_sensitivity_1p[k,d] = num(round(counts_k*celltype_sensitivity[k,d]))\n",
    "        }\n",
    "    }\n",
    "    rownames(celltype_sensitivity_1p) = celltypes\n",
    "    colnames(celltype_sensitivity_1p) = c(1:7)\n",
    "    celltype_sensitivity_1p_n = apply(celltype_sensitivity_1p, 2, function(x) x/tab_ct_1p)\n",
    "    celltype_sensitivity_1p_n[is.na(celltype_sensitivity_1p_n)] <- 0\n",
    "    bulk_sensitivity = colSums(celltype_sensitivity_1p) / sum(tab_ct_1p)\n",
    "    bulk_survivals[[n]] = bulk_sensitivity\n",
    "}"
   ]
  },
  {
   "cell_type": "code",
   "execution_count": 214,
   "metadata": {},
   "outputs": [
    {
     "data": {
      "text/html": [
       "<table class=\"dataframe\">\n",
       "<caption>A matrix: 6 × 7 of type dbl</caption>\n",
       "<thead>\n",
       "\t<tr><th></th><th scope=col>1</th><th scope=col>2</th><th scope=col>3</th><th scope=col>4</th><th scope=col>5</th><th scope=col>6</th><th scope=col>7</th></tr>\n",
       "</thead>\n",
       "<tbody>\n",
       "\t<tr><th scope=row>1</th><td>0.8970</td><td>0.6538</td><td>0.6244</td><td>0.5176</td><td>0.3718</td><td>0.2818</td><td>0.2230</td></tr>\n",
       "\t<tr><th scope=row>2</th><td>0.8598</td><td>0.5210</td><td>0.4948</td><td>0.3966</td><td>0.2472</td><td>0.1604</td><td>0.1184</td></tr>\n",
       "\t<tr><th scope=row>3</th><td>0.8910</td><td>0.6198</td><td>0.5912</td><td>0.4828</td><td>0.3268</td><td>0.2288</td><td>0.1720</td></tr>\n",
       "\t<tr><th scope=row>4</th><td>0.9000</td><td>0.6500</td><td>0.6240</td><td>0.5272</td><td>0.3880</td><td>0.3056</td><td>0.2496</td></tr>\n",
       "\t<tr><th scope=row>5</th><td>0.9132</td><td>0.6602</td><td>0.6334</td><td>0.5324</td><td>0.3702</td><td>0.2638</td><td>0.2036</td></tr>\n",
       "\t<tr><th scope=row>6</th><td>0.8956</td><td>0.6198</td><td>0.6006</td><td>0.5298</td><td>0.4074</td><td>0.3150</td><td>0.2544</td></tr>\n",
       "</tbody>\n",
       "</table>\n"
      ],
      "text/latex": [
       "A matrix: 6 × 7 of type dbl\n",
       "\\begin{tabular}{r|lllllll}\n",
       "  & 1 & 2 & 3 & 4 & 5 & 6 & 7\\\\\n",
       "\\hline\n",
       "\t1 & 0.8970 & 0.6538 & 0.6244 & 0.5176 & 0.3718 & 0.2818 & 0.2230\\\\\n",
       "\t2 & 0.8598 & 0.5210 & 0.4948 & 0.3966 & 0.2472 & 0.1604 & 0.1184\\\\\n",
       "\t3 & 0.8910 & 0.6198 & 0.5912 & 0.4828 & 0.3268 & 0.2288 & 0.1720\\\\\n",
       "\t4 & 0.9000 & 0.6500 & 0.6240 & 0.5272 & 0.3880 & 0.3056 & 0.2496\\\\\n",
       "\t5 & 0.9132 & 0.6602 & 0.6334 & 0.5324 & 0.3702 & 0.2638 & 0.2036\\\\\n",
       "\t6 & 0.8956 & 0.6198 & 0.6006 & 0.5298 & 0.4074 & 0.3150 & 0.2544\\\\\n",
       "\\end{tabular}\n"
      ],
      "text/markdown": [
       "\n",
       "A matrix: 6 × 7 of type dbl\n",
       "\n",
       "| <!--/--> | 1 | 2 | 3 | 4 | 5 | 6 | 7 |\n",
       "|---|---|---|---|---|---|---|---|\n",
       "| 1 | 0.8970 | 0.6538 | 0.6244 | 0.5176 | 0.3718 | 0.2818 | 0.2230 |\n",
       "| 2 | 0.8598 | 0.5210 | 0.4948 | 0.3966 | 0.2472 | 0.1604 | 0.1184 |\n",
       "| 3 | 0.8910 | 0.6198 | 0.5912 | 0.4828 | 0.3268 | 0.2288 | 0.1720 |\n",
       "| 4 | 0.9000 | 0.6500 | 0.6240 | 0.5272 | 0.3880 | 0.3056 | 0.2496 |\n",
       "| 5 | 0.9132 | 0.6602 | 0.6334 | 0.5324 | 0.3702 | 0.2638 | 0.2036 |\n",
       "| 6 | 0.8956 | 0.6198 | 0.6006 | 0.5298 | 0.4074 | 0.3150 | 0.2544 |\n",
       "\n"
      ],
      "text/plain": [
       "  1      2      3      4      5      6      7     \n",
       "1 0.8970 0.6538 0.6244 0.5176 0.3718 0.2818 0.2230\n",
       "2 0.8598 0.5210 0.4948 0.3966 0.2472 0.1604 0.1184\n",
       "3 0.8910 0.6198 0.5912 0.4828 0.3268 0.2288 0.1720\n",
       "4 0.9000 0.6500 0.6240 0.5272 0.3880 0.3056 0.2496\n",
       "5 0.9132 0.6602 0.6334 0.5324 0.3702 0.2638 0.2036\n",
       "6 0.8956 0.6198 0.6006 0.5298 0.4074 0.3150 0.2544"
      ]
     },
     "metadata": {},
     "output_type": "display_data"
    }
   ],
   "source": [
    "bulk_drug_sensitivity = do.call(rbind, bulk_survivals)\n",
    "rownames(bulk_drug_sensitivity) = all_patients\n",
    "head(bulk_drug_sensitivity)"
   ]
  },
  {
   "cell_type": "code",
   "execution_count": 215,
   "metadata": {},
   "outputs": [
    {
     "data": {
      "text/html": [
       "<strong>pdf:</strong> 2"
      ],
      "text/latex": [
       "\\textbf{pdf:} 2"
      ],
      "text/markdown": [
       "**pdf:** 2"
      ],
      "text/plain": [
       "pdf \n",
       "  2 "
      ]
     },
     "metadata": {},
     "output_type": "display_data"
    },
    {
     "data": {
      "image/png": "[encoded data removed]",
      "text/plain": [
       "plot without title"
      ]
     },
     "metadata": {
      "image/png": {
       "height": 180,
       "width": 300
      }
     },
     "output_type": "display_data"
    }
   ],
   "source": [
    "options(repr.plot.width=5, repr.plot.height=3)\n",
    "col_fun = colorRamp2(c(0.0, 0.15, 0.3, 0.45, 0.6, 1.0), c(\"white\", \"grey48\", \"darkred\", \"red\", \"gold\",\"yellow\"))\n",
    "h = Heatmap(t(bulk_drug_sensitivity), col=col_fun, cluster_rows=F, show_row_names = F, show_column_names = F)\n",
    "pdf(\"results/pseudobulk_analysis/figs/simulation_bulk_sensitivity_alphaDiv2.pdf\", width=5, height=3) ; h ; dev.off()\n",
    "h"
   ]
  },
  {
   "cell_type": "code",
   "execution_count": 216,
   "metadata": {},
   "outputs": [],
   "source": [
    "write.csv(bulk_drug_sensitivity, \"data/simulation_aml/bulk_drug_sensitivity_alphaDiv2.csv\", quote=F)\n",
    "write.csv(celltype_sensitivity, \"data/simulation_aml/celltype_drug_sensitivity_alphaDiv2.csv\", quote=F)"
   ]
  },
  {
   "cell_type": "markdown",
   "metadata": {},
   "source": [
    "## Iterate over all samples to build 200 simulated pseudo-bulks to deconvolve"
   ]
  },
  {
   "cell_type": "code",
   "execution_count": 217,
   "metadata": {},
   "outputs": [],
   "source": [
    "mean_n_cells = round(mean(table(sc.es$SubjectName)))\n",
    "sd_n_cells = sd(table(sc.es$SubjectName))\n",
    "\n",
    "# Estimating parameters of gamma distribution for the total number of cells\n",
    "set.seed(1)\n",
    "parms <- fitdistr(table(sc.es$SubjectName), \"gamma\")\n",
    "\n",
    "# Generate observation and keep 200 with more than 50 cells\n",
    "set.seed(1)\n",
    "gamma_n_cells = rgamma(n = 500, shape = 1, scale = mean_n_cells)\n",
    "gamma_n_cells <- gamma_n_cells[gamma_n_cells > 50]\n",
    "gamma_n_cells <- gamma_n_cells[1:200]\n",
    "gamma_n_cells = round(gamma_n_cells)"
   ]
  },
  {
   "cell_type": "code",
   "execution_count": 218,
   "metadata": {},
   "outputs": [
    {
     "data": {
      "image/png": "[encoded data removed]",
      "text/plain": [
       "Plot with title “Histogram of gamma_n_cells”"
      ]
     },
     "metadata": {
      "image/png": {
       "height": 180,
       "width": 300
      }
     },
     "output_type": "display_data"
    }
   ],
   "source": [
    "# historgram of the number of cells / sample (from Naldini et al.)\n",
    "hist(gamma_n_cells)"
   ]
  },
  {
   "cell_type": "markdown",
   "metadata": {},
   "source": [
    "first we will generate bulk expression samples for 200 simulated data. Single-cell are randomly selected in single-cell from Van Galen et al. , allowing replacement (thus multiple times the same cell). This allows to get simulation possible for cases where not enough cells are available. "
   ]
  },
  {
   "cell_type": "code",
   "execution_count": 222,
   "metadata": {},
   "outputs": [],
   "source": [
    "rand_prop = read.csv(\"data/simulation_aml/simulated_prop_alphaDiv2.csv\", row.names = 'X')"
   ]
  },
  {
   "cell_type": "code",
   "execution_count": 223,
   "metadata": {},
   "outputs": [],
   "source": [
    "rand_prop_m = as.matrix(rand_prop)"
   ]
  },
  {
   "cell_type": "code",
   "execution_count": 224,
   "metadata": {
    "scrolled": true
   },
   "outputs": [
    {
     "data": {
      "text/html": [
       "1"
      ],
      "text/latex": [
       "1"
      ],
      "text/markdown": [
       "1"
      ],
      "text/plain": [
       "[1] 1"
      ]
     },
     "metadata": {},
     "output_type": "display_data"
    },
    {
     "data": {
      "text/html": [
       "2"
      ],
      "text/latex": [
       "2"
      ],
      "text/markdown": [
       "2"
      ],
      "text/plain": [
       "[1] 2"
      ]
     },
     "metadata": {},
     "output_type": "display_data"
    },
    {
     "data": {
      "text/html": [
       "3"
      ],
      "text/latex": [
       "3"
      ],
      "text/markdown": [
       "3"
      ],
      "text/plain": [
       "[1] 3"
      ]
     },
     "metadata": {},
     "output_type": "display_data"
    },
    {
     "data": {
      "text/html": [
       "4"
      ],
      "text/latex": [
       "4"
      ],
      "text/markdown": [
       "4"
      ],
      "text/plain": [
       "[1] 4"
      ]
     },
     "metadata": {},
     "output_type": "display_data"
    },
    {
     "data": {
      "text/html": [
       "5"
      ],
      "text/latex": [
       "5"
      ],
      "text/markdown": [
       "5"
      ],
      "text/plain": [
       "[1] 5"
      ]
     },
     "metadata": {},
     "output_type": "display_data"
    },
    {
     "data": {
      "text/html": [
       "6"
      ],
      "text/latex": [
       "6"
      ],
      "text/markdown": [
       "6"
      ],
      "text/plain": [
       "[1] 6"
      ]
     },
     "metadata": {},
     "output_type": "display_data"
    },
    {
     "data": {
      "text/html": [
       "7"
      ],
      "text/latex": [
       "7"
      ],
      "text/markdown": [
       "7"
      ],
      "text/plain": [
       "[1] 7"
      ]
     },
     "metadata": {},
     "output_type": "display_data"
    },
    {
     "data": {
      "text/html": [
       "8"
      ],
      "text/latex": [
       "8"
      ],
      "text/markdown": [
       "8"
      ],
      "text/plain": [
       "[1] 8"
      ]
     },
     "metadata": {},
     "output_type": "display_data"
    },
    {
     "data": {
      "text/html": [
       "9"
      ],
      "text/latex": [
       "9"
      ],
      "text/markdown": [
       "9"
      ],
      "text/plain": [
       "[1] 9"
      ]
     },
     "metadata": {},
     "output_type": "display_data"
    },
    {
     "data": {
      "text/html": [
       "10"
      ],
      "text/latex": [
       "10"
      ],
      "text/markdown": [
       "10"
      ],
      "text/plain": [
       "[1] 10"
      ]
     },
     "metadata": {},
     "output_type": "display_data"
    },
    {
     "data": {
      "text/html": [
       "11"
      ],
      "text/latex": [
       "11"
      ],
      "text/markdown": [
       "11"
      ],
      "text/plain": [
       "[1] 11"
      ]
     },
     "metadata": {},
     "output_type": "display_data"
    },
    {
     "data": {
      "text/html": [
       "12"
      ],
      "text/latex": [
       "12"
      ],
      "text/markdown": [
       "12"
      ],
      "text/plain": [
       "[1] 12"
      ]
     },
     "metadata": {},
     "output_type": "display_data"
    },
    {
     "data": {
      "text/html": [
       "13"
      ],
      "text/latex": [
       "13"
      ],
      "text/markdown": [
       "13"
      ],
      "text/plain": [
       "[1] 13"
      ]
     },
     "metadata": {},
     "output_type": "display_data"
    },
    {
     "data": {
      "text/html": [
       "14"
      ],
      "text/latex": [
       "14"
      ],
      "text/markdown": [
       "14"
      ],
      "text/plain": [
       "[1] 14"
      ]
     },
     "metadata": {},
     "output_type": "display_data"
    },
    {
     "data": {
      "text/html": [
       "15"
      ],
      "text/latex": [
       "15"
      ],
      "text/markdown": [
       "15"
      ],
      "text/plain": [
       "[1] 15"
      ]
     },
     "metadata": {},
     "output_type": "display_data"
    },
    {
     "data": {
      "text/html": [
       "16"
      ],
      "text/latex": [
       "16"
      ],
      "text/markdown": [
       "16"
      ],
      "text/plain": [
       "[1] 16"
      ]
     },
     "metadata": {},
     "output_type": "display_data"
    },
    {
     "data": {
      "text/html": [
       "17"
      ],
      "text/latex": [
       "17"
      ],
      "text/markdown": [
       "17"
      ],
      "text/plain": [
       "[1] 17"
      ]
     },
     "metadata": {},
     "output_type": "display_data"
    },
    {
     "data": {
      "text/html": [
       "18"
      ],
      "text/latex": [
       "18"
      ],
      "text/markdown": [
       "18"
      ],
      "text/plain": [
       "[1] 18"
      ]
     },
     "metadata": {},
     "output_type": "display_data"
    },
    {
     "data": {
      "text/html": [
       "19"
      ],
      "text/latex": [
       "19"
      ],
      "text/markdown": [
       "19"
      ],
      "text/plain": [
       "[1] 19"
      ]
     },
     "metadata": {},
     "output_type": "display_data"
    },
    {
     "data": {
      "text/html": [
       "20"
      ],
      "text/latex": [
       "20"
      ],
      "text/markdown": [
       "20"
      ],
      "text/plain": [
       "[1] 20"
      ]
     },
     "metadata": {},
     "output_type": "display_data"
    },
    {
     "data": {
      "text/html": [
       "21"
      ],
      "text/latex": [
       "21"
      ],
      "text/markdown": [
       "21"
      ],
      "text/plain": [
       "[1] 21"
      ]
     },
     "metadata": {},
     "output_type": "display_data"
    },
    {
     "data": {
      "text/html": [
       "22"
      ],
      "text/latex": [
       "22"
      ],
      "text/markdown": [
       "22"
      ],
      "text/plain": [
       "[1] 22"
      ]
     },
     "metadata": {},
     "output_type": "display_data"
    },
    {
     "data": {
      "text/html": [
       "23"
      ],
      "text/latex": [
       "23"
      ],
      "text/markdown": [
       "23"
      ],
      "text/plain": [
       "[1] 23"
      ]
     },
     "metadata": {},
     "output_type": "display_data"
    },
    {
     "data": {
      "text/html": [
       "24"
      ],
      "text/latex": [
       "24"
      ],
      "text/markdown": [
       "24"
      ],
      "text/plain": [
       "[1] 24"
      ]
     },
     "metadata": {},
     "output_type": "display_data"
    },
    {
     "data": {
      "text/html": [
       "25"
      ],
      "text/latex": [
       "25"
      ],
      "text/markdown": [
       "25"
      ],
      "text/plain": [
       "[1] 25"
      ]
     },
     "metadata": {},
     "output_type": "display_data"
    },
    {
     "data": {
      "text/html": [
       "26"
      ],
      "text/latex": [
       "26"
      ],
      "text/markdown": [
       "26"
      ],
      "text/plain": [
       "[1] 26"
      ]
     },
     "metadata": {},
     "output_type": "display_data"
    },
    {
     "data": {
      "text/html": [
       "27"
      ],
      "text/latex": [
       "27"
      ],
      "text/markdown": [
       "27"
      ],
      "text/plain": [
       "[1] 27"
      ]
     },
     "metadata": {},
     "output_type": "display_data"
    },
    {
     "data": {
      "text/html": [
       "28"
      ],
      "text/latex": [
       "28"
      ],
      "text/markdown": [
       "28"
      ],
      "text/plain": [
       "[1] 28"
      ]
     },
     "metadata": {},
     "output_type": "display_data"
    },
    {
     "data": {
      "text/html": [
       "29"
      ],
      "text/latex": [
       "29"
      ],
      "text/markdown": [
       "29"
      ],
      "text/plain": [
       "[1] 29"
      ]
     },
     "metadata": {},
     "output_type": "display_data"
    },
    {
     "data": {
      "text/html": [
       "30"
      ],
      "text/latex": [
       "30"
      ],
      "text/markdown": [
       "30"
      ],
      "text/plain": [
       "[1] 30"
      ]
     },
     "metadata": {},
     "output_type": "display_data"
    },
    {
     "data": {
      "text/html": [
       "31"
      ],
      "text/latex": [
       "31"
      ],
      "text/markdown": [
       "31"
      ],
      "text/plain": [
       "[1] 31"
      ]
     },
     "metadata": {},
     "output_type": "display_data"
    },
    {
     "data": {
      "text/html": [
       "32"
      ],
      "text/latex": [
       "32"
      ],
      "text/markdown": [
       "32"
      ],
      "text/plain": [
       "[1] 32"
      ]
     },
     "metadata": {},
     "output_type": "display_data"
    },
    {
     "data": {
      "text/html": [
       "33"
      ],
      "text/latex": [
       "33"
      ],
      "text/markdown": [
       "33"
      ],
      "text/plain": [
       "[1] 33"
      ]
     },
     "metadata": {},
     "output_type": "display_data"
    },
    {
     "data": {
      "text/html": [
       "34"
      ],
      "text/latex": [
       "34"
      ],
      "text/markdown": [
       "34"
      ],
      "text/plain": [
       "[1] 34"
      ]
     },
     "metadata": {},
     "output_type": "display_data"
    },
    {
     "data": {
      "text/html": [
       "35"
      ],
      "text/latex": [
       "35"
      ],
      "text/markdown": [
       "35"
      ],
      "text/plain": [
       "[1] 35"
      ]
     },
     "metadata": {},
     "output_type": "display_data"
    },
    {
     "data": {
      "text/html": [
       "36"
      ],
      "text/latex": [
       "36"
      ],
      "text/markdown": [
       "36"
      ],
      "text/plain": [
       "[1] 36"
      ]
     },
     "metadata": {},
     "output_type": "display_data"
    },
    {
     "data": {
      "text/html": [
       "37"
      ],
      "text/latex": [
       "37"
      ],
      "text/markdown": [
       "37"
      ],
      "text/plain": [
       "[1] 37"
      ]
     },
     "metadata": {},
     "output_type": "display_data"
    },
    {
     "data": {
      "text/html": [
       "38"
      ],
      "text/latex": [
       "38"
      ],
      "text/markdown": [
       "38"
      ],
      "text/plain": [
       "[1] 38"
      ]
     },
     "metadata": {},
     "output_type": "display_data"
    },
    {
     "data": {
      "text/html": [
       "39"
      ],
      "text/latex": [
       "39"
      ],
      "text/markdown": [
       "39"
      ],
      "text/plain": [
       "[1] 39"
      ]
     },
     "metadata": {},
     "output_type": "display_data"
    },
    {
     "data": {
      "text/html": [
       "40"
      ],
      "text/latex": [
       "40"
      ],
      "text/markdown": [
       "40"
      ],
      "text/plain": [
       "[1] 40"
      ]
     },
     "metadata": {},
     "output_type": "display_data"
    },
    {
     "data": {
      "text/html": [
       "41"
      ],
      "text/latex": [
       "41"
      ],
      "text/markdown": [
       "41"
      ],
      "text/plain": [
       "[1] 41"
      ]
     },
     "metadata": {},
     "output_type": "display_data"
    },
    {
     "data": {
      "text/html": [
       "42"
      ],
      "text/latex": [
       "42"
      ],
      "text/markdown": [
       "42"
      ],
      "text/plain": [
       "[1] 42"
      ]
     },
     "metadata": {},
     "output_type": "display_data"
    },
    {
     "data": {
      "text/html": [
       "43"
      ],
      "text/latex": [
       "43"
      ],
      "text/markdown": [
       "43"
      ],
      "text/plain": [
       "[1] 43"
      ]
     },
     "metadata": {},
     "output_type": "display_data"
    },
    {
     "data": {
      "text/html": [
       "44"
      ],
      "text/latex": [
       "44"
      ],
      "text/markdown": [
       "44"
      ],
      "text/plain": [
       "[1] 44"
      ]
     },
     "metadata": {},
     "output_type": "display_data"
    },
    {
     "data": {
      "text/html": [
       "45"
      ],
      "text/latex": [
       "45"
      ],
      "text/markdown": [
       "45"
      ],
      "text/plain": [
       "[1] 45"
      ]
     },
     "metadata": {},
     "output_type": "display_data"
    },
    {
     "data": {
      "text/html": [
       "46"
      ],
      "text/latex": [
       "46"
      ],
      "text/markdown": [
       "46"
      ],
      "text/plain": [
       "[1] 46"
      ]
     },
     "metadata": {},
     "output_type": "display_data"
    },
    {
     "data": {
      "text/html": [
       "47"
      ],
      "text/latex": [
       "47"
      ],
      "text/markdown": [
       "47"
      ],
      "text/plain": [
       "[1] 47"
      ]
     },
     "metadata": {},
     "output_type": "display_data"
    },
    {
     "data": {
      "text/html": [
       "48"
      ],
      "text/latex": [
       "48"
      ],
      "text/markdown": [
       "48"
      ],
      "text/plain": [
       "[1] 48"
      ]
     },
     "metadata": {},
     "output_type": "display_data"
    },
    {
     "data": {
      "text/html": [
       "49"
      ],
      "text/latex": [
       "49"
      ],
      "text/markdown": [
       "49"
      ],
      "text/plain": [
       "[1] 49"
      ]
     },
     "metadata": {},
     "output_type": "display_data"
    },
    {
     "data": {
      "text/html": [
       "50"
      ],
      "text/latex": [
       "50"
      ],
      "text/markdown": [
       "50"
      ],
      "text/plain": [
       "[1] 50"
      ]
     },
     "metadata": {},
     "output_type": "display_data"
    },
    {
     "data": {
      "text/html": [
       "51"
      ],
      "text/latex": [
       "51"
      ],
      "text/markdown": [
       "51"
      ],
      "text/plain": [
       "[1] 51"
      ]
     },
     "metadata": {},
     "output_type": "display_data"
    },
    {
     "data": {
      "text/html": [
       "52"
      ],
      "text/latex": [
       "52"
      ],
      "text/markdown": [
       "52"
      ],
      "text/plain": [
       "[1] 52"
      ]
     },
     "metadata": {},
     "output_type": "display_data"
    },
    {
     "data": {
      "text/html": [
       "53"
      ],
      "text/latex": [
       "53"
      ],
      "text/markdown": [
       "53"
      ],
      "text/plain": [
       "[1] 53"
      ]
     },
     "metadata": {},
     "output_type": "display_data"
    },
    {
     "data": {
      "text/html": [
       "54"
      ],
      "text/latex": [
       "54"
      ],
      "text/markdown": [
       "54"
      ],
      "text/plain": [
       "[1] 54"
      ]
     },
     "metadata": {},
     "output_type": "display_data"
    },
    {
     "data": {
      "text/html": [
       "55"
      ],
      "text/latex": [
       "55"
      ],
      "text/markdown": [
       "55"
      ],
      "text/plain": [
       "[1] 55"
      ]
     },
     "metadata": {},
     "output_type": "display_data"
    },
    {
     "data": {
      "text/html": [
       "56"
      ],
      "text/latex": [
       "56"
      ],
      "text/markdown": [
       "56"
      ],
      "text/plain": [
       "[1] 56"
      ]
     },
     "metadata": {},
     "output_type": "display_data"
    },
    {
     "data": {
      "text/html": [
       "57"
      ],
      "text/latex": [
       "57"
      ],
      "text/markdown": [
       "57"
      ],
      "text/plain": [
       "[1] 57"
      ]
     },
     "metadata": {},
     "output_type": "display_data"
    },
    {
     "data": {
      "text/html": [
       "58"
      ],
      "text/latex": [
       "58"
      ],
      "text/markdown": [
       "58"
      ],
      "text/plain": [
       "[1] 58"
      ]
     },
     "metadata": {},
     "output_type": "display_data"
    },
    {
     "data": {
      "text/html": [
       "59"
      ],
      "text/latex": [
       "59"
      ],
      "text/markdown": [
       "59"
      ],
      "text/plain": [
       "[1] 59"
      ]
     },
     "metadata": {},
     "output_type": "display_data"
    },
    {
     "data": {
      "text/html": [
       "60"
      ],
      "text/latex": [
       "60"
      ],
      "text/markdown": [
       "60"
      ],
      "text/plain": [
       "[1] 60"
      ]
     },
     "metadata": {},
     "output_type": "display_data"
    },
    {
     "data": {
      "text/html": [
       "61"
      ],
      "text/latex": [
       "61"
      ],
      "text/markdown": [
       "61"
      ],
      "text/plain": [
       "[1] 61"
      ]
     },
     "metadata": {},
     "output_type": "display_data"
    },
    {
     "data": {
      "text/html": [
       "62"
      ],
      "text/latex": [
       "62"
      ],
      "text/markdown": [
       "62"
      ],
      "text/plain": [
       "[1] 62"
      ]
     },
     "metadata": {},
     "output_type": "display_data"
    },
    {
     "data": {
      "text/html": [
       "63"
      ],
      "text/latex": [
       "63"
      ],
      "text/markdown": [
       "63"
      ],
      "text/plain": [
       "[1] 63"
      ]
     },
     "metadata": {},
     "output_type": "display_data"
    },
    {
     "data": {
      "text/html": [
       "64"
      ],
      "text/latex": [
       "64"
      ],
      "text/markdown": [
       "64"
      ],
      "text/plain": [
       "[1] 64"
      ]
     },
     "metadata": {},
     "output_type": "display_data"
    },
    {
     "data": {
      "text/html": [
       "65"
      ],
      "text/latex": [
       "65"
      ],
      "text/markdown": [
       "65"
      ],
      "text/plain": [
       "[1] 65"
      ]
     },
     "metadata": {},
     "output_type": "display_data"
    },
    {
     "data": {
      "text/html": [
       "66"
      ],
      "text/latex": [
       "66"
      ],
      "text/markdown": [
       "66"
      ],
      "text/plain": [
       "[1] 66"
      ]
     },
     "metadata": {},
     "output_type": "display_data"
    },
    {
     "data": {
      "text/html": [
       "67"
      ],
      "text/latex": [
       "67"
      ],
      "text/markdown": [
       "67"
      ],
      "text/plain": [
       "[1] 67"
      ]
     },
     "metadata": {},
     "output_type": "display_data"
    },
    {
     "data": {
      "text/html": [
       "68"
      ],
      "text/latex": [
       "68"
      ],
      "text/markdown": [
       "68"
      ],
      "text/plain": [
       "[1] 68"
      ]
     },
     "metadata": {},
     "output_type": "display_data"
    },
    {
     "data": {
      "text/html": [
       "69"
      ],
      "text/latex": [
       "69"
      ],
      "text/markdown": [
       "69"
      ],
      "text/plain": [
       "[1] 69"
      ]
     },
     "metadata": {},
     "output_type": "display_data"
    },
    {
     "data": {
      "text/html": [
       "70"
      ],
      "text/latex": [
       "70"
      ],
      "text/markdown": [
       "70"
      ],
      "text/plain": [
       "[1] 70"
      ]
     },
     "metadata": {},
     "output_type": "display_data"
    },
    {
     "data": {
      "text/html": [
       "71"
      ],
      "text/latex": [
       "71"
      ],
      "text/markdown": [
       "71"
      ],
      "text/plain": [
       "[1] 71"
      ]
     },
     "metadata": {},
     "output_type": "display_data"
    },
    {
     "data": {
      "text/html": [
       "72"
      ],
      "text/latex": [
       "72"
      ],
      "text/markdown": [
       "72"
      ],
      "text/plain": [
       "[1] 72"
      ]
     },
     "metadata": {},
     "output_type": "display_data"
    },
    {
     "data": {
      "text/html": [
       "73"
      ],
      "text/latex": [
       "73"
      ],
      "text/markdown": [
       "73"
      ],
      "text/plain": [
       "[1] 73"
      ]
     },
     "metadata": {},
     "output_type": "display_data"
    },
    {
     "data": {
      "text/html": [
       "74"
      ],
      "text/latex": [
       "74"
      ],
      "text/markdown": [
       "74"
      ],
      "text/plain": [
       "[1] 74"
      ]
     },
     "metadata": {},
     "output_type": "display_data"
    },
    {
     "data": {
      "text/html": [
       "75"
      ],
      "text/latex": [
       "75"
      ],
      "text/markdown": [
       "75"
      ],
      "text/plain": [
       "[1] 75"
      ]
     },
     "metadata": {},
     "output_type": "display_data"
    },
    {
     "data": {
      "text/html": [
       "76"
      ],
      "text/latex": [
       "76"
      ],
      "text/markdown": [
       "76"
      ],
      "text/plain": [
       "[1] 76"
      ]
     },
     "metadata": {},
     "output_type": "display_data"
    },
    {
     "data": {
      "text/html": [
       "77"
      ],
      "text/latex": [
       "77"
      ],
      "text/markdown": [
       "77"
      ],
      "text/plain": [
       "[1] 77"
      ]
     },
     "metadata": {},
     "output_type": "display_data"
    },
    {
     "data": {
      "text/html": [
       "78"
      ],
      "text/latex": [
       "78"
      ],
      "text/markdown": [
       "78"
      ],
      "text/plain": [
       "[1] 78"
      ]
     },
     "metadata": {},
     "output_type": "display_data"
    },
    {
     "data": {
      "text/html": [
       "79"
      ],
      "text/latex": [
       "79"
      ],
      "text/markdown": [
       "79"
      ],
      "text/plain": [
       "[1] 79"
      ]
     },
     "metadata": {},
     "output_type": "display_data"
    },
    {
     "data": {
      "text/html": [
       "80"
      ],
      "text/latex": [
       "80"
      ],
      "text/markdown": [
       "80"
      ],
      "text/plain": [
       "[1] 80"
      ]
     },
     "metadata": {},
     "output_type": "display_data"
    },
    {
     "data": {
      "text/html": [
       "81"
      ],
      "text/latex": [
       "81"
      ],
      "text/markdown": [
       "81"
      ],
      "text/plain": [
       "[1] 81"
      ]
     },
     "metadata": {},
     "output_type": "display_data"
    },
    {
     "data": {
      "text/html": [
       "82"
      ],
      "text/latex": [
       "82"
      ],
      "text/markdown": [
       "82"
      ],
      "text/plain": [
       "[1] 82"
      ]
     },
     "metadata": {},
     "output_type": "display_data"
    },
    {
     "data": {
      "text/html": [
       "83"
      ],
      "text/latex": [
       "83"
      ],
      "text/markdown": [
       "83"
      ],
      "text/plain": [
       "[1] 83"
      ]
     },
     "metadata": {},
     "output_type": "display_data"
    },
    {
     "data": {
      "text/html": [
       "84"
      ],
      "text/latex": [
       "84"
      ],
      "text/markdown": [
       "84"
      ],
      "text/plain": [
       "[1] 84"
      ]
     },
     "metadata": {},
     "output_type": "display_data"
    },
    {
     "data": {
      "text/html": [
       "85"
      ],
      "text/latex": [
       "85"
      ],
      "text/markdown": [
       "85"
      ],
      "text/plain": [
       "[1] 85"
      ]
     },
     "metadata": {},
     "output_type": "display_data"
    },
    {
     "data": {
      "text/html": [
       "86"
      ],
      "text/latex": [
       "86"
      ],
      "text/markdown": [
       "86"
      ],
      "text/plain": [
       "[1] 86"
      ]
     },
     "metadata": {},
     "output_type": "display_data"
    },
    {
     "data": {
      "text/html": [
       "87"
      ],
      "text/latex": [
       "87"
      ],
      "text/markdown": [
       "87"
      ],
      "text/plain": [
       "[1] 87"
      ]
     },
     "metadata": {},
     "output_type": "display_data"
    },
    {
     "data": {
      "text/html": [
       "88"
      ],
      "text/latex": [
       "88"
      ],
      "text/markdown": [
       "88"
      ],
      "text/plain": [
       "[1] 88"
      ]
     },
     "metadata": {},
     "output_type": "display_data"
    },
    {
     "data": {
      "text/html": [
       "89"
      ],
      "text/latex": [
       "89"
      ],
      "text/markdown": [
       "89"
      ],
      "text/plain": [
       "[1] 89"
      ]
     },
     "metadata": {},
     "output_type": "display_data"
    },
    {
     "data": {
      "text/html": [
       "90"
      ],
      "text/latex": [
       "90"
      ],
      "text/markdown": [
       "90"
      ],
      "text/plain": [
       "[1] 90"
      ]
     },
     "metadata": {},
     "output_type": "display_data"
    },
    {
     "data": {
      "text/html": [
       "91"
      ],
      "text/latex": [
       "91"
      ],
      "text/markdown": [
       "91"
      ],
      "text/plain": [
       "[1] 91"
      ]
     },
     "metadata": {},
     "output_type": "display_data"
    },
    {
     "data": {
      "text/html": [
       "92"
      ],
      "text/latex": [
       "92"
      ],
      "text/markdown": [
       "92"
      ],
      "text/plain": [
       "[1] 92"
      ]
     },
     "metadata": {},
     "output_type": "display_data"
    },
    {
     "data": {
      "text/html": [
       "93"
      ],
      "text/latex": [
       "93"
      ],
      "text/markdown": [
       "93"
      ],
      "text/plain": [
       "[1] 93"
      ]
     },
     "metadata": {},
     "output_type": "display_data"
    },
    {
     "data": {
      "text/html": [
       "94"
      ],
      "text/latex": [
       "94"
      ],
      "text/markdown": [
       "94"
      ],
      "text/plain": [
       "[1] 94"
      ]
     },
     "metadata": {},
     "output_type": "display_data"
    },
    {
     "data": {
      "text/html": [
       "95"
      ],
      "text/latex": [
       "95"
      ],
      "text/markdown": [
       "95"
      ],
      "text/plain": [
       "[1] 95"
      ]
     },
     "metadata": {},
     "output_type": "display_data"
    },
    {
     "data": {
      "text/html": [
       "96"
      ],
      "text/latex": [
       "96"
      ],
      "text/markdown": [
       "96"
      ],
      "text/plain": [
       "[1] 96"
      ]
     },
     "metadata": {},
     "output_type": "display_data"
    },
    {
     "data": {
      "text/html": [
       "97"
      ],
      "text/latex": [
       "97"
      ],
      "text/markdown": [
       "97"
      ],
      "text/plain": [
       "[1] 97"
      ]
     },
     "metadata": {},
     "output_type": "display_data"
    },
    {
     "data": {
      "text/html": [
       "98"
      ],
      "text/latex": [
       "98"
      ],
      "text/markdown": [
       "98"
      ],
      "text/plain": [
       "[1] 98"
      ]
     },
     "metadata": {},
     "output_type": "display_data"
    },
    {
     "data": {
      "text/html": [
       "99"
      ],
      "text/latex": [
       "99"
      ],
      "text/markdown": [
       "99"
      ],
      "text/plain": [
       "[1] 99"
      ]
     },
     "metadata": {},
     "output_type": "display_data"
    },
    {
     "data": {
      "text/html": [
       "100"
      ],
      "text/latex": [
       "100"
      ],
      "text/markdown": [
       "100"
      ],
      "text/plain": [
       "[1] 100"
      ]
     },
     "metadata": {},
     "output_type": "display_data"
    },
    {
     "data": {
      "text/html": [
       "101"
      ],
      "text/latex": [
       "101"
      ],
      "text/markdown": [
       "101"
      ],
      "text/plain": [
       "[1] 101"
      ]
     },
     "metadata": {},
     "output_type": "display_data"
    },
    {
     "data": {
      "text/html": [
       "102"
      ],
      "text/latex": [
       "102"
      ],
      "text/markdown": [
       "102"
      ],
      "text/plain": [
       "[1] 102"
      ]
     },
     "metadata": {},
     "output_type": "display_data"
    },
    {
     "data": {
      "text/html": [
       "103"
      ],
      "text/latex": [
       "103"
      ],
      "text/markdown": [
       "103"
      ],
      "text/plain": [
       "[1] 103"
      ]
     },
     "metadata": {},
     "output_type": "display_data"
    },
    {
     "data": {
      "text/html": [
       "104"
      ],
      "text/latex": [
       "104"
      ],
      "text/markdown": [
       "104"
      ],
      "text/plain": [
       "[1] 104"
      ]
     },
     "metadata": {},
     "output_type": "display_data"
    },
    {
     "data": {
      "text/html": [
       "105"
      ],
      "text/latex": [
       "105"
      ],
      "text/markdown": [
       "105"
      ],
      "text/plain": [
       "[1] 105"
      ]
     },
     "metadata": {},
     "output_type": "display_data"
    },
    {
     "data": {
      "text/html": [
       "106"
      ],
      "text/latex": [
       "106"
      ],
      "text/markdown": [
       "106"
      ],
      "text/plain": [
       "[1] 106"
      ]
     },
     "metadata": {},
     "output_type": "display_data"
    },
    {
     "data": {
      "text/html": [
       "107"
      ],
      "text/latex": [
       "107"
      ],
      "text/markdown": [
       "107"
      ],
      "text/plain": [
       "[1] 107"
      ]
     },
     "metadata": {},
     "output_type": "display_data"
    },
    {
     "data": {
      "text/html": [
       "108"
      ],
      "text/latex": [
       "108"
      ],
      "text/markdown": [
       "108"
      ],
      "text/plain": [
       "[1] 108"
      ]
     },
     "metadata": {},
     "output_type": "display_data"
    },
    {
     "data": {
      "text/html": [
       "109"
      ],
      "text/latex": [
       "109"
      ],
      "text/markdown": [
       "109"
      ],
      "text/plain": [
       "[1] 109"
      ]
     },
     "metadata": {},
     "output_type": "display_data"
    },
    {
     "data": {
      "text/html": [
       "110"
      ],
      "text/latex": [
       "110"
      ],
      "text/markdown": [
       "110"
      ],
      "text/plain": [
       "[1] 110"
      ]
     },
     "metadata": {},
     "output_type": "display_data"
    },
    {
     "data": {
      "text/html": [
       "111"
      ],
      "text/latex": [
       "111"
      ],
      "text/markdown": [
       "111"
      ],
      "text/plain": [
       "[1] 111"
      ]
     },
     "metadata": {},
     "output_type": "display_data"
    },
    {
     "data": {
      "text/html": [
       "112"
      ],
      "text/latex": [
       "112"
      ],
      "text/markdown": [
       "112"
      ],
      "text/plain": [
       "[1] 112"
      ]
     },
     "metadata": {},
     "output_type": "display_data"
    },
    {
     "data": {
      "text/html": [
       "113"
      ],
      "text/latex": [
       "113"
      ],
      "text/markdown": [
       "113"
      ],
      "text/plain": [
       "[1] 113"
      ]
     },
     "metadata": {},
     "output_type": "display_data"
    },
    {
     "data": {
      "text/html": [
       "114"
      ],
      "text/latex": [
       "114"
      ],
      "text/markdown": [
       "114"
      ],
      "text/plain": [
       "[1] 114"
      ]
     },
     "metadata": {},
     "output_type": "display_data"
    },
    {
     "data": {
      "text/html": [
       "115"
      ],
      "text/latex": [
       "115"
      ],
      "text/markdown": [
       "115"
      ],
      "text/plain": [
       "[1] 115"
      ]
     },
     "metadata": {},
     "output_type": "display_data"
    },
    {
     "data": {
      "text/html": [
       "116"
      ],
      "text/latex": [
       "116"
      ],
      "text/markdown": [
       "116"
      ],
      "text/plain": [
       "[1] 116"
      ]
     },
     "metadata": {},
     "output_type": "display_data"
    },
    {
     "data": {
      "text/html": [
       "117"
      ],
      "text/latex": [
       "117"
      ],
      "text/markdown": [
       "117"
      ],
      "text/plain": [
       "[1] 117"
      ]
     },
     "metadata": {},
     "output_type": "display_data"
    },
    {
     "data": {
      "text/html": [
       "118"
      ],
      "text/latex": [
       "118"
      ],
      "text/markdown": [
       "118"
      ],
      "text/plain": [
       "[1] 118"
      ]
     },
     "metadata": {},
     "output_type": "display_data"
    },
    {
     "data": {
      "text/html": [
       "119"
      ],
      "text/latex": [
       "119"
      ],
      "text/markdown": [
       "119"
      ],
      "text/plain": [
       "[1] 119"
      ]
     },
     "metadata": {},
     "output_type": "display_data"
    },
    {
     "data": {
      "text/html": [
       "120"
      ],
      "text/latex": [
       "120"
      ],
      "text/markdown": [
       "120"
      ],
      "text/plain": [
       "[1] 120"
      ]
     },
     "metadata": {},
     "output_type": "display_data"
    },
    {
     "data": {
      "text/html": [
       "121"
      ],
      "text/latex": [
       "121"
      ],
      "text/markdown": [
       "121"
      ],
      "text/plain": [
       "[1] 121"
      ]
     },
     "metadata": {},
     "output_type": "display_data"
    },
    {
     "data": {
      "text/html": [
       "122"
      ],
      "text/latex": [
       "122"
      ],
      "text/markdown": [
       "122"
      ],
      "text/plain": [
       "[1] 122"
      ]
     },
     "metadata": {},
     "output_type": "display_data"
    },
    {
     "data": {
      "text/html": [
       "123"
      ],
      "text/latex": [
       "123"
      ],
      "text/markdown": [
       "123"
      ],
      "text/plain": [
       "[1] 123"
      ]
     },
     "metadata": {},
     "output_type": "display_data"
    },
    {
     "data": {
      "text/html": [
       "124"
      ],
      "text/latex": [
       "124"
      ],
      "text/markdown": [
       "124"
      ],
      "text/plain": [
       "[1] 124"
      ]
     },
     "metadata": {},
     "output_type": "display_data"
    },
    {
     "data": {
      "text/html": [
       "125"
      ],
      "text/latex": [
       "125"
      ],
      "text/markdown": [
       "125"
      ],
      "text/plain": [
       "[1] 125"
      ]
     },
     "metadata": {},
     "output_type": "display_data"
    },
    {
     "data": {
      "text/html": [
       "126"
      ],
      "text/latex": [
       "126"
      ],
      "text/markdown": [
       "126"
      ],
      "text/plain": [
       "[1] 126"
      ]
     },
     "metadata": {},
     "output_type": "display_data"
    },
    {
     "data": {
      "text/html": [
       "127"
      ],
      "text/latex": [
       "127"
      ],
      "text/markdown": [
       "127"
      ],
      "text/plain": [
       "[1] 127"
      ]
     },
     "metadata": {},
     "output_type": "display_data"
    },
    {
     "data": {
      "text/html": [
       "128"
      ],
      "text/latex": [
       "128"
      ],
      "text/markdown": [
       "128"
      ],
      "text/plain": [
       "[1] 128"
      ]
     },
     "metadata": {},
     "output_type": "display_data"
    },
    {
     "data": {
      "text/html": [
       "129"
      ],
      "text/latex": [
       "129"
      ],
      "text/markdown": [
       "129"
      ],
      "text/plain": [
       "[1] 129"
      ]
     },
     "metadata": {},
     "output_type": "display_data"
    },
    {
     "data": {
      "text/html": [
       "130"
      ],
      "text/latex": [
       "130"
      ],
      "text/markdown": [
       "130"
      ],
      "text/plain": [
       "[1] 130"
      ]
     },
     "metadata": {},
     "output_type": "display_data"
    },
    {
     "data": {
      "text/html": [
       "131"
      ],
      "text/latex": [
       "131"
      ],
      "text/markdown": [
       "131"
      ],
      "text/plain": [
       "[1] 131"
      ]
     },
     "metadata": {},
     "output_type": "display_data"
    },
    {
     "data": {
      "text/html": [
       "132"
      ],
      "text/latex": [
       "132"
      ],
      "text/markdown": [
       "132"
      ],
      "text/plain": [
       "[1] 132"
      ]
     },
     "metadata": {},
     "output_type": "display_data"
    },
    {
     "data": {
      "text/html": [
       "133"
      ],
      "text/latex": [
       "133"
      ],
      "text/markdown": [
       "133"
      ],
      "text/plain": [
       "[1] 133"
      ]
     },
     "metadata": {},
     "output_type": "display_data"
    },
    {
     "data": {
      "text/html": [
       "134"
      ],
      "text/latex": [
       "134"
      ],
      "text/markdown": [
       "134"
      ],
      "text/plain": [
       "[1] 134"
      ]
     },
     "metadata": {},
     "output_type": "display_data"
    },
    {
     "data": {
      "text/html": [
       "135"
      ],
      "text/latex": [
       "135"
      ],
      "text/markdown": [
       "135"
      ],
      "text/plain": [
       "[1] 135"
      ]
     },
     "metadata": {},
     "output_type": "display_data"
    },
    {
     "data": {
      "text/html": [
       "136"
      ],
      "text/latex": [
       "136"
      ],
      "text/markdown": [
       "136"
      ],
      "text/plain": [
       "[1] 136"
      ]
     },
     "metadata": {},
     "output_type": "display_data"
    },
    {
     "data": {
      "text/html": [
       "137"
      ],
      "text/latex": [
       "137"
      ],
      "text/markdown": [
       "137"
      ],
      "text/plain": [
       "[1] 137"
      ]
     },
     "metadata": {},
     "output_type": "display_data"
    },
    {
     "data": {
      "text/html": [
       "138"
      ],
      "text/latex": [
       "138"
      ],
      "text/markdown": [
       "138"
      ],
      "text/plain": [
       "[1] 138"
      ]
     },
     "metadata": {},
     "output_type": "display_data"
    },
    {
     "data": {
      "text/html": [
       "139"
      ],
      "text/latex": [
       "139"
      ],
      "text/markdown": [
       "139"
      ],
      "text/plain": [
       "[1] 139"
      ]
     },
     "metadata": {},
     "output_type": "display_data"
    },
    {
     "data": {
      "text/html": [
       "140"
      ],
      "text/latex": [
       "140"
      ],
      "text/markdown": [
       "140"
      ],
      "text/plain": [
       "[1] 140"
      ]
     },
     "metadata": {},
     "output_type": "display_data"
    },
    {
     "data": {
      "text/html": [
       "141"
      ],
      "text/latex": [
       "141"
      ],
      "text/markdown": [
       "141"
      ],
      "text/plain": [
       "[1] 141"
      ]
     },
     "metadata": {},
     "output_type": "display_data"
    },
    {
     "data": {
      "text/html": [
       "142"
      ],
      "text/latex": [
       "142"
      ],
      "text/markdown": [
       "142"
      ],
      "text/plain": [
       "[1] 142"
      ]
     },
     "metadata": {},
     "output_type": "display_data"
    },
    {
     "data": {
      "text/html": [
       "143"
      ],
      "text/latex": [
       "143"
      ],
      "text/markdown": [
       "143"
      ],
      "text/plain": [
       "[1] 143"
      ]
     },
     "metadata": {},
     "output_type": "display_data"
    },
    {
     "data": {
      "text/html": [
       "144"
      ],
      "text/latex": [
       "144"
      ],
      "text/markdown": [
       "144"
      ],
      "text/plain": [
       "[1] 144"
      ]
     },
     "metadata": {},
     "output_type": "display_data"
    },
    {
     "data": {
      "text/html": [
       "145"
      ],
      "text/latex": [
       "145"
      ],
      "text/markdown": [
       "145"
      ],
      "text/plain": [
       "[1] 145"
      ]
     },
     "metadata": {},
     "output_type": "display_data"
    },
    {
     "data": {
      "text/html": [
       "146"
      ],
      "text/latex": [
       "146"
      ],
      "text/markdown": [
       "146"
      ],
      "text/plain": [
       "[1] 146"
      ]
     },
     "metadata": {},
     "output_type": "display_data"
    },
    {
     "data": {
      "text/html": [
       "147"
      ],
      "text/latex": [
       "147"
      ],
      "text/markdown": [
       "147"
      ],
      "text/plain": [
       "[1] 147"
      ]
     },
     "metadata": {},
     "output_type": "display_data"
    },
    {
     "data": {
      "text/html": [
       "148"
      ],
      "text/latex": [
       "148"
      ],
      "text/markdown": [
       "148"
      ],
      "text/plain": [
       "[1] 148"
      ]
     },
     "metadata": {},
     "output_type": "display_data"
    },
    {
     "data": {
      "text/html": [
       "149"
      ],
      "text/latex": [
       "149"
      ],
      "text/markdown": [
       "149"
      ],
      "text/plain": [
       "[1] 149"
      ]
     },
     "metadata": {},
     "output_type": "display_data"
    },
    {
     "data": {
      "text/html": [
       "150"
      ],
      "text/latex": [
       "150"
      ],
      "text/markdown": [
       "150"
      ],
      "text/plain": [
       "[1] 150"
      ]
     },
     "metadata": {},
     "output_type": "display_data"
    },
    {
     "data": {
      "text/html": [
       "151"
      ],
      "text/latex": [
       "151"
      ],
      "text/markdown": [
       "151"
      ],
      "text/plain": [
       "[1] 151"
      ]
     },
     "metadata": {},
     "output_type": "display_data"
    },
    {
     "data": {
      "text/html": [
       "152"
      ],
      "text/latex": [
       "152"
      ],
      "text/markdown": [
       "152"
      ],
      "text/plain": [
       "[1] 152"
      ]
     },
     "metadata": {},
     "output_type": "display_data"
    },
    {
     "data": {
      "text/html": [
       "153"
      ],
      "text/latex": [
       "153"
      ],
      "text/markdown": [
       "153"
      ],
      "text/plain": [
       "[1] 153"
      ]
     },
     "metadata": {},
     "output_type": "display_data"
    },
    {
     "data": {
      "text/html": [
       "154"
      ],
      "text/latex": [
       "154"
      ],
      "text/markdown": [
       "154"
      ],
      "text/plain": [
       "[1] 154"
      ]
     },
     "metadata": {},
     "output_type": "display_data"
    },
    {
     "data": {
      "text/html": [
       "155"
      ],
      "text/latex": [
       "155"
      ],
      "text/markdown": [
       "155"
      ],
      "text/plain": [
       "[1] 155"
      ]
     },
     "metadata": {},
     "output_type": "display_data"
    },
    {
     "data": {
      "text/html": [
       "156"
      ],
      "text/latex": [
       "156"
      ],
      "text/markdown": [
       "156"
      ],
      "text/plain": [
       "[1] 156"
      ]
     },
     "metadata": {},
     "output_type": "display_data"
    },
    {
     "data": {
      "text/html": [
       "157"
      ],
      "text/latex": [
       "157"
      ],
      "text/markdown": [
       "157"
      ],
      "text/plain": [
       "[1] 157"
      ]
     },
     "metadata": {},
     "output_type": "display_data"
    },
    {
     "data": {
      "text/html": [
       "158"
      ],
      "text/latex": [
       "158"
      ],
      "text/markdown": [
       "158"
      ],
      "text/plain": [
       "[1] 158"
      ]
     },
     "metadata": {},
     "output_type": "display_data"
    },
    {
     "data": {
      "text/html": [
       "159"
      ],
      "text/latex": [
       "159"
      ],
      "text/markdown": [
       "159"
      ],
      "text/plain": [
       "[1] 159"
      ]
     },
     "metadata": {},
     "output_type": "display_data"
    },
    {
     "data": {
      "text/html": [
       "160"
      ],
      "text/latex": [
       "160"
      ],
      "text/markdown": [
       "160"
      ],
      "text/plain": [
       "[1] 160"
      ]
     },
     "metadata": {},
     "output_type": "display_data"
    },
    {
     "data": {
      "text/html": [
       "161"
      ],
      "text/latex": [
       "161"
      ],
      "text/markdown": [
       "161"
      ],
      "text/plain": [
       "[1] 161"
      ]
     },
     "metadata": {},
     "output_type": "display_data"
    },
    {
     "data": {
      "text/html": [
       "162"
      ],
      "text/latex": [
       "162"
      ],
      "text/markdown": [
       "162"
      ],
      "text/plain": [
       "[1] 162"
      ]
     },
     "metadata": {},
     "output_type": "display_data"
    },
    {
     "data": {
      "text/html": [
       "163"
      ],
      "text/latex": [
       "163"
      ],
      "text/markdown": [
       "163"
      ],
      "text/plain": [
       "[1] 163"
      ]
     },
     "metadata": {},
     "output_type": "display_data"
    },
    {
     "data": {
      "text/html": [
       "164"
      ],
      "text/latex": [
       "164"
      ],
      "text/markdown": [
       "164"
      ],
      "text/plain": [
       "[1] 164"
      ]
     },
     "metadata": {},
     "output_type": "display_data"
    },
    {
     "data": {
      "text/html": [
       "165"
      ],
      "text/latex": [
       "165"
      ],
      "text/markdown": [
       "165"
      ],
      "text/plain": [
       "[1] 165"
      ]
     },
     "metadata": {},
     "output_type": "display_data"
    },
    {
     "data": {
      "text/html": [
       "166"
      ],
      "text/latex": [
       "166"
      ],
      "text/markdown": [
       "166"
      ],
      "text/plain": [
       "[1] 166"
      ]
     },
     "metadata": {},
     "output_type": "display_data"
    },
    {
     "data": {
      "text/html": [
       "167"
      ],
      "text/latex": [
       "167"
      ],
      "text/markdown": [
       "167"
      ],
      "text/plain": [
       "[1] 167"
      ]
     },
     "metadata": {},
     "output_type": "display_data"
    },
    {
     "data": {
      "text/html": [
       "168"
      ],
      "text/latex": [
       "168"
      ],
      "text/markdown": [
       "168"
      ],
      "text/plain": [
       "[1] 168"
      ]
     },
     "metadata": {},
     "output_type": "display_data"
    },
    {
     "data": {
      "text/html": [
       "169"
      ],
      "text/latex": [
       "169"
      ],
      "text/markdown": [
       "169"
      ],
      "text/plain": [
       "[1] 169"
      ]
     },
     "metadata": {},
     "output_type": "display_data"
    },
    {
     "data": {
      "text/html": [
       "170"
      ],
      "text/latex": [
       "170"
      ],
      "text/markdown": [
       "170"
      ],
      "text/plain": [
       "[1] 170"
      ]
     },
     "metadata": {},
     "output_type": "display_data"
    },
    {
     "data": {
      "text/html": [
       "171"
      ],
      "text/latex": [
       "171"
      ],
      "text/markdown": [
       "171"
      ],
      "text/plain": [
       "[1] 171"
      ]
     },
     "metadata": {},
     "output_type": "display_data"
    },
    {
     "data": {
      "text/html": [
       "172"
      ],
      "text/latex": [
       "172"
      ],
      "text/markdown": [
       "172"
      ],
      "text/plain": [
       "[1] 172"
      ]
     },
     "metadata": {},
     "output_type": "display_data"
    },
    {
     "data": {
      "text/html": [
       "173"
      ],
      "text/latex": [
       "173"
      ],
      "text/markdown": [
       "173"
      ],
      "text/plain": [
       "[1] 173"
      ]
     },
     "metadata": {},
     "output_type": "display_data"
    },
    {
     "data": {
      "text/html": [
       "174"
      ],
      "text/latex": [
       "174"
      ],
      "text/markdown": [
       "174"
      ],
      "text/plain": [
       "[1] 174"
      ]
     },
     "metadata": {},
     "output_type": "display_data"
    },
    {
     "data": {
      "text/html": [
       "175"
      ],
      "text/latex": [
       "175"
      ],
      "text/markdown": [
       "175"
      ],
      "text/plain": [
       "[1] 175"
      ]
     },
     "metadata": {},
     "output_type": "display_data"
    },
    {
     "data": {
      "text/html": [
       "176"
      ],
      "text/latex": [
       "176"
      ],
      "text/markdown": [
       "176"
      ],
      "text/plain": [
       "[1] 176"
      ]
     },
     "metadata": {},
     "output_type": "display_data"
    },
    {
     "data": {
      "text/html": [
       "177"
      ],
      "text/latex": [
       "177"
      ],
      "text/markdown": [
       "177"
      ],
      "text/plain": [
       "[1] 177"
      ]
     },
     "metadata": {},
     "output_type": "display_data"
    },
    {
     "data": {
      "text/html": [
       "178"
      ],
      "text/latex": [
       "178"
      ],
      "text/markdown": [
       "178"
      ],
      "text/plain": [
       "[1] 178"
      ]
     },
     "metadata": {},
     "output_type": "display_data"
    },
    {
     "data": {
      "text/html": [
       "179"
      ],
      "text/latex": [
       "179"
      ],
      "text/markdown": [
       "179"
      ],
      "text/plain": [
       "[1] 179"
      ]
     },
     "metadata": {},
     "output_type": "display_data"
    },
    {
     "data": {
      "text/html": [
       "180"
      ],
      "text/latex": [
       "180"
      ],
      "text/markdown": [
       "180"
      ],
      "text/plain": [
       "[1] 180"
      ]
     },
     "metadata": {},
     "output_type": "display_data"
    },
    {
     "data": {
      "text/html": [
       "181"
      ],
      "text/latex": [
       "181"
      ],
      "text/markdown": [
       "181"
      ],
      "text/plain": [
       "[1] 181"
      ]
     },
     "metadata": {},
     "output_type": "display_data"
    },
    {
     "data": {
      "text/html": [
       "182"
      ],
      "text/latex": [
       "182"
      ],
      "text/markdown": [
       "182"
      ],
      "text/plain": [
       "[1] 182"
      ]
     },
     "metadata": {},
     "output_type": "display_data"
    },
    {
     "data": {
      "text/html": [
       "183"
      ],
      "text/latex": [
       "183"
      ],
      "text/markdown": [
       "183"
      ],
      "text/plain": [
       "[1] 183"
      ]
     },
     "metadata": {},
     "output_type": "display_data"
    },
    {
     "data": {
      "text/html": [
       "184"
      ],
      "text/latex": [
       "184"
      ],
      "text/markdown": [
       "184"
      ],
      "text/plain": [
       "[1] 184"
      ]
     },
     "metadata": {},
     "output_type": "display_data"
    },
    {
     "data": {
      "text/html": [
       "185"
      ],
      "text/latex": [
       "185"
      ],
      "text/markdown": [
       "185"
      ],
      "text/plain": [
       "[1] 185"
      ]
     },
     "metadata": {},
     "output_type": "display_data"
    },
    {
     "data": {
      "text/html": [
       "186"
      ],
      "text/latex": [
       "186"
      ],
      "text/markdown": [
       "186"
      ],
      "text/plain": [
       "[1] 186"
      ]
     },
     "metadata": {},
     "output_type": "display_data"
    },
    {
     "data": {
      "text/html": [
       "187"
      ],
      "text/latex": [
       "187"
      ],
      "text/markdown": [
       "187"
      ],
      "text/plain": [
       "[1] 187"
      ]
     },
     "metadata": {},
     "output_type": "display_data"
    },
    {
     "data": {
      "text/html": [
       "188"
      ],
      "text/latex": [
       "188"
      ],
      "text/markdown": [
       "188"
      ],
      "text/plain": [
       "[1] 188"
      ]
     },
     "metadata": {},
     "output_type": "display_data"
    },
    {
     "data": {
      "text/html": [
       "189"
      ],
      "text/latex": [
       "189"
      ],
      "text/markdown": [
       "189"
      ],
      "text/plain": [
       "[1] 189"
      ]
     },
     "metadata": {},
     "output_type": "display_data"
    },
    {
     "data": {
      "text/html": [
       "190"
      ],
      "text/latex": [
       "190"
      ],
      "text/markdown": [
       "190"
      ],
      "text/plain": [
       "[1] 190"
      ]
     },
     "metadata": {},
     "output_type": "display_data"
    },
    {
     "data": {
      "text/html": [
       "191"
      ],
      "text/latex": [
       "191"
      ],
      "text/markdown": [
       "191"
      ],
      "text/plain": [
       "[1] 191"
      ]
     },
     "metadata": {},
     "output_type": "display_data"
    },
    {
     "data": {
      "text/html": [
       "192"
      ],
      "text/latex": [
       "192"
      ],
      "text/markdown": [
       "192"
      ],
      "text/plain": [
       "[1] 192"
      ]
     },
     "metadata": {},
     "output_type": "display_data"
    },
    {
     "data": {
      "text/html": [
       "193"
      ],
      "text/latex": [
       "193"
      ],
      "text/markdown": [
       "193"
      ],
      "text/plain": [
       "[1] 193"
      ]
     },
     "metadata": {},
     "output_type": "display_data"
    },
    {
     "data": {
      "text/html": [
       "194"
      ],
      "text/latex": [
       "194"
      ],
      "text/markdown": [
       "194"
      ],
      "text/plain": [
       "[1] 194"
      ]
     },
     "metadata": {},
     "output_type": "display_data"
    },
    {
     "data": {
      "text/html": [
       "195"
      ],
      "text/latex": [
       "195"
      ],
      "text/markdown": [
       "195"
      ],
      "text/plain": [
       "[1] 195"
      ]
     },
     "metadata": {},
     "output_type": "display_data"
    },
    {
     "data": {
      "text/html": [
       "196"
      ],
      "text/latex": [
       "196"
      ],
      "text/markdown": [
       "196"
      ],
      "text/plain": [
       "[1] 196"
      ]
     },
     "metadata": {},
     "output_type": "display_data"
    },
    {
     "data": {
      "text/html": [
       "197"
      ],
      "text/latex": [
       "197"
      ],
      "text/markdown": [
       "197"
      ],
      "text/plain": [
       "[1] 197"
      ]
     },
     "metadata": {},
     "output_type": "display_data"
    },
    {
     "data": {
      "text/html": [
       "198"
      ],
      "text/latex": [
       "198"
      ],
      "text/markdown": [
       "198"
      ],
      "text/plain": [
       "[1] 198"
      ]
     },
     "metadata": {},
     "output_type": "display_data"
    },
    {
     "data": {
      "text/html": [
       "199"
      ],
      "text/latex": [
       "199"
      ],
      "text/markdown": [
       "199"
      ],
      "text/plain": [
       "[1] 199"
      ]
     },
     "metadata": {},
     "output_type": "display_data"
    },
    {
     "data": {
      "text/html": [
       "200"
      ],
      "text/latex": [
       "200"
      ],
      "text/markdown": [
       "200"
      ],
      "text/plain": [
       "[1] 200"
      ]
     },
     "metadata": {},
     "output_type": "display_data"
    }
   ],
   "source": [
    "### Generation of 200 pseudo-bulk from Naldini's dataset\n",
    "### Warning: Takes long time to run (~2 hours)\n",
    "ct_names  = colnames(rand_prop)\n",
    "all_bulks_wt = list() ; all_ct_props_wt = list()\n",
    "all_bulks_oe = list() ; all_ct_props_oe = list()\n",
    "N = dim(rand_prop_m)[1] ; G = dim(sc.es)[1] ; K = dim(rand_prop_m)[2]\n",
    "S_true_WT = array(rep(0,N*G*K), c(N,G,K))\n",
    "\n",
    "set.seed(1)\n",
    "for(n in 1:N){\n",
    "    display(n)\n",
    "    n_cells = gamma_n_cells[n] \n",
    "    prop_1pat = rand_prop_m[n,]\n",
    "    idx_rand = list()\n",
    "    for(k in 1:length(ct_names)){\n",
    "        ct = ct_names[k]\n",
    "        this_prop = prop_1pat[k]\n",
    "        this_n_cells = round(this_prop*n_cells)\n",
    "        if ( this_n_cells > 0){\n",
    "            idx_rand[[k]] = sample(grep(paste0(\"^\",ct,\"$\"), sc.es$cellType), this_n_cells, replace=T)\n",
    "        } else {\n",
    "            idx_rand[[k]] = 0\n",
    "        }\n",
    "    }\n",
    "    vec_idx_rand = sort(unlist(idx_rand))\n",
    "    vec_idx_rand = unique(vec_idx_rand[vec_idx_rand!=0])\n",
    "    sc.es.sub = sc.es[,vec_idx_rand]\n",
    "\n",
    "    # Assemble 200 pseudo-bulk for simulation \n",
    "    all_bulks_wt[[n]] = rowSums(exprs(sc.es.sub))\n",
    "    ct_props = table(sc.es.sub$cellType)/sum(table(sc.es.sub$cellType))\n",
    "    ct_props = ct_props[match(colnames(rand_prop_m), names(ct_props))]\n",
    "    all_ct_props_wt[[n]] = ct_props\n",
    "    #ct_expr.agg = aggregate(t(exprs(sc.es.sub)), list(sc.es.sub$cellType), sum, drop=FALSE)\n",
    "    #rownames(ct_expr.agg) = ct_expr.agg$`Group.1`\n",
    "    #ct_expr.agg = ct_expr.agg[,-1]\n",
    "    #ct_expr.agg[is.na(ct_expr.agg)] = 0\n",
    "    #S_true_WT[n,,] = t(ct_expr.agg)\n",
    "}"
   ]
  },
  {
   "cell_type": "code",
   "execution_count": 225,
   "metadata": {},
   "outputs": [
    {
     "data": {
      "text/plain": [
       "ExpressionSet (storageMode: lockedEnvironment)\n",
       "assayData: 7955 features, 200 samples \n",
       "  element names: exprs \n",
       "protocolData: none\n",
       "phenoData\n",
       "  sampleNames: 1 2 ... 200 (200 total)\n",
       "  varLabels: CTL GMP ... lateEry (19 total)\n",
       "  varMetadata: labelDescription\n",
       "featureData: none\n",
       "experimentData: use 'experimentData(object)'\n",
       "Annotation:  "
      ]
     },
     "metadata": {},
     "output_type": "display_data"
    }
   ],
   "source": [
    "# Create ExpressionSet object for WT context\n",
    "ct_props = data.frame(t(do.call(cbind,all_ct_props_wt)))\n",
    "rownames(ct_props) = 1:200\n",
    "mat_bulks = do.call(cbind,all_bulks_wt)\n",
    "colnames(mat_bulks) = 1:200\n",
    "bulk.es = ExpressionSet(mat_bulks)\n",
    "pData(bulk.es) = ct_props\n",
    "rownames(bulk.es) = rownames(sc.es)\n",
    "bulk.es"
   ]
  },
  {
   "cell_type": "code",
   "execution_count": 226,
   "metadata": {},
   "outputs": [],
   "source": [
    "saveRDS(bulk.es, \"data/simulation_aml/sim200_bulk_es_alphaDiv2.RDS\")"
   ]
  },
  {
   "cell_type": "code",
   "execution_count": 227,
   "metadata": {},
   "outputs": [],
   "source": [
    "#saveRDS(S_true_WT, 'data/simulation_aml/sim200_celltype_expression.RDS')"
   ]
  },
  {
   "cell_type": "code",
   "execution_count": 297,
   "metadata": {},
   "outputs": [],
   "source": [
    "# recover bulk expression from celltype expression:\n",
    "#bulks_WT = list()\n",
    "#for(n in 1:200){\n",
    "#    bulks_WT[[n]] = rowSums(S_true_WT[n,,])\n",
    "#}\n",
    "#mat_bulks_WT = do.call(cbind,bulks_WT)\n",
    "#colnames(mat_bulks_WT) = 1:200\n",
    "#bulk.wt.es = ExpressionSet(mat_bulks_WT)\n",
    "#pData(bulk.wt.es) = ct_props\n",
    "# recover gene names\n",
    "#rownames(bulk.wt.es) = rownames(sc.es) \n",
    "#saveRDS(bulk.wt.es, \"data/simulation_aml/sim200_bulk_es.RDS\")"
   ]
  },
  {
   "cell_type": "markdown",
   "metadata": {},
   "source": [
    "## Launch Deconvolution panel"
   ]
  },
  {
   "cell_type": "markdown",
   "metadata": {},
   "source": [
    "We use Van Galen as a reference single-cell RNA-seq."
   ]
  },
  {
   "cell_type": "code",
   "execution_count": 9,
   "metadata": {},
   "outputs": [
    {
     "data": {
      "text/plain": [
       "ExpressionSet (storageMode: lockedEnvironment)\n",
       "assayData: 7955 features, 15255 samples \n",
       "  element names: exprs \n",
       "protocolData: none\n",
       "phenoData\n",
       "  sampleNames: AML1012-D0_AAAAAGTTACGT AML1012-D0_AAAACACCAATC ...\n",
       "    AML997-D0_TAGACCCGCTAT (15255 total)\n",
       "  varLabels: cellType_original SubjectName cellType_transfered cellType\n",
       "  varMetadata: labelDescription\n",
       "featureData: none\n",
       "experimentData: use 'experimentData(object)'\n",
       "Annotation:  "
      ]
     },
     "metadata": {},
     "output_type": "display_data"
    }
   ],
   "source": [
    "sc.es = readRDS(\"data/pseudobulks_climb/AML_vangalen_sc_es.RDS\")\n",
    "sc.es$cellType = factor(reformat_celltypes(sc.es$cellType))\n",
    "sc.es"
   ]
  },
  {
   "cell_type": "code",
   "execution_count": 10,
   "metadata": {},
   "outputs": [
    {
     "data": {
      "text/html": [
       "<style>\n",
       ".list-inline {list-style: none; margin:0; padding: 0}\n",
       ".list-inline>li {display: inline-block}\n",
       ".list-inline>li:not(:last-child)::after {content: \"\\00b7\"; padding: 0 .5ex}\n",
       "</style>\n",
       "<ol class=list-inline><li>CTL</li><li>GMP</li><li>GMPlike</li><li>HSC</li><li>HSClike</li><li>Mono</li><li>Monolike</li><li>NK</li><li>Plasma</li><li>ProB</li><li>ProMono</li><li>ProMonolike</li><li>Prog</li><li>Proglike</li><li>T</li><li>cDC</li><li>cDClike</li><li>earlyEry</li><li>lateEry</li></ol>\n",
       "\n",
       "<details>\n",
       "\t<summary style=display:list-item;cursor:pointer>\n",
       "\t\t<strong>Levels</strong>:\n",
       "\t</summary>\n",
       "\t<style>\n",
       "\t.list-inline {list-style: none; margin:0; padding: 0}\n",
       "\t.list-inline>li {display: inline-block}\n",
       "\t.list-inline>li:not(:last-child)::after {content: \"\\00b7\"; padding: 0 .5ex}\n",
       "\t</style>\n",
       "\t<ol class=list-inline><li>'CTL'</li><li>'GMP'</li><li>'GMPlike'</li><li>'HSC'</li><li>'HSClike'</li><li>'Mono'</li><li>'Monolike'</li><li>'NK'</li><li>'Plasma'</li><li>'ProB'</li><li>'ProMono'</li><li>'ProMonolike'</li><li>'Prog'</li><li>'Proglike'</li><li>'T'</li><li>'cDC'</li><li>'cDClike'</li><li>'earlyEry'</li><li>'lateEry'</li></ol>\n",
       "</details>"
      ],
      "text/latex": [
       "\\begin{enumerate*}\n",
       "\\item CTL\n",
       "\\item GMP\n",
       "\\item GMPlike\n",
       "\\item HSC\n",
       "\\item HSClike\n",
       "\\item Mono\n",
       "\\item Monolike\n",
       "\\item NK\n",
       "\\item Plasma\n",
       "\\item ProB\n",
       "\\item ProMono\n",
       "\\item ProMonolike\n",
       "\\item Prog\n",
       "\\item Proglike\n",
       "\\item T\n",
       "\\item cDC\n",
       "\\item cDClike\n",
       "\\item earlyEry\n",
       "\\item lateEry\n",
       "\\end{enumerate*}\n",
       "\n",
       "\\emph{Levels}: \\begin{enumerate*}\n",
       "\\item 'CTL'\n",
       "\\item 'GMP'\n",
       "\\item 'GMPlike'\n",
       "\\item 'HSC'\n",
       "\\item 'HSClike'\n",
       "\\item 'Mono'\n",
       "\\item 'Monolike'\n",
       "\\item 'NK'\n",
       "\\item 'Plasma'\n",
       "\\item 'ProB'\n",
       "\\item 'ProMono'\n",
       "\\item 'ProMonolike'\n",
       "\\item 'Prog'\n",
       "\\item 'Proglike'\n",
       "\\item 'T'\n",
       "\\item 'cDC'\n",
       "\\item 'cDClike'\n",
       "\\item 'earlyEry'\n",
       "\\item 'lateEry'\n",
       "\\end{enumerate*}\n"
      ],
      "text/markdown": [
       "1. CTL\n",
       "2. GMP\n",
       "3. GMPlike\n",
       "4. HSC\n",
       "5. HSClike\n",
       "6. Mono\n",
       "7. Monolike\n",
       "8. NK\n",
       "9. Plasma\n",
       "10. ProB\n",
       "11. ProMono\n",
       "12. ProMonolike\n",
       "13. Prog\n",
       "14. Proglike\n",
       "15. T\n",
       "16. cDC\n",
       "17. cDClike\n",
       "18. earlyEry\n",
       "19. lateEry\n",
       "\n",
       "\n",
       "\n",
       "**Levels**: 1. 'CTL'\n",
       "2. 'GMP'\n",
       "3. 'GMPlike'\n",
       "4. 'HSC'\n",
       "5. 'HSClike'\n",
       "6. 'Mono'\n",
       "7. 'Monolike'\n",
       "8. 'NK'\n",
       "9. 'Plasma'\n",
       "10. 'ProB'\n",
       "11. 'ProMono'\n",
       "12. 'ProMonolike'\n",
       "13. 'Prog'\n",
       "14. 'Proglike'\n",
       "15. 'T'\n",
       "16. 'cDC'\n",
       "17. 'cDClike'\n",
       "18. 'earlyEry'\n",
       "19. 'lateEry'\n",
       "\n",
       "\n"
      ],
      "text/plain": [
       " [1] CTL         GMP         GMPlike     HSC         HSClike     Mono       \n",
       " [7] Monolike    NK          Plasma      ProB        ProMono     ProMonolike\n",
       "[13] Prog        Proglike    T           cDC         cDClike     earlyEry   \n",
       "[19] lateEry    \n",
       "19 Levels: CTL GMP GMPlike HSC HSClike Mono Monolike NK Plasma ProB ... lateEry"
      ]
     },
     "metadata": {},
     "output_type": "display_data"
    }
   ],
   "source": [
    "celltype_names = reformat_celltypes(levels(sc.es$cellType))\n",
    "celltype_names"
   ]
  },
  {
   "cell_type": "code",
   "execution_count": 11,
   "metadata": {},
   "outputs": [],
   "source": [
    "bulk.es = readRDS(\"data/simulation_aml/sim200_bulk_es.RDS\")"
   ]
  },
  {
   "cell_type": "code",
   "execution_count": 12,
   "metadata": {},
   "outputs": [],
   "source": [
    "true_prop = as.matrix(pData(bulk.es))"
   ]
  },
  {
   "cell_type": "code",
   "execution_count": 13,
   "metadata": {},
   "outputs": [],
   "source": [
    "colnames(true_prop) = reformat_celltypes(colnames(true_prop))\n",
    "true_prop = add_missing_celltypes(true_prop, celltype_names)\n",
    "true_prop = true_prop[,levels(sc.es$cellType)]"
   ]
  },
  {
   "cell_type": "code",
   "execution_count": 14,
   "metadata": {},
   "outputs": [
    {
     "data": {
      "text/html": [
       "TRUE"
      ],
      "text/latex": [
       "TRUE"
      ],
      "text/markdown": [
       "TRUE"
      ],
      "text/plain": [
       "[1] TRUE"
      ]
     },
     "metadata": {},
     "output_type": "display_data"
    }
   ],
   "source": [
    "all(colnames(true_prop) == levels(sc.es$cellType))"
   ]
  },
  {
   "cell_type": "code",
   "execution_count": 234,
   "metadata": {},
   "outputs": [
    {
     "name": "stderr",
     "output_type": "stream",
     "text": [
      "Creating folders\n",
      "\n",
      "CLIMB deconvolution\n",
      "\n",
      "ABUNDANCE mode: predicting cell-type proportions in bulks\n",
      "\n",
      "7955 common genes found between scRNA-seq refererence and bulk datasets\n",
      "\n",
      "Bulk to single-cell mapping for prediction of cell-type abundance / expression\n",
      "\n",
      "Cell-type abundance prediction done. \n",
      "\n",
      "CLIMB Accruacy as PCC: 0.816007846182828\n",
      "\n",
      "BayesPrism deconvolution\n",
      "\n"
     ]
    },
    {
     "name": "stdout",
     "output_type": "stream",
     "text": [
      "number of cells in each cell state \n",
      "cell.state.labels\n",
      "       ProB     lateEry         CTL     ProMono    earlyEry      Plasma \n",
      "         55         172         173         180         213         215 \n",
      "        cDC         GMP         HSC          NK        Prog        Mono \n",
      "        221         242         266         322         326         600 \n",
      "          T ProMonolike     HSClike     GMPlike     cDClike    Monolike \n",
      "        682        1387        1436        1719        1942        2403 \n",
      "   Proglike \n",
      "       2701 \n",
      "No tumor reference is speficied. Reference cell types are treated equally. \n",
      "Number of outlier genes filtered from mixture = 16 \n",
      "Aligning reference and mixture... \n",
      "Nornalizing reference... \n",
      "Run Gibbs sampling... \n",
      "Current time:  2023-07-25 12:56:34 \n",
      "Estimated time to complete:  2hrs 20mins \n",
      "Estimated finishing time:  2023-07-25 15:15:46 \n",
      "Start run... \n"
     ]
    },
    {
     "name": "stderr",
     "output_type": "stream",
     "text": [
      "snowfall 1.84-6.2 initialized (using snow 0.4-4): parallel execution on 6 CPUs.\n",
      "\n",
      "\n",
      "\n",
      "Stopping cluster\n",
      "\n",
      "\n"
     ]
    },
    {
     "name": "stdout",
     "output_type": "stream",
     "text": [
      "Update the reference matrix ... \n"
     ]
    },
    {
     "name": "stderr",
     "output_type": "stream",
     "text": [
      "snowfall 1.84-6.2 initialized (using snow 0.4-4): parallel execution on 6 CPUs.\n",
      "\n",
      "\n",
      "\n",
      "Stopping cluster\n",
      "\n",
      "\n"
     ]
    },
    {
     "name": "stdout",
     "output_type": "stream",
     "text": [
      "Run Gibbs sampling using updated reference ... \n",
      "Current time:  2023-07-25 14:03:09 \n",
      "Estimated time to complete:  1hrs 54mins \n",
      "Estimated finishing time:  2023-07-25 15:56:52 \n",
      "Start run... \n"
     ]
    },
    {
     "name": "stderr",
     "output_type": "stream",
     "text": [
      "snowfall 1.84-6.2 initialized (using snow 0.4-4): parallel execution on 6 CPUs.\n",
      "\n",
      "\n",
      "\n",
      "Stopping cluster\n",
      "\n",
      "\n",
      "BayesPrism Accruacy as PCC: 0.168943767123961\n",
      "\n",
      "MUSIC deconvolution\n",
      "\n",
      "MuSiC Accruacy as PCC: 0.158054056700718\n",
      "\n",
      "NNLS deconvolution\n",
      "\n",
      "NNLS Accruacy as PCC: -0.0785166899407346\n",
      "\n",
      "BisqueRNA deconvolution\n",
      "\n",
      "Decomposing into 19 cell types.\n",
      "\n",
      "Using 7955 genes in both bulk and single-cell expression.\n",
      "\n",
      "Converting single-cell counts to CPM and filtering zero variance genes.\n",
      "\n",
      "Filtered 0 zero variance genes.\n",
      "\n",
      "Converting bulk counts to CPM and filtering unexpressed genes.\n",
      "\n",
      "Filtered 0 unexpressed genes.\n",
      "\n",
      "Generating single-cell based reference from 15255 cells.\n",
      "\n",
      "\n",
      "Inferring bulk transformation from single-cell alone.\n",
      "\n",
      "Applying transformation to bulk samples and decomposing.\n",
      "\n",
      "BisqueRNA Accruacy as PCC: 0.578313713147601\n",
      "\n",
      "TAPE / Scaden deconvolution\n",
      "\n",
      "Launch Scaden / TAPE deconvolution\n",
      "\n",
      "TAPE prop Accruacy as PCC: 0.751195716954451\n",
      "\n",
      "Scaden prop Accruacy as PCC: 0.767875295317424\n",
      "\n",
      "Random deconvolution\n",
      "\n",
      "Random prop Accruacy as PCC: 0.0462056309949162\n",
      "\n",
      "Writing tables for CiberSortX\n",
      "\n"
     ]
    }
   ],
   "source": [
    "out_dir = 'data/simulation_aml/tables_'\n",
    "launch_all_deconvolution_methods(sc = sc.es, bulks = bulk.es, true_prop = true_prop,\n",
    "                                 celltype_names = celltype_names, out_dir=out_dir)"
   ]
  },
  {
   "cell_type": "code",
   "execution_count": 15,
   "metadata": {},
   "outputs": [
    {
     "name": "stderr",
     "output_type": "stream",
     "text": [
      "Checking that all tables have the same cell-type labels: TRUE\n",
      "\n",
      "Checking that all tables has the same sample names: TRUE\n",
      "\n"
     ]
    }
   ],
   "source": [
    "all_props = load_all_props('data/simulation_aml/tables/', include_cibersortx = F)"
   ]
  },
  {
   "cell_type": "code",
   "execution_count": 16,
   "metadata": {},
   "outputs": [],
   "source": [
    "all_res = make_all_metrics(all_props, true_prop)"
   ]
  },
  {
   "cell_type": "code",
   "execution_count": 17,
   "metadata": {},
   "outputs": [],
   "source": [
    "# Change the Metric by setting type.err to 1, 2, 3, or 4\n",
    "generate_comp_plot <- function(obj.res, type.err=1){\n",
    "    #type.err , 1=pcor, 2=scor, 3=r_square, 4=rmse\n",
    "    type.err.l = list('PCC', 'SCC', 'R2', 'RMSE')\n",
    "    methods = c('MuSiC', 'NNLS', 'CLIMB', 'TAPE', 'Scaden', 'Bisque', 'Random', 'BayesPrism')#, 'CiberSortX')\n",
    "    df_scor = data.frame(cbind(obj.res$MuSiC[[type.err]], obj.res$NNLS[[type.err]], \n",
    "                               obj.res$CLIMB[[type.err]], obj.res$TAPE[[type.err]], obj.res$Scaden[[type.err]],\n",
    "                               obj.res$BisqueRNA[[type.err]], obj.res$Random[[type.err]], obj.res$BayesPrism[[type.err]]))#, \n",
    "                               #obj.res$CiberSortX[[type.err]]))\n",
    "    colnames(df_scor) = methods\n",
    "    levels_ = colnames(df_scor)[rev(order(colMeans(as.matrix(df_scor), na.rm = T)))]\n",
    "    if(type.err.l[[type.err]] == 'RMSE'){levels_ = rev(levels_)}\n",
    "    df_scor_m = reshape2::melt(df_scor)\n",
    "    df_scor_m$variable = factor(df_scor_m$variable, levels = levels_) \n",
    "    g_rows = ggplot(df_scor_m) + geom_boxplot(aes(x=variable, y=value, color=variable), outlier.shape = NA) + theme_classic() +\n",
    "                geom_jitter(aes(x=variable, y=value, color=variable)) + theme_classic() +\n",
    "                scale_color_manual(values=ifelse(grepl('CLIMB', levels_), 'darkred', 'grey38')) + \n",
    "                theme(legend.position=\"none\", axis.text.x = element_text(angle = 45, hjust=1.0, vjust=1.0)) +\n",
    "                xlab('') + ylab(type.err.l[type.err]) #+ coord_flip() # ylab(expression(pa\n",
    "    return(g_rows)\n",
    "}"
   ]
  },
  {
   "cell_type": "code",
   "execution_count": 18,
   "metadata": {},
   "outputs": [
    {
     "name": "stderr",
     "output_type": "stream",
     "text": [
      "No id variables; using all as measure variables\n",
      "\n",
      "No id variables; using all as measure variables\n",
      "\n",
      "No id variables; using all as measure variables\n",
      "\n",
      "No id variables; using all as measure variables\n",
      "\n"
     ]
    }
   ],
   "source": [
    "# type.err parameter: 1=pcor, 2=scor, 3=r_square, 4=rmse \n",
    "g_pcc = generate_comp_plot(all_res, type.err=1) # PCC\n",
    "g_scc = generate_comp_plot(all_res, type.err=2) # SCC\n",
    "g_r2 = generate_comp_plot(all_res, type.err=3) # R-square\n",
    "g_rmse = generate_comp_plot(all_res, type.err=4) # RMSE"
   ]
  },
  {
   "cell_type": "code",
   "execution_count": 27,
   "metadata": {
    "scrolled": true
   },
   "outputs": [
    {
     "data": {
      "text/html": [
       "<strong>pdf:</strong> 2"
      ],
      "text/latex": [
       "\\textbf{pdf:} 2"
      ],
      "text/markdown": [
       "**pdf:** 2"
      ],
      "text/plain": [
       "pdf \n",
       "  2 "
      ]
     },
     "metadata": {},
     "output_type": "display_data"
    },
    {
     "data": {
      "image/png": "[encoded data removed]",
      "text/plain": [
       "plot without title"
      ]
     },
     "metadata": {
      "image/png": {
       "height": 210,
       "width": 750
      }
     },
     "output_type": "display_data"
    }
   ],
   "source": [
    "options(repr.plot.width=12.5, repr.plot.height=3.5)\n",
    "g <- ggarrange(g_pcc, g_rmse, g_scc, g_r2, ncol=4, nrow=1)\n",
    "pdf('results/fig3/boxplot_psample_4metrics_sim200.pdf', width=12.5, height=3.5) ; g ; dev.off()\n",
    "g"
   ]
  },
  {
   "cell_type": "code",
   "execution_count": 21,
   "metadata": {},
   "outputs": [],
   "source": [
    "df_scatter = cbind(melt(all_props$CLIMB), melt(true_prop),melt(all_props$Scaden))"
   ]
  },
  {
   "cell_type": "code",
   "execution_count": 22,
   "metadata": {},
   "outputs": [],
   "source": [
    "df_scatter = df_scatter[,c(2,3,6,9)]\n",
    "colnames(df_scatter) = c('celltype', 'climb', 'true', 'cibersortx')"
   ]
  },
  {
   "cell_type": "code",
   "execution_count": 26,
   "metadata": {},
   "outputs": [
    {
     "data": {
      "image/png": "[encoded data removed]",
      "text/plain": [
       "plot without title"
      ]
     },
     "metadata": {
      "image/png": {
       "height": 180,
       "width": 180
      }
     },
     "output_type": "display_data"
    }
   ],
   "source": [
    "options(repr.plot.width=3, repr.plot.height=3)\n",
    "g <- ggplot(df_scatter, aes(x=climb, y=true)) + geom_point(color='grey',size=1) + \n",
    "    theme_classic() + xlab('CLIMB proportions') + ylab('True Proportions') + \n",
    "    stat_poly_line(color='black', linetype='dashed') +  stat_poly_eq()\n",
    "#pdf('results/fig3/scatter_climb_sim200.pdf', width=3, height=3) ; g ; dev.off()\n",
    "g"
   ]
  }
 ],
 "metadata": {
  "jupytext": {
   "cell_metadata_filter": "-all",
   "formats": "ipynb,md",
   "main_language": "python"
  },
  "kernelspec": {
   "display_name": "R",
   "language": "R",
   "name": "ir"
  },
  "language_info": {
   "codemirror_mode": "r",
   "file_extension": ".r",
   "mimetype": "text/x-r-source",
   "name": "R",
   "pygments_lexer": "r",
   "version": "4.2.2"
  }
 },
 "nbformat": 4,
 "nbformat_minor": 4
}
